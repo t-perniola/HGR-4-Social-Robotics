{
  "cells": [
    {
      "attachments": {},
      "cell_type": "markdown",
      "metadata": {},
      "source": [
        "Vediamo diversi casi d'uso per le LSTM, di complessità crescente"
      ]
    },
    {
      "cell_type": "markdown",
      "metadata": {
        "id": "4L12PjAyZcRx"
      },
      "source": [
        "# Time series univariate"
      ]
    },
    {
      "cell_type": "markdown",
      "metadata": {
        "id": "2Tl6OUDzZZuc"
      },
      "source": [
        "Sono il tipo di time series più semplice, nel tempo è raccolto il valore di una sola variabile.\n",
        "\n",
        "Supponiamo di avere la seguente time series:\n",
        "\n",
        "<table>\n",
        "  <tr>\n",
        "    <th>Valore 1</th>\n",
        "  </tr>\n",
        "  <tr>\n",
        "    <td>10</td>\n",
        "  </tr>\n",
        "  <tr>\n",
        "    <td>20</td>\n",
        "  </tr>\n",
        "  <tr>\n",
        "    <td>30</td>\n",
        "  </tr>\n",
        "  <tr>\n",
        "    <td>40</td>\n",
        "  </tr>\n",
        "  <tr>\n",
        "    <td>50</td>\n",
        "  </tr>\n",
        "  <tr>\n",
        "    <td>60</td>\n",
        "  </tr>\n",
        "  <tr>\n",
        "    <td>70</td>\n",
        "  </tr>\n",
        "  <tr>\n",
        "    <td>80</td>\n",
        "  </tr>\n",
        "  <tr>\n",
        "    <td>90</td>\n",
        "  </tr>\n",
        "</table>\n",
        "\n",
        "Ponendo un time steps uguale a 3, abbiamo il nostro dataset in questo modo:"
      ]
    },
    {
      "attachments": {},
      "cell_type": "markdown",
      "metadata": {},
      "source": [
        "il time step è la sottosequenza temporale da considerare quando vogliamo predire un'azione, un qualcosa che si svolge in una sequenza di tempo"
      ]
    },
    {
      "cell_type": "code",
      "execution_count": 1,
      "metadata": {
        "id": "bjWrfRVXZFJz"
      },
      "outputs": [],
      "source": [
        "X = [[10, 20, 30], \n",
        "     [20, 30, 40],\n",
        "     [30, 40, 50],\n",
        "     [40, 50, 60],\n",
        "     [50, 60, 70],\n",
        "     [60, 70, 80]]\n",
        "\n",
        "# abbiamo preso in input, dunque, tutte le sottosequenze di tre, dove ognuna è formata da valori uno successivo all'altro\n",
        "\n",
        "y = [40,\n",
        "     50,\n",
        "     60,\n",
        "     70,\n",
        "     80,\n",
        "     90]\n",
        "\n",
        "# y: output, per ogni sottosequenza in input (es. 40 predizione in output della sottosequenza [10, 20, 30])"
      ]
    },
    {
      "cell_type": "markdown",
      "metadata": {
        "id": "437b8NJofj8q"
      },
      "source": [
        "Costruiamo ora una semplice LSTM"
      ]
    },
    {
      "cell_type": "code",
      "execution_count": 2,
      "metadata": {
        "colab": {
          "base_uri": "https://localhost:8080/"
        },
        "id": "d-CxctkHbY4X",
        "outputId": "af770b57-3bca-4c4e-de23-e41ff185d9b8"
      },
      "outputs": [
        {
          "name": "stdout",
          "output_type": "stream",
          "text": [
            "(6, 3, 1) (6,)\n"
          ]
        },
        {
          "data": {
            "text/plain": [
              "<keras.callbacks.History at 0x1c4aa433970>"
            ]
          },
          "execution_count": 2,
          "metadata": {},
          "output_type": "execute_result"
        }
      ],
      "source": [
        "from keras.models import Sequential\n",
        "from keras.layers import LSTM, Dense\n",
        "import numpy as np\n",
        "\n",
        "time_steps = 3\n",
        "num_features = 1 # perchè stiamo analizzando le time series univariate\n",
        "\n",
        "# trasformiamo dataset (input e output) in array\n",
        "X = np.array(X)\n",
        "y = np.array(y)\n",
        "\n",
        "# ridimensionamento: input deve avere dimensione: num_samples (o batch_size), time_steps, num_features\n",
        "# (in questo caso rispettivamente: 6 (numero sottosequenze), 3 (time step), 1 (time series univariate))\n",
        "X = X.reshape(X.shape[0], X.shape[1], num_features)\n",
        "\n",
        "print(X.shape, y.shape)\n",
        "\n",
        "# il modello Sequential si usa quando si vuole avere una sequenza di layer, ognuno con un singolo input/output\n",
        "model = Sequential()\n",
        "\n",
        "# aggiungiamo il primo layer, di 50 neuroni, LSTM, in cui definiamo la dimensione dell'input (3, 1)\n",
        "model.add(LSTM(50, activation = \"relu\", input_shape = (time_steps, num_features)))\n",
        "\n",
        "# aggiungiamo il secondo layer, Dense, che servirà per la predizione (1 output)\n",
        "# N.B. in un Dense layer un neurone riceve input da tutti i neuroni del layer precedente\n",
        "model.add(Dense(1))\n",
        "\n",
        "# addestriamo usando Adam e utilizziamo come Loss function l'Errore Quadratico\n",
        "model.compile(optimizer = \"adam\", loss = \"mse\")\n",
        "\n",
        "# addestriamo per 300 epoche: significa che il dataset sarà \"passato\" sotto l'algoritmo di apprendimento 300 volte\n",
        "model.fit(X, y, epochs = 300, verbose = 0)"
      ]
    },
    {
      "cell_type": "markdown",
      "metadata": {
        "id": "9KpS8lkBfmc-"
      },
      "source": [
        "E testiamo il modello"
      ]
    },
    {
      "cell_type": "code",
      "execution_count": 3,
      "metadata": {
        "colab": {
          "base_uri": "https://localhost:8080/"
        },
        "id": "8NW13TLbcMa7",
        "outputId": "09c80440-d4a4-4148-8076-c611b0ffcb59"
      },
      "outputs": [
        {
          "name": "stdout",
          "output_type": "stream",
          "text": [
            "1/1 [==============================] - 1s 530ms/step\n",
            "[[102.52359]]\n"
          ]
        }
      ],
      "source": [
        "X_test = np.array([70, 80, 90]) # ci aspettiamo 100\n",
        "# X_test = np.array([100, 110, 120]) # ci aspettiamo 130\n",
        "X_test = X_test.reshape((1, time_steps, num_features))\n",
        "\n",
        "y_test = model.predict(X_test)\n",
        "print(y_test)"
      ]
    },
    {
      "cell_type": "markdown",
      "metadata": {
        "id": "kMBs0jWCyKn8"
      },
      "source": [
        "# Time series multivariate"
      ]
    },
    {
      "attachments": {},
      "cell_type": "markdown",
      "metadata": {
        "id": "kZlX93MsyI78"
      },
      "source": [
        "In questo tipo di time series, nel tempo sono raccolte più variabili.\n",
        "\n",
        "Vedremo due tipi di problemi con questo tipo di time series:\n",
        "\n",
        "\n",
        "1.   Raccolte due o più serie temporali, vogliamo predire il valore di una terza serie di valori\n",
        "2.   Raccolte due o più serie temporali, vogliamo predire lo step successivo\n",
        "\n",
        "\n",
        "Per quanto riguarda il primo problema, supponiamo di aver raccolto i seguenti valori:\n",
        "\n",
        "\n",
        "\n",
        "<table>\n",
        "  <tr>\n",
        "    <th>Valore 1</th>\n",
        "    <th>Valore 2</th>\n",
        "    <th>Output</th>\n",
        "  </tr>\n",
        "  <tr>\n",
        "    <td>10</td>\n",
        "    <td>15</td>\n",
        "    <td>25</td>\n",
        "  </tr>\n",
        "  <tr>\n",
        "    <td>20</td>\n",
        "    <td>25</td>\n",
        "    <td>45</td>\n",
        "  </tr>\n",
        "  <tr>\n",
        "    <td>30</td>\n",
        "    <td>35</td>\n",
        "    <td>65</td>\n",
        "  </tr>\n",
        "  <tr>\n",
        "    <td>40</td>\n",
        "    <td>45</td>\n",
        "    <td>85</td>\n",
        "  </tr>\n",
        "  <tr>\n",
        "    <td>50</td>\n",
        "    <td>55</td>\n",
        "    <td>105</td>\n",
        "  </tr>\n",
        "  <tr>\n",
        "    <td>60</td>\n",
        "    <td>65</td>\n",
        "    <td>125</td>\n",
        "  </tr>\n",
        "  <tr>\n",
        "    <td>70</td>\n",
        "    <td>75</td>\n",
        "    <td>145</td>\n",
        "  </tr>\n",
        "  <tr>\n",
        "    <td>80</td>\n",
        "    <td>85</td>\n",
        "    <td>165</td>\n",
        "  </tr>\n",
        "  <tr>\n",
        "    <td>90</td>\n",
        "    <td>95</td>\n",
        "    <td>185</td>\n",
        "  </tr>\n",
        "</table>\n",
        "\n",
        "Andiamo a ripetere il processo di preparazione dei dati visto in precedenza;\n",
        "in questo caso, però, avremo una tripla di valori, e non un singolo valore, come input.\n",
        "Impostando, ad esempio, un time steps uguale a 3, otteniamo il seguente dataset\n",
        "\n",
        "\n",
        "\n",
        "\n",
        "\n",
        "\n"
      ]
    },
    {
      "cell_type": "code",
      "execution_count": 4,
      "metadata": {
        "colab": {
          "base_uri": "https://localhost:8080/"
        },
        "id": "kS--mTSNxr7N",
        "outputId": "f0176b36-586f-407e-c957-9bf7e6d771d1"
      },
      "outputs": [
        {
          "name": "stdout",
          "output_type": "stream",
          "text": [
            "(7, 3, 2) (7,)\n"
          ]
        }
      ],
      "source": [
        "X = [[[10, 15],\n",
        "      [20, 25],\n",
        "      [30, 35]],\n",
        "     [[20, 25],\n",
        "      [30, 35],\n",
        "      [40, 45]],\n",
        "     [[30, 35],\n",
        "      [40, 45],\n",
        "      [50, 55]],\n",
        "     [[40, 45],\n",
        "      [50, 55],\n",
        "      [60, 65]],\n",
        "     [[50, 55],\n",
        "      [60, 65],\n",
        "      [70, 75]],\n",
        "     [[60, 65],\n",
        "      [70, 75],\n",
        "      [80, 85]],\n",
        "     [[70, 75],\n",
        "      [80, 85],\n",
        "      [90, 95]]]\n",
        "\n",
        "y = [65,\n",
        "     85,\n",
        "     105,\n",
        "     125,\n",
        "     145,\n",
        "     165,\n",
        "     185]\n",
        "\n",
        "X = np.array(X)\n",
        "y = np.array(y)\n",
        "print(X.shape, y.shape)"
      ]
    },
    {
      "cell_type": "markdown",
      "metadata": {
        "id": "ppolIoM0-LY-"
      },
      "source": [
        "Andiamo a costruire il nostro modello"
      ]
    },
    {
      "cell_type": "code",
      "execution_count": 5,
      "metadata": {
        "colab": {
          "base_uri": "https://localhost:8080/"
        },
        "id": "kXNb55CF38Ma",
        "outputId": "7e5ad870-6fce-48a7-c22d-e435c89dbab2"
      },
      "outputs": [
        {
          "data": {
            "text/plain": [
              "<keras.callbacks.History at 0x1c4acaaded0>"
            ]
          },
          "execution_count": 5,
          "metadata": {},
          "output_type": "execute_result"
        }
      ],
      "source": [
        "time_steps = 3\n",
        "num_features = 2\n",
        "\n",
        "model = Sequential()\n",
        "model.add(LSTM(50, activation=\"relu\", input_shape=(time_steps, num_features)))\n",
        "model.add(Dense(1))\n",
        "model.compile(optimizer=\"adam\", loss=\"mse\")\n",
        "\n",
        "model.fit(X, y, epochs=300, verbose=0)"
      ]
    },
    {
      "cell_type": "markdown",
      "metadata": {
        "id": "o3A1pc68-U26"
      },
      "source": [
        "Ed effettuiamo la predizione su un nuovo input"
      ]
    },
    {
      "cell_type": "code",
      "execution_count": 6,
      "metadata": {
        "colab": {
          "base_uri": "https://localhost:8080/"
        },
        "id": "z5rh0Eew5EiL",
        "outputId": "d797ce7f-6a99-4822-e3a7-e84c01a86fd5"
      },
      "outputs": [
        {
          "name": "stdout",
          "output_type": "stream",
          "text": [
            "1/1 [==============================] - 0s 443ms/step\n",
            "[[206.17143]]\n"
          ]
        }
      ],
      "source": [
        "X_test = np.array([[80, 85], [90, 95], [100, 105]])\n",
        "X_test = X_test.reshape((1, time_steps, num_features))\n",
        "\n",
        "y_test = model.predict(X_test)\n",
        "print(y_test)"
      ]
    },
    {
      "attachments": {},
      "cell_type": "markdown",
      "metadata": {
        "id": "kmEZTUNg-YES"
      },
      "source": [
        "### Adesso affrontiamo il secondo tipo di problema, ovvero la predizione del prossimo step in una time series multivariata.\n",
        "\n",
        "Il problema è dello stesso tipo del primo caso visto, quello per le time series univariate.\n",
        "Supponiamo di aver raccolto i seguenti dati osservando tre variabili differenti:\n",
        "\n",
        "<table>\n",
        "  <tr>\n",
        "    <th>Valore 1</th>\n",
        "    <th>Valore 2</th>\n",
        "    <th>Valore 3</th>\n",
        "  </tr>\n",
        "  <tr>\n",
        "    <td>10</td>\n",
        "    <td>15</td>\n",
        "    <td>25</td>\n",
        "  </tr>\n",
        "  <tr>\n",
        "    <td>20</td>\n",
        "    <td>25</td>\n",
        "    <td>45</td>\n",
        "  </tr>\n",
        "  <tr>\n",
        "    <td>30</td>\n",
        "    <td>35</td>\n",
        "    <td>65</td>\n",
        "  </tr>\n",
        "  <tr>\n",
        "    <td>40</td>\n",
        "    <td>45</td>\n",
        "    <td>85</td>\n",
        "  </tr>\n",
        "  <tr>\n",
        "    <td>50</td>\n",
        "    <td>55</td>\n",
        "    <td>105</td>\n",
        "  </tr>\n",
        "  <tr>\n",
        "    <td>60</td>\n",
        "    <td>65</td>\n",
        "    <td>125</td>\n",
        "  </tr>\n",
        "  <tr>\n",
        "    <td>70</td>\n",
        "    <td>75</td>\n",
        "    <td>145</td>\n",
        "  </tr>\n",
        "  <tr>\n",
        "    <td>80</td>\n",
        "    <td>85</td>\n",
        "    <td>165</td>\n",
        "  </tr>\n",
        "  <tr>\n",
        "    <td>90</td>\n",
        "    <td>95</td>\n",
        "    <td>185</td>\n",
        "  </tr>\n",
        "</table>\n",
        "\n",
        "Considerando sempre un time steps di 3, possiamo procedere con la preparazione dei dati e ottenere il seguente dataset"
      ]
    },
    {
      "cell_type": "code",
      "execution_count": 7,
      "metadata": {
        "colab": {
          "base_uri": "https://localhost:8080/"
        },
        "id": "rDPNvTgf5jS4",
        "outputId": "fd47818d-fd9b-49d6-e3c7-791953a23a42"
      },
      "outputs": [
        {
          "name": "stdout",
          "output_type": "stream",
          "text": [
            "(6, 3, 3) (6, 3)\n"
          ]
        }
      ],
      "source": [
        "X = [[[10, 15, 25],\n",
        "      [20, 25, 45],\n",
        "      [30, 35, 65]],\n",
        "     [[20, 25, 45],\n",
        "      [30, 35, 65],\n",
        "      [40, 45, 85]],\n",
        "     [[30, 35,  65],\n",
        "      [40, 45,  85],\n",
        "      [50, 55, 105]],\n",
        "     [[40, 45,  85],\n",
        "      [50, 55, 105],\n",
        "      [60, 65, 125]],\n",
        "     [[50, 55, 105],\n",
        "      [60, 65, 125],\n",
        "      [70, 75, 145]],\n",
        "     [[60, 65, 125],\n",
        "      [70, 75, 145],\n",
        "      [80, 85, 165]]]\n",
        "\n",
        "y = [[40, 45, 85],\n",
        "     [50, 55, 105],\n",
        "     [60, 65, 125],\n",
        "     [70, 75, 145],\n",
        "     [80, 85, 165],\n",
        "     [90, 95, 185]]\n",
        "\n",
        "X = np.array(X)\n",
        "y = np.array(y)\n",
        "\n",
        "print(X.shape, y.shape)"
      ]
    },
    {
      "cell_type": "markdown",
      "metadata": {
        "id": "Szov2gzuOT7e"
      },
      "source": [
        "Allo stesso modo visto in precedenza, costruiamo il modello e andiamo a predire su un nuovo esempio"
      ]
    },
    {
      "cell_type": "code",
      "execution_count": 8,
      "metadata": {
        "colab": {
          "base_uri": "https://localhost:8080/"
        },
        "id": "31YvwQy9A1Bb",
        "outputId": "3807fbdb-d66f-4074-f2de-839d7f8da809"
      },
      "outputs": [
        {
          "data": {
            "text/plain": [
              "<keras.callbacks.History at 0x1c484249930>"
            ]
          },
          "execution_count": 8,
          "metadata": {},
          "output_type": "execute_result"
        }
      ],
      "source": [
        "time_steps = 3\n",
        "num_features = 3\n",
        "\n",
        "model = Sequential()\n",
        "model.add(LSTM(50, activation=\"relu\", input_shape=(time_steps, num_features)))\n",
        "model.add(Dense(num_features))\n",
        "model.compile(optimizer=\"adam\", loss=\"mse\")\n",
        "\n",
        "model.fit(X, y, epochs=300, verbose=0)"
      ]
    },
    {
      "cell_type": "code",
      "execution_count": 9,
      "metadata": {
        "colab": {
          "base_uri": "https://localhost:8080/"
        },
        "id": "0j9vN3A8BWht",
        "outputId": "2f92091e-49eb-490e-c202-3428ea655af7"
      },
      "outputs": [
        {
          "name": "stdout",
          "output_type": "stream",
          "text": [
            "1/1 [==============================] - 0s 430ms/step\n",
            "[[101.04109 105.71552 207.24236]]\n"
          ]
        }
      ],
      "source": [
        "X_test = np.array([[70, 75, 145], [80, 85, 165], [90, 95, 185]])\n",
        "X_test = X_test.reshape((1, time_steps, num_features))\n",
        "\n",
        "y_test = model.predict(X_test)\n",
        "print(y_test)"
      ]
    }
  ],
  "metadata": {
    "accelerator": "GPU",
    "colab": {
      "provenance": []
    },
    "kernelspec": {
      "display_name": "Python 3",
      "language": "python",
      "name": "python3"
    },
    "language_info": {
      "codemirror_mode": {
        "name": "ipython",
        "version": 3
      },
      "file_extension": ".py",
      "mimetype": "text/x-python",
      "name": "python",
      "nbconvert_exporter": "python",
      "pygments_lexer": "ipython3",
      "version": "3.10.9 (tags/v3.10.9:1dd9be6, Dec  6 2022, 20:01:21) [MSC v.1934 64 bit (AMD64)]"
    },
    "vscode": {
      "interpreter": {
        "hash": "6976a0d29688b69af430d154ca21ca8f69eff21986dd9c09ddc9cd50d921dcd1"
      }
    }
  },
  "nbformat": 4,
  "nbformat_minor": 0
}
