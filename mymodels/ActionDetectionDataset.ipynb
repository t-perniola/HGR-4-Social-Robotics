{
 "cells": [
  {
   "cell_type": "markdown",
   "metadata": {},
   "source": [
    "# 1. Import and Install Dependencies"
   ]
  },
  {
   "cell_type": "code",
   "execution_count": 1,
   "metadata": {},
   "outputs": [],
   "source": [
    "import cv2\n",
    "import numpy as np\n",
    "import os\n",
    "from matplotlib import pyplot as plt\n",
    "import time\n",
    "import mediapipe as mp\n",
    "import pandas as pd"
   ]
  },
  {
   "cell_type": "markdown",
   "metadata": {},
   "source": [
    "# 2. Keypoints using MP Holistic"
   ]
  },
  {
   "attachments": {},
   "cell_type": "markdown",
   "metadata": {},
   "source": [
    "importiamo il modello Holistic di MediaPipe"
   ]
  },
  {
   "cell_type": "code",
   "execution_count": 2,
   "metadata": {},
   "outputs": [],
   "source": [
    "mp_holistic = mp.solutions.holistic # Holistic model\n",
    "mp_hands = mp.solutions.hands\n",
    "mp_drawing = mp.solutions.drawing_utils # Drawing utilities\n",
    "mp_drawing_styles = mp.solutions.drawing_styles"
   ]
  },
  {
   "attachments": {},
   "cell_type": "markdown",
   "metadata": {},
   "source": [
    "funzione di riconoscimento: convertiamo prima l'immagine dal canale BGR (output di OpenCV feed) a quello RGB, necessario per MediaPipe;\n",
    "alla fine riconvertiamo in BGR"
   ]
  },
  {
   "cell_type": "code",
   "execution_count": 3,
   "metadata": {},
   "outputs": [],
   "source": [
    "def mediapipe_detection(image, model):\n",
    "    image = cv2.cvtColor(image, cv2.COLOR_BGR2RGB) # COLOR CONVERSION BGR 2 RGB\n",
    "    image.flags.writeable = False                  # Image is no longer writeable\n",
    "    results = model.process(image)                 # Make prediction with the Holistic model\n",
    "    image.flags.writeable = True                   # Image is now writeable \n",
    "    image = cv2.cvtColor(image, cv2.COLOR_RGB2BGR) # COLOR COVERSION RGB 2 BGR\n",
    "    return image, results"
   ]
  },
  {
   "attachments": {},
   "cell_type": "markdown",
   "metadata": {},
   "source": [
    "ora visualizziamo i landmark graficamente, in maniera standard; li renderizziamo -> saranno visibili a schermo"
   ]
  },
  {
   "cell_type": "code",
   "execution_count": 4,
   "metadata": {},
   "outputs": [],
   "source": [
    "def draw_landmarks(image, results):\n",
    "    mp_drawing.draw_landmarks(image, results.face_landmarks, mp_holistic.FACEMESH_TESSELATION) # Draw face connections\n",
    "    mp_drawing.draw_landmarks(image, results.pose_landmarks, mp_holistic.POSE_CONNECTIONS) # Draw pose connections\n",
    "    mp_drawing.draw_landmarks(image, results.left_hand_landmarks, mp_holistic.HAND_CONNECTIONS) # Draw left hand connections\n",
    "    mp_drawing.draw_landmarks(image, results.right_hand_landmarks, mp_holistic.HAND_CONNECTIONS) # Draw right hand connections\n",
    "\n",
    "#le X_CONNECTIONS sono mappe che restituiscono i legami fra i vari landmark"
   ]
  },
  {
   "attachments": {},
   "cell_type": "markdown",
   "metadata": {},
   "source": [
    "formattiamo, personalizziamo i landmark in maniera grafica"
   ]
  },
  {
   "cell_type": "code",
   "execution_count": 4,
   "metadata": {},
   "outputs": [],
   "source": [
    "def draw_styled_landmarks(image, results):\n",
    "    # Draw face connections\n",
    "    mp_drawing.draw_landmarks(image, results.face_landmarks, mp_holistic.FACEMESH_TESSELATION, \n",
    "                             mp_drawing.DrawingSpec(color=(80,110,10), thickness=1, circle_radius=1), \n",
    "                             mp_drawing.DrawingSpec(color=(80,256,121), thickness=1, circle_radius=1)\n",
    "                             ) \n",
    "    # Draw pose connections\n",
    "    mp_drawing.draw_landmarks(image, results.pose_landmarks, mp_holistic.POSE_CONNECTIONS,\n",
    "                             mp_drawing.DrawingSpec(color=(80,22,10), thickness=1, circle_radius=1), \n",
    "                             mp_drawing.DrawingSpec(color=(80,44,121), thickness=1, circle_radius=1)\n",
    "                             ) \n",
    "    # Draw left hand connections\n",
    "    mp_drawing.draw_landmarks(image, results.left_hand_landmarks, mp_holistic.HAND_CONNECTIONS, \n",
    "                             mp_drawing.DrawingSpec(color=(121,22,76), thickness=1, circle_radius=1), \n",
    "                             mp_drawing.DrawingSpec(color=(121,44,250), thickness=1, circle_radius=1)\n",
    "                             ) \n",
    "    # Draw right hand connections  \n",
    "    mp_drawing.draw_landmarks(image, results.right_hand_landmarks, mp_holistic.HAND_CONNECTIONS, \n",
    "                             mp_drawing.DrawingSpec(color=(245,117,66), thickness=1, circle_radius=1), \n",
    "                             mp_drawing.DrawingSpec(color=(245,66,230), thickness=1, circle_radius=1)\n",
    "                             ) "
   ]
  },
  {
   "attachments": {},
   "cell_type": "markdown",
   "metadata": {},
   "source": [
    "# 3. Extract Keypoint Function"
   ]
  },
  {
   "attachments": {},
   "cell_type": "markdown",
   "metadata": {},
   "source": [
    "restituisce il numero dei landmark usati per la parte del corpo specificata"
   ]
  },
  {
   "attachments": {},
   "cell_type": "markdown",
   "metadata": {},
   "source": [
    "Lavoriamo su ciascun landkmark: \n",
    "\n",
    "- creiamo degli array dove memorizzare le sue coordinate (dei landmark)\n",
    "\n",
    "- Useremo degli array di zero quando una certa parte del corpo non è riconosciuta/presente, per non fare andare in errore il sistema."
   ]
  },
  {
   "attachments": {},
   "cell_type": "markdown",
   "metadata": {},
   "source": [
    "Facciamo la stessa cosa, ma tutto su una sola linea.\n",
    "\n",
    "**N.B.** usiamo *flatten()* perchè vogliamo un solo array, unidimensionale, perchè ci servirà questo formato per la LSTM; infatti, senza flatten() avremo una matrice, un array bidimensionale (ciascun landmark avrà *x* valori associati)"
   ]
  },
  {
   "attachments": {},
   "cell_type": "markdown",
   "metadata": {},
   "source": [
    "come abbiamo detto prima, creiamo un array vuoto (di zeri), per gestire l'errore nel caso in cui una parte del corpo non è riconosciuta."
   ]
  },
  {
   "attachments": {},
   "cell_type": "markdown",
   "metadata": {},
   "source": [
    "qui facciamo quello fatto sopra, ma in maniera pù organizzata, in una funzione apposita:"
   ]
  },
  {
   "cell_type": "code",
   "execution_count": 5,
   "metadata": {},
   "outputs": [],
   "source": [
    "def extract_keypoints(results):\n",
    "    pose = np.array([[res.x, res.y, res.z, res.visibility] for res in results.pose_landmarks.landmark]).flatten() if results.pose_landmarks else np.zeros(33*4)\n",
    "    face = np.array([[res.x, res.y, res.z] for res in results.face_landmarks.landmark]).flatten() if results.face_landmarks else np.zeros(468*3)\n",
    "    lh = np.array([[res.x, res.y, res.z] for res in results.left_hand_landmarks.landmark]).flatten() if results.left_hand_landmarks else np.zeros(21*3)\n",
    "    rh = np.array([[res.x, res.y, res.z] for res in results.right_hand_landmarks.landmark]).flatten() if results.right_hand_landmarks else np.zeros(21*3)\n",
    "    return np.concatenate([pose, face, lh, rh])"
   ]
  },
  {
   "attachments": {},
   "cell_type": "markdown",
   "metadata": {},
   "source": [
    "nello specifico:\n",
    "\n",
    "res.x, res.y, res.z sono i singoli valori delle coord. per ciascun landmark, che verranno inseriti in un array più grande, ciclando per ogni landmark:\n",
    "\n",
    "- se non esistono coordinate per i landmark, quindi quella parte del corpo non è riconosciuta, viene creato un array vuoto"
   ]
  },
  {
   "attachments": {},
   "cell_type": "markdown",
   "metadata": {},
   "source": [
    "### abbiamo estratto i **keypoints** per il frame di interesse, che saranno utili per il riconoscimento dei gesti/segni"
   ]
  },
  {
   "attachments": {},
   "cell_type": "markdown",
   "metadata": {},
   "source": [
    "# 4. Setup Folders"
   ]
  },
  {
   "cell_type": "code",
   "execution_count": 51,
   "metadata": {},
   "outputs": [],
   "source": [
    "os.chdir(\"../mytempfiles\")"
   ]
  },
  {
   "attachments": {},
   "cell_type": "markdown",
   "metadata": {},
   "source": [
    "quali sono i gesti contenuti nel dataset?"
   ]
  },
  {
   "cell_type": "code",
   "execution_count": 6,
   "metadata": {},
   "outputs": [],
   "source": [
    "labels_file = pd.read_csv(r'D:\\TMS\\dataset\\jester\\labels\\labels.csv') #TODO rel path\n",
    "\n",
    "gestures = labels_file['labels'].tolist() #metto in una lista tutte le labels del dataset\n",
    "gestures_array = np.array(gestures)"
   ]
  },
  {
   "attachments": {},
   "cell_type": "markdown",
   "metadata": {},
   "source": [
    "memorizzo la lista di tutti i video disponibili"
   ]
  },
  {
   "cell_type": "code",
   "execution_count": null,
   "metadata": {},
   "outputs": [],
   "source": [
    "DATADIR = r'D:\\TMS\\dataset\\jester\\20bn-jester-v1'\n",
    "\n",
    "list_video = sorted(os.listdir(DATADIR), key=len) #li voglio ordinati così come compaiono nell'explorer dei file\n",
    "list_video"
   ]
  },
  {
   "cell_type": "code",
   "execution_count": 8,
   "metadata": {},
   "outputs": [
    {
     "data": {
      "text/plain": [
       "37793"
      ]
     },
     "execution_count": 8,
     "metadata": {},
     "output_type": "execute_result"
    }
   ],
   "source": [
    "list_video_int = list(map(int, list_video)) #converto tutto in int da string\n",
    "len(list_video_int)"
   ]
  },
  {
   "attachments": {},
   "cell_type": "markdown",
   "metadata": {},
   "source": [
    "creo fold in cui salvare keypoints, per ogni video"
   ]
  },
  {
   "cell_type": "code",
   "execution_count": null,
   "metadata": {},
   "outputs": [],
   "source": [
    "for vid in list_video: #per ogni video\n",
    "        try: \n",
    "            os.makedirs(os.path.join(DATADIR, str(vid), \"keypoints\"))\n",
    "        except:\n",
    "            pass #se esistono già, skippa la creazione"
   ]
  },
  {
   "attachments": {},
   "cell_type": "markdown",
   "metadata": {},
   "source": [
    "creo ora folds dei gesti, dove salvaremo ogni video in cui la stessa è performata"
   ]
  },
  {
   "cell_type": "code",
   "execution_count": null,
   "metadata": {},
   "outputs": [],
   "source": [
    "for label in gestures: #per ogni label (per ogni gesto)\n",
    "    try:\n",
    "        os.makedirs(os.path.join(DATADIR, label))\n",
    "    except:\n",
    "        pass #se esistono già, skippa la creazione"
   ]
  },
  {
   "attachments": {},
   "cell_type": "markdown",
   "metadata": {},
   "source": [
    "ora dovremmo spostare in queste cartelle i relativi video"
   ]
  },
  {
   "attachments": {},
   "cell_type": "markdown",
   "metadata": {},
   "source": [
    "# 5. Collect Keypoint Values from the dataset for Training and Testing"
   ]
  },
  {
   "attachments": {},
   "cell_type": "markdown",
   "metadata": {},
   "source": [
    "❗❗ Estrarremo i keypoints dai frame di ciascun video presente nel **dataset** *Jester*"
   ]
  },
  {
   "attachments": {},
   "cell_type": "markdown",
   "metadata": {},
   "source": [
    "Struttura del dataset Jester:\n",
    "\n",
    "- **VIDEO:** 148092\n",
    "    - **FRAME x video:** circa 30\n",
    "        - *FPS:* 12, un frame ogni 12 s\n",
    "        - *altezza:* 100px\n",
    "\n",
    "Il dataset, contenente **148092** video, è inoltre già splittato negli insiemi di **Training, Test e Validation:**\n",
    "\n",
    "- **TRAINING videos:** 118562 \n",
    "- **TEST videos:** 14743 \n",
    "- **VALIDATION videos:** 14787 \n",
    "\n",
    "Il dataset conterrà **27** labels (classi) di gesti diversi"
   ]
  },
  {
   "attachments": {},
   "cell_type": "markdown",
   "metadata": {},
   "source": [
    "otteniamo i video per il **training** del modello:"
   ]
  },
  {
   "cell_type": "code",
   "execution_count": null,
   "metadata": {},
   "outputs": [],
   "source": [
    "train_file = pd.read_csv(r'D:\\TMS\\dataset\\jester\\labels\\train.csv', delimiter=\";\") #TODO path relativo\n",
    "\n",
    "train_list = train_file['key'].tolist() #lista degli indici dei video attualmente estratti\n",
    "train_file"
   ]
  },
  {
   "attachments": {},
   "cell_type": "markdown",
   "metadata": {},
   "source": [
    "otteniamo ora i video per il **testing** del modello:"
   ]
  },
  {
   "cell_type": "code",
   "execution_count": null,
   "metadata": {},
   "outputs": [],
   "source": [
    "test_file = pd.read_csv(r'D:\\TMS\\dataset\\jester\\labels\\test-answers.csv', delimiter=\";\") #TODO path relativo\n",
    "\n",
    "test_list = test_file['key'].tolist() #lista degli indici dei video attualmente estratti\n",
    "test_file = test_file.loc[:, ~test_file.columns.str.contains('^Unnamed')]  #cancello colonne non necessarie\n",
    "test_file"
   ]
  },
  {
   "attachments": {},
   "cell_type": "markdown",
   "metadata": {},
   "source": [
    "### **N.B.** Vediamo ora come selezionare i frame dal dataset scelto, già estratti dai video"
   ]
  },
  {
   "attachments": {},
   "cell_type": "markdown",
   "metadata": {},
   "source": [
    "#### *prima però bisogna considerare che non ho estratto dall'archivio .tar tutti i video ...*"
   ]
  },
  {
   "attachments": {},
   "cell_type": "markdown",
   "metadata": {},
   "source": [
    "- vediamo prima il **training set**"
   ]
  },
  {
   "cell_type": "code",
   "execution_count": 24,
   "metadata": {},
   "outputs": [],
   "source": [
    "count = 0\n",
    "my_train_list = [] #lista che contiene i miei video di training, attualmente disponibili\n",
    "\n",
    "#mostra tutti gli indici dei video attualmente estratti dall'archivio tar, convertiti in integers\n",
    "list_video_int = list(map(int, list_video))\n",
    "\n",
    "for vid in list_video_int:\n",
    "    for train_vid in train_list:\n",
    "        if vid == train_vid:\n",
    "            count += 1     \n",
    "            my_train_list.append(vid)"
   ]
  },
  {
   "attachments": {},
   "cell_type": "markdown",
   "metadata": {},
   "source": [
    "attualmente, abbiamo **30228** video di training su 37793 totali (80% circa)"
   ]
  },
  {
   "cell_type": "code",
   "execution_count": 25,
   "metadata": {},
   "outputs": [],
   "source": [
    "np.save(\"mytrainlist\", my_train_list)"
   ]
  },
  {
   "cell_type": "code",
   "execution_count": 52,
   "metadata": {},
   "outputs": [
    {
     "data": {
      "text/plain": [
       "30228"
      ]
     },
     "execution_count": 52,
     "metadata": {},
     "output_type": "execute_result"
    }
   ],
   "source": [
    "my_train_list = np.load(\"mytrainlist.npy\").tolist()\n",
    "my_train_list\n",
    "len(my_train_list)"
   ]
  },
  {
   "cell_type": "code",
   "execution_count": 53,
   "metadata": {},
   "outputs": [
    {
     "data": {
      "text/html": [
       "<div>\n",
       "<style scoped>\n",
       "    .dataframe tbody tr th:only-of-type {\n",
       "        vertical-align: middle;\n",
       "    }\n",
       "\n",
       "    .dataframe tbody tr th {\n",
       "        vertical-align: top;\n",
       "    }\n",
       "\n",
       "    .dataframe thead th {\n",
       "        text-align: right;\n",
       "    }\n",
       "</style>\n",
       "<table border=\"1\" class=\"dataframe\">\n",
       "  <thead>\n",
       "    <tr style=\"text-align: right;\">\n",
       "      <th></th>\n",
       "      <th>key</th>\n",
       "      <th>value</th>\n",
       "    </tr>\n",
       "  </thead>\n",
       "  <tbody>\n",
       "    <tr>\n",
       "      <th>2</th>\n",
       "      <td>129112</td>\n",
       "      <td>Sliding Two Fingers Down</td>\n",
       "    </tr>\n",
       "    <tr>\n",
       "      <th>4</th>\n",
       "      <td>131717</td>\n",
       "      <td>Sliding Two Fingers Up</td>\n",
       "    </tr>\n",
       "    <tr>\n",
       "      <th>5</th>\n",
       "      <td>23595</td>\n",
       "      <td>Zooming Out With Two Fingers</td>\n",
       "    </tr>\n",
       "    <tr>\n",
       "      <th>6</th>\n",
       "      <td>93002</td>\n",
       "      <td>Pulling Hand In</td>\n",
       "    </tr>\n",
       "    <tr>\n",
       "      <th>7</th>\n",
       "      <td>136859</td>\n",
       "      <td>Thumb Up</td>\n",
       "    </tr>\n",
       "    <tr>\n",
       "      <th>...</th>\n",
       "      <td>...</td>\n",
       "      <td>...</td>\n",
       "    </tr>\n",
       "    <tr>\n",
       "      <th>118540</th>\n",
       "      <td>106904</td>\n",
       "      <td>Doing other things</td>\n",
       "    </tr>\n",
       "    <tr>\n",
       "      <th>118541</th>\n",
       "      <td>96650</td>\n",
       "      <td>Sliding Two Fingers Down</td>\n",
       "    </tr>\n",
       "    <tr>\n",
       "      <th>118544</th>\n",
       "      <td>43396</td>\n",
       "      <td>Thumb Down</td>\n",
       "    </tr>\n",
       "    <tr>\n",
       "      <th>118550</th>\n",
       "      <td>132112</td>\n",
       "      <td>Swiping Up</td>\n",
       "    </tr>\n",
       "    <tr>\n",
       "      <th>118556</th>\n",
       "      <td>99358</td>\n",
       "      <td>Stop Sign</td>\n",
       "    </tr>\n",
       "  </tbody>\n",
       "</table>\n",
       "<p>30228 rows × 2 columns</p>\n",
       "</div>"
      ],
      "text/plain": [
       "           key                         value\n",
       "2       129112      Sliding Two Fingers Down\n",
       "4       131717        Sliding Two Fingers Up\n",
       "5        23595  Zooming Out With Two Fingers\n",
       "6        93002               Pulling Hand In\n",
       "7       136859                      Thumb Up\n",
       "...        ...                           ...\n",
       "118540  106904            Doing other things\n",
       "118541   96650      Sliding Two Fingers Down\n",
       "118544   43396                    Thumb Down\n",
       "118550  132112                    Swiping Up\n",
       "118556   99358                     Stop Sign\n",
       "\n",
       "[30228 rows x 2 columns]"
      ]
     },
     "execution_count": 53,
     "metadata": {},
     "output_type": "execute_result"
    }
   ],
   "source": [
    "my_train_file = train_file.query('key in @my_train_list') #sottoinsieme di train_file, che contiene solo i video di training attualm. disponibili\n",
    "train_list2 = sorted(my_train_file['key'].tolist())  #lista degli indici dei video di training attualmente disponibili\n",
    "\n",
    "my_train_file"
   ]
  },
  {
   "attachments": {},
   "cell_type": "markdown",
   "metadata": {},
   "source": [
    "controllo effettivamente se le liste sono uguali: in tal caso tengo conto solamente di una delle due"
   ]
  },
  {
   "cell_type": "code",
   "execution_count": 12,
   "metadata": {},
   "outputs": [
    {
     "name": "stdout",
     "output_type": "stream",
     "text": [
      "Lists are equal\n"
     ]
    }
   ],
   "source": [
    "if(set(my_train_list) == set(train_list2)):\n",
    "    print(\"Lists are equal\")\n",
    "else:\n",
    "    print(\"Lists are not equal\")"
   ]
  },
  {
   "attachments": {},
   "cell_type": "markdown",
   "metadata": {},
   "source": [
    "- facciamo lo stesso per il **test set**"
   ]
  },
  {
   "cell_type": "code",
   "execution_count": 19,
   "metadata": {},
   "outputs": [],
   "source": [
    "count = 0\n",
    "my_test_list = [] #lista che contiene i miei video di test, attualmente disponibili\n",
    "\n",
    "#mostra tutti gli indici dei video attualmente estratti dall'archivio tar, convertiti in integers\n",
    "list_video_int = list(map(int, list_video))\n",
    "\n",
    "for vid in list_video_int:\n",
    "    for test_vid in test_list:\n",
    "        if vid == test_vid:\n",
    "            count += 1     \n",
    "            my_test_list.append(vid)"
   ]
  },
  {
   "attachments": {},
   "cell_type": "markdown",
   "metadata": {},
   "source": [
    "attualmente abbiamo **3763** video di test su 37793 totali (10% circa)"
   ]
  },
  {
   "cell_type": "code",
   "execution_count": 17,
   "metadata": {},
   "outputs": [],
   "source": [
    "np.save(\"mytestlist\", my_test_list)"
   ]
  },
  {
   "cell_type": "code",
   "execution_count": 54,
   "metadata": {},
   "outputs": [
    {
     "data": {
      "text/plain": [
       "3763"
      ]
     },
     "execution_count": 54,
     "metadata": {},
     "output_type": "execute_result"
    }
   ],
   "source": [
    "my_test_list = np.load(\"mytestlist.npy\").tolist()\n",
    "len(my_test_list)"
   ]
  },
  {
   "cell_type": "code",
   "execution_count": 55,
   "metadata": {},
   "outputs": [
    {
     "data": {
      "text/html": [
       "<div>\n",
       "<style scoped>\n",
       "    .dataframe tbody tr th:only-of-type {\n",
       "        vertical-align: middle;\n",
       "    }\n",
       "\n",
       "    .dataframe tbody tr th {\n",
       "        vertical-align: top;\n",
       "    }\n",
       "\n",
       "    .dataframe thead th {\n",
       "        text-align: right;\n",
       "    }\n",
       "</style>\n",
       "<table border=\"1\" class=\"dataframe\">\n",
       "  <thead>\n",
       "    <tr style=\"text-align: right;\">\n",
       "      <th></th>\n",
       "      <th>key</th>\n",
       "      <th>value</th>\n",
       "    </tr>\n",
       "  </thead>\n",
       "  <tbody>\n",
       "    <tr>\n",
       "      <th>0</th>\n",
       "      <td>115190</td>\n",
       "      <td>Turning Hand Counterclockwise</td>\n",
       "    </tr>\n",
       "    <tr>\n",
       "      <th>4</th>\n",
       "      <td>138995</td>\n",
       "      <td>Thumb Down</td>\n",
       "    </tr>\n",
       "    <tr>\n",
       "      <th>6</th>\n",
       "      <td>60037</td>\n",
       "      <td>Pushing Two Fingers Away</td>\n",
       "    </tr>\n",
       "    <tr>\n",
       "      <th>8</th>\n",
       "      <td>106678</td>\n",
       "      <td>Swiping Up</td>\n",
       "    </tr>\n",
       "    <tr>\n",
       "      <th>9</th>\n",
       "      <td>139247</td>\n",
       "      <td>Drumming Fingers</td>\n",
       "    </tr>\n",
       "    <tr>\n",
       "      <th>...</th>\n",
       "      <td>...</td>\n",
       "      <td>...</td>\n",
       "    </tr>\n",
       "    <tr>\n",
       "      <th>14724</th>\n",
       "      <td>17730</td>\n",
       "      <td>Drumming Fingers</td>\n",
       "    </tr>\n",
       "    <tr>\n",
       "      <th>14727</th>\n",
       "      <td>78775</td>\n",
       "      <td>Pulling Two Fingers In</td>\n",
       "    </tr>\n",
       "    <tr>\n",
       "      <th>14730</th>\n",
       "      <td>35240</td>\n",
       "      <td>Swiping Up</td>\n",
       "    </tr>\n",
       "    <tr>\n",
       "      <th>14731</th>\n",
       "      <td>131876</td>\n",
       "      <td>Thumb Down</td>\n",
       "    </tr>\n",
       "    <tr>\n",
       "      <th>14736</th>\n",
       "      <td>71621</td>\n",
       "      <td>Drumming Fingers</td>\n",
       "    </tr>\n",
       "  </tbody>\n",
       "</table>\n",
       "<p>3763 rows × 2 columns</p>\n",
       "</div>"
      ],
      "text/plain": [
       "          key                          value\n",
       "0      115190  Turning Hand Counterclockwise\n",
       "4      138995                     Thumb Down\n",
       "6       60037       Pushing Two Fingers Away\n",
       "8      106678                     Swiping Up\n",
       "9      139247               Drumming Fingers\n",
       "...       ...                            ...\n",
       "14724   17730               Drumming Fingers\n",
       "14727   78775         Pulling Two Fingers In\n",
       "14730   35240                     Swiping Up\n",
       "14731  131876                     Thumb Down\n",
       "14736   71621               Drumming Fingers\n",
       "\n",
       "[3763 rows x 2 columns]"
      ]
     },
     "execution_count": 55,
     "metadata": {},
     "output_type": "execute_result"
    }
   ],
   "source": [
    "my_test_file = test_file.query('key in @my_test_list') #sottoinsieme di test_file, che contiene solo i video di testing attualm. disponibili\n",
    "my_test_list2 = sorted(my_test_file['key'].tolist())  #lista degli indici dei video di testing attualmente disponibili\n",
    "\n",
    "my_test_file"
   ]
  },
  {
   "cell_type": "code",
   "execution_count": 15,
   "metadata": {},
   "outputs": [
    {
     "name": "stdout",
     "output_type": "stream",
     "text": [
      "Lists are equal\n"
     ]
    }
   ],
   "source": [
    "if(set(my_test_list) == set(my_test_list2)):\n",
    "    print(\"Lists are equal\")\n",
    "else:\n",
    "    print(\"Lists are not equal\")"
   ]
  },
  {
   "attachments": {},
   "cell_type": "markdown",
   "metadata": {},
   "source": [
    "##### ----------------------------------------------------------------------------------------------------------------------------------------------------"
   ]
  },
  {
   "attachments": {},
   "cell_type": "markdown",
   "metadata": {},
   "source": [
    "### Genero nuovi frame per ogni video se esso non raggiunge i 30 frame, copiandone l'ultimo, ripetutamente"
   ]
  },
  {
   "cell_type": "code",
   "execution_count": 72,
   "metadata": {},
   "outputs": [],
   "source": [
    "def get_num_frames(path):   \n",
    "\n",
    "    # restituisce tutti gli elementi nel path indicato, nel nostro caso tutti i frame per il video specificato con il suo path\n",
    "    frames_4_video = os.listdir(path)        \n",
    "    num_frames = len(frames_4_video) - 1 #togliamo 1 perchè non consideriamo la fold dei keypoints\n",
    "    print(\"Numero frame per questo video:\", num_frames)\n",
    "\n",
    "    return num_frames"
   ]
  },
  {
   "cell_type": "code",
   "execution_count": 73,
   "metadata": {},
   "outputs": [],
   "source": [
    "def get_last_frame(path):\n",
    "\n",
    "    frames_4_video = os.listdir(path)\n",
    "    last_frame = frames_4_video[-2] #prendiamo l'ultimo frame\n",
    "    print(\"\\nnome ultimo frame:\", last_frame)\n",
    "    img_path = os.path.join(path, last_frame)\n",
    "    img_array = cv2.imread(img_path) \n",
    "\n",
    "    return last_frame, img_array"
   ]
  },
  {
   "cell_type": "code",
   "execution_count": 74,
   "metadata": {},
   "outputs": [],
   "source": [
    "def create_name_frame(last_frame):\n",
    "    num_frame = last_frame[3:5] #prendo solamente i char 3, 4 perchè mi interessa il numero del frame\n",
    "    num_frame = int(num_frame) + 1\n",
    "    last_frame = \"000\" + str(num_frame) + \".jpg\"\n",
    "    return last_frame"
   ]
  },
  {
   "cell_type": "code",
   "execution_count": null,
   "metadata": {},
   "outputs": [],
   "source": [
    "DATADIR = r'D:\\TMS\\dataset\\jester\\20bn-jester-v1'\n",
    "\n",
    "for vid in list_video_int:\n",
    "\n",
    "    path = os.path.join(DATADIR, str(vid))  \n",
    "    os.chdir(path)  \n",
    "\n",
    "    num_frames = get_num_frames(path)    \n",
    "\n",
    "    if num_frames < 30:\n",
    "        \n",
    "        print(\"Percorso video:\", path)\n",
    "        print(\"\\nNumero frame per questo video:\", num_frames)\n",
    "        \n",
    "        while num_frames < 30:\n",
    "\n",
    "            last_frame, img_array = get_last_frame(path)\n",
    "            last_frame = create_name_frame(last_frame)                    \n",
    "            cv2.imwrite(last_frame, img_array) #salvo nella fold il \"nuovo\" frame, ovvero una copia dell'ultimo frame\n",
    "\n",
    "            num_frames += 1\n",
    "            print(\"numero frame aggiornato:\", num_frames) \n",
    "    else:\n",
    "        print(\"il video ha già almeno 30 frame\")       \n",
    "    "
   ]
  },
  {
   "attachments": {},
   "cell_type": "markdown",
   "metadata": {},
   "source": [
    "-------------------------------------------------------------------------------------------------------------------------------"
   ]
  },
  {
   "attachments": {},
   "cell_type": "markdown",
   "metadata": {},
   "source": [
    "- ### accedo ai frame di ogni video e ne estraggo i keypoints"
   ]
  },
  {
   "attachments": {},
   "cell_type": "markdown",
   "metadata": {},
   "source": [
    "estraggo e memorizzo i keypoints"
   ]
  },
  {
   "cell_type": "code",
   "execution_count": 75,
   "metadata": {},
   "outputs": [],
   "source": [
    "def detect_and_extract(img_array, model):    \n",
    "    \n",
    "    image, results = mediapipe_detection(img_array, model)\n",
    "    #draw_styled_landmarks(image, results)\n",
    "    #print(results)\n",
    "    #plt.imshow(cv2.cvtColor(image, cv2.COLOR_BGR2RGB))                    \n",
    "    keypoints = extract_keypoints(results)\n",
    "    return keypoints"
   ]
  },
  {
   "attachments": {},
   "cell_type": "markdown",
   "metadata": {},
   "source": [
    "inizializzazione liste"
   ]
  },
  {
   "cell_type": "code",
   "execution_count": 76,
   "metadata": {},
   "outputs": [],
   "source": [
    "DATADIR = r'D:\\TMS\\dataset\\jester\\20bn-jester-v1'\n",
    "\n",
    "actual_train_video = []\n",
    "actual_test_video = []\n",
    "actual_video = []"
   ]
  },
  {
   "cell_type": "code",
   "execution_count": 77,
   "metadata": {},
   "outputs": [],
   "source": [
    "def get_num_keypoints(path):\n",
    "    keypoints_path = os.path.join(path, 'keypoints')\n",
    "    num_keypoints = len(os.listdir(keypoints_path)) #indica quanti keypoints sono stati estratti \n",
    "    \n",
    "    return num_keypoints "
   ]
  },
  {
   "cell_type": "code",
   "execution_count": 78,
   "metadata": {},
   "outputs": [],
   "source": [
    "def get_and_append_img(path, img, all_frames):\n",
    "\n",
    "    img_num = img[0:5] #prendo i primi N char, per non avere l'estensione nel nome quando salvo dopo\n",
    "    img_path = os.path.join(path, img)\n",
    "    img_array = cv2.imread(img_path)  # convert to array\n",
    "    print(img_path)                    \n",
    "    all_frames.append(img)\n",
    "\n",
    "    return img_array, img_num"
   ]
  },
  {
   "cell_type": "code",
   "execution_count": 79,
   "metadata": {},
   "outputs": [],
   "source": [
    "def access_frames(list, num_videos, actual_video_type):\n",
    "\n",
    "    with mp_holistic.Holistic(min_detection_confidence = 0.5, min_tracking_confidence = 0.5) as holistic:\n",
    "\n",
    "        for vid in list[0:num_videos]:  # itero su tutti i video (i primi 1500)...\n",
    "\n",
    "            all_frames = []\n",
    "\n",
    "            # create path (...\\20bn-jester-v1\\000xx)\n",
    "            path = os.path.join(DATADIR, str(vid))\n",
    "            print(\"\\nPercorso video:\", path)\n",
    "\n",
    "            frames_4_video = os.listdir(path)\n",
    "          \n",
    "            num_frames = get_num_frames(path)        \n",
    "            num_keypoints = get_num_keypoints(path) #indica quanti keypoints sono stati estratti   \n",
    "            \n",
    "            # esegui se non tutti i keypoints sono stati ancora estratti da ciascun frame \n",
    "            if num_keypoints != num_frames:            \n",
    "                \n",
    "                # iterate over each image (00001, 00002, ...)\n",
    "                for img in frames_4_video:            \n",
    "                            \n",
    "                    if not img == 'keypoints': #non considero la cartella dove salvo i keypoints (TODO potrei farlo prima, escludendo la cartella)\n",
    "                                        \n",
    "                        img_array, img_num = get_and_append_img(path, img, all_frames)\n",
    "\n",
    "                        keypoints = detect_and_extract(img_array, holistic)\n",
    "\n",
    "                        # salvo i keypoints su disco\n",
    "                        npy_path = os.path.join(DATADIR, str(vid), \"keypoints\", img_num)\n",
    "                        np.save(npy_path, keypoints)\n",
    "                \n",
    "            else:\n",
    "                print(\"N.B. keypoints già estratti per questo video\")\n",
    "                actual_video_type.append(vid)\n",
    "                actual_video.append(vid)"
   ]
  },
  {
   "cell_type": "code",
   "execution_count": null,
   "metadata": {},
   "outputs": [],
   "source": [
    "access_frames(my_train_list, 1500, actual_train_video) #accedo ai frame dei video di train..\n",
    "access_frames(my_test_list, 700, actual_test_video) #.. e per quelli di test"
   ]
  },
  {
   "attachments": {},
   "cell_type": "markdown",
   "metadata": {},
   "source": [
    "opero altra suddivisione per **TRAINING SET** ottenendo il file su cui **classificare**"
   ]
  },
  {
   "cell_type": "code",
   "execution_count": 60,
   "metadata": {},
   "outputs": [
    {
     "name": "stderr",
     "output_type": "stream",
     "text": [
      "C:\\Users\\follo\\AppData\\Local\\Temp\\ipykernel_7648\\2135385370.py:3: SettingWithCopyWarning: \n",
      "A value is trying to be set on a copy of a slice from a DataFrame\n",
      "\n",
      "See the caveats in the documentation: https://pandas.pydata.org/pandas-docs/stable/user_guide/indexing.html#returning-a-view-versus-a-copy\n",
      "  my_train_file2.sort_values([\"key\"], axis=0, ascending=[True], inplace=True) #ordino gli elem in modo crescente in base al valore dell'idx del video\n"
     ]
    },
    {
     "data": {
      "text/html": [
       "<div>\n",
       "<style scoped>\n",
       "    .dataframe tbody tr th:only-of-type {\n",
       "        vertical-align: middle;\n",
       "    }\n",
       "\n",
       "    .dataframe tbody tr th {\n",
       "        vertical-align: top;\n",
       "    }\n",
       "\n",
       "    .dataframe thead th {\n",
       "        text-align: right;\n",
       "    }\n",
       "</style>\n",
       "<table border=\"1\" class=\"dataframe\">\n",
       "  <thead>\n",
       "    <tr style=\"text-align: right;\">\n",
       "      <th></th>\n",
       "      <th>key</th>\n",
       "      <th>value</th>\n",
       "    </tr>\n",
       "  </thead>\n",
       "  <tbody>\n",
       "    <tr>\n",
       "      <th>59351</th>\n",
       "      <td>4</td>\n",
       "      <td>Swiping Right</td>\n",
       "    </tr>\n",
       "    <tr>\n",
       "      <th>82397</th>\n",
       "      <td>6</td>\n",
       "      <td>Drumming Fingers</td>\n",
       "    </tr>\n",
       "    <tr>\n",
       "      <th>106437</th>\n",
       "      <td>10</td>\n",
       "      <td>Thumb Down</td>\n",
       "    </tr>\n",
       "    <tr>\n",
       "      <th>69146</th>\n",
       "      <td>12</td>\n",
       "      <td>Sliding Two Fingers Down</td>\n",
       "    </tr>\n",
       "    <tr>\n",
       "      <th>69109</th>\n",
       "      <td>20</td>\n",
       "      <td>Doing other things</td>\n",
       "    </tr>\n",
       "    <tr>\n",
       "      <th>...</th>\n",
       "      <td>...</td>\n",
       "      <td>...</td>\n",
       "    </tr>\n",
       "    <tr>\n",
       "      <th>117925</th>\n",
       "      <td>7361</td>\n",
       "      <td>Zooming In With Full Hand</td>\n",
       "    </tr>\n",
       "    <tr>\n",
       "      <th>55587</th>\n",
       "      <td>7362</td>\n",
       "      <td>Sliding Two Fingers Down</td>\n",
       "    </tr>\n",
       "    <tr>\n",
       "      <th>63869</th>\n",
       "      <td>7365</td>\n",
       "      <td>Pulling Hand In</td>\n",
       "    </tr>\n",
       "    <tr>\n",
       "      <th>116003</th>\n",
       "      <td>7366</td>\n",
       "      <td>Zooming Out With Two Fingers</td>\n",
       "    </tr>\n",
       "    <tr>\n",
       "      <th>33501</th>\n",
       "      <td>7367</td>\n",
       "      <td>Sliding Two Fingers Right</td>\n",
       "    </tr>\n",
       "  </tbody>\n",
       "</table>\n",
       "<p>1500 rows × 2 columns</p>\n",
       "</div>"
      ],
      "text/plain": [
       "         key                         value\n",
       "59351      4                 Swiping Right\n",
       "82397      6              Drumming Fingers\n",
       "106437    10                    Thumb Down\n",
       "69146     12      Sliding Two Fingers Down\n",
       "69109     20            Doing other things\n",
       "...      ...                           ...\n",
       "117925  7361     Zooming In With Full Hand\n",
       "55587   7362      Sliding Two Fingers Down\n",
       "63869   7365               Pulling Hand In\n",
       "116003  7366  Zooming Out With Two Fingers\n",
       "33501   7367     Sliding Two Fingers Right\n",
       "\n",
       "[1500 rows x 2 columns]"
      ]
     },
     "execution_count": 60,
     "metadata": {},
     "output_type": "execute_result"
    }
   ],
   "source": [
    "my_train_file2 = my_train_file.query('key in @actual_train_video') #contiene indice e label dell'azione associata a quel video\n",
    "my_train_file2.sort_values([\"key\"], axis=0, ascending=[True], inplace=True) #ordino gli elem in modo crescente in base al valore dell'idx del video \n",
    "np.save(\"mytrainfile2\", my_train_file2)\n",
    "\n",
    "my_train_file2 #questo è il file su cui devo lavorare come training set"
   ]
  },
  {
   "attachments": {},
   "cell_type": "markdown",
   "metadata": {},
   "source": [
    "abbiamo dunque **1500** video di training su cui addestrare il modello\n",
    "\n",
    "facciamo lo stesso per i video di **TEST**:"
   ]
  },
  {
   "cell_type": "code",
   "execution_count": null,
   "metadata": {},
   "outputs": [],
   "source": [
    "my_test_file2 = my_test_file.query('key in @actual_test_video') #contiene indice e label dell'azione associata a quel video\n",
    "my_test_file2.sort_values([\"key\"], axis=0, ascending=[True], inplace=True) #ordino gli elem in modo crescente in base al valore dell'idx del video \n",
    "np.save(\"mytestfile2\", my_test_file2)\n",
    "\n",
    "my_test_file2 #questo è il file su cui devo lavorare come training set"
   ]
  },
  {
   "attachments": {},
   "cell_type": "markdown",
   "metadata": {},
   "source": [
    "ho **700** video di test al momento su cui testare il modello"
   ]
  },
  {
   "cell_type": "code",
   "execution_count": 62,
   "metadata": {},
   "outputs": [],
   "source": [
    "np.save(\"actualvideo\", actual_video)\n",
    "np.save(\"actual_test_video\", actual_test_video)\n",
    "np.save(\"actual_train_video\", actual_train_video)"
   ]
  },
  {
   "cell_type": "code",
   "execution_count": 90,
   "metadata": {},
   "outputs": [],
   "source": [
    "actual_video = np.load(\"actualvideo.npy\")\n",
    "actual_train_video = np.load(\"actual_train_video.npy\")\n",
    "actual_test_video = np.load(\"actual_test_video.npy\")"
   ]
  },
  {
   "cell_type": "code",
   "execution_count": 91,
   "metadata": {},
   "outputs": [
    {
     "data": {
      "text/plain": [
       "2200"
      ]
     },
     "execution_count": 91,
     "metadata": {},
     "output_type": "execute_result"
    }
   ],
   "source": [
    "actual_video = sorted(actual_video)\n",
    "len(actual_video)"
   ]
  },
  {
   "attachments": {},
   "cell_type": "markdown",
   "metadata": {},
   "source": [
    "ho quindi a disposizione **2200** video totali per il momento"
   ]
  },
  {
   "attachments": {},
   "cell_type": "markdown",
   "metadata": {},
   "source": [
    "----------------------------------------------------------------------------------------------------------------------------"
   ]
  },
  {
   "attachments": {},
   "cell_type": "markdown",
   "metadata": {},
   "source": [
    "#### **TEST 2:** prendo una precisa immagine dal dataset"
   ]
  },
  {
   "cell_type": "code",
   "execution_count": null,
   "metadata": {},
   "outputs": [],
   "source": [
    "DATADIR2 = r'D:\\TMS\\dataset\\jester\\20bn-jester-v1\\7367'\n",
    "\n",
    "# OTTENGO I FRAME    \n",
    "path = os.path.join(DATADIR2, '00018.jpg')  # create path (...\\Color\\rgb1)\n",
    "frame = cv2.imread(path)  # convert to array\n",
    "plt.imshow(cv2.cvtColor(frame, cv2.COLOR_BGR2RGB))      "
   ]
  },
  {
   "attachments": {},
   "cell_type": "markdown",
   "metadata": {},
   "source": [
    "- provo con modello *Holistic*"
   ]
  },
  {
   "cell_type": "code",
   "execution_count": null,
   "metadata": {},
   "outputs": [],
   "source": [
    "# ESTRAGGO I KEYPOINTS DA UN FRAME\n",
    "with mp_holistic.Holistic(min_detection_confidence = 0.5, min_tracking_confidence = 0.5) as holistic:\n",
    "    image, results = mediapipe_detection(frame, holistic)\n",
    "    draw_styled_landmarks(image, results)\n",
    "    print(results)\n",
    "    plt.imshow(cv2.cvtColor(image, cv2.COLOR_BGR2RGB))  \n",
    "\n",
    "    keypoints = extract_keypoints(results) #memorizzo i keypoints estratti    "
   ]
  },
  {
   "cell_type": "code",
   "execution_count": 33,
   "metadata": {},
   "outputs": [
    {
     "data": {
      "text/plain": [
       "array([ 0.54351187,  0.50962019, -1.12005699, ...,  0.        ,\n",
       "        0.        ,  0.        ])"
      ]
     },
     "execution_count": 33,
     "metadata": {},
     "output_type": "execute_result"
    }
   ],
   "source": [
    "keypoints"
   ]
  },
  {
   "cell_type": "code",
   "execution_count": 34,
   "metadata": {},
   "outputs": [
    {
     "data": {
      "text/plain": [
       "(1662,)"
      ]
     },
     "execution_count": 34,
     "metadata": {},
     "output_type": "execute_result"
    }
   ],
   "source": [
    "keypoints.shape    "
   ]
  },
  {
   "attachments": {},
   "cell_type": "markdown",
   "metadata": {},
   "source": [
    "abbiamo 1662 keypoints per ogni frame"
   ]
  },
  {
   "attachments": {},
   "cell_type": "markdown",
   "metadata": {},
   "source": [
    "- provo solamente con modello *Hands*"
   ]
  },
  {
   "cell_type": "code",
   "execution_count": null,
   "metadata": {},
   "outputs": [],
   "source": [
    "# ESTRAGGO I KEYPOINTS DA CIASCUN FRAME\n",
    "with mp_hands.Hands(static_image_mode=True, max_num_hands=2, min_detection_confidence=0.5) as hands:\n",
    "    image, results = mediapipe_detection(frame, hands)\n",
    "    \n",
    "    annotated_image = image.copy()\n",
    "    \n",
    "    for hand_landmarks in results.multi_hand_landmarks:        \n",
    "\n",
    "        mp_drawing.draw_landmarks(     \n",
    "            annotated_image,\n",
    "            hand_landmarks,\n",
    "            mp_hands.HAND_CONNECTIONS,\n",
    "            mp_drawing.DrawingSpec(color=(245,117,66), thickness=1, circle_radius=1),\n",
    "            mp_drawing.DrawingSpec(color=(245,66,230), thickness=1, circle_radius=1)\n",
    "            )\n",
    "\n",
    "    print(results)\n",
    "    plt.imshow(cv2.cvtColor(annotated_image, cv2.COLOR_BGR2RGB))   "
   ]
  },
  {
   "cell_type": "markdown",
   "metadata": {},
   "source": [
    "# 6. Preprocess Data and Create Labels and Features"
   ]
  },
  {
   "cell_type": "code",
   "execution_count": 59,
   "metadata": {},
   "outputs": [],
   "source": [
    "#from sklearn.model_selection import train_test_split\n",
    "from keras.utils import to_categorical"
   ]
  },
  {
   "attachments": {},
   "cell_type": "markdown",
   "metadata": {},
   "source": [
    "creiamo un dizionario dove salviamo tutte le azioni/gesti:"
   ]
  },
  {
   "cell_type": "code",
   "execution_count": 60,
   "metadata": {},
   "outputs": [],
   "source": [
    "label_map = {label:num for num, label in enumerate(gestures)} #iteriamo su ciascuna azione"
   ]
  },
  {
   "cell_type": "code",
   "execution_count": null,
   "metadata": {},
   "outputs": [],
   "source": [
    "label_map"
   ]
  },
  {
   "cell_type": "code",
   "execution_count": null,
   "metadata": {},
   "outputs": [],
   "source": [
    "my_test_file2"
   ]
  },
  {
   "cell_type": "code",
   "execution_count": null,
   "metadata": {},
   "outputs": [],
   "source": [
    "my_train_file2"
   ]
  },
  {
   "attachments": {},
   "cell_type": "markdown",
   "metadata": {},
   "source": [
    "strutturiamo i dati fin ora raccolti, inserendoli in un unico array\n",
    "\n",
    "qui cicliamo separatamente per i video di training e test, avendoli già divisi:"
   ]
  },
  {
   "cell_type": "code",
   "execution_count": 92,
   "metadata": {},
   "outputs": [],
   "source": [
    "def insert_all_in_array(actual_video_type):\n",
    "\n",
    "    videos_type = [] # rispettivamente X (feature input) e Y (feature target)\n",
    "\n",
    "    for vid in actual_video_type: #np.array(os.listdir(os.path.join(DATADIR))).astype(int): #cast str to int\n",
    "        \n",
    "        window_type = [] #rappresenta un unico video: insieme di X frame\n",
    "\n",
    "        num_frames = len(os.listdir(os.path.join(DATADIR, str(vid))))\n",
    "        #print(num_frames)\n",
    "\n",
    "        for frame_num in range(1, 31): #range(1, num_frames): #itero per tutti i frame estratti per quel video        \n",
    "            #faccio if perchè gli array dei keypoint sono salvati come '000xx.npy' e non come 'x.npy'-> #TODO rinominarli\n",
    "            if frame_num < 10:\n",
    "                res = np.load(os.path.join(DATADIR, str(vid), \"keypoints\", \"0000{}.npy\".format(frame_num)))\n",
    "                window_type.append(res)\n",
    "            else:\n",
    "                res = np.load(os.path.join(DATADIR, str(vid), \"keypoints\", \"000{}.npy\".format(frame_num)))\n",
    "                window_type.append(res)\n",
    "\n",
    "        videos_type.append(window_type)    \n",
    "        #labels.append(label_map[action]) #TODO come associare la label a ogni video??\n",
    "        # array monodimensionale (ci dice per ogni video quale azione è presente al suo interno: la prima, ... -> definizione di LABEL)\n",
    "\n",
    "    return videos_type, window_type"
   ]
  },
  {
   "cell_type": "code",
   "execution_count": null,
   "metadata": {},
   "outputs": [],
   "source": [
    "train_videos, train_window = insert_all_in_array(actual_train_video)\n",
    "test_videos, test_window = insert_all_in_array(actual_test_video)"
   ]
  },
  {
   "cell_type": "code",
   "execution_count": 92,
   "metadata": {},
   "outputs": [],
   "source": [
    "train_videos, labels = [], [] # rispettivamente X (feature input) e Y (feature target)\n",
    "\n",
    "for vid in actual_train_video: #np.array(os.listdir(os.path.join(DATADIR))).astype(int): #cast str to int\n",
    "    \n",
    "    train_window = [] #rappresenta un unico video: insieme di X frame\n",
    "\n",
    "    num_frames = len(os.listdir(os.path.join(DATADIR, str(vid))))\n",
    "    #print(num_frames)\n",
    "\n",
    "    for frame_num in range(1, 31): #range(1, num_frames): #itero per tutti i frame estratti per quel video        \n",
    "        #faccio if perchè gli array dei keypoint sono salvati come '000xx.npy' e non come 'x.npy'-> #TODO rinominarli\n",
    "        if frame_num < 10:\n",
    "            res = np.load(os.path.join(DATADIR, str(vid), \"keypoints\", \"0000{}.npy\".format(frame_num)))\n",
    "            train_window.append(res)\n",
    "        else:\n",
    "            res = np.load(os.path.join(DATADIR, str(vid), \"keypoints\", \"000{}.npy\".format(frame_num)))\n",
    "            train_window.append(res)\n",
    "\n",
    "    train_videos.append(train_window)    \n",
    "    #labels.append(label_map[action]) #TODO come associare la label a ogni video??\n",
    "    # array monodimensionale (ci dice per ogni video quale azione è presente al suo interno: la prima, ... -> definizione di LABEL)"
   ]
  },
  {
   "cell_type": "code",
   "execution_count": 91,
   "metadata": {},
   "outputs": [],
   "source": [
    "test_videos, labels = [], [] # rispettivamente X (feature input) e Y (feature target)\n",
    "\n",
    "for vid in actual_test_video: #np.array(os.listdir(os.path.join(DATADIR))).astype(int): #cast str to int\n",
    "    \n",
    "    test_window = [] #rappresenta un unico video: insieme di X frame\n",
    "\n",
    "    num_frames = len(os.listdir(os.path.join(DATADIR, str(vid))))\n",
    "    #print(num_frames)\n",
    "\n",
    "    for frame_num in range(1, 31): #range(1, num_frames): #itero per tutti i frame estratti per quel video        \n",
    "        #faccio if perchè gli array dei keypoint sono salvati come '000xx.npy' e non come 'x.npy'-> #TODO rinominarli\n",
    "        if frame_num < 10:\n",
    "            res = np.load(os.path.join(DATADIR, str(vid), \"keypoints\", \"0000{}.npy\".format(frame_num)))\n",
    "            test_window.append(res)\n",
    "        else:\n",
    "            res = np.load(os.path.join(DATADIR, str(vid), \"keypoints\", \"000{}.npy\".format(frame_num)))\n",
    "            test_window.append(res)\n",
    "\n",
    "    test_videos.append(test_window)    \n",
    "    #labels.append(label_map[action]) #TODO come associare la label a ogni video??\n",
    "    # array monodimensionale (ci dice per ogni video quale azione è presente al suo interno: la prima, ... -> definizione di LABEL)"
   ]
  },
  {
   "cell_type": "code",
   "execution_count": 93,
   "metadata": {},
   "outputs": [],
   "source": [
    "np.save(\"test_videos\", test_videos)\n",
    "np.save(\"train_videos\", train_videos)"
   ]
  },
  {
   "cell_type": "code",
   "execution_count": 39,
   "metadata": {},
   "outputs": [],
   "source": [
    "train_videos = np.load(\"train_videos.npy\")\n",
    "test_videos = np.load(\"test_videos.npy\")"
   ]
  },
  {
   "cell_type": "code",
   "execution_count": 94,
   "metadata": {},
   "outputs": [
    {
     "data": {
      "text/plain": [
       "(1500, 30, 1662)"
      ]
     },
     "execution_count": 94,
     "metadata": {},
     "output_type": "execute_result"
    }
   ],
   "source": [
    "np.array(train_videos).shape"
   ]
  },
  {
   "cell_type": "code",
   "execution_count": 95,
   "metadata": {},
   "outputs": [
    {
     "data": {
      "text/plain": [
       "(700, 30, 1662)"
      ]
     },
     "execution_count": 95,
     "metadata": {},
     "output_type": "execute_result"
    }
   ],
   "source": [
    "np.array(test_videos).shape"
   ]
  },
  {
   "cell_type": "code",
   "execution_count": 72,
   "metadata": {},
   "outputs": [
    {
     "data": {
      "text/plain": [
       "1500"
      ]
     },
     "execution_count": 72,
     "metadata": {},
     "output_type": "execute_result"
    }
   ],
   "source": [
    "len(train_videos)"
   ]
  },
  {
   "cell_type": "code",
   "execution_count": 73,
   "metadata": {},
   "outputs": [
    {
     "data": {
      "text/plain": [
       "(29, 1662)"
      ]
     },
     "execution_count": 73,
     "metadata": {},
     "output_type": "execute_result"
    }
   ],
   "source": [
    "np.array(train_window).shape"
   ]
  },
  {
   "cell_type": "code",
   "execution_count": null,
   "metadata": {},
   "outputs": [],
   "source": [
    "np.array(test_window).shape"
   ]
  },
  {
   "cell_type": "code",
   "execution_count": 96,
   "metadata": {},
   "outputs": [],
   "source": [
    "X_train = np.array(train_videos)\n",
    "X_test = np.array(test_videos)"
   ]
  },
  {
   "cell_type": "code",
   "execution_count": 97,
   "metadata": {},
   "outputs": [
    {
     "data": {
      "text/plain": [
       "array([[[ 0.46541679,  0.32155907, -1.08207655, ...,  0.81472546,\n",
       "          0.65358049, -0.04572884],\n",
       "        [ 0.46303397,  0.32168567, -1.05936861, ...,  0.80941516,\n",
       "          0.65668797, -0.05767181],\n",
       "        [ 0.46250632,  0.32292056, -1.06126773, ...,  0.82418782,\n",
       "          0.65296018, -0.08247977],\n",
       "        ...,\n",
       "        [ 0.48329383,  0.30790797, -0.92843956, ...,  0.        ,\n",
       "          0.        ,  0.        ],\n",
       "        [ 0.48273849,  0.30779856, -0.95394254, ...,  0.        ,\n",
       "          0.        ,  0.        ],\n",
       "        [ 0.48233196,  0.30767581, -0.96440369, ...,  0.        ,\n",
       "          0.        ,  0.        ]],\n",
       "\n",
       "       [[ 0.53745127,  0.38466668, -1.10468328, ...,  0.        ,\n",
       "          0.        ,  0.        ],\n",
       "        [ 0.53816277,  0.38626516, -1.10591042, ...,  0.        ,\n",
       "          0.        ,  0.        ],\n",
       "        [ 0.53857571,  0.38723904, -1.11641681, ...,  0.        ,\n",
       "          0.        ,  0.        ],\n",
       "        ...,\n",
       "        [ 0.56829911,  0.41339961, -1.13434994, ...,  0.        ,\n",
       "          0.        ,  0.        ],\n",
       "        [ 0.56815886,  0.41326171, -1.13997233, ...,  0.        ,\n",
       "          0.        ,  0.        ],\n",
       "        [ 0.56788772,  0.41334739, -1.13757277, ...,  0.        ,\n",
       "          0.        ,  0.        ]],\n",
       "\n",
       "       [[ 0.59117436,  0.34751114, -1.02183318, ...,  0.        ,\n",
       "          0.        ,  0.        ],\n",
       "        [ 0.56880444,  0.34032595, -1.08237076, ...,  0.        ,\n",
       "          0.        ,  0.        ],\n",
       "        [ 0.5757224 ,  0.33487937, -1.02990031, ...,  0.        ,\n",
       "          0.        ,  0.        ],\n",
       "        ...,\n",
       "        [ 0.57581258,  0.31246176, -0.79768354, ...,  0.52552372,\n",
       "          0.3451353 , -0.00786583],\n",
       "        [ 0.575212  ,  0.31248119, -0.78960973, ...,  0.52959353,\n",
       "          0.3436971 , -0.00618929],\n",
       "        [ 0.57503116,  0.31241712, -0.7794916 , ...,  0.5325703 ,\n",
       "          0.33732969, -0.00981739]],\n",
       "\n",
       "       ...,\n",
       "\n",
       "       [[ 0.52350247,  0.62462133, -0.65723068, ...,  0.        ,\n",
       "          0.        ,  0.        ],\n",
       "        [ 0.53968203,  0.62997389, -0.75987297, ...,  0.        ,\n",
       "          0.        ,  0.        ],\n",
       "        [ 0.5400064 ,  0.63941419, -0.77250439, ...,  0.27482545,\n",
       "          0.77597833, -0.10906503],\n",
       "        ...,\n",
       "        [ 0.54113382,  0.64331824, -0.63260663, ...,  0.43316871,\n",
       "          0.75930911, -0.00738474],\n",
       "        [ 0.53999132,  0.64319175, -0.63189006, ...,  0.43392262,\n",
       "          0.76178819, -0.00677175],\n",
       "        [ 0.53870451,  0.64299417, -0.63269651, ...,  0.43361077,\n",
       "          0.76524031, -0.00888009]],\n",
       "\n",
       "       [[ 0.6566236 ,  0.55701649, -1.16081703, ...,  0.25258535,\n",
       "          0.82111692, -0.07206857],\n",
       "        [ 0.67599744,  0.53560662, -0.99079627, ...,  0.27101889,\n",
       "          0.76499212, -0.05773148],\n",
       "        [ 0.68351257,  0.53645688, -1.12836039, ...,  0.28183815,\n",
       "          0.77652192, -0.05519932],\n",
       "        ...,\n",
       "        [ 0.69319272,  0.53566694, -0.96039385, ...,  0.        ,\n",
       "          0.        ,  0.        ],\n",
       "        [ 0.69280994,  0.53597569, -0.96397138, ...,  0.        ,\n",
       "          0.        ,  0.        ],\n",
       "        [ 0.69239581,  0.53612113, -0.96601754, ...,  0.        ,\n",
       "          0.        ,  0.        ]],\n",
       "\n",
       "       [[ 0.54357249,  0.52268255, -1.74627304, ...,  0.        ,\n",
       "          0.        ,  0.        ],\n",
       "        [ 0.50916952,  0.52332819, -1.69510806, ...,  0.        ,\n",
       "          0.        ,  0.        ],\n",
       "        [ 0.51591599,  0.52377462, -1.73901975, ...,  0.        ,\n",
       "          0.        ,  0.        ],\n",
       "        ...,\n",
       "        [ 0.52813798,  0.5069142 , -1.42796254, ...,  0.        ,\n",
       "          0.        ,  0.        ],\n",
       "        [ 0.52807552,  0.50694555, -1.43699038, ...,  0.        ,\n",
       "          0.        ,  0.        ],\n",
       "        [ 0.52806675,  0.50716352, -1.45656741, ...,  0.        ,\n",
       "          0.        ,  0.        ]]])"
      ]
     },
     "execution_count": 97,
     "metadata": {},
     "output_type": "execute_result"
    }
   ],
   "source": [
    "X_train"
   ]
  },
  {
   "cell_type": "code",
   "execution_count": 84,
   "metadata": {},
   "outputs": [],
   "source": [
    "#X = np.array(videos, dtype=object)"
   ]
  },
  {
   "cell_type": "code",
   "execution_count": 76,
   "metadata": {},
   "outputs": [
    {
     "data": {
      "text/plain": [
       "(1500, 29, 1662)"
      ]
     },
     "execution_count": 76,
     "metadata": {},
     "output_type": "execute_result"
    }
   ],
   "source": [
    "X_train.shape"
   ]
  },
  {
   "cell_type": "code",
   "execution_count": 98,
   "metadata": {},
   "outputs": [],
   "source": [
    "from sklearn.preprocessing import LabelEncoder\n",
    " \n",
    "# Creating a instance of label Encoder.\n",
    "le = LabelEncoder()\n",
    " \n",
    "# Using .fit_transform function to fit label\n",
    "# encoder and return encoded label\n",
    "label_train = le.fit_transform(my_train_file2['value']) \n",
    "label_test = le.fit_transform(my_test_file2['value'])"
   ]
  },
  {
   "cell_type": "code",
   "execution_count": 99,
   "metadata": {},
   "outputs": [
    {
     "data": {
      "text/plain": [
       "array([ 5,  1, 24,  6,  4,  2,  8, 19,  9, 17,  0,  1, 22,  8, 23,  8, 15,\n",
       "        0,  9, 13,  0, 18,  0, 20, 11, 14, 21,  3,  8, 16,  0,  7, 21, 18,\n",
       "       16, 17, 13, 18, 12, 14, 25,  6, 18, 23,  0,  9, 16,  4,  5, 13,  9,\n",
       "       24,  0, 15,  0,  0, 10, 20,  8, 17, 21, 11, 10,  8, 23, 26,  6,  3,\n",
       "       24, 10, 10,  2,  7, 14, 11, 16, 26,  9, 10, 24, 14, 16, 26, 22, 26,\n",
       "        6, 14, 11, 17, 13,  1, 24, 11,  9,  0,  3,  0, 14, 12, 12, 14,  9,\n",
       "       24,  2, 20, 16,  3, 21, 17, 24, 20,  9, 12,  0, 22, 25,  6,  9, 25,\n",
       "        3, 11, 19,  0,  9,  8,  2, 13, 25, 13,  8, 24, 19, 13, 15,  4, 22,\n",
       "        1, 22, 14,  3,  6, 10, 15, 26, 25, 12,  5, 13,  7, 25,  8, 24, 10,\n",
       "       25, 11,  3, 24,  0, 21,  6, 24,  5,  0,  0, 16, 11, 25,  9, 21, 13,\n",
       "       23, 23,  0,  5, 15,  2,  4, 12,  0, 21,  2, 22,  0, 20,  5, 14,  0,\n",
       "        0, 20,  3,  5, 21, 14, 19,  6,  6, 23,  8,  3, 10, 19, 26, 11,  0,\n",
       "       23, 16, 20, 23,  0, 13,  2, 23,  9, 15,  9, 18,  4,  6, 12,  3, 17,\n",
       "       19, 18, 26,  1, 14, 12, 18, 15, 24, 26,  4,  0, 25, 17, 21,  4,  0,\n",
       "        1, 26, 11,  4,  0, 25, 17,  7,  4,  0, 16, 25, 12,  0, 15, 20,  3,\n",
       "       22,  2, 26, 11, 10, 13,  1,  4, 17, 25,  1, 26, 20, 24, 19, 24, 11,\n",
       "        2,  2, 20,  6,  9, 11, 11,  7, 19, 15, 22, 19,  0,  8, 16, 14, 24,\n",
       "       14, 10,  0, 25, 15, 14, 14,  2, 15, 23, 13,  7, 21,  9, 20,  4, 11,\n",
       "       24, 21, 13, 10,  0, 24, 23, 17, 26,  0, 24,  3,  0, 13,  5, 22, 17,\n",
       "        7, 24, 17, 23, 16,  7, 24,  6,  6, 23,  9,  0, 20, 25,  3,  0,  9,\n",
       "        3,  7,  9,  0,  9, 19,  0,  0, 11, 22, 12, 16, 14, 12, 19,  3, 18,\n",
       "       20,  1,  6, 24, 18, 23, 26, 19, 19, 22, 16,  9, 22,  6,  0,  5,  0,\n",
       "        8, 26, 25,  5, 13,  5,  0, 26,  1, 20,  4,  5,  2, 18,  9,  9, 23,\n",
       "       22, 17,  1, 18,  0,  0, 19,  5, 13, 22, 23,  9, 15,  0, 10, 14,  8,\n",
       "       23, 16,  1, 25, 19, 16,  1,  0, 11,  1, 16,  6, 23,  0, 23,  5, 10,\n",
       "       19, 14, 26,  1,  3, 16, 19,  1, 14,  6, 18, 16,  0, 11,  9, 16, 14,\n",
       "       17, 18,  8,  6,  7, 26,  0, 18, 15, 21,  4, 20,  8, 26, 22, 12,  0,\n",
       "       11,  5, 24,  4, 13, 12, 14, 12, 20,  4, 26,  9, 19, 23, 15, 19, 11,\n",
       "       21, 21,  3, 13,  3,  0,  0, 15, 18,  9,  9, 24,  1, 21, 18,  2,  4,\n",
       "        4, 21,  6, 22, 18, 11, 19,  2, 20,  6, 14, 18, 13,  5,  0, 15, 11,\n",
       "        6,  8, 13, 25,  0,  5, 11, 12,  8,  8, 14,  9, 16,  6, 16, 19,  9,\n",
       "        5, 16, 11, 24,  0, 20,  1, 20, 16, 25, 21,  7, 22,  1, 21,  2, 22,\n",
       "       15, 24, 18, 24,  2,  0,  0, 11,  0, 17, 24, 21,  6, 11,  0, 16, 25,\n",
       "        9, 16,  9, 17, 19,  2,  6,  0, 20,  3, 10, 19, 26, 20,  6,  4,  0,\n",
       "       26, 23, 10, 17,  1,  7,  0,  0, 14,  5,  1, 15, 14, 19, 10, 21, 22,\n",
       "        6, 10,  0, 11,  3, 24, 17,  0, 17,  3, 15, 24, 20, 14, 25, 21, 18,\n",
       "       20,  2,  5,  2, 23, 18, 18, 10,  1, 21,  8, 14,  2, 16,  0,  7,  9,\n",
       "        5, 10,  0, 18, 15,  2, 18,  4, 19, 18, 24,  6,  6, 14,  2,  8,  5,\n",
       "        4, 17,  4,  8,  4, 16,  3,  8,  9, 23, 15, 10,  6,  2,  7, 26,  3,\n",
       "       12,  7,  4, 21, 17, 12, 12, 10,  2,  0,  5,  4, 24,  4,  8,  1, 17,\n",
       "        1, 12, 23,  0,  7, 18, 21,  2, 23,  5,  1,  3,  7, 20, 24, 11, 25,\n",
       "        9,  0,  0])"
      ]
     },
     "execution_count": 99,
     "metadata": {},
     "output_type": "execute_result"
    }
   ],
   "source": [
    "label_test"
   ]
  },
  {
   "cell_type": "code",
   "execution_count": 79,
   "metadata": {},
   "outputs": [
    {
     "data": {
      "text/html": [
       "<div>\n",
       "<style scoped>\n",
       "    .dataframe tbody tr th:only-of-type {\n",
       "        vertical-align: middle;\n",
       "    }\n",
       "\n",
       "    .dataframe tbody tr th {\n",
       "        vertical-align: top;\n",
       "    }\n",
       "\n",
       "    .dataframe thead th {\n",
       "        text-align: right;\n",
       "    }\n",
       "</style>\n",
       "<table border=\"1\" class=\"dataframe\">\n",
       "  <thead>\n",
       "    <tr style=\"text-align: right;\">\n",
       "      <th></th>\n",
       "      <th>key</th>\n",
       "      <th>value</th>\n",
       "    </tr>\n",
       "  </thead>\n",
       "  <tbody>\n",
       "    <tr>\n",
       "      <th>59351</th>\n",
       "      <td>4</td>\n",
       "      <td>17</td>\n",
       "    </tr>\n",
       "    <tr>\n",
       "      <th>82397</th>\n",
       "      <td>6</td>\n",
       "      <td>1</td>\n",
       "    </tr>\n",
       "    <tr>\n",
       "      <th>106437</th>\n",
       "      <td>10</td>\n",
       "      <td>19</td>\n",
       "    </tr>\n",
       "    <tr>\n",
       "      <th>69146</th>\n",
       "      <td>12</td>\n",
       "      <td>10</td>\n",
       "    </tr>\n",
       "    <tr>\n",
       "      <th>69109</th>\n",
       "      <td>20</td>\n",
       "      <td>0</td>\n",
       "    </tr>\n",
       "    <tr>\n",
       "      <th>...</th>\n",
       "      <td>...</td>\n",
       "      <td>...</td>\n",
       "    </tr>\n",
       "    <tr>\n",
       "      <th>117925</th>\n",
       "      <td>7361</td>\n",
       "      <td>23</td>\n",
       "    </tr>\n",
       "    <tr>\n",
       "      <th>55587</th>\n",
       "      <td>7362</td>\n",
       "      <td>10</td>\n",
       "    </tr>\n",
       "    <tr>\n",
       "      <th>63869</th>\n",
       "      <td>7365</td>\n",
       "      <td>3</td>\n",
       "    </tr>\n",
       "    <tr>\n",
       "      <th>116003</th>\n",
       "      <td>7366</td>\n",
       "      <td>26</td>\n",
       "    </tr>\n",
       "    <tr>\n",
       "      <th>33501</th>\n",
       "      <td>7367</td>\n",
       "      <td>12</td>\n",
       "    </tr>\n",
       "  </tbody>\n",
       "</table>\n",
       "<p>1500 rows × 2 columns</p>\n",
       "</div>"
      ],
      "text/plain": [
       "         key  value\n",
       "59351      4     17\n",
       "82397      6      1\n",
       "106437    10     19\n",
       "69146     12     10\n",
       "69109     20      0\n",
       "...      ...    ...\n",
       "117925  7361     23\n",
       "55587   7362     10\n",
       "63869   7365      3\n",
       "116003  7366     26\n",
       "33501   7367     12\n",
       "\n",
       "[1500 rows x 2 columns]"
      ]
     },
     "execution_count": 79,
     "metadata": {},
     "output_type": "execute_result"
    }
   ],
   "source": [
    "my_train_file3 = my_train_file2.copy()\n",
    "my_train_file3.drop(\"value\", axis=1, inplace=True)\n",
    " \n",
    "# Appending the array to our dataFrame\n",
    "# with column name 'Purchased'\n",
    "my_train_file3[\"value\"] = label_train\n",
    " \n",
    "# printing Dataframe\n",
    "my_train_file3"
   ]
  },
  {
   "cell_type": "code",
   "execution_count": 100,
   "metadata": {},
   "outputs": [
    {
     "data": {
      "text/html": [
       "<div>\n",
       "<style scoped>\n",
       "    .dataframe tbody tr th:only-of-type {\n",
       "        vertical-align: middle;\n",
       "    }\n",
       "\n",
       "    .dataframe tbody tr th {\n",
       "        vertical-align: top;\n",
       "    }\n",
       "\n",
       "    .dataframe thead th {\n",
       "        text-align: right;\n",
       "    }\n",
       "</style>\n",
       "<table border=\"1\" class=\"dataframe\">\n",
       "  <thead>\n",
       "    <tr style=\"text-align: right;\">\n",
       "      <th></th>\n",
       "      <th>key</th>\n",
       "      <th>value</th>\n",
       "    </tr>\n",
       "  </thead>\n",
       "  <tbody>\n",
       "    <tr>\n",
       "      <th>9037</th>\n",
       "      <td>18</td>\n",
       "      <td>5</td>\n",
       "    </tr>\n",
       "    <tr>\n",
       "      <th>8174</th>\n",
       "      <td>126</td>\n",
       "      <td>1</td>\n",
       "    </tr>\n",
       "    <tr>\n",
       "      <th>13137</th>\n",
       "      <td>199</td>\n",
       "      <td>24</td>\n",
       "    </tr>\n",
       "    <tr>\n",
       "      <th>13477</th>\n",
       "      <td>231</td>\n",
       "      <td>6</td>\n",
       "    </tr>\n",
       "    <tr>\n",
       "      <th>8499</th>\n",
       "      <td>281</td>\n",
       "      <td>4</td>\n",
       "    </tr>\n",
       "    <tr>\n",
       "      <th>...</th>\n",
       "      <td>...</td>\n",
       "      <td>...</td>\n",
       "    </tr>\n",
       "    <tr>\n",
       "      <th>7464</th>\n",
       "      <td>27847</td>\n",
       "      <td>11</td>\n",
       "    </tr>\n",
       "    <tr>\n",
       "      <th>840</th>\n",
       "      <td>27866</td>\n",
       "      <td>25</td>\n",
       "    </tr>\n",
       "    <tr>\n",
       "      <th>7730</th>\n",
       "      <td>27919</td>\n",
       "      <td>9</td>\n",
       "    </tr>\n",
       "    <tr>\n",
       "      <th>9124</th>\n",
       "      <td>27995</td>\n",
       "      <td>0</td>\n",
       "    </tr>\n",
       "    <tr>\n",
       "      <th>4323</th>\n",
       "      <td>28032</td>\n",
       "      <td>0</td>\n",
       "    </tr>\n",
       "  </tbody>\n",
       "</table>\n",
       "<p>700 rows × 2 columns</p>\n",
       "</div>"
      ],
      "text/plain": [
       "         key  value\n",
       "9037      18      5\n",
       "8174     126      1\n",
       "13137    199     24\n",
       "13477    231      6\n",
       "8499     281      4\n",
       "...      ...    ...\n",
       "7464   27847     11\n",
       "840    27866     25\n",
       "7730   27919      9\n",
       "9124   27995      0\n",
       "4323   28032      0\n",
       "\n",
       "[700 rows x 2 columns]"
      ]
     },
     "execution_count": 100,
     "metadata": {},
     "output_type": "execute_result"
    }
   ],
   "source": [
    "my_test_file3 = my_test_file2.copy()\n",
    "my_test_file3.drop(\"value\", axis=1, inplace=True)\n",
    " \n",
    "# Appending the array to our dataFrame\n",
    "# with column name 'Purchased'\n",
    "my_test_file3[\"value\"] = label_test\n",
    " \n",
    "# printing Dataframe\n",
    "my_test_file3"
   ]
  },
  {
   "cell_type": "code",
   "execution_count": null,
   "metadata": {},
   "outputs": [],
   "source": [
    "label_train = np.array(my_train_file3[\"value\"]).tolist()\n",
    "label_train"
   ]
  },
  {
   "cell_type": "code",
   "execution_count": null,
   "metadata": {},
   "outputs": [],
   "source": [
    "label_test = np.array(my_test_file3[\"value\"]).tolist()\n",
    "label_test"
   ]
  },
  {
   "attachments": {},
   "cell_type": "markdown",
   "metadata": {},
   "source": [
    "trasformo feature categoriche in feature numeriche (One Hot Encoding)"
   ]
  },
  {
   "cell_type": "code",
   "execution_count": 101,
   "metadata": {},
   "outputs": [],
   "source": [
    "y_train = to_categorical(label_train).astype(int)\n",
    "y_test = to_categorical(label_test).astype(int)"
   ]
  },
  {
   "cell_type": "code",
   "execution_count": null,
   "metadata": {},
   "outputs": [],
   "source": [
    "#y = to_categorical(labels).astype(int)"
   ]
  },
  {
   "attachments": {},
   "cell_type": "markdown",
   "metadata": {},
   "source": [
    "splittiamo i dati in Training Sets e Test Sets (in questo dataset sono già splittati)"
   ]
  },
  {
   "cell_type": "code",
   "execution_count": null,
   "metadata": {},
   "outputs": [],
   "source": [
    "#X_train, X_test, y_train, y_test = train_test_split(X, y, test_size=0.05,stratify=y)"
   ]
  },
  {
   "cell_type": "code",
   "execution_count": 102,
   "metadata": {},
   "outputs": [
    {
     "name": "stdout",
     "output_type": "stream",
     "text": [
      "(1500, 27)\n",
      "(700, 27)\n"
     ]
    }
   ],
   "source": [
    "print(y_train.shape)\n",
    "print(y_test.shape) #27 sono le classi"
   ]
  },
  {
   "cell_type": "markdown",
   "metadata": {},
   "source": [
    "# 7. Build and Train LSTM Neural Network"
   ]
  },
  {
   "attachments": {},
   "cell_type": "markdown",
   "metadata": {},
   "source": [
    "Addestriamo la rete neurale (ricorrente) **LSTM**: \n",
    "\n",
    "- perchè usare MediaPipe Holistic + una rete neurale LSTM?\n",
    "    - occorrono *meno dati*\n",
    "    - più *veloce* nell'addestramento\n",
    "    - riconoscimento più *veloce* <- RN più *semplice*"
   ]
  },
  {
   "cell_type": "code",
   "execution_count": 85,
   "metadata": {},
   "outputs": [],
   "source": [
    "from keras.models import Sequential\n",
    "from keras.layers import LSTM, Dense\n",
    "from keras.callbacks import TensorBoard"
   ]
  },
  {
   "attachments": {},
   "cell_type": "markdown",
   "metadata": {},
   "source": [
    "**TensorBoard** ci offre una web app per monitorare il nostro modello: addestramento, accuratezza, ... "
   ]
  },
  {
   "cell_type": "code",
   "execution_count": 104,
   "metadata": {},
   "outputs": [],
   "source": [
    "log_dir = os.path.join('Logs')\n",
    "tb_callback = TensorBoard(log_dir=log_dir)"
   ]
  },
  {
   "cell_type": "code",
   "execution_count": 103,
   "metadata": {},
   "outputs": [
    {
     "data": {
      "text/plain": [
       "(27,)"
      ]
     },
     "execution_count": 103,
     "metadata": {},
     "output_type": "execute_result"
    }
   ],
   "source": [
    "gestures_array.shape"
   ]
  },
  {
   "cell_type": "code",
   "execution_count": 106,
   "metadata": {},
   "outputs": [],
   "source": [
    "# il modello Sequential ci permette di aggiungere layer in mainera organizzata e facile\n",
    "model = Sequential()\n",
    "#model.add(Masking(mask_value=0, input_shape=(None, 105)))\n",
    "model.add(LSTM(64, return_sequences=True, activation='relu', input_shape = (30,1662))) #64 unità\n",
    "model.add(LSTM(128, return_sequences=True, activation='relu')) #return_sequences è necessario per il passaggio di dati al layer successivo\n",
    "model.add(LSTM(64, return_sequences=False, activation='relu'))\n",
    "model.add(Dense(64, activation='relu'))\n",
    "model.add(Dense(32, activation='relu'))\n",
    "model.add(Dense(gestures_array.shape[0], activation='softmax')) #distribuzione di probabilità che assegna ad ogni azione una certa prob."
   ]
  },
  {
   "attachments": {},
   "cell_type": "markdown",
   "metadata": {},
   "source": [
    "Compiliamo il modello, usando:\n",
    "\n",
    "- loss function: \"categorical cross entropy\"\n",
    "    - è obbligatoria per classificazione multi-classe"
   ]
  },
  {
   "cell_type": "code",
   "execution_count": 107,
   "metadata": {},
   "outputs": [],
   "source": [
    "model.compile(optimizer='Adam', loss='categorical_crossentropy', metrics=['categorical_accuracy'])"
   ]
  },
  {
   "cell_type": "code",
   "execution_count": 108,
   "metadata": {
    "scrolled": true
   },
   "outputs": [
    {
     "name": "stdout",
     "output_type": "stream",
     "text": [
      "Epoch 1/100\n",
      "47/47 [==============================] - 18s 152ms/step - loss: 35.2136 - categorical_accuracy: 0.0320\n",
      "Epoch 2/100\n",
      "47/47 [==============================] - 7s 146ms/step - loss: 9.7698 - categorical_accuracy: 0.0420\n",
      "Epoch 3/100\n",
      "47/47 [==============================] - 7s 155ms/step - loss: 5.7288 - categorical_accuracy: 0.0333\n",
      "Epoch 4/100\n",
      "47/47 [==============================] - 7s 144ms/step - loss: 6.8102 - categorical_accuracy: 0.0393\n",
      "Epoch 5/100\n",
      "47/47 [==============================] - 7s 142ms/step - loss: 3.3340 - categorical_accuracy: 0.0387\n",
      "Epoch 6/100\n",
      "47/47 [==============================] - 7s 146ms/step - loss: 3.2925 - categorical_accuracy: 0.0773\n",
      "Epoch 7/100\n",
      "47/47 [==============================] - 7s 141ms/step - loss: 3.2892 - categorical_accuracy: 0.0820\n",
      "Epoch 8/100\n",
      "47/47 [==============================] - 7s 142ms/step - loss: 3.2865 - categorical_accuracy: 0.0820\n",
      "Epoch 9/100\n",
      "47/47 [==============================] - 7s 140ms/step - loss: 3.2843 - categorical_accuracy: 0.0820\n",
      "Epoch 10/100\n",
      "47/47 [==============================] - 7s 140ms/step - loss: 3.2823 - categorical_accuracy: 0.0820\n",
      "Epoch 11/100\n",
      "47/47 [==============================] - 7s 143ms/step - loss: 3.2807 - categorical_accuracy: 0.0820\n",
      "Epoch 12/100\n",
      "47/47 [==============================] - 7s 142ms/step - loss: 3.2797 - categorical_accuracy: 0.0820\n",
      "Epoch 13/100\n",
      "47/47 [==============================] - 7s 140ms/step - loss: 3.2774 - categorical_accuracy: 0.0820\n",
      "Epoch 14/100\n",
      "47/47 [==============================] - 7s 140ms/step - loss: 3.2760 - categorical_accuracy: 0.0820\n",
      "Epoch 15/100\n",
      "47/47 [==============================] - 7s 140ms/step - loss: 3.2746 - categorical_accuracy: 0.0820\n",
      "Epoch 16/100\n",
      "47/47 [==============================] - 7s 145ms/step - loss: 3.2734 - categorical_accuracy: 0.0820\n",
      "Epoch 17/100\n",
      "47/47 [==============================] - 7s 139ms/step - loss: 3.2722 - categorical_accuracy: 0.0820\n",
      "Epoch 18/100\n",
      "47/47 [==============================] - 7s 140ms/step - loss: 3.2712 - categorical_accuracy: 0.0820\n",
      "Epoch 19/100\n",
      "47/47 [==============================] - 7s 140ms/step - loss: 3.2703 - categorical_accuracy: 0.0820\n",
      "Epoch 20/100\n",
      "47/47 [==============================] - 7s 141ms/step - loss: 3.2694 - categorical_accuracy: 0.0820\n",
      "Epoch 21/100\n",
      "47/47 [==============================] - 7s 143ms/step - loss: 3.2686 - categorical_accuracy: 0.0820\n",
      "Epoch 22/100\n",
      "47/47 [==============================] - 7s 143ms/step - loss: 3.2678 - categorical_accuracy: 0.0820\n",
      "Epoch 23/100\n",
      "47/47 [==============================] - 7s 141ms/step - loss: 3.2671 - categorical_accuracy: 0.0827\n",
      "Epoch 24/100\n",
      "47/47 [==============================] - 7s 142ms/step - loss: 3.2664 - categorical_accuracy: 0.0827\n",
      "Epoch 25/100\n",
      "47/47 [==============================] - 7s 141ms/step - loss: 3.2658 - categorical_accuracy: 0.0827\n",
      "Epoch 26/100\n",
      "47/47 [==============================] - 7s 145ms/step - loss: 3.2653 - categorical_accuracy: 0.0827\n",
      "Epoch 27/100\n",
      "47/47 [==============================] - 7s 140ms/step - loss: 3.2648 - categorical_accuracy: 0.0827\n",
      "Epoch 28/100\n",
      "47/47 [==============================] - 7s 140ms/step - loss: 3.2642 - categorical_accuracy: 0.0827\n",
      "Epoch 29/100\n",
      "47/47 [==============================] - 7s 141ms/step - loss: 3.2638 - categorical_accuracy: 0.0827\n",
      "Epoch 30/100\n",
      "47/47 [==============================] - 7s 140ms/step - loss: 3.2634 - categorical_accuracy: 0.0827\n",
      "Epoch 31/100\n",
      "47/47 [==============================] - 7s 141ms/step - loss: 3.2629 - categorical_accuracy: 0.0827\n",
      "Epoch 32/100\n",
      "47/47 [==============================] - 7s 143ms/step - loss: 3.2626 - categorical_accuracy: 0.0827\n",
      "Epoch 33/100\n",
      "47/47 [==============================] - 7s 141ms/step - loss: 3.2623 - categorical_accuracy: 0.0827\n",
      "Epoch 34/100\n",
      "47/47 [==============================] - 7s 144ms/step - loss: 3.2620 - categorical_accuracy: 0.0827\n",
      "Epoch 35/100\n",
      "47/47 [==============================] - 7s 145ms/step - loss: 3.2617 - categorical_accuracy: 0.0827\n",
      "Epoch 36/100\n",
      "47/47 [==============================] - 7s 144ms/step - loss: 3.2615 - categorical_accuracy: 0.0827\n",
      "Epoch 37/100\n",
      "47/47 [==============================] - 7s 143ms/step - loss: 3.2613 - categorical_accuracy: 0.0827\n",
      "Epoch 38/100\n",
      "47/47 [==============================] - 7s 140ms/step - loss: 3.2611 - categorical_accuracy: 0.0827\n",
      "Epoch 39/100\n",
      "47/47 [==============================] - 7s 140ms/step - loss: 3.2609 - categorical_accuracy: 0.0827\n",
      "Epoch 40/100\n",
      "47/47 [==============================] - 7s 140ms/step - loss: 3.2608 - categorical_accuracy: 0.0827\n",
      "Epoch 41/100\n",
      "47/47 [==============================] - 7s 141ms/step - loss: 3.2606 - categorical_accuracy: 0.0827\n",
      "Epoch 42/100\n",
      "47/47 [==============================] - 7s 146ms/step - loss: 3.2605 - categorical_accuracy: 0.0827\n",
      "Epoch 43/100\n",
      "47/47 [==============================] - 7s 151ms/step - loss: 3.2604 - categorical_accuracy: 0.0827\n",
      "Epoch 44/100\n",
      "47/47 [==============================] - 7s 149ms/step - loss: 3.2605 - categorical_accuracy: 0.0827\n",
      "Epoch 45/100\n",
      "47/47 [==============================] - 9s 182ms/step - loss: 3.2603 - categorical_accuracy: 0.0827\n",
      "Epoch 46/100\n",
      "47/47 [==============================] - 10s 218ms/step - loss: 3.2602 - categorical_accuracy: 0.0827\n",
      "Epoch 47/100\n",
      "47/47 [==============================] - 9s 188ms/step - loss: 3.2601 - categorical_accuracy: 0.0827\n",
      "Epoch 48/100\n",
      "47/47 [==============================] - 8s 161ms/step - loss: 3.2601 - categorical_accuracy: 0.0827\n",
      "Epoch 49/100\n",
      "47/47 [==============================] - 7s 143ms/step - loss: 3.2601 - categorical_accuracy: 0.0827\n",
      "Epoch 50/100\n",
      "47/47 [==============================] - 7s 144ms/step - loss: 3.2600 - categorical_accuracy: 0.0827\n",
      "Epoch 51/100\n",
      "47/47 [==============================] - 7s 143ms/step - loss: 3.2600 - categorical_accuracy: 0.0827\n",
      "Epoch 52/100\n",
      "47/47 [==============================] - 7s 140ms/step - loss: 3.2600 - categorical_accuracy: 0.0827\n",
      "Epoch 53/100\n",
      "47/47 [==============================] - 7s 147ms/step - loss: 3.2599 - categorical_accuracy: 0.0827\n",
      "Epoch 54/100\n",
      "47/47 [==============================] - 7s 141ms/step - loss: 3.2599 - categorical_accuracy: 0.0827\n",
      "Epoch 55/100\n",
      "47/47 [==============================] - 8s 171ms/step - loss: 3.2598 - categorical_accuracy: 0.0827\n",
      "Epoch 56/100\n",
      "47/47 [==============================] - 8s 171ms/step - loss: 3.2598 - categorical_accuracy: 0.0827\n",
      "Epoch 57/100\n",
      "47/47 [==============================] - 7s 146ms/step - loss: 3.2598 - categorical_accuracy: 0.0827\n",
      "Epoch 58/100\n",
      "47/47 [==============================] - 7s 144ms/step - loss: 3.2597 - categorical_accuracy: 0.0827\n",
      "Epoch 59/100\n",
      "47/47 [==============================] - 7s 141ms/step - loss: 3.2598 - categorical_accuracy: 0.0827\n",
      "Epoch 60/100\n",
      "47/47 [==============================] - 7s 141ms/step - loss: 3.2598 - categorical_accuracy: 0.0827\n",
      "Epoch 61/100\n",
      "47/47 [==============================] - 7s 140ms/step - loss: 3.2597 - categorical_accuracy: 0.0827\n",
      "Epoch 62/100\n",
      "47/47 [==============================] - 7s 148ms/step - loss: 3.2597 - categorical_accuracy: 0.0827\n",
      "Epoch 63/100\n",
      "47/47 [==============================] - 8s 167ms/step - loss: 3.2598 - categorical_accuracy: 0.0827\n",
      "Epoch 64/100\n",
      "47/47 [==============================] - 7s 159ms/step - loss: 3.2598 - categorical_accuracy: 0.0827\n",
      "Epoch 65/100\n",
      "47/47 [==============================] - 7s 153ms/step - loss: 3.2597 - categorical_accuracy: 0.0827\n",
      "Epoch 66/100\n",
      "47/47 [==============================] - 8s 165ms/step - loss: 3.2597 - categorical_accuracy: 0.0827\n",
      "Epoch 67/100\n",
      "15/47 [========>.....................] - ETA: 5s - loss: 3.2636 - categorical_accuracy: 0.0708"
     ]
    },
    {
     "ename": "KeyboardInterrupt",
     "evalue": "",
     "output_type": "error",
     "traceback": [
      "\u001b[1;31m---------------------------------------------------------------------------\u001b[0m",
      "\u001b[1;31mKeyboardInterrupt\u001b[0m                         Traceback (most recent call last)",
      "Cell \u001b[1;32mIn [108], line 1\u001b[0m\n\u001b[1;32m----> 1\u001b[0m model_temp \u001b[39m=\u001b[39m model\u001b[39m.\u001b[39;49mfit(X_train, y_train, epochs\u001b[39m=\u001b[39;49m\u001b[39m100\u001b[39;49m, callbacks\u001b[39m=\u001b[39;49m[tb_callback])\n",
      "File \u001b[1;32m~\\AppData\\Local\\Packages\\PythonSoftwareFoundation.Python.3.10_qbz5n2kfra8p0\\LocalCache\\local-packages\\Python310\\site-packages\\keras\\utils\\traceback_utils.py:64\u001b[0m, in \u001b[0;36mfilter_traceback.<locals>.error_handler\u001b[1;34m(*args, **kwargs)\u001b[0m\n\u001b[0;32m     62\u001b[0m filtered_tb \u001b[39m=\u001b[39m \u001b[39mNone\u001b[39;00m\n\u001b[0;32m     63\u001b[0m \u001b[39mtry\u001b[39;00m:\n\u001b[1;32m---> 64\u001b[0m   \u001b[39mreturn\u001b[39;00m fn(\u001b[39m*\u001b[39margs, \u001b[39m*\u001b[39m\u001b[39m*\u001b[39mkwargs)\n\u001b[0;32m     65\u001b[0m \u001b[39mexcept\u001b[39;00m \u001b[39mException\u001b[39;00m \u001b[39mas\u001b[39;00m e:  \u001b[39m# pylint: disable=broad-except\u001b[39;00m\n\u001b[0;32m     66\u001b[0m   filtered_tb \u001b[39m=\u001b[39m _process_traceback_frames(e\u001b[39m.\u001b[39m__traceback__)\n",
      "File \u001b[1;32m~\\AppData\\Local\\Packages\\PythonSoftwareFoundation.Python.3.10_qbz5n2kfra8p0\\LocalCache\\local-packages\\Python310\\site-packages\\keras\\engine\\training.py:1409\u001b[0m, in \u001b[0;36mModel.fit\u001b[1;34m(self, x, y, batch_size, epochs, verbose, callbacks, validation_split, validation_data, shuffle, class_weight, sample_weight, initial_epoch, steps_per_epoch, validation_steps, validation_batch_size, validation_freq, max_queue_size, workers, use_multiprocessing)\u001b[0m\n\u001b[0;32m   1402\u001b[0m \u001b[39mwith\u001b[39;00m tf\u001b[39m.\u001b[39mprofiler\u001b[39m.\u001b[39mexperimental\u001b[39m.\u001b[39mTrace(\n\u001b[0;32m   1403\u001b[0m     \u001b[39m'\u001b[39m\u001b[39mtrain\u001b[39m\u001b[39m'\u001b[39m,\n\u001b[0;32m   1404\u001b[0m     epoch_num\u001b[39m=\u001b[39mepoch,\n\u001b[0;32m   1405\u001b[0m     step_num\u001b[39m=\u001b[39mstep,\n\u001b[0;32m   1406\u001b[0m     batch_size\u001b[39m=\u001b[39mbatch_size,\n\u001b[0;32m   1407\u001b[0m     _r\u001b[39m=\u001b[39m\u001b[39m1\u001b[39m):\n\u001b[0;32m   1408\u001b[0m   callbacks\u001b[39m.\u001b[39mon_train_batch_begin(step)\n\u001b[1;32m-> 1409\u001b[0m   tmp_logs \u001b[39m=\u001b[39m \u001b[39mself\u001b[39;49m\u001b[39m.\u001b[39;49mtrain_function(iterator)\n\u001b[0;32m   1410\u001b[0m   \u001b[39mif\u001b[39;00m data_handler\u001b[39m.\u001b[39mshould_sync:\n\u001b[0;32m   1411\u001b[0m     context\u001b[39m.\u001b[39masync_wait()\n",
      "File \u001b[1;32m~\\AppData\\Local\\Packages\\PythonSoftwareFoundation.Python.3.10_qbz5n2kfra8p0\\LocalCache\\local-packages\\Python310\\site-packages\\tensorflow\\python\\util\\traceback_utils.py:150\u001b[0m, in \u001b[0;36mfilter_traceback.<locals>.error_handler\u001b[1;34m(*args, **kwargs)\u001b[0m\n\u001b[0;32m    148\u001b[0m filtered_tb \u001b[39m=\u001b[39m \u001b[39mNone\u001b[39;00m\n\u001b[0;32m    149\u001b[0m \u001b[39mtry\u001b[39;00m:\n\u001b[1;32m--> 150\u001b[0m   \u001b[39mreturn\u001b[39;00m fn(\u001b[39m*\u001b[39margs, \u001b[39m*\u001b[39m\u001b[39m*\u001b[39mkwargs)\n\u001b[0;32m    151\u001b[0m \u001b[39mexcept\u001b[39;00m \u001b[39mException\u001b[39;00m \u001b[39mas\u001b[39;00m e:\n\u001b[0;32m    152\u001b[0m   filtered_tb \u001b[39m=\u001b[39m _process_traceback_frames(e\u001b[39m.\u001b[39m__traceback__)\n",
      "File \u001b[1;32m~\\AppData\\Local\\Packages\\PythonSoftwareFoundation.Python.3.10_qbz5n2kfra8p0\\LocalCache\\local-packages\\Python310\\site-packages\\tensorflow\\python\\eager\\def_function.py:915\u001b[0m, in \u001b[0;36mFunction.__call__\u001b[1;34m(self, *args, **kwds)\u001b[0m\n\u001b[0;32m    912\u001b[0m compiler \u001b[39m=\u001b[39m \u001b[39m\"\u001b[39m\u001b[39mxla\u001b[39m\u001b[39m\"\u001b[39m \u001b[39mif\u001b[39;00m \u001b[39mself\u001b[39m\u001b[39m.\u001b[39m_jit_compile \u001b[39melse\u001b[39;00m \u001b[39m\"\u001b[39m\u001b[39mnonXla\u001b[39m\u001b[39m\"\u001b[39m\n\u001b[0;32m    914\u001b[0m \u001b[39mwith\u001b[39;00m OptionalXlaContext(\u001b[39mself\u001b[39m\u001b[39m.\u001b[39m_jit_compile):\n\u001b[1;32m--> 915\u001b[0m   result \u001b[39m=\u001b[39m \u001b[39mself\u001b[39m\u001b[39m.\u001b[39m_call(\u001b[39m*\u001b[39margs, \u001b[39m*\u001b[39m\u001b[39m*\u001b[39mkwds)\n\u001b[0;32m    917\u001b[0m new_tracing_count \u001b[39m=\u001b[39m \u001b[39mself\u001b[39m\u001b[39m.\u001b[39mexperimental_get_tracing_count()\n\u001b[0;32m    918\u001b[0m without_tracing \u001b[39m=\u001b[39m (tracing_count \u001b[39m==\u001b[39m new_tracing_count)\n",
      "File \u001b[1;32m~\\AppData\\Local\\Packages\\PythonSoftwareFoundation.Python.3.10_qbz5n2kfra8p0\\LocalCache\\local-packages\\Python310\\site-packages\\tensorflow\\python\\eager\\def_function.py:947\u001b[0m, in \u001b[0;36mFunction._call\u001b[1;34m(self, *args, **kwds)\u001b[0m\n\u001b[0;32m    944\u001b[0m   \u001b[39mself\u001b[39m\u001b[39m.\u001b[39m_lock\u001b[39m.\u001b[39mrelease()\n\u001b[0;32m    945\u001b[0m   \u001b[39m# In this case we have created variables on the first call, so we run the\u001b[39;00m\n\u001b[0;32m    946\u001b[0m   \u001b[39m# defunned version which is guaranteed to never create variables.\u001b[39;00m\n\u001b[1;32m--> 947\u001b[0m   \u001b[39mreturn\u001b[39;00m \u001b[39mself\u001b[39m\u001b[39m.\u001b[39m_stateless_fn(\u001b[39m*\u001b[39margs, \u001b[39m*\u001b[39m\u001b[39m*\u001b[39mkwds)  \u001b[39m# pylint: disable=not-callable\u001b[39;00m\n\u001b[0;32m    948\u001b[0m \u001b[39melif\u001b[39;00m \u001b[39mself\u001b[39m\u001b[39m.\u001b[39m_stateful_fn \u001b[39mis\u001b[39;00m \u001b[39mnot\u001b[39;00m \u001b[39mNone\u001b[39;00m:\n\u001b[0;32m    949\u001b[0m   \u001b[39m# Release the lock early so that multiple threads can perform the call\u001b[39;00m\n\u001b[0;32m    950\u001b[0m   \u001b[39m# in parallel.\u001b[39;00m\n\u001b[0;32m    951\u001b[0m   \u001b[39mself\u001b[39m\u001b[39m.\u001b[39m_lock\u001b[39m.\u001b[39mrelease()\n",
      "File \u001b[1;32m~\\AppData\\Local\\Packages\\PythonSoftwareFoundation.Python.3.10_qbz5n2kfra8p0\\LocalCache\\local-packages\\Python310\\site-packages\\tensorflow\\python\\eager\\function.py:2453\u001b[0m, in \u001b[0;36mFunction.__call__\u001b[1;34m(self, *args, **kwargs)\u001b[0m\n\u001b[0;32m   2450\u001b[0m \u001b[39mwith\u001b[39;00m \u001b[39mself\u001b[39m\u001b[39m.\u001b[39m_lock:\n\u001b[0;32m   2451\u001b[0m   (graph_function,\n\u001b[0;32m   2452\u001b[0m    filtered_flat_args) \u001b[39m=\u001b[39m \u001b[39mself\u001b[39m\u001b[39m.\u001b[39m_maybe_define_function(args, kwargs)\n\u001b[1;32m-> 2453\u001b[0m \u001b[39mreturn\u001b[39;00m graph_function\u001b[39m.\u001b[39;49m_call_flat(\n\u001b[0;32m   2454\u001b[0m     filtered_flat_args, captured_inputs\u001b[39m=\u001b[39;49mgraph_function\u001b[39m.\u001b[39;49mcaptured_inputs)\n",
      "File \u001b[1;32m~\\AppData\\Local\\Packages\\PythonSoftwareFoundation.Python.3.10_qbz5n2kfra8p0\\LocalCache\\local-packages\\Python310\\site-packages\\tensorflow\\python\\eager\\function.py:1860\u001b[0m, in \u001b[0;36mConcreteFunction._call_flat\u001b[1;34m(self, args, captured_inputs, cancellation_manager)\u001b[0m\n\u001b[0;32m   1856\u001b[0m possible_gradient_type \u001b[39m=\u001b[39m gradients_util\u001b[39m.\u001b[39mPossibleTapeGradientTypes(args)\n\u001b[0;32m   1857\u001b[0m \u001b[39mif\u001b[39;00m (possible_gradient_type \u001b[39m==\u001b[39m gradients_util\u001b[39m.\u001b[39mPOSSIBLE_GRADIENT_TYPES_NONE\n\u001b[0;32m   1858\u001b[0m     \u001b[39mand\u001b[39;00m executing_eagerly):\n\u001b[0;32m   1859\u001b[0m   \u001b[39m# No tape is watching; skip to running the function.\u001b[39;00m\n\u001b[1;32m-> 1860\u001b[0m   \u001b[39mreturn\u001b[39;00m \u001b[39mself\u001b[39m\u001b[39m.\u001b[39m_build_call_outputs(\u001b[39mself\u001b[39;49m\u001b[39m.\u001b[39;49m_inference_function\u001b[39m.\u001b[39;49mcall(\n\u001b[0;32m   1861\u001b[0m       ctx, args, cancellation_manager\u001b[39m=\u001b[39;49mcancellation_manager))\n\u001b[0;32m   1862\u001b[0m forward_backward \u001b[39m=\u001b[39m \u001b[39mself\u001b[39m\u001b[39m.\u001b[39m_select_forward_and_backward_functions(\n\u001b[0;32m   1863\u001b[0m     args,\n\u001b[0;32m   1864\u001b[0m     possible_gradient_type,\n\u001b[0;32m   1865\u001b[0m     executing_eagerly)\n\u001b[0;32m   1866\u001b[0m forward_function, args_with_tangents \u001b[39m=\u001b[39m forward_backward\u001b[39m.\u001b[39mforward()\n",
      "File \u001b[1;32m~\\AppData\\Local\\Packages\\PythonSoftwareFoundation.Python.3.10_qbz5n2kfra8p0\\LocalCache\\local-packages\\Python310\\site-packages\\tensorflow\\python\\eager\\function.py:497\u001b[0m, in \u001b[0;36m_EagerDefinedFunction.call\u001b[1;34m(self, ctx, args, cancellation_manager)\u001b[0m\n\u001b[0;32m    495\u001b[0m \u001b[39mwith\u001b[39;00m _InterpolateFunctionError(\u001b[39mself\u001b[39m):\n\u001b[0;32m    496\u001b[0m   \u001b[39mif\u001b[39;00m cancellation_manager \u001b[39mis\u001b[39;00m \u001b[39mNone\u001b[39;00m:\n\u001b[1;32m--> 497\u001b[0m     outputs \u001b[39m=\u001b[39m execute\u001b[39m.\u001b[39;49mexecute(\n\u001b[0;32m    498\u001b[0m         \u001b[39mstr\u001b[39;49m(\u001b[39mself\u001b[39;49m\u001b[39m.\u001b[39;49msignature\u001b[39m.\u001b[39;49mname),\n\u001b[0;32m    499\u001b[0m         num_outputs\u001b[39m=\u001b[39;49m\u001b[39mself\u001b[39;49m\u001b[39m.\u001b[39;49m_num_outputs,\n\u001b[0;32m    500\u001b[0m         inputs\u001b[39m=\u001b[39;49margs,\n\u001b[0;32m    501\u001b[0m         attrs\u001b[39m=\u001b[39;49mattrs,\n\u001b[0;32m    502\u001b[0m         ctx\u001b[39m=\u001b[39;49mctx)\n\u001b[0;32m    503\u001b[0m   \u001b[39melse\u001b[39;00m:\n\u001b[0;32m    504\u001b[0m     outputs \u001b[39m=\u001b[39m execute\u001b[39m.\u001b[39mexecute_with_cancellation(\n\u001b[0;32m    505\u001b[0m         \u001b[39mstr\u001b[39m(\u001b[39mself\u001b[39m\u001b[39m.\u001b[39msignature\u001b[39m.\u001b[39mname),\n\u001b[0;32m    506\u001b[0m         num_outputs\u001b[39m=\u001b[39m\u001b[39mself\u001b[39m\u001b[39m.\u001b[39m_num_outputs,\n\u001b[1;32m   (...)\u001b[0m\n\u001b[0;32m    509\u001b[0m         ctx\u001b[39m=\u001b[39mctx,\n\u001b[0;32m    510\u001b[0m         cancellation_manager\u001b[39m=\u001b[39mcancellation_manager)\n",
      "File \u001b[1;32m~\\AppData\\Local\\Packages\\PythonSoftwareFoundation.Python.3.10_qbz5n2kfra8p0\\LocalCache\\local-packages\\Python310\\site-packages\\tensorflow\\python\\eager\\execute.py:54\u001b[0m, in \u001b[0;36mquick_execute\u001b[1;34m(op_name, num_outputs, inputs, attrs, ctx, name)\u001b[0m\n\u001b[0;32m     52\u001b[0m \u001b[39mtry\u001b[39;00m:\n\u001b[0;32m     53\u001b[0m   ctx\u001b[39m.\u001b[39mensure_initialized()\n\u001b[1;32m---> 54\u001b[0m   tensors \u001b[39m=\u001b[39m pywrap_tfe\u001b[39m.\u001b[39;49mTFE_Py_Execute(ctx\u001b[39m.\u001b[39;49m_handle, device_name, op_name,\n\u001b[0;32m     55\u001b[0m                                       inputs, attrs, num_outputs)\n\u001b[0;32m     56\u001b[0m \u001b[39mexcept\u001b[39;00m core\u001b[39m.\u001b[39m_NotOkStatusException \u001b[39mas\u001b[39;00m e:\n\u001b[0;32m     57\u001b[0m   \u001b[39mif\u001b[39;00m name \u001b[39mis\u001b[39;00m \u001b[39mnot\u001b[39;00m \u001b[39mNone\u001b[39;00m:\n",
      "\u001b[1;31mKeyboardInterrupt\u001b[0m: "
     ]
    }
   ],
   "source": [
    "model_temp = model.fit(X_train, y_train, epochs=100, callbacks=[tb_callback])"
   ]
  },
  {
   "cell_type": "code",
   "execution_count": 74,
   "metadata": {},
   "outputs": [
    {
     "name": "stdout",
     "output_type": "stream",
     "text": [
      "Model: \"sequential\"\n",
      "_________________________________________________________________\n",
      " Layer (type)                Output Shape              Param #   \n",
      "=================================================================\n",
      " lstm (LSTM)                 (None, 12, 64)            442112    \n",
      "                                                                 \n",
      " lstm_1 (LSTM)               (None, 12, 128)           98816     \n",
      "                                                                 \n",
      " lstm_2 (LSTM)               (None, 64)                49408     \n",
      "                                                                 \n",
      " dense (Dense)               (None, 64)                4160      \n",
      "                                                                 \n",
      " dense_1 (Dense)             (None, 32)                2080      \n",
      "                                                                 \n",
      " dense_2 (Dense)             (None, 27)                891       \n",
      "                                                                 \n",
      "=================================================================\n",
      "Total params: 597,467\n",
      "Trainable params: 597,467\n",
      "Non-trainable params: 0\n",
      "_________________________________________________________________\n"
     ]
    }
   ],
   "source": [
    "model.summary()"
   ]
  },
  {
   "cell_type": "markdown",
   "metadata": {},
   "source": [
    "# 8. Make Predictions"
   ]
  },
  {
   "cell_type": "code",
   "execution_count": 75,
   "metadata": {},
   "outputs": [
    {
     "name": "stdout",
     "output_type": "stream",
     "text": [
      "22/22 [==============================] - 2s 29ms/step\n"
     ]
    }
   ],
   "source": [
    "res = model.predict(X_test) #prendo tutte le predizioni dall'insieme di test\n",
    "# res[0]: significa che prendo la prima prediction (quindi la prediction della prima azione presente in X_test)"
   ]
  },
  {
   "attachments": {},
   "cell_type": "markdown",
   "metadata": {},
   "source": [
    "poichè ad ogni azione è associata una probabilità, la mia predizione sarà quella che avrà probabilità **maggiore** fra esse"
   ]
  },
  {
   "cell_type": "code",
   "execution_count": 79,
   "metadata": {},
   "outputs": [
    {
     "data": {
      "text/plain": [
       "'Rolling Hand Forward'"
      ]
     },
     "execution_count": 79,
     "metadata": {},
     "output_type": "execute_result"
    }
   ],
   "source": [
    "gestures_array[np.argmax(res[0])] #qual'è l'azione con il più altro valore di probabilità associato?"
   ]
  },
  {
   "attachments": {},
   "cell_type": "markdown",
   "metadata": {},
   "source": [
    "prendo la label della 4a azione: vedo quindi il *ground truth*"
   ]
  },
  {
   "cell_type": "code",
   "execution_count": 78,
   "metadata": {},
   "outputs": [
    {
     "data": {
      "text/plain": [
       "'Pulling Hand In'"
      ]
     },
     "execution_count": 78,
     "metadata": {},
     "output_type": "execute_result"
    }
   ],
   "source": [
    "gestures_array[np.argmax(y_test[0])]"
   ]
  },
  {
   "attachments": {},
   "cell_type": "markdown",
   "metadata": {},
   "source": [
    "ovviamente, se le due azioni **coincidono** significa che il modello ha una **buona accuracy**"
   ]
  },
  {
   "cell_type": "markdown",
   "metadata": {},
   "source": [
    "# 9. Save Weights"
   ]
  },
  {
   "cell_type": "code",
   "execution_count": 59,
   "metadata": {},
   "outputs": [],
   "source": [
    "model.save('action2.h5')"
   ]
  },
  {
   "cell_type": "code",
   "execution_count": null,
   "metadata": {},
   "outputs": [],
   "source": [
    "del model"
   ]
  },
  {
   "cell_type": "code",
   "execution_count": null,
   "metadata": {},
   "outputs": [],
   "source": [
    "model.load_weights('action.h5')"
   ]
  },
  {
   "cell_type": "markdown",
   "metadata": {},
   "source": [
    "# 10. Evaluation using Confusion Matrix and Accuracy"
   ]
  },
  {
   "cell_type": "code",
   "execution_count": 80,
   "metadata": {},
   "outputs": [],
   "source": [
    "from sklearn.metrics import multilabel_confusion_matrix, accuracy_score"
   ]
  },
  {
   "cell_type": "code",
   "execution_count": 81,
   "metadata": {},
   "outputs": [
    {
     "name": "stdout",
     "output_type": "stream",
     "text": [
      "22/22 [==============================] - 1s 25ms/step\n"
     ]
    }
   ],
   "source": [
    "yhat = model.predict(X_test)"
   ]
  },
  {
   "cell_type": "code",
   "execution_count": 82,
   "metadata": {},
   "outputs": [],
   "source": [
    "ytrue = np.argmax(y_test, axis=1).tolist()\n",
    "yhat = np.argmax(yhat, axis=1).tolist()"
   ]
  },
  {
   "cell_type": "code",
   "execution_count": null,
   "metadata": {},
   "outputs": [],
   "source": [
    "multilabel_confusion_matrix(ytrue, yhat)"
   ]
  },
  {
   "cell_type": "code",
   "execution_count": 84,
   "metadata": {},
   "outputs": [
    {
     "data": {
      "text/plain": [
       "0.045714285714285714"
      ]
     },
     "execution_count": 84,
     "metadata": {},
     "output_type": "execute_result"
    }
   ],
   "source": [
    "accuracy_score(ytrue, yhat)"
   ]
  },
  {
   "cell_type": "code",
   "execution_count": 85,
   "metadata": {},
   "outputs": [],
   "source": [
    "from sklearn.metrics import ConfusionMatrixDisplay"
   ]
  },
  {
   "cell_type": "code",
   "execution_count": 86,
   "metadata": {},
   "outputs": [
    {
     "data": {
      "text/plain": [
       "<sklearn.metrics._plot.confusion_matrix.ConfusionMatrixDisplay at 0x1b9319b2ec0>"
      ]
     },
     "execution_count": 86,
     "metadata": {},
     "output_type": "execute_result"
    },
    {
     "data": {
      "image/png": "[encoded data removed]",
      "text/plain": [
       "<Figure size 640x480 with 2 Axes>"
      ]
     },
     "metadata": {},
     "output_type": "display_data"
    }
   ],
   "source": [
    "ConfusionMatrixDisplay.from_predictions(gestures_array[ytrue], gestures_array[yhat])"
   ]
  },
  {
   "cell_type": "markdown",
   "metadata": {},
   "source": [
    "# 11. Test in Real Time"
   ]
  },
  {
   "cell_type": "code",
   "execution_count": 90,
   "metadata": {},
   "outputs": [],
   "source": [
    "from scipy import stats"
   ]
  },
  {
   "cell_type": "code",
   "execution_count": 102,
   "metadata": {},
   "outputs": [],
   "source": [
    "colors = [(245,117,16), (117,245,16), (16,117,245)]\n",
    "def prob_viz(res, actions, input_frame, colors):\n",
    "    output_frame = input_frame.copy()\n",
    "    for num, prob in enumerate(res):\n",
    "        #cv2.rectangle(output_frame, (0,10+num*10), (int(prob*100), 90+num*40), colors[num], -1)\n",
    "        cv2.putText(output_frame, actions[num], (0, 85+num*40), cv2.FONT_HERSHEY_SIMPLEX, 0.1, (255,255,255), 1, cv2.LINE_AA)\n",
    "        \n",
    "    return output_frame"
   ]
  },
  {
   "cell_type": "code",
   "execution_count": 96,
   "metadata": {},
   "outputs": [
    {
     "data": {
      "text/plain": [
       "(27,)"
      ]
     },
     "execution_count": 96,
     "metadata": {},
     "output_type": "execute_result"
    }
   ],
   "source": [
    "res.shape"
   ]
  },
  {
   "cell_type": "code",
   "execution_count": 185,
   "metadata": {
    "collapsed": true
   },
   "outputs": [
    {
     "ename": "TypeError",
     "evalue": "only size-1 arrays can be converted to Python scalars",
     "output_type": "error",
     "traceback": [
      "\u001b[1;31m---------------------------------------------------------------------------\u001b[0m",
      "\u001b[1;31mTypeError\u001b[0m                                 Traceback (most recent call last)",
      "Cell \u001b[1;32mIn [185], line 2\u001b[0m\n\u001b[0;32m      1\u001b[0m plt\u001b[39m.\u001b[39mfigure(figsize\u001b[39m=\u001b[39m(\u001b[39m18\u001b[39m,\u001b[39m18\u001b[39m))\n\u001b[1;32m----> 2\u001b[0m plt\u001b[39m.\u001b[39mimshow(prob_viz(res, gestures_array, image, colors))\n",
      "Cell \u001b[1;32mIn [184], line 5\u001b[0m, in \u001b[0;36mprob_viz\u001b[1;34m(res, actions, input_frame, colors)\u001b[0m\n\u001b[0;32m      3\u001b[0m output_frame \u001b[39m=\u001b[39m input_frame\u001b[39m.\u001b[39mcopy()\n\u001b[0;32m      4\u001b[0m \u001b[39mfor\u001b[39;00m num, prob \u001b[39min\u001b[39;00m \u001b[39menumerate\u001b[39m(res):\n\u001b[1;32m----> 5\u001b[0m     cv2\u001b[39m.\u001b[39mrectangle(output_frame, (\u001b[39m0\u001b[39m,\u001b[39m60\u001b[39m\u001b[39m+\u001b[39mnum\u001b[39m*\u001b[39m\u001b[39m40\u001b[39m), (\u001b[39mint\u001b[39;49m(prob\u001b[39m*\u001b[39;49m\u001b[39m100\u001b[39;49m), \u001b[39m90\u001b[39m\u001b[39m+\u001b[39mnum\u001b[39m*\u001b[39m\u001b[39m40\u001b[39m), colors[num], \u001b[39m-\u001b[39m\u001b[39m1\u001b[39m)\n\u001b[0;32m      6\u001b[0m     cv2\u001b[39m.\u001b[39mputText(output_frame, actions[num], (\u001b[39m0\u001b[39m, \u001b[39m85\u001b[39m\u001b[39m+\u001b[39mnum\u001b[39m*\u001b[39m\u001b[39m40\u001b[39m), cv2\u001b[39m.\u001b[39mFONT_HERSHEY_SIMPLEX, \u001b[39m1\u001b[39m, (\u001b[39m255\u001b[39m,\u001b[39m255\u001b[39m,\u001b[39m255\u001b[39m), \u001b[39m2\u001b[39m, cv2\u001b[39m.\u001b[39mLINE_AA)\n\u001b[0;32m      8\u001b[0m \u001b[39mreturn\u001b[39;00m output_frame\n",
      "\u001b[1;31mTypeError\u001b[0m: only size-1 arrays can be converted to Python scalars"
     ]
    },
    {
     "data": {
      "text/plain": [
       "<Figure size 1800x1800 with 0 Axes>"
      ]
     },
     "metadata": {},
     "output_type": "display_data"
    }
   ],
   "source": [
    "plt.figure(figsize=(18,18))\n",
    "plt.imshow(prob_viz(res, gestures_array, image, colors))"
   ]
  },
  {
   "cell_type": "code",
   "execution_count": 1,
   "metadata": {},
   "outputs": [
    {
     "ename": "NameError",
     "evalue": "name 'cv2' is not defined",
     "output_type": "error",
     "traceback": [
      "\u001b[1;31m---------------------------------------------------------------------------\u001b[0m",
      "\u001b[1;31mNameError\u001b[0m                                 Traceback (most recent call last)",
      "Cell \u001b[1;32mIn [1], line 7\u001b[0m\n\u001b[0;32m      4\u001b[0m gesto \u001b[39m=\u001b[39m \u001b[39m\"\u001b[39m\u001b[39m\"\u001b[39m\n\u001b[0;32m      5\u001b[0m threshold \u001b[39m=\u001b[39m \u001b[39m0.5\u001b[39m\n\u001b[1;32m----> 7\u001b[0m cap \u001b[39m=\u001b[39m cv2\u001b[39m.\u001b[39mVideoCapture(\u001b[39m0\u001b[39m)\n\u001b[0;32m      8\u001b[0m \u001b[39m# Set mediapipe model \u001b[39;00m\n\u001b[0;32m      9\u001b[0m \u001b[39mwith\u001b[39;00m mp_holistic\u001b[39m.\u001b[39mHolistic(min_detection_confidence\u001b[39m=\u001b[39m\u001b[39m0.5\u001b[39m, min_tracking_confidence\u001b[39m=\u001b[39m\u001b[39m0.5\u001b[39m) \u001b[39mas\u001b[39;00m holistic:\n",
      "\u001b[1;31mNameError\u001b[0m: name 'cv2' is not defined"
     ]
    }
   ],
   "source": [
    "# 1. New detection variables\n",
    "sequence = []\n",
    "predictions = []\n",
    "gesto = \"\"\n",
    "threshold = 0.5\n",
    "\n",
    "cap = cv2.VideoCapture(0)\n",
    "# Set mediapipe model \n",
    "with mp_holistic.Holistic(min_detection_confidence=0.5, min_tracking_confidence=0.5) as holistic:\n",
    "    while cap.isOpened():\n",
    "\n",
    "        # Read feed\n",
    "        ret, frame = cap.read()\n",
    "\n",
    "        # Make detections\n",
    "        image, results = mediapipe_detection(frame, holistic)\n",
    "        print(results)\n",
    "        \n",
    "        # Draw landmarks\n",
    "        draw_styled_landmarks(image, results)\n",
    "        \n",
    "        # 2. Prediction logic\n",
    "        keypoints = extract_keypoints(results)\n",
    "        sequence.append(keypoints)\n",
    "        sequence = sequence[-30:]\n",
    "        \n",
    "        if len(sequence) == 30:\n",
    "            res = model.predict(np.expand_dims(sequence, axis=0))[0]\n",
    "            print(gestures_array[np.argmax(res)])\n",
    "            predictions.append(np.argmax(res))\n",
    "            \n",
    "            \n",
    "        #3. Viz logic\n",
    "            if np.unique(predictions[-10:])[0]==np.argmax(res): \n",
    "                if res[np.argmax(res)] > threshold:                     \n",
    "                    gesto = gestures_array[np.argmax(res)]\n",
    "             \n",
    "            # Viz probabilities\n",
    "            image = prob_viz(res, gestures_array, image, colors)\n",
    "            \n",
    "        cv2.rectangle(image, (0,0), (640, 40), (245, 117, 16), -1)\n",
    "        cv2.putText(image, ' '.join(gesto), (3,30), \n",
    "                       cv2.FONT_HERSHEY_SIMPLEX, 1, (255, 255, 255), 2, cv2.LINE_AA)\n",
    "        \n",
    "        # Show to screen\n",
    "        cv2.imshow('OpenCV Feed', image)\n",
    "\n",
    "        # Break gracefully\n",
    "        if cv2.waitKey(10) & 0xFF == ord('q'):\n",
    "            break\n",
    "    cap.release()\n",
    "    cv2.destroyAllWindows()"
   ]
  }
 ],
 "metadata": {
  "kernelspec": {
   "display_name": "Python 3",
   "language": "python",
   "name": "python3"
  },
  "language_info": {
   "codemirror_mode": {
    "name": "ipython",
    "version": 3
   },
   "file_extension": ".py",
   "mimetype": "text/x-python",
   "name": "python",
   "nbconvert_exporter": "python",
   "pygments_lexer": "ipython3",
   "version": "3.10.9"
  },
  "vscode": {
   "interpreter": {
    "hash": "6976a0d29688b69af430d154ca21ca8f69eff21986dd9c09ddc9cd50d921dcd1"
   }
  }
 },
 "nbformat": 4,
 "nbformat_minor": 2
}
