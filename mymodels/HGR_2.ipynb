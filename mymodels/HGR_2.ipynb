{
 "cells": [
  {
   "cell_type": "markdown",
   "metadata": {},
   "source": [
    "# 1. Import and Install Dependencies"
   ]
  },
  {
   "cell_type": "code",
   "execution_count": 1,
   "metadata": {},
   "outputs": [],
   "source": [
    "import cv2\n",
    "import numpy as np\n",
    "import os\n",
    "import mediapipe as mp\n",
    "import pandas as pd\n",
    "#import torch\n",
    "\n",
    "from matplotlib import pyplot as plt"
   ]
  },
  {
   "attachments": {},
   "cell_type": "markdown",
   "metadata": {},
   "source": [
    "# 2. Keypoints using MediaPipe Hands"
   ]
  },
  {
   "attachments": {},
   "cell_type": "markdown",
   "metadata": {},
   "source": [
    "Importiamo il modello Hands di MediaPipe"
   ]
  },
  {
   "cell_type": "code",
   "execution_count": 2,
   "metadata": {},
   "outputs": [],
   "source": [
    "mp_hands = mp.solutions.hands # Hands model\n",
    "mp_drawing = mp.solutions.drawing_utils # Drawing utilities\n",
    "mp_drawing_styles = mp.solutions.drawing_styles"
   ]
  },
  {
   "attachments": {},
   "cell_type": "markdown",
   "metadata": {},
   "source": [
    "funzione di riconoscimento: convertiamo prima l'immagine dal canale BGR (output di OpenCV feed) a quello RGB, necessario per MediaPipe;\n",
    "alla fine riconvertiamo in BGR"
   ]
  },
  {
   "cell_type": "code",
   "execution_count": 3,
   "metadata": {},
   "outputs": [],
   "source": [
    "def mediapipe_detection(image, model):\n",
    "    image = cv2.cvtColor(image, cv2.COLOR_BGR2RGB) # COLOR CONVERSION BGR 2 RGB\n",
    "    image.flags.writeable = False                  # Image is no longer writeable\n",
    "    results = model.process(image)                 # Make prediction with the Holistic/Hands model\n",
    "    image.flags.writeable = True                   # Image is now writeable \n",
    "    image = cv2.cvtColor(image, cv2.COLOR_RGB2BGR) # COLOR COVERSION RGB 2 BGR\n",
    "    return image, results"
   ]
  },
  {
   "attachments": {},
   "cell_type": "markdown",
   "metadata": {},
   "source": [
    "# 3. Extract Keypoint Function"
   ]
  },
  {
   "attachments": {},
   "cell_type": "markdown",
   "metadata": {},
   "source": [
    "Il nostro scopo è quello di estrarre i keypoints delle mani riconosciute in un certo frame: tali keypoints saranno utili per il **riconoscimento** dei gesti e dei segni di interesse\n",
    "- i keypoints, o anche **landmarks** (\"punti di riferimento\") si riferiscono a dei punti specifici di un'immagine, e vengono utilizzati per identificare dei punti/regioni importanti dell'oggetto o della parte del corpo riconosciuta nell'immagine\n",
    "\n",
    "    - i landmark sono identificati da un algoritmo di rilevamento: nel nostro caso useremo l'algoritmo di MediaPipe che ci consente di identificare fino a 21 diversi landmark per ogni **mano** riconosciuta "
   ]
  },
  {
   "attachments": {},
   "cell_type": "markdown",
   "metadata": {},
   "source": [
    "Lavoriamo su ciascun landkmark: \n",
    "\n",
    "- creiamo degli array dove memorizzare le sue coordinate (del landmark);\n",
    "\n",
    "- useremo degli array di zero quando una certa parte del corpo non è riconosciuta/presente, per non fare andare in errore il sistema."
   ]
  },
  {
   "attachments": {},
   "cell_type": "markdown",
   "metadata": {},
   "source": [
    "Definiamo una funzione che restituisce il numero dei keypoints riconosciuti per entrambe le mani:"
   ]
  },
  {
   "cell_type": "code",
   "execution_count": 4,
   "metadata": {},
   "outputs": [],
   "source": [
    "def extract_keypoints_hands(results, hand_landmarks):\n",
    "    h = np.array([[res.x, res.y, res.z] for res in hand_landmarks.landmark]).flatten() if results.multi_hand_landmarks else np.zeros(21*3)    \n",
    "    return h"
   ]
  },
  {
   "attachments": {},
   "cell_type": "markdown",
   "metadata": {},
   "source": [
    "**N.B.** usiamo *flatten()* perchè vogliamo un solo array, unidimensionale, perchè ci servirà questo formato per la LSTM; infatti, senza flatten() avremo una matrice, un array bidimensionale (ciascun landmark avrà *x* valori associati)"
   ]
  },
  {
   "attachments": {},
   "cell_type": "markdown",
   "metadata": {},
   "source": [
    "Nello specifico:\n",
    "\n",
    "- *res.x*, *res.y*, *res.z* sono i singoli valori delle coordinate di ciascun landmark, i quali verranno inseriti in un array più grande, ciclando per ogni landmark identificato:\n",
    "\n",
    "    - come detto precedentemente, se non esistono coordinate per un landmark quella regione della mano non è riconosciuta: in tal caso viene creato un array vuoto"
   ]
  },
  {
   "attachments": {},
   "cell_type": "markdown",
   "metadata": {},
   "source": [
    "# 4. Datasets structure"
   ]
  },
  {
   "attachments": {},
   "cell_type": "markdown",
   "metadata": {},
   "source": [
    "Poichè abbiamo **due** dataset da cui attingere per il riconoscimento dei gesti, divideremo il file notebook, per ogni sezione, in due sotto-sezioni differenti. I dataset a disposizione sono i seguenti:\n",
    "- **EgoGesture**\n",
    "- **Jester**\n",
    "\n",
    "Vediamo brevemente la loro organizzazione."
   ]
  },
  {
   "attachments": {},
   "cell_type": "markdown",
   "metadata": {},
   "source": [
    "## 4.1. EgoGesture structure"
   ]
  },
  {
   "attachments": {},
   "cell_type": "markdown",
   "metadata": {},
   "source": [
    "Quali sono i gesti di interesse contenuti nel dataset?"
   ]
  },
  {
   "cell_type": "code",
   "execution_count": 48,
   "metadata": {},
   "outputs": [],
   "source": [
    "ego_labels = np.array([\"Photo Frame\", \"Mano del Gaucho\", \"Applaud\", \"Heart\"])"
   ]
  },
  {
   "attachments": {},
   "cell_type": "markdown",
   "metadata": {},
   "source": [
    "infatti, i valori assegnati a ogni label (classe) sul dataset sono i seguenti:\n",
    "\n",
    "- photo frame: 23\n",
    "- mano del gaucho: 38\n",
    "- applaud: 52\n",
    "- heart: 53"
   ]
  },
  {
   "attachments": {},
   "cell_type": "markdown",
   "metadata": {},
   "source": [
    "Creiamo delle strutture dati che ci risulteranno particolarmente utili nelle sezioni successive:"
   ]
  },
  {
   "cell_type": "code",
   "execution_count": 42,
   "metadata": {},
   "outputs": [],
   "source": [
    "labels_num = [23, 38, 52, 53]\n",
    "label_dict = {23: 0, 38: 1, 52: 2, 53: 3}\n",
    "label_dict_string = {23: \"Photo Frame\", 38: \"Mano del Gaucho\", 52: \"Applaud\", 53: \"Heart\"}"
   ]
  },
  {
   "attachments": {},
   "cell_type": "markdown",
   "metadata": {},
   "source": [
    "Essendoci 50 soggetti, 6 scene e 83 gesti diversi, in media avremo che uno stesso soggetto eseguirà gli 83 gesti 6 volte, una volta per ogni diversa scena; quindi uno stesso gesto sarà eseguito circa 50 * 6 = **300** volte."
   ]
  },
  {
   "attachments": {},
   "cell_type": "markdown",
   "metadata": {},
   "source": [
    "Poichè includeremo successivamente uno step di *Data Augmentation*, raddoppiando i video tramite un flip, attorno all'asse y, di ciascun frame, le esecuzioni saranno infine circa **50000**."
   ]
  },
  {
   "attachments": {},
   "cell_type": "markdown",
   "metadata": {},
   "source": [
    "Noi siamo interessati solamente a **4** gesti su 83, quindi avremo in totale **2400** esecuzioni diverse (*4 * 6 * 50 * 2*) , ovvero quasi **600** esecuzioni per ognuno dei 4 gesti."
   ]
  },
  {
   "attachments": {},
   "cell_type": "markdown",
   "metadata": {},
   "source": [
    "Definiamo delle liste di stringhe che conterranno i corrispondenti soggetti per l'insieme di **train**, **test** e **validation**:"
   ]
  },
  {
   "cell_type": "code",
   "execution_count": 43,
   "metadata": {},
   "outputs": [],
   "source": [
    "train_subjects_string = [\"subject03\", \"subject04\",\"subject05\",\"subject06\",\"subject08\",\"subject10\",\"subject15\",\"subject16\",\"subject17\",\"subject20\",\"subject21\",\"subject22\",\"subject23\",\"subject25\",\"subject26\",\"subject27\",\"subject30\",\"subject32\",\"subject36\",\"subject38\",\"subject39\",\"subject40\",\"subject42\",\"subject43\",\"subject44\",\"subject45\",\"subject46\",\"subject48\",\"subject49\",\"subject50\"]\n",
    "test_subjects_string = [\"subject02\",\"subject09\",\"subject11\",\"subject14\",\"subject18\",\"subject19\",\"subject28\",\"subject31\",\"subject41\",\"subject47\"]\n",
    "valid_subjects_string = [\"subject01\",\"subject07\",\"subject12\",\"subject13\",\"subject24\",\"subject29\",\"subject33\",\"subject34\",\"subject35\",\"subject37\"]"
   ]
  },
  {
   "attachments": {},
   "cell_type": "markdown",
   "metadata": {},
   "source": [
    "**N.B.** Dalla doc del dataset, notiamo che la **dimensione** di ogni frame è la seguente:\n",
    "- *altezza:* 240 px\n",
    "- *larghezza:* 320 px"
   ]
  },
  {
   "attachments": {},
   "cell_type": "markdown",
   "metadata": {},
   "source": [
    "## 4.2. Jester structure"
   ]
  },
  {
   "attachments": {},
   "cell_type": "markdown",
   "metadata": {},
   "source": [
    "Struttura del dataset:\n",
    "\n",
    "- **VIDEO:** 148'092\n",
    "    - **FRAME *per* video:** circa 30\n",
    "        - *FPS:* 12, un frame ogni 12 s\n",
    "        - *altezza:* 100px\n",
    "        - *larghezza:* variabile\n",
    "\n",
    "Il dataset, contenente **148'092** video, è inoltre già splittato negli insiemi di **Training, Test e Validation:**\n",
    "\n",
    "- **TRAINING** videos: 118'562 \n",
    "- **TEST** videos: 14'743 \n",
    "- **VALIDATION** videos: 14'787 \n",
    "\n",
    "Il dataset conterrà **27** labels (classi) di gesti diversi, ma noi siamo interessati solamente alle seguenti **3**:\n",
    "- **Thumb Up**\n",
    "- **Thumb down**\n",
    "- **Stop Sign**"
   ]
  },
  {
   "cell_type": "code",
   "execution_count": 18,
   "metadata": {},
   "outputs": [],
   "source": [
    "jester_gestures = np.array([\"Stop Sign\", \"Thumb Down\", \"Thumb Up\"]) #sono le azioni che mi interessano in questo dataset"
   ]
  },
  {
   "attachments": {},
   "cell_type": "markdown",
   "metadata": {},
   "source": [
    "**N.B.** Useremo solamente una partizione dei 148'092 video totali, per alleggerire il lavoro alla macchina: i video disponibili saranno **37'793**"
   ]
  },
  {
   "attachments": {},
   "cell_type": "markdown",
   "metadata": {},
   "source": [
    "# 5. Setup delle cartelle"
   ]
  },
  {
   "attachments": {},
   "cell_type": "markdown",
   "metadata": {},
   "source": [
    "Sezione in cui **riorganizziamo** i dataset, sia perchè i datasets stessi implicano degli step fondamentali di setup e sia perchè la struttura attuale di entrambi non ci soddisfa a pieno."
   ]
  },
  {
   "attachments": {},
   "cell_type": "markdown",
   "metadata": {},
   "source": [
    "## 5.1. EgoGesture dataset"
   ]
  },
  {
   "attachments": {},
   "cell_type": "markdown",
   "metadata": {},
   "source": [
    "Innanzitutto, poichè l'organizzazone del dataset non è ottimale, dovremo **spostare** in un'altra cartella tutti i gesti che ci interessano, in modo da potervi accedere più facilmente"
   ]
  },
  {
   "cell_type": "code",
   "execution_count": null,
   "metadata": {},
   "outputs": [],
   "source": [
    "def initialize_counts():\n",
    "    \n",
    "    count_23 = 0    \n",
    "    count_38 = 0    \n",
    "    count_52 = 0\n",
    "    count_53 = 0\n",
    "\n",
    "    countlist = [count_23, count_38, count_52, count_53]\n",
    "\n",
    "    return countlist"
   ]
  },
  {
   "cell_type": "code",
   "execution_count": null,
   "metadata": {},
   "outputs": [],
   "source": [
    "import shutil\n",
    "\n",
    "LABELDIR = r'D:\\TMS\\dataset\\egogesture\\labels-final-revised'\n",
    "GESTDIR = r'D:\\TMS\\dataset\\egogesture\\gestures'\n",
    "\n",
    "subj_list = []\n",
    "\n",
    "list_23 = []\n",
    "list_38 = []\n",
    "list_52 = []\n",
    "list_53 = []\n",
    "\n",
    "for subject in os.listdir(LABELDIR):\n",
    "    subj_path = os.path.join(LABELDIR, str(subject))      \n",
    "\n",
    "    countlist = initialize_counts() \n",
    "\n",
    "    for scene in os.listdir(subj_path):   \n",
    "        scene_path = os.path.join(subj_path, str(scene))        \n",
    "    \n",
    "        for group in os.listdir(scene_path):\n",
    "            group_path = os.path.join(scene_path, str(group))\n",
    "            \n",
    "            csv = pd.read_csv(group_path, names = (\"label\", \"start_idx\", \"end_idx\"), delimiter = \",\") \n",
    "            my_csv = csv.query(\"label in @labels_num\")\n",
    "\n",
    "            if not my_csv.empty: #se c'è corrispondenza\n",
    "            #prendo ora gli indici di inizio e fine, per ogni gesto\n",
    "                idx_list = my_csv.values.tolist()\n",
    "                #print(subject, group, idx_list)   \n",
    "\n",
    "                for sublist in idx_list:\n",
    "                    label = sublist[0]\n",
    "                    countlist[label_dict[label]] += 1\n",
    "                    #print(label, countlist[label_dict[label]])     \n",
    "                                   \n",
    "    # manipolazione per singolo subject \n",
    "    if subject in train_subjects_string:\n",
    "        print(subject, \": train\")\n",
    "    elif subject in test_subjects_string:\n",
    "        print(subject, \": test\")\n",
    "    elif subject in valid_subjects_string:\n",
    "        print(subject, \": validation\")   \n",
    "\n",
    "    subject_fold = subject[7:9]                         \n",
    "    if int(subject_fold) < 10:                                \n",
    "        subject_fold = subject[8]                                                                       \n",
    "    \n",
    "    #vediamo per il soggetto X quante occorrenze ci sono per ogni label\n",
    "    for label in labels_num:                                \n",
    "        \n",
    "        label_path = os.path.join(GESTDIR, str(label))\n",
    "        print(\"lab:\", label, \",\", countlist[label_dict[label]])\n",
    "        c = countlist[label_dict[label]]\n",
    "\n",
    "        train_path = os.path.join(label_path, \"training\")   \n",
    "        test_path = os.path.join(label_path, \"test\")   \n",
    "        validation_path = os.path.join(label_path, \"validation\")                              \n",
    "\n",
    "        subj_list = os.listdir(label_path) \n",
    "        subj_list.remove(\"test\")\n",
    "        subj_list.remove(\"training\")\n",
    "        subj_list.remove(\"validation\")\n",
    "        subj_list.sort(key = int)                               \n",
    "        subj_list = subj_list[0:c]                                \n",
    "        print(\" \", subj_list) \n",
    "\n",
    "        if subject in train_subjects_string:\n",
    "\n",
    "            for elem in subj_list:\n",
    "                elem_path = os.path.join(label_path, str(elem))                                        \n",
    "                train_subj_path = os.path.join(train_path, subject_fold)\n",
    "                print(train_subj_path)\n",
    "                shutil.move(elem_path, train_subj_path)\n",
    "\n",
    "        elif subject in test_subjects_string:\n",
    "            for elem in subj_list:\n",
    "                elem_path = os.path.join(label_path, str(elem))\n",
    "                test_subj_path = os.path.join(test_path, subject_fold)\n",
    "                print(test_subj_path)\n",
    "                shutil.move(elem_path, test_subj_path)\n",
    "            \n",
    "        elif subject in valid_subjects_string:\n",
    "            for elem in subj_list:\n",
    "                elem_path = os.path.join(label_path, str(elem))\n",
    "                validation_subj_path = os.path.join(validation_path, subject_fold)\n",
    "                print(validation_subj_path)\n",
    "                shutil.move(elem_path, validation_subj_path)\n",
    "            \n",
    "    print (\"\\n\")"
   ]
  },
  {
   "attachments": {},
   "cell_type": "markdown",
   "metadata": {},
   "source": [
    "Creo le folds dei gesti, dove salvaremo ogni video in cui la stessa è performata"
   ]
  },
  {
   "cell_type": "code",
   "execution_count": 24,
   "metadata": {},
   "outputs": [],
   "source": [
    "GESTDIR = r'D:\\TMS\\dataset\\egogesture\\gestures'\n",
    "\n",
    "for label in labels_num: #per ogni label (per ogni gesto)\n",
    "    try:\n",
    "        os.makedirs(os.path.join(GESTDIR, str(label), \"validation\")) \n",
    "        os.makedirs(os.path.join(GESTDIR, str(label), \"test\"))        \n",
    "        os.makedirs(os.path.join(GESTDIR, str(label), \"training\"))        \n",
    "    except:\n",
    "        pass #se esistono già, skippa la creazione"
   ]
  },
  {
   "attachments": {},
   "cell_type": "markdown",
   "metadata": {},
   "source": [
    "creiamo fold dei soggetti di train e test"
   ]
  },
  {
   "cell_type": "code",
   "execution_count": 25,
   "metadata": {},
   "outputs": [],
   "source": [
    "GESTDIR = r'D:\\TMS\\dataset\\egogesture\\gestures'\n",
    "\n",
    "for label in labels_num: #per ogni label (per ogni gesto)\n",
    "    path = os.path.join(GESTDIR, str(label))\n",
    "\n",
    "    for fold in os.listdir(path):\n",
    "        if str(fold) == \"training\":\n",
    "            for subject in train_subjects:                \n",
    "                try:               \n",
    "                    os.makedirs(os.path.join(path, \"training\", str(subject)))\n",
    "                except:\n",
    "                    pass #se esistono già, skippa la creazione\n",
    "\n",
    "        elif str(fold) == \"test\":\n",
    "            for subject in test_subjects:\n",
    "                try:\n",
    "                    os.makedirs(os.path.join(path, \"test\", str(subject)))\n",
    "                except:\n",
    "                    pass\n",
    "\n",
    "        elif str(fold) == \"validation\":\n",
    "            for subject in valid_subjects:\n",
    "                try:\n",
    "                    os.makedirs(os.path.join(path, \"validation\", str(subject)))\n",
    "                except:\n",
    "                    pass"
   ]
  },
  {
   "attachments": {},
   "cell_type": "markdown",
   "metadata": {},
   "source": [
    "definisco una serie di funzioni che mi permetteranno di accedere direttamente ai frame"
   ]
  },
  {
   "cell_type": "code",
   "execution_count": null,
   "metadata": {},
   "outputs": [],
   "source": [
    "def get_group_name(path, group):\n",
    "    if str(group) == \"rgb1\":\n",
    "        return \"Group1\"\n",
    "    elif str(group) == \"rgb2\":\n",
    "        return \"Group2\"\n",
    "    elif str(group) == \"rgb3\":\n",
    "        return \"Group3\"\n",
    "    elif str(group) == \"rgb4\":\n",
    "        return \"Group4\"\n",
    "    elif str(group) == \"rgb5\":\n",
    "        return \"Group5\"\n",
    "    elif str(group) == \"rgb6\":\n",
    "        return \"Group6\"\n",
    "    elif str(group) == \"rgb7\":\n",
    "        return \"Group7\"\n",
    "    elif str(group) == \"rgb8\":\n",
    "        return \"Group8\"  "
   ]
  },
  {
   "cell_type": "code",
   "execution_count": null,
   "metadata": {},
   "outputs": [],
   "source": [
    "def count_label_occ(countlist, label):\n",
    "    print(countlist)\n",
    "    if label == 23:\n",
    "        countlist[0] += 1    \n",
    "    elif label == 38:\n",
    "        countlist[1] += 1    \n",
    "    elif label == 52:\n",
    "        countlist[2] += 1    \n",
    "    elif label == 53:\n",
    "        countlist[3] += 1 \n",
    "\n",
    "    return countlist"
   ]
  },
  {
   "cell_type": "code",
   "execution_count": null,
   "metadata": {},
   "outputs": [],
   "source": [
    "def copy_frames(data_path, label, start_idx, end_idx, countlist):\n",
    "\n",
    "    GESTDIR = r'D:\\TMS\\dataset\\egogesture\\gestures'\n",
    "\n",
    "    vid = countlist[label_dict[label]]\n",
    "    path = os.path.join(GESTDIR, str(label), str(vid)) \n",
    "\n",
    "    frames = []    \n",
    "    \n",
    "    for frame in os.listdir(data_path):\n",
    "        frame = frame[2:6].lstrip(\"0\")        \n",
    "        frames.append(frame)\n",
    "\n",
    "    my_frames = frames[start_idx-1:end_idx]\n",
    "\n",
    "    for frame in my_frames:\n",
    "        #aggiungiamo estensione e zeros\n",
    "        name_frame = frame.zfill(6) + \".jpg\"        \n",
    "        img_path = os.path.join(data_path, name_frame)\n",
    "        img_array = cv2.imread(img_path) #leggo l'img\n",
    "\n",
    "        print(img_path)\n",
    "\n",
    "        #salvo l'img nella directory di interesse        \n",
    "        os.chdir(path)\n",
    "        cv2.imwrite(name_frame, img_array)"
   ]
  },
  {
   "attachments": {},
   "cell_type": "markdown",
   "metadata": {},
   "source": [
    "trovo le label comuni dei gesti di interesse"
   ]
  },
  {
   "cell_type": "code",
   "execution_count": null,
   "metadata": {},
   "outputs": [],
   "source": [
    "def read_idx_frame(path, data_path, countlist):      \n",
    "\n",
    "    csv = pd.read_csv(path, names = (\"label\", \"start_idx\", \"end_idx\"), delimiter = \",\") \n",
    "    my_csv = csv.query(\"label in @labels_num\")\n",
    "    \n",
    "    if not my_csv.empty: #se c'è corrispondenza\n",
    "\n",
    "        #prendo ora gli indici di inizio e fine, per ogni gesto\n",
    "        idx_list = my_csv.values.tolist()      \n",
    "        \n",
    "        for sublist in idx_list:\n",
    "            label = sublist[0]\n",
    "            start_idx = sublist[1]\n",
    "            end_idx = sublist[2]  \n",
    "\n",
    "            print(\"\\nsublist:\", sublist)  \n",
    "\n",
    "            #creo dict per incrementare le occorrenze di ogni gesto            \n",
    "            countlist[label_dict[label]] += 1    \n",
    "            \n",
    "            #vedo quanti frame ci sono per ogni occorrenza di ogni gesto  \n",
    "            num_frames = (end_idx + 1) - start_idx\n",
    "            print(\"numero frame per label:\", label, \"=\", num_frames)\n",
    "            \n",
    "            #prendo i frame indicati e li copio nelle cartelle apposite\n",
    "            copy_frames(data_path, label, start_idx, end_idx, countlist)  \n",
    "            \n",
    "    else:\n",
    "        print(\"- no corrispondenza\") \n",
    "        \n",
    "    return countlist   "
   ]
  },
  {
   "attachments": {},
   "cell_type": "markdown",
   "metadata": {},
   "source": [
    "Poichè il dataset contiene un file .csv dove sono contenuti gli indici di inizio e fine dell'esecuzione di ogni gesto, devo accedervi per leggerli e contestualmente selezionare i frame corrispondenti.\n",
    "\n",
    "Tengo conto ogni volta, dunque, di due percorsi:\n",
    "- uno per accedere ai frame\n",
    "- l'altro per accedere ai .csv dove sono contenuti gli indici dei frame da estrarre"
   ]
  },
  {
   "cell_type": "code",
   "execution_count": null,
   "metadata": {},
   "outputs": [],
   "source": [
    "LABELDIR = r'D:\\TMS\\dataset\\egogesture\\labels-final-revised' #per gli indici nei .csv\n",
    "DATADIR = r\"D:\\TMS\\dataset\\egogesture\" #per i frames\n",
    "\n",
    "countlist = initialize_counts()\n",
    "\n",
    "for frame_set in os.listdir(DATADIR):\n",
    "    if not str(frame_set) == \"labels-final-revised\" and not str(frame_set) == \"gestures\":\n",
    "        print(\"\\nnome insieme frame:\", frame_set)\n",
    "        data_frame_path = os.path.join(DATADIR, str(frame_set))\n",
    "        \n",
    "        for subject in os.listdir(data_frame_path):\n",
    "            print(\"\\nsubject:\", subject)\n",
    "            data_subj_path = os.path.join(data_frame_path, str(subject))\n",
    "            label_subj_path = os.path.join(LABELDIR, str(subject))\n",
    "            subject = str(subject)[0:9] #tolgo l'estensione dal nome  \n",
    "            \n",
    "            for scene in os.listdir(data_subj_path): \n",
    "                print(\"\\n\\nscene:\", scene)\n",
    "                data_scene_path = os.path.join(data_subj_path, str(scene)) \n",
    "                label_scene_path = os.path.join(label_subj_path, str(scene))\n",
    "                scene = str(scene)[0:7] #tolgo l'estensione dal nome\n",
    "\n",
    "                for type in os.listdir(data_scene_path):                    \n",
    "\n",
    "                    if str(type) == \"Color\":  #seleziono la sottocartella \"Color\"\n",
    "                        print(\"frames type:\", type)\n",
    "                        data_color_path = os.path.join(data_scene_path, str(type))\n",
    "                        \n",
    "                        for group in os.listdir(data_color_path):   \n",
    "                            print(\"\\ngroup/rgb:\", group)      \n",
    "                            data_group_path = os.path.join(data_color_path, str(group))   \n",
    "\n",
    "                            if not str(group) == \"rgb9\": #TODO if provvisorio, aggiustare\n",
    "                                group = get_group_name(label_scene_path, group)\n",
    "                                label_group_path = os.path.join(label_scene_path, (str(group)+ \".csv\"))                                \n",
    "\n",
    "                                #questa funzione dovrebbe ritornare gli indici di inizio e fine dell'esecuzione di un singolo gesto..                   \n",
    "                                countlist = read_idx_frame(label_group_path, data_group_path, countlist) #..problema: ci sono più gesti per ogni singolo gruppo\n",
    "                                print(\"countlist atm:\", countlist)\n",
    "\n",
    "print(\"\\ncountlist:\", countlist)\n",
    "#create_video_folds(countlist)"
   ]
  },
  {
   "cell_type": "markdown",
   "metadata": {},
   "source": [
    "creo le folds per i video"
   ]
  },
  {
   "cell_type": "code",
   "execution_count": null,
   "metadata": {},
   "outputs": [],
   "source": [
    "def create_video_folds(countlist):\n",
    "\n",
    "    labels_dict = dict(zip(labels_num, countlist)) #trasformo in dizionario: {key: labels_num, value: num_video}\n",
    "\n",
    "    for label in labels_dict:\n",
    "        path = os.path.join(GESTDIR, str(label))        \n",
    "\n",
    "        for i in range(1, labels_dict[label]+1):\n",
    "            try:\n",
    "                os.makedirs(os.path.join(GESTDIR, str(label), str(i)))\n",
    "            except:\n",
    "                pass       "
   ]
  },
  {
   "cell_type": "markdown",
   "metadata": {},
   "source": [
    "creo ulteriori cartelle di cui mi servirò nello step 6., dopo che avrò generato ulteriori video"
   ]
  },
  {
   "cell_type": "code",
   "execution_count": null,
   "metadata": {},
   "outputs": [],
   "source": [
    "GESTDIR = r'D:\\TMS\\dataset\\egogesture\\gestures'\n",
    "\n",
    "for label in os.listdir(GESTDIR):\n",
    "    label_path = os.path.join(GESTDIR, label)\n",
    "\n",
    "    for set_fold in os.listdir(label_path):\n",
    "        sets_path = os.path.join(label_path, set_fold)\n",
    "        \n",
    "        for subj in os.listdir(sets_path):\n",
    "            subj_path = os.path.join(sets_path, subj)\n",
    "\n",
    "            list_vid = os.listdir(subj_path)            \n",
    "            last_vid = list_vid[-1]            \n",
    "\n",
    "            for num in range(1, len(list_vid) + 1):\n",
    "                new_vid_fold  = str(int(last_vid) + num)               \n",
    "\n",
    "                try:                    \n",
    "                    os.makedirs(os.path.join(subj_path, new_vid_fold))\n",
    "                except:\n",
    "                    pass"
   ]
  },
  {
   "attachments": {},
   "cell_type": "markdown",
   "metadata": {},
   "source": [
    "creo fold keypoints per ogni video della fold del gesto in questione"
   ]
  },
  {
   "cell_type": "code",
   "execution_count": null,
   "metadata": {},
   "outputs": [],
   "source": [
    "for label in os.listdir(GESTDIR): #per ogni gesto4\n",
    "    path = os.path.join(GESTDIR, str(label))  \n",
    "    for vid in os.listdir(path): #per ogni video\n",
    "        try: \n",
    "            os.makedirs(os.path.join(path, str(vid), \"keypoints\"))\n",
    "        except:\n",
    "            pass #se esistono già, skippa la creazione"
   ]
  },
  {
   "attachments": {},
   "cell_type": "markdown",
   "metadata": {},
   "source": [
    "## 5.2. Jester dataset"
   ]
  },
  {
   "cell_type": "code",
   "execution_count": 6,
   "metadata": {},
   "outputs": [],
   "source": [
    "DATADIR = r'D:\\TMS\\dataset\\jester\\20bn-jester-v1'"
   ]
  },
  {
   "cell_type": "markdown",
   "metadata": {},
   "source": [
    "Memorizziamo la lista dei video disponibili e la quella delle labels"
   ]
  },
  {
   "cell_type": "code",
   "execution_count": 19,
   "metadata": {},
   "outputs": [],
   "source": [
    "labels_file = pd.read_csv(r'D:\\TMS\\dataset\\jester\\labels\\labels.csv') #TODO rel path\n",
    "gestures = labels_file['labels'].tolist() #metto in una lista tutte le labels del dataset\n",
    "gestures_array = np.array(gestures)"
   ]
  },
  {
   "cell_type": "code",
   "execution_count": 40,
   "metadata": {},
   "outputs": [],
   "source": [
    "list_video = sorted(os.listdir(DATADIR), key=len) #li voglio ordinati così come compaiono nell'explorer dei file"
   ]
  },
  {
   "cell_type": "code",
   "execution_count": 39,
   "metadata": {},
   "outputs": [
    {
     "data": {
      "text/plain": [
       "37793"
      ]
     },
     "execution_count": 39,
     "metadata": {},
     "output_type": "execute_result"
    }
   ],
   "source": [
    "list_video_int = list(map(int, list_video)) #converto tutto in int da string\n",
    "len(list_video_int)"
   ]
  },
  {
   "attachments": {},
   "cell_type": "markdown",
   "metadata": {},
   "source": [
    "Come detto prima, abbiamo a disposizione **37793** video sulla macchina, tra cui dovremo *filtrare* ancora i video associati ai gesti che ci interessano."
   ]
  },
  {
   "attachments": {},
   "cell_type": "markdown",
   "metadata": {},
   "source": [
    "Ora creo per ogni fold dei video una cartella, *\"keypoints\"*, in cui andremo a salvare i landmarks estratti per ogni frame di quel video"
   ]
  },
  {
   "cell_type": "code",
   "execution_count": null,
   "metadata": {},
   "outputs": [],
   "source": [
    "for vid in list_video: #per ogni video\n",
    "        try: \n",
    "            os.makedirs(os.path.join(DATADIR, str(vid), \"keypoints\"))\n",
    "        except:\n",
    "            pass #se esistono già, skippa la creazione"
   ]
  },
  {
   "attachments": {},
   "cell_type": "markdown",
   "metadata": {},
   "source": [
    "# 6. Steps di pre-processing"
   ]
  },
  {
   "attachments": {},
   "cell_type": "markdown",
   "metadata": {},
   "source": [
    "Sezione in cui **manipoleremo** molto i due dataset, con lo scopo di *accedere* ai dati contenuti al loro interno e *adattarli* alle nostre esigenze.\n",
    "\n",
    "In particolare, vedremo step di:\n",
    "- **Data Augmentation**\n",
    "- **Resizing**\n",
    "- **Eliminazione di file**\n",
    "- **Data Filtering**"
   ]
  },
  {
   "attachments": {},
   "cell_type": "markdown",
   "metadata": {},
   "source": [
    "## 6.1. EgoGesture "
   ]
  },
  {
   "attachments": {},
   "cell_type": "markdown",
   "metadata": {},
   "source": [
    "### Data Augmentation"
   ]
  },
  {
   "attachments": {},
   "cell_type": "markdown",
   "metadata": {},
   "source": [
    "#### **1.** Generazione di nuovi frame fino a soglia"
   ]
  },
  {
   "attachments": {},
   "cell_type": "markdown",
   "metadata": {},
   "source": [
    "- Innanzitutto devo normalizzare il numero di frame per ogni video: ci sono video che hanno pochi frame, altri che ne hanno molti di più\n",
    "\n",
    "    - a tal proposito, devo **generare nuovi frame** per quei video che non raggiungono una soglia specifica, un *treshold*"
   ]
  },
  {
   "cell_type": "code",
   "execution_count": 8,
   "metadata": {},
   "outputs": [],
   "source": [
    "TRESHOLD = 30"
   ]
  },
  {
   "attachments": {},
   "cell_type": "markdown",
   "metadata": {},
   "source": [
    "Definisco una serie di funzioni che mi aiuteranno in questo step e nelle sezioni successive"
   ]
  },
  {
   "cell_type": "code",
   "execution_count": 24,
   "metadata": {},
   "outputs": [],
   "source": [
    "def get_num_frames(path):   \n",
    "\n",
    "    # restituisce tutti gli elementi nel path indicato, nel nostro caso tutti i frame per il video specificato con il suo path\n",
    "    frames_4_video = os.listdir(path)        \n",
    "    num_frames = len(frames_4_video) - 1 #togliamo 1 perchè non consideriamo la fold dei keypoints\n",
    "    #print(\"Numero frame per questo video:\", num_frames)\n",
    "\n",
    "    return num_frames"
   ]
  },
  {
   "cell_type": "code",
   "execution_count": null,
   "metadata": {},
   "outputs": [],
   "source": [
    "def create_name_frame(frame, num_to_add, ext):\n",
    "    \n",
    "    name_frame = frame[0:6].lstrip(\"0\")\n",
    "    new_name_frame = int(name_frame) + num_to_add\n",
    "    new_name_frame = (str(new_name_frame) + ext).zfill(10) \n",
    "\n",
    "    print(\"new name frame:\", new_name_frame, \", old name frame:\", frame)   \n",
    "\n",
    "    return new_name_frame"
   ]
  },
  {
   "cell_type": "code",
   "execution_count": null,
   "metadata": {},
   "outputs": [],
   "source": [
    "def change_name_frame(num_frames, list_frames, path, ext):\n",
    "    num_to_add = TRESHOLD - num_frames\n",
    "    print(\"aggiungere frame di numero:\", num_to_add)\n",
    "\n",
    "    #devo cambiare il nome dei frame successivi a questo\n",
    "    # è il frame da copiare, il \"mediano\"\n",
    "    num_mid_frame = round(num_frames/2) #indice\n",
    "    \n",
    "    num_frames_to_pick = num_frames - num_mid_frame\n",
    "    #print(\"the last N frames to change, N:\", num_frames_to_pick)\n",
    "\n",
    "    #dall'ultimo al successivo di mid_frame\n",
    "    frame_to_change = list_frames[-num_frames_to_pick:] #list slicing\n",
    "    frame_to_change = sorted(frame_to_change, reverse = True)\n",
    "\n",
    "    print(\"to change:\", frame_to_change)\n",
    "\n",
    "    for frame in frame_to_change:\n",
    "        #print(frame)\n",
    "        frame_path = os.path.join(path, frame)\n",
    "        new_frame = create_name_frame(frame, num_to_add, ext)                        \n",
    "        new_frame_path = os.path.join(path, new_frame)  \n",
    "        print(\"new frame path:\", new_frame_path)                   \n",
    "        os.rename(frame_path, new_frame_path)"
   ]
  },
  {
   "cell_type": "markdown",
   "metadata": {},
   "source": [
    "genero nuovi frame a partire da quello centrale, inserendoli successivamente ad esso, cambiando il nome dei vecchi frame ad esso conseguenti, a parire dall'ultimo, per evitare problemi di sovrascrittura di nomi"
   ]
  },
  {
   "cell_type": "code",
   "execution_count": null,
   "metadata": {},
   "outputs": [],
   "source": [
    "GESTDIR = r'D:\\TMS\\dataset\\egogesture\\gestures'\n",
    "\n",
    "all_num_frames = 0\n",
    "\n",
    "for label in os.listdir(GESTDIR):\n",
    "    label_path = os.path.join(GESTDIR, label)\n",
    "\n",
    "    for set_fold in os.listdir(label_path):\n",
    "        sets_path = os.path.join(label_path, set_fold)\n",
    "        \n",
    "        for subj in os.listdir(sets_path):\n",
    "            subj_path = os.path.join(sets_path, subj)\n",
    "\n",
    "            for vid in os.listdir(subj_path):\n",
    "\n",
    "                count = 0\n",
    "\n",
    "                path = os.path.join(subj_path, vid) \n",
    "                print(\"\\nPercorso video:\", path) \n",
    "                #os.chdir(path)  \n",
    "\n",
    "                list_frame = os.listdir(path)\n",
    "                list_frame.remove(\"keypoints\")\n",
    "\n",
    "                num_frames = get_num_frames(path) \n",
    "                all_num_frames += num_frames\n",
    "    \n",
    "                if num_frames < TRESHOLD:     \n",
    "                    \n",
    "                    # cambio i nomi degli ultimi N frame per \"far posto\" ai nuovi\n",
    "                    change_name_frame(num_frames, list_frame, path, \".jpg\") \n",
    "\n",
    "                    num_mid_frame = round(num_frames/2) #indice\n",
    "                    mid_frame = list_frame[num_mid_frame - 1]\n",
    "                    print(\"the mid frame:\", mid_frame)   \n",
    "\n",
    "                    path_mid_frame = os.path.join(path, mid_frame)     \n",
    "                    \n",
    "                    while num_frames < TRESHOLD:\n",
    "                    # genero ora i nuovi frame\n",
    "                    \n",
    "                        count += 1\n",
    "\n",
    "                        #copio il mid frame\n",
    "                        img_array = cv2.imread(path_mid_frame)\n",
    "                        new_frame_name = create_name_frame(mid_frame, count, \".jpg\")\n",
    "                        new_frame_path = os.path.join(path, new_frame_name)\n",
    "                        print(new_frame_path)\n",
    "\n",
    "                        #cv2.imwrite(new_frame_path, img_array) #salvo nella fold il \"nuovo\" frame, ovvero una copia del mid frame                \n",
    "                                                        \n",
    "                        num_frames += 1\n",
    "                        print(\"numero frame aggiornato:\", num_frames) \n",
    "                else:\n",
    "                    print(\"il video ha già almeno 30 frame\")                    \n",
    "               \n",
    "\n",
    "print(\"\\nNumero medio di frame per video:\", all_num_frames/2632)  "
   ]
  },
  {
   "attachments": {},
   "cell_type": "markdown",
   "metadata": {},
   "source": [
    "#### **2.** Duplicazione di ogni frame con flip orizzontale "
   ]
  },
  {
   "cell_type": "markdown",
   "metadata": {},
   "source": [
    "- prima però rinomino tutti i video in modo da averli tutti con nomi di interi consecutivi (1, 2, 3, ...) così da poter aggiungere agevolmente gli altri video flippati"
   ]
  },
  {
   "cell_type": "code",
   "execution_count": null,
   "metadata": {},
   "outputs": [],
   "source": [
    "GESTDIR = r'D:\\TMS\\dataset\\egogesture\\gestures'\n",
    "\n",
    "for label in os.listdir(GESTDIR):\n",
    "    label_path = os.path.join(GESTDIR, label)\n",
    "\n",
    "    for set_fold in os.listdir(label_path):\n",
    "        sets_path = os.path.join(label_path, set_fold)\n",
    "        \n",
    "        for subj in os.listdir(sets_path):\n",
    "            subj_path = os.path.join(sets_path, subj)\n",
    "\n",
    "            for num, vid in enumerate(sorted(os.listdir(subj_path), key=int)):\n",
    "                vid_path = os.path.join(subj_path, vid)\n",
    "                subj_fold_len = len(os.listdir(subj_path))   \n",
    "\n",
    "                new_vid_name = str(num + 1)\n",
    "                new_vid_path = os.path.join(subj_path, new_vid_name)                \n",
    "\n",
    "                os.rename(vid_path, new_vid_path)               "
   ]
  },
  {
   "attachments": {},
   "cell_type": "markdown",
   "metadata": {},
   "source": [
    "Duplico i frame esistenti flippandoli attorno alla'asse y, in modo da avere sia la prospettiva della mano dx che sx"
   ]
  },
  {
   "cell_type": "code",
   "execution_count": null,
   "metadata": {},
   "outputs": [],
   "source": [
    "GESTDIR = r'D:\\TMS\\dataset\\egogesture\\gestures'\n",
    "\n",
    "for label in os.listdir(GESTDIR):\n",
    "    label_path = os.path.join(GESTDIR, label)\n",
    "\n",
    "    for set_fold in os.listdir(label_path):\n",
    "        sets_path = os.path.join(label_path, set_fold)\n",
    "        \n",
    "        for subj in os.listdir(sets_path):\n",
    "            subj_path = os.path.join(sets_path, subj)\n",
    "\n",
    "            vid_len = len(os.listdir(subj_path))\n",
    "\n",
    "            for vid in sorted(os.listdir(subj_path), key=int):\n",
    "                vid_path = os.path.join(subj_path, vid)\n",
    "                list_frame = os.listdir(vid_path)\n",
    "\n",
    "                try:\n",
    "                    list_frame.remove(\"keypoints\")\n",
    "                except: pass\n",
    "\n",
    "                if list_frame: #se non vuota\n",
    "                    for frame in list_frame:\n",
    "                        img_array = cv2.imread(os.path.join(vid_path, frame))\n",
    "                        flipped_img = cv2.flip(img_array, 1)\n",
    "\n",
    "                        to_save_vid = str(int(vid) + int(vid_len/2))\n",
    "                        to_save_path = os.path.join(subj_path, to_save_vid, frame)\n",
    "\n",
    "                        cv2.imwrite(to_save_path, flipped_img)              "
   ]
  },
  {
   "attachments": {},
   "cell_type": "markdown",
   "metadata": {},
   "source": [
    "### Resizing"
   ]
  },
  {
   "attachments": {},
   "cell_type": "markdown",
   "metadata": {},
   "source": [
    "faccio **resizing** dei frame, nonchè un **downscaling** con altezza fissa di *100px*, ma con larghezza variabile, in proporzione alla dimensione originale"
   ]
  },
  {
   "cell_type": "code",
   "execution_count": 5,
   "metadata": {},
   "outputs": [],
   "source": [
    "def image_resize(image, width = None, height = None, inter = cv2.INTER_AREA):\n",
    "    # initialize the dimensions of the image to be resized and\n",
    "    # grab the image size\n",
    "    dim = None\n",
    "    (h, w) = image.shape[:2]\n",
    "\n",
    "    # if both the width and height are None, then return the\n",
    "    # original image\n",
    "    if width is None and height is None:\n",
    "        return image\n",
    "\n",
    "    # check to see if the width is None\n",
    "    if width is None:\n",
    "        # calculate the ratio of the height and construct the\n",
    "        # dimensions\n",
    "        r = height / float(h)\n",
    "        dim = (int(w * r), height)\n",
    "\n",
    "    # otherwise, the height is None\n",
    "    else:\n",
    "        # calculate the ratio of the width and construct the\n",
    "        # dimensions\n",
    "        r = width / float(w)\n",
    "        dim = (width, int(h * r))\n",
    "\n",
    "    # resize the image\n",
    "    resized = cv2.resize(image, dim, interpolation = inter)\n",
    "\n",
    "    # return the resized image\n",
    "    return resized"
   ]
  },
  {
   "cell_type": "code",
   "execution_count": 6,
   "metadata": {},
   "outputs": [],
   "source": [
    "DATADIR = r\"D:\\TMS\\dataset\\egogesture\\gestures\"\n",
    "\n",
    "for label in ego_labels:   \n",
    "    label_path = os.path.join(DATADIR, str(label))\n",
    "\n",
    "    for set_fold in os.listdir(label_path):\n",
    "        sets_path = os.path.join(label_path, set_fold)\n",
    "        \n",
    "        for subj in os.listdir(sets_path):\n",
    "            subj_path = os.path.join(sets_path, subj)\n",
    "\n",
    "            for vid in os.listdir(subj_path):\n",
    "                vid_path = os.path.join(subj_path, vid)\n",
    "\n",
    "                list_frames = os.listdir(vid_path)\n",
    "                list_frames = list_frames.remove(\"keypoints\")\n",
    "\n",
    "                for frame in list_frames:\n",
    "                    frame_path = os.path.join(vid_path, frame)\n",
    "                    \n",
    "                    # resizing & overwriting\n",
    "                    img = cv2.imread(frame_path)\n",
    "                    img_resized = image_resize(img, height = 100)\n",
    "                    cv2.imwrite(frame_path, img_resized)"
   ]
  },
  {
   "attachments": {},
   "cell_type": "markdown",
   "metadata": {},
   "source": [
    "### Eliminazione di file"
   ]
  },
  {
   "attachments": {},
   "cell_type": "markdown",
   "metadata": {},
   "source": [
    "Dobbiamo eliminare il file *.DS_Store*, illeggibile e inutile:"
   ]
  },
  {
   "cell_type": "code",
   "execution_count": null,
   "metadata": {},
   "outputs": [],
   "source": [
    "def remove_file(path):\n",
    "    try:\n",
    "        os.remove(os.path.join(path, \".DS_Store\"))\n",
    "    except:\n",
    "        pass"
   ]
  },
  {
   "cell_type": "code",
   "execution_count": null,
   "metadata": {},
   "outputs": [],
   "source": [
    "LABELDIR = r'D:\\TMS\\dataset\\egogesture\\labels-final-revised'\n",
    "\n",
    "for subject in os.listdir(LABELDIR):\n",
    "    subj_path = os.path.join(LABELDIR, str(subject))\n",
    "    remove_file(subj_path)\n",
    "\n",
    "    for scene in os.listdir(subj_path):   \n",
    "        scene_path = os.path.join(subj_path, str(scene))\n",
    "        remove_file(scene_path)\n",
    "    \n",
    "        for group in os.listdir(scene_path):\n",
    "            group_path = os.path.join(scene_path, str(group))\n",
    "            remove_file(group_path)"
   ]
  },
  {
   "attachments": {},
   "cell_type": "markdown",
   "metadata": {},
   "source": [
    "Eventualmente, potrebbe essere d'aiuto una funzione che elimini i keypoints estratti:"
   ]
  },
  {
   "cell_type": "code",
   "execution_count": null,
   "metadata": {},
   "outputs": [],
   "source": [
    "GESTDIR = r'D:\\TMS\\dataset\\egogesture\\gestures'\n",
    "\n",
    "for label in os.listdir(GESTDIR):\n",
    "    label_path = os.path.join(GESTDIR, label)\n",
    "\n",
    "    for set_fold in os.listdir(label_path):\n",
    "        sets_path = os.path.join(label_path, set_fold)\n",
    "        \n",
    "        for subj in os.listdir(sets_path):\n",
    "            subj_path = os.path.join(sets_path, subj)\n",
    "\n",
    "            for vid in os.listdir(subj_path):\n",
    "          \n",
    "                vid_path = os.path.join(subj_path, vid)               \n",
    "\n",
    "                kp_path = os.path.join(vid_path, \"keypoints\")\n",
    "                kp_fold = os.listdir(kp_path)\n",
    "\n",
    "                for elem in kp_fold:\n",
    "                    frame_path = os.path.join(kp_path, elem)\n",
    "                    os.remove(frame_path)"
   ]
  },
  {
   "attachments": {},
   "cell_type": "markdown",
   "metadata": {},
   "source": [
    "#### Riduzione numero frame"
   ]
  },
  {
   "cell_type": "markdown",
   "metadata": {},
   "source": [
    "riduco la lunghezza dei video prendendo solamente una percentuale dei frame "
   ]
  },
  {
   "cell_type": "code",
   "execution_count": null,
   "metadata": {},
   "outputs": [],
   "source": [
    "def reduce_list_frames(list_frames):\n",
    "    \n",
    "    num_frames = len(list_frames)\n",
    "\n",
    "    if num_frames > 30:\n",
    "        print(\"num frames:\", num_frames, \"> 30\")\n",
    "        \n",
    "        if num_frames < 60:\n",
    "            reduced_list_frames = list_frames[:30] #i primi 30\n",
    "        else:\n",
    "            print(\"> 60\")\n",
    "\n",
    "            percentage = int(5/100 * num_frames)\n",
    "            print(\"5% di num_frames:\", percentage)\n",
    "\n",
    "            first_list = list_frames[:percentage]\n",
    "            last_list = list_frames[-percentage:]\n",
    "\n",
    "            idx1 = percentage\n",
    "            idx2 = num_frames - percentage\n",
    "\n",
    "            step = 2\n",
    "\n",
    "            while True: #do while\n",
    "                \n",
    "                middle_list = list_frames[idx1:idx2:step]\n",
    "                reduced_list_frames = first_list + middle_list + last_list\n",
    "                step += 1\n",
    "                \n",
    "                if len(reduced_list_frames) <= 30:\n",
    "                    break\n",
    "\n",
    "            #elimino poi i frames non comuni\n",
    "\n",
    "    else: reduced_list_frames = list_frames\n",
    "\n",
    "    return reduced_list_frames"
   ]
  },
  {
   "attachments": {},
   "cell_type": "markdown",
   "metadata": {},
   "source": [
    "## 6.2. Jester"
   ]
  },
  {
   "attachments": {},
   "cell_type": "markdown",
   "metadata": {},
   "source": [
    "A differenza del dataset EgoGesture, qui dovremo splittare la lista dei video ottenuta prima per ottenere i video di **Training** e di **Test**"
   ]
  },
  {
   "attachments": {},
   "cell_type": "markdown",
   "metadata": {},
   "source": [
    "- otteniamo i video per il **training** del modello:"
   ]
  },
  {
   "cell_type": "code",
   "execution_count": 20,
   "metadata": {},
   "outputs": [],
   "source": [
    "train_file = pd.read_csv(r'D:\\TMS\\dataset\\jester\\labels\\train.csv', delimiter=\";\") #TODO path relativo\n",
    "train_list = train_file['key'].tolist() #lista degli indici dei video attualmente estratti"
   ]
  },
  {
   "attachments": {},
   "cell_type": "markdown",
   "metadata": {},
   "source": [
    "i video di training, come visto sopra, per l'intero dataset sono **118'562** su **148'092**."
   ]
  },
  {
   "attachments": {},
   "cell_type": "markdown",
   "metadata": {},
   "source": [
    "- otteniamo ora i video per il **testing** del modello:"
   ]
  },
  {
   "cell_type": "code",
   "execution_count": 21,
   "metadata": {},
   "outputs": [],
   "source": [
    "test_file = pd.read_csv(r'D:\\TMS\\dataset\\jester\\labels\\test-answers.csv', delimiter=\";\") #TODO path relativo\n",
    "test_list = test_file['key'].tolist() #lista degli indici dei video attualmente estratti\n",
    "test_file = test_file.loc[:, ~test_file.columns.str.contains('^Unnamed')]  #cancello colonne non necessarie"
   ]
  },
  {
   "attachments": {},
   "cell_type": "markdown",
   "metadata": {},
   "source": [
    "come ancora visto sopra, per l'intero dataset abbiamo **14743** video di test"
   ]
  },
  {
   "attachments": {},
   "cell_type": "markdown",
   "metadata": {},
   "source": [
    "#### Data Filtering"
   ]
  },
  {
   "attachments": {},
   "cell_type": "markdown",
   "metadata": {},
   "source": [
    "Poichè ci interessano esclusivamente *tre* azioni su 27, **filtreremo** in base ad esse tutti i video per entrambi gli insiemi di Train e di Test, in modo da ottenere solamente i video relativi ad esse; ricordiamo che le tre azioni sono le seguenti:\n",
    "\n",
    "- Thumb Up\n",
    "- Thumb Down\n",
    "- Stop Sign"
   ]
  },
  {
   "cell_type": "code",
   "execution_count": 22,
   "metadata": {},
   "outputs": [],
   "source": [
    "train_file = train_file.query(\"value in @jester_gestures\")\n",
    "test_file = test_file.query(\"value in @jester_gestures\")"
   ]
  },
  {
   "attachments": {},
   "cell_type": "markdown",
   "metadata": {},
   "source": [
    "Questi sono i file che contengono solo le label associate alle azioni di interesse, per i due insiemi di Train e Test.\n",
    "\n",
    "Considerando solamente le tre label, avremo **13100** video di **training** e **1619** di **test**, dunque **14719** in totale (*~10% dell'intero dataset*)"
   ]
  },
  {
   "attachments": {},
   "cell_type": "markdown",
   "metadata": {},
   "source": [
    "Poichè non ho a disposizione tutti i video, ma solamente una partizione, devo filtrare ulteriormente i due insiemi di Train e Test, per considerare esclusivamente i video a disposizione."
   ]
  },
  {
   "attachments": {},
   "cell_type": "markdown",
   "metadata": {},
   "source": [
    "##### Filtering per **training set**"
   ]
  },
  {
   "cell_type": "code",
   "execution_count": null,
   "metadata": {},
   "outputs": [],
   "source": [
    "my_train_list = [] #lista che contiene i miei video di training, attualmente disponibili\n",
    "\n",
    "for vid in list_video_int:\n",
    "    for train_vid in train_list:\n",
    "        if vid == train_vid:                \n",
    "            my_train_list.append(vid)"
   ]
  },
  {
   "cell_type": "code",
   "execution_count": 12,
   "metadata": {},
   "outputs": [],
   "source": [
    "BASEDIR = r\"C:\\Users\\follo\\OneDrive\\Documenti\\GitHub\\HGR-4-Social-Robotics\""
   ]
  },
  {
   "cell_type": "code",
   "execution_count": null,
   "metadata": {},
   "outputs": [],
   "source": [
    "np.save(os.path.join(BASEDIR, \"mytempfiles\", \"mytrainlist\"), my_train_list)"
   ]
  },
  {
   "cell_type": "code",
   "execution_count": 23,
   "metadata": {},
   "outputs": [
    {
     "data": {
      "text/plain": [
       "30228"
      ]
     },
     "execution_count": 23,
     "metadata": {},
     "output_type": "execute_result"
    }
   ],
   "source": [
    "my_train_list = np.load(os.path.join(BASEDIR, \"mytempfiles\", \"mytrainlist.npy\")).tolist() #30000 video di training totali su 37k\n",
    "len(my_train_list)"
   ]
  },
  {
   "attachments": {},
   "cell_type": "markdown",
   "metadata": {},
   "source": [
    "sulla nostra partizione di 37793 video, **30228** sono di training"
   ]
  },
  {
   "cell_type": "code",
   "execution_count": 24,
   "metadata": {},
   "outputs": [
    {
     "data": {
      "text/plain": [
       "3247"
      ]
     },
     "execution_count": 24,
     "metadata": {},
     "output_type": "execute_result"
    }
   ],
   "source": [
    "my_train_file = train_file.query('key in @my_train_list') #sottoinsieme di train_file, che contiene solo i video di training attualm. disponibili\n",
    "my_train_list2 = sorted(my_train_file['key'].tolist())  #lista degli indici dei video di training attualmente disponibili\n",
    "\n",
    "len(my_train_list2)"
   ]
  },
  {
   "attachments": {},
   "cell_type": "markdown",
   "metadata": {},
   "source": [
    "Dunque, attualmente, considerando solamente le *tre label* citate sopra e i video disponibili, abbiamo **3247** video di training sui **30228** disponibili, sui **37793** totali"
   ]
  },
  {
   "attachments": {},
   "cell_type": "markdown",
   "metadata": {},
   "source": [
    "##### Filtering per **test set**"
   ]
  },
  {
   "cell_type": "code",
   "execution_count": null,
   "metadata": {},
   "outputs": [],
   "source": [
    "my_test_list = [] #lista che contiene i miei video di test, attualmente disponibili\n",
    "\n",
    "#mostra tutti gli indici dei video attualmente estratti dall'archivio tar, convertiti in integers\n",
    "list_video_int = list(map(int, list_video))\n",
    "\n",
    "for vid in list_video_int:\n",
    "    for test_vid in test_list:\n",
    "        if vid == test_vid:               \n",
    "            my_test_list.append(vid)"
   ]
  },
  {
   "cell_type": "code",
   "execution_count": null,
   "metadata": {},
   "outputs": [],
   "source": [
    "np.save(os.path.join(BASEDIR, \"mytempfiles\", \"mytestlist\"), my_test_list)"
   ]
  },
  {
   "cell_type": "code",
   "execution_count": 25,
   "metadata": {},
   "outputs": [],
   "source": [
    "my_test_list = np.load(os.path.join(BASEDIR, \"mytempfiles\", \"mytestlist.npy\")).tolist() #3767 video di test totali su 37k"
   ]
  },
  {
   "cell_type": "code",
   "execution_count": 26,
   "metadata": {},
   "outputs": [
    {
     "data": {
      "text/plain": [
       "408"
      ]
     },
     "execution_count": 26,
     "metadata": {},
     "output_type": "execute_result"
    }
   ],
   "source": [
    "my_test_file = test_file.query('key in @my_test_list') #sottoinsieme di test_file, che contiene solo i video di testing attualm. disponibili\n",
    "my_test_list2 = sorted(my_test_file['key'].tolist())  #lista degli indici dei video di testing attualmente disponibili\n",
    "len(my_test_list2)"
   ]
  },
  {
   "cell_type": "markdown",
   "metadata": {},
   "source": [
    "attualmente abbiamo **408** video di test su **37793** totali, considerando il filtraggio per le tre label"
   ]
  },
  {
   "attachments": {},
   "cell_type": "markdown",
   "metadata": {},
   "source": [
    "##### **Recap** filtraggio"
   ]
  },
  {
   "cell_type": "code",
   "execution_count": 27,
   "metadata": {},
   "outputs": [
    {
     "data": {
      "text/plain": [
       "3655"
      ]
     },
     "execution_count": 27,
     "metadata": {},
     "output_type": "execute_result"
    }
   ],
   "source": [
    "my_actual_videos = my_train_file[\"key\"].tolist() + my_test_file[\"key\"].tolist()\n",
    "len(my_actual_videos)"
   ]
  },
  {
   "attachments": {},
   "cell_type": "markdown",
   "metadata": {},
   "source": [
    "in totale abbiamo quindi **3655** video disponibili, divisi fra **3247** video di Train e **408** di Test"
   ]
  },
  {
   "attachments": {},
   "cell_type": "markdown",
   "metadata": {},
   "source": [
    "#### Data Augmentation"
   ]
  },
  {
   "attachments": {},
   "cell_type": "markdown",
   "metadata": {},
   "source": [
    "##### Generazione di nuovi frame fino a soglia"
   ]
  },
  {
   "attachments": {},
   "cell_type": "markdown",
   "metadata": {},
   "source": [
    "Genero nuovi frame per ogni video se esso non raggiunge la soglia, il *treshold* di 30 frame, copiandone l'ultimo, ripetutamente"
   ]
  },
  {
   "cell_type": "code",
   "execution_count": null,
   "metadata": {},
   "outputs": [],
   "source": [
    "TRESHOLD = 30"
   ]
  },
  {
   "cell_type": "code",
   "execution_count": null,
   "metadata": {},
   "outputs": [],
   "source": [
    "def get_last_frame(path):\n",
    "\n",
    "    frames_4_video = os.listdir(path)\n",
    "    last_frame = frames_4_video[-2] #prendiamo l'ultimo frame\n",
    "    print(\"\\nnome ultimo frame:\", last_frame)\n",
    "    img_path = os.path.join(path, last_frame)\n",
    "    img_array = cv2.imread(img_path) \n",
    "\n",
    "    return last_frame, img_array"
   ]
  },
  {
   "cell_type": "code",
   "execution_count": null,
   "metadata": {},
   "outputs": [],
   "source": [
    "def create_name_frame_jester(last_frame):\n",
    "    num_frame = last_frame[3:5] #prendo solamente i char 3, 4 perchè mi interessa il numero del frame\n",
    "    num_frame = int(num_frame) + 1\n",
    "    last_frame = \"000\" + str(num_frame) + \".jpg\"\n",
    "    return last_frame"
   ]
  },
  {
   "cell_type": "code",
   "execution_count": null,
   "metadata": {},
   "outputs": [],
   "source": [
    "DATADIR = r'D:\\TMS\\dataset\\jester\\20bn-jester-v1'\n",
    "\n",
    "for vid in list_video_int:\n",
    "\n",
    "    path = os.path.join(DATADIR, str(vid))  \n",
    "    os.chdir(path)  \n",
    "\n",
    "    num_frames = get_num_frames(path)    \n",
    "\n",
    "    if num_frames < TRESHOLD:\n",
    "        \n",
    "        print(\"Percorso video:\", path)\n",
    "        print(\"\\nNumero frame per questo video:\", num_frames)\n",
    "        \n",
    "        while num_frames < TRESHOLD:\n",
    "\n",
    "            last_frame, img_array = get_last_frame(path)\n",
    "            last_frame = create_name_frame_jester(last_frame)                    \n",
    "            cv2.imwrite(last_frame, img_array) #salvo nella fold il \"nuovo\" frame, ovvero una copia dell'ultimo frame\n",
    "\n",
    "            num_frames += 1\n",
    "            print(\"numero frame aggiornato:\", num_frames) \n",
    "    else:\n",
    "        print(\"il video ha già almeno 30 frame\")    "
   ]
  },
  {
   "attachments": {},
   "cell_type": "markdown",
   "metadata": {},
   "source": [
    "#### Eliminazione keypoints"
   ]
  },
  {
   "cell_type": "code",
   "execution_count": 71,
   "metadata": {},
   "outputs": [],
   "source": [
    "DATADIR = r\"D:\\TMS\\dataset\\jester\\20bn-jester-v1\""
   ]
  },
  {
   "cell_type": "code",
   "execution_count": null,
   "metadata": {},
   "outputs": [],
   "source": [
    "for vid in list_video: #per ogni video\n",
    "    path = os.path.join(DATADIR, str(vid), \"keypoints\")        \n",
    "\n",
    "    for npy in os.listdir(path):\n",
    "        os.remove(os.path.join(path, npy))          "
   ]
  },
  {
   "attachments": {},
   "cell_type": "markdown",
   "metadata": {},
   "source": [
    "# 7. Collect Keypoint Values from the dataset for Training and Testing"
   ]
  },
  {
   "attachments": {},
   "cell_type": "markdown",
   "metadata": {},
   "source": [
    "## 7.1. EgoGesture"
   ]
  },
  {
   "attachments": {},
   "cell_type": "markdown",
   "metadata": {},
   "source": [
    "Estraiamo i keypoints dai frame di ciascun video presente nel **dataset** *Egogesture*"
   ]
  },
  {
   "cell_type": "code",
   "execution_count": null,
   "metadata": {},
   "outputs": [],
   "source": [
    "GESTDIR = r'D:\\TMS\\dataset\\egogesture\\gestures'"
   ]
  },
  {
   "attachments": {},
   "cell_type": "markdown",
   "metadata": {},
   "source": [
    "### Definizione funzioni "
   ]
  },
  {
   "attachments": {},
   "cell_type": "markdown",
   "metadata": {},
   "source": [
    "definiamo prima ulteriori funzioni utili per l'estrazione dei landmarks"
   ]
  },
  {
   "cell_type": "code",
   "execution_count": 26,
   "metadata": {},
   "outputs": [],
   "source": [
    "def get_num_keypoints(path):\n",
    "    keypoints_path = os.path.join(path, 'keypoints')\n",
    "    num_keypoints = len(os.listdir(keypoints_path)) #indica quanti keypoints sono stati estratti \n",
    "    \n",
    "    return num_keypoints "
   ]
  },
  {
   "cell_type": "code",
   "execution_count": 78,
   "metadata": {},
   "outputs": [],
   "source": [
    "def get_and_append_img(CHAR, path, img, all_frames):\n",
    "\n",
    "    img_num = img[0:CHAR] #prendo i primi N char, per non avere l'estensione nel nome quando salvo dopo\n",
    "    img_path = os.path.join(path, img)\n",
    "    img_array = cv2.imread(img_path)  # convert to array\n",
    "    #print(\"\\npath:\", img_path)                    \n",
    "    all_frames.append(img)\n",
    "\n",
    "    return img_array, img_num"
   ]
  },
  {
   "cell_type": "code",
   "execution_count": 52,
   "metadata": {},
   "outputs": [],
   "source": [
    "def checkConsecutive(l):\n",
    "    return sorted(l) == list(range(min(l), max(l)+1))"
   ]
  },
  {
   "cell_type": "code",
   "execution_count": null,
   "metadata": {},
   "outputs": [],
   "source": [
    "def add_mid_frames(num_frames, list_frames, vid_path, count):    \n",
    "\n",
    "    change_name_frame(num_frames, list_frames, vid_path, \".jpg\")\n",
    "\n",
    "    num_mid_frame = round(num_frames/2) #indice\n",
    "    mid_frame = list_frames[num_mid_frame - 1]  \n",
    "    print(\"\\nmid frame\", mid_frame)\n",
    "\n",
    "    path_mid_frame = os.path.join(vid_path, mid_frame)\n",
    "    #print(\"path mid frame:\", path_mid_frame)     \n",
    "\n",
    "    print(\"\\ncreo ora i nuovi frame-copia\\n\")\n",
    "    while num_frames < TRESHOLD:\n",
    "    # genero ora i nuovi frame\n",
    "\n",
    "        count += 1\n",
    "\n",
    "        #copio il mid frame\n",
    "        img_array = cv2.imread(path_mid_frame)\n",
    "        new_frame_name = create_name_frame(mid_frame, count, \".jpg\")\n",
    "        new_frame_path = os.path.join(vid_path, new_frame_name)\n",
    "        print(\"new path:\", new_frame_path)\n",
    "\n",
    "        cv2.imwrite(new_frame_path, img_array) #salvo nella fold il \"nuovo\" frame, ovvero una copia del mid frame                \n",
    "                                        \n",
    "        num_frames += 1\n",
    "        print(\"numero frame aggiornato:\", num_frames)"
   ]
  },
  {
   "attachments": {},
   "cell_type": "markdown",
   "metadata": {},
   "source": [
    "### Estrazione"
   ]
  },
  {
   "attachments": {},
   "cell_type": "markdown",
   "metadata": {},
   "source": [
    "Inizializzazione di alcune liste che mi serviranno per contare i video appartenenti a ciascun insieme di train, test e validation"
   ]
  },
  {
   "cell_type": "code",
   "execution_count": 104,
   "metadata": {},
   "outputs": [],
   "source": [
    "videos_list = []\n",
    "train_videos = []\n",
    "test_videos = []\n",
    "valid_videos = []"
   ]
  },
  {
   "attachments": {},
   "cell_type": "markdown",
   "metadata": {},
   "source": [
    "Estraggo ora i keypoints da ogni frame di ogni video, sia per soggetti di training che di test"
   ]
  },
  {
   "cell_type": "code",
   "execution_count": null,
   "metadata": {},
   "outputs": [],
   "source": [
    "TRESHOLD = 30\n",
    "LAST_CHAR = 6\n",
    "\n",
    "with mp_hands.Hands(min_detection_confidence = 0.5, min_tracking_confidence = 0.5) as hands:\n",
    "\n",
    "    for label in labels_num:\n",
    "        label_path = os.path.join(GESTDIR, str(label))\n",
    "\n",
    "        for set_fold in os.listdir(label_path):\n",
    "            sets_path = os.path.join(label_path, set_fold)\n",
    "            \n",
    "            for subj in os.listdir(sets_path):\n",
    "                subj_path = os.path.join(sets_path, subj)\n",
    "\n",
    "                for vid in os.listdir(subj_path):\n",
    "                    \n",
    "                    count = 0\n",
    "                    all_frames = []\n",
    "\n",
    "                    vid_path = os.path.join(subj_path, vid)\n",
    "                    list_frames = os.listdir(vid_path)\n",
    "                    list_frames.remove(\"keypoints\")\n",
    "\n",
    "                    num_frames = len(list_frames)\n",
    "\n",
    "                    if num_frames > 30:\n",
    "                        reduced_list_frames = list_frames[:30]\n",
    "\n",
    "                    elif num_frames < 30:\n",
    "                        print(\"ALLARME < 30\", num_frames)\n",
    "                        print(vid_path)\n",
    "                        add_mid_frames(num_frames, list_frames, vid_path, count)\n",
    "\n",
    "                    else: reduced_list_frames = list_frames                  \n",
    "\n",
    "                    num_keypoints = get_num_keypoints(vid_path) #indica quanti keypoints sono stati estratti \n",
    "\n",
    "                    if num_keypoints != TRESHOLD:       \n",
    "\n",
    "                        for frame in reduced_list_frames:\n",
    "\n",
    "                            img_array, img_num = get_and_append_img(LAST_CHAR, vid_path, frame, all_frames)   \n",
    "                            image_h, results = mediapipe_detection(img_array, hands)\n",
    "\n",
    "                            first_hand_keypoints = np.zeros(21*3)\n",
    "                            second_hand_keypoints = np.zeros(21*3)\n",
    "    \n",
    "                            #TODO aggiustare perchè if lo fa già extract_keypoints\n",
    "\n",
    "                            if results.multi_hand_landmarks:\n",
    "                                \n",
    "                                # num è il numero delle mani che riconosce!! 0 la prima, 1 eventualmente la seconda\n",
    "                                for num, hand_landmarks in enumerate(results.multi_hand_landmarks):   \n",
    "\n",
    "                                    if num == 0: # prima mano riconosciuta \n",
    "                                        first_hand_keypoints = extract_keypoints_hands(results, hand_landmarks)\n",
    "\n",
    "                                    if num == 1: # seconda mano riconosciuta\n",
    "                                        second_hand_keypoints = extract_keypoints_hands(results, hand_landmarks)\n",
    "\n",
    "                                keypoints = np.concatenate([first_hand_keypoints, second_hand_keypoints])                               \n",
    "\n",
    "                            else: # nessun keypoint trovato\n",
    "                                keypoints = np.concatenate([first_hand_keypoints, second_hand_keypoints])\n",
    "                                    \n",
    "                            npy_path = os.path.join(vid_path, \"keypoints\", img_num)\n",
    "                            np.save(npy_path, keypoints)\n",
    "\n",
    "                    else:\n",
    "                        print(\"keypoints già estratti\\n\", vid_path)\n",
    "                        videos_list.append(vid)\n",
    "\n",
    "                        if str(subj) in train_subjects_string:\n",
    "                            train_videos.append(vid_path)\n",
    "                        elif str(subj) in test_subjects_string:\n",
    "                            test_videos.append(vid_path)\n",
    "                        elif str(subj) in valid_subjects_string:\n",
    "                            valid_videos.append(vid_path)    "
   ]
  },
  {
   "cell_type": "code",
   "execution_count": 108,
   "metadata": {},
   "outputs": [],
   "source": [
    "BASEDIR = r\"C:\\Users\\follo\\OneDrive\\Documenti\\GitHub\\HGR-4-Social-Robotics\"\n",
    "ego_dir = os.path.join(BASEDIR, \"mytempfiles\", \"egogesture_files\")"
   ]
  },
  {
   "cell_type": "code",
   "execution_count": 181,
   "metadata": {},
   "outputs": [],
   "source": [
    "np.save(os.path.join(ego_dir, \"ego_all_videos\"), videos_list)\n",
    "np.save(os.path.join(ego_dir, \"ego_train_videos\"), train_videos)\n",
    "np.save(os.path.join(ego_dir, \"ego_test_videos\"), test_videos)\n",
    "np.save(os.path.join(ego_dir, \"ego_valid_videos\"), valid_videos)"
   ]
  },
  {
   "cell_type": "code",
   "execution_count": 109,
   "metadata": {},
   "outputs": [
    {
     "name": "stdout",
     "output_type": "stream",
     "text": [
      "2332 1392 478 462\n"
     ]
    }
   ],
   "source": [
    "print(len(videos_list), len(train_videos), len(test_videos), len(valid_videos))"
   ]
  },
  {
   "cell_type": "markdown",
   "metadata": {},
   "source": [
    "abbiamo quindi **2332** video totali, suddivisi in:\n",
    "- **1392** di *Training*\n",
    "- **478** di *Test*\n",
    "- **462** di *Validation*"
   ]
  },
  {
   "attachments": {},
   "cell_type": "markdown",
   "metadata": {},
   "source": [
    "### **TEST**: estrazione keypoint da un frame casuale"
   ]
  },
  {
   "cell_type": "code",
   "execution_count": 63,
   "metadata": {},
   "outputs": [
    {
     "data": {
      "text/plain": [
       "<matplotlib.image.AxesImage at 0x2774ce05420>"
      ]
     },
     "execution_count": 63,
     "metadata": {},
     "output_type": "execute_result"
    },
    {
     "data": {
      "image/png": "[encoded data removed]",
      "text/plain": [
       "<Figure size 640x480 with 1 Axes>"
      ]
     },
     "metadata": {},
     "output_type": "display_data"
    }
   ],
   "source": [
    "DATADIR = r\"D:\\TMS\\dataset\\egogesture\\gestures\\23\\validation\\subject12\\1\"\n",
    "DATADIR2 = r\"D:\\TMS\\dataset\\jester\\20bn-jester-v1\\10\"\n",
    "\n",
    "# OTTENGO IL FRAME    \n",
    "path_test = os.path.join(DATADIR2, '00024.jpg') \n",
    "frame_test = cv2.imread(path_test)  # convert to array\n",
    "plt.imshow(cv2.cvtColor(frame_test, cv2.COLOR_BGR2RGB))      "
   ]
  },
  {
   "attachments": {},
   "cell_type": "markdown",
   "metadata": {},
   "source": [
    "#### hands"
   ]
  },
  {
   "cell_type": "code",
   "execution_count": 66,
   "metadata": {},
   "outputs": [
    {
     "name": "stdout",
     "output_type": "stream",
     "text": [
      "\n",
      "both hands kp shape: (126,)\n"
     ]
    },
    {
     "data": {
      "image/png": "[encoded data removed]",
      "text/plain": [
       "<Figure size 640x480 with 1 Axes>"
      ]
     },
     "metadata": {},
     "output_type": "display_data"
    }
   ],
   "source": [
    "# ESTRAGGO I KEYPOINTS DA CIASCUN FRAME\n",
    "with mp_hands.Hands(max_num_hands=2, min_detection_confidence=0.5) as hands:\n",
    "    image_h_test, results_test = mediapipe_detection(frame_test, hands)\n",
    "    \n",
    "    annotated_image_test = image_h_test.copy()\n",
    "\n",
    "    first_hand_keypoints_test = np.zeros(21*3)\n",
    "    second_hand_keypoints_test = np.zeros(21*3)\n",
    "    \n",
    "    if results_test.multi_hand_landmarks:\n",
    "\n",
    "        for num, hand_landmarks_test in enumerate(results_test.multi_hand_landmarks):        \n",
    "\n",
    "            mp_drawing.draw_landmarks(     \n",
    "                annotated_image_test,\n",
    "                hand_landmarks_test,\n",
    "                mp_hands.HAND_CONNECTIONS,\n",
    "                mp_drawing.DrawingSpec(color=(245,117,66), thickness=1, circle_radius=1),\n",
    "                mp_drawing.DrawingSpec(color=(245,66,230), thickness=1, circle_radius=1)\n",
    "                )\n",
    "\n",
    "            if num == 0:   \n",
    "                first_hand_keypoints_test = extract_keypoints_hands(results_test, hand_landmarks_test)\n",
    "                #print(\"\\n1st hand kp:\", first_hand_keypoints_test)\n",
    "            if num == 1:\n",
    "                second_hand_keypoints_test = extract_keypoints_hands(results_test, hand_landmarks_test)\n",
    "                #print(\"\\n2nd hand kp:\", second_hand_keypoints_test)\n",
    "\n",
    "        keypoints_test = np.concatenate([first_hand_keypoints_test, second_hand_keypoints_test])\n",
    "\n",
    "    else: keypoints_test = np.zeros(21*6)  \n",
    "\n",
    "    print(\"\\nboth hands kp shape:\", keypoints_test.shape)  \n",
    "\n",
    "    plt.imshow(cv2.cvtColor(annotated_image_test, cv2.COLOR_BGR2RGB))  "
   ]
  },
  {
   "attachments": {},
   "cell_type": "markdown",
   "metadata": {},
   "source": [
    "### Keypoints Shape: **126** "
   ]
  },
  {
   "attachments": {},
   "cell_type": "markdown",
   "metadata": {},
   "source": [
    "abbiamo **63** keypoints per ogni mano, **126** per ogni frame:\n",
    "\n",
    "- questo perchè se nessuna mano o una delle due non viene riconosciuta, verrà creato un vettore di zeri"
   ]
  },
  {
   "attachments": {},
   "cell_type": "markdown",
   "metadata": {},
   "source": [
    "## 7.2. Jester"
   ]
  },
  {
   "cell_type": "code",
   "execution_count": 28,
   "metadata": {},
   "outputs": [],
   "source": [
    "DATADIR = r'D:\\TMS\\dataset\\jester\\20bn-jester-v1'"
   ]
  },
  {
   "cell_type": "markdown",
   "metadata": {},
   "source": [
    "inizializzazione liste"
   ]
  },
  {
   "cell_type": "code",
   "execution_count": 231,
   "metadata": {},
   "outputs": [],
   "source": [
    "actual_train_video = []\n",
    "actual_test_video = []\n",
    "actual_video = []"
   ]
  },
  {
   "cell_type": "code",
   "execution_count": 232,
   "metadata": {},
   "outputs": [],
   "source": [
    "LAST_CHAR = 5\n",
    "\n",
    "def access_frames(list, actual_video_type):\n",
    "\n",
    "    with mp_hands.Hands(min_detection_confidence=0.5, min_tracking_confidence = 0.5) as hands:\n",
    "\n",
    "        for vid in list:  # itero su tutti i video (i primi 1500)...\n",
    "\n",
    "            all_frames = []\n",
    "\n",
    "            # create path (...\\20bn-jester-v1\\000xx)\n",
    "            path = os.path.join(DATADIR, str(vid))\n",
    "            #print(\"\\nPercorso video:\", path)\n",
    "\n",
    "            frames_4_video = os.listdir(path)\n",
    "            frames_4_video.remove(\"keypoints\")\n",
    "          \n",
    "            num_frames = get_num_frames(path)        \n",
    "            num_keypoints = get_num_keypoints(path) #indica quanti keypoints sono stati estratti   \n",
    "            \n",
    "            # esegui se non tutti i keypoints sono stati ancora estratti da ciascun frame \n",
    "            if num_keypoints != num_frames:            \n",
    "                \n",
    "                # iterate over each image (00001, 00002, ...)\n",
    "                for img in frames_4_video:            \n",
    "                                                          \n",
    "                    img_array, img_num = get_and_append_img(LAST_CHAR, path, img, all_frames)\n",
    "                    image_h, results = mediapipe_detection(img_array, hands)                        \n",
    "\n",
    "                    first_hand_keypoints = np.zeros(21*3)\n",
    "                    second_hand_keypoints = np.zeros(21*3)\n",
    "\n",
    "                    #TODO aggiustare perchè if lo fa già extract_keypoints\n",
    "                    if results.multi_hand_landmarks:\n",
    "                        \n",
    "                        # num è il numero delle mani che riconosce!! 0 la prima, 1 eventualmente la seconda\n",
    "                        for num, hand_landmarks in enumerate(results.multi_hand_landmarks):   \n",
    "\n",
    "                            if num == 0: # prima mano riconosciuta \n",
    "                                first_hand_keypoints = extract_keypoints_hands(results, hand_landmarks)\n",
    "                                #print(\"\\nrh shape:\", first_hand_keypoints.shape)\n",
    "\n",
    "                            if num == 1: # seconda mano riconosciuta\n",
    "                                second_hand_keypoints = extract_keypoints_hands(results, hand_landmarks)\n",
    "                                #print(\"\\nlh shape:\", second_hand_keypoints.shape)\n",
    "\n",
    "                        keypoints = np.concatenate([first_hand_keypoints, second_hand_keypoints])                               \n",
    "\n",
    "                    else:\n",
    "                        #print(\"nessun kp trovato\")\n",
    "                        keypoints = np.concatenate([first_hand_keypoints, second_hand_keypoints])\n",
    "\n",
    "                    #print(\"both hands kp:\", keypoints)                                   \n",
    "                    npy_path = os.path.join(DATADIR, str(vid), \"keypoints\", img_num)\n",
    "                    #print(img_num)\n",
    "                    np.save(npy_path, keypoints)            \n",
    "                \n",
    "            else:\n",
    "                #print(\"N.B. keypoints già estratti per questo video\")\n",
    "                actual_video_type.append(vid)\n",
    "                actual_video.append(vid)"
   ]
  },
  {
   "cell_type": "code",
   "execution_count": 233,
   "metadata": {},
   "outputs": [
    {
     "name": "stdout",
     "output_type": "stream",
     "text": [
      "finito train, inizio test\n"
     ]
    }
   ],
   "source": [
    "access_frames(my_train_list2, actual_train_video) #accedo ai frame dei video di train..\n",
    "print(\"finito train, inizio test\")\n",
    "access_frames(my_test_list2, actual_test_video) #.. e per quelli di test"
   ]
  },
  {
   "attachments": {},
   "cell_type": "markdown",
   "metadata": {},
   "source": [
    "andiamo a salvare/caricare tali video"
   ]
  },
  {
   "cell_type": "code",
   "execution_count": 35,
   "metadata": {},
   "outputs": [],
   "source": [
    "np.save(os.path.join(BASEDIR, \"mytempfiles\", \"actualvideo\"), actual_video)\n",
    "np.save(os.path.join(BASEDIR, \"mytempfiles\", \"actual_test_video\"), actual_test_video)\n",
    "np.save(os.path.join(BASEDIR, \"mytempfiles\",\"actual_train_video\"), actual_train_video)"
   ]
  },
  {
   "cell_type": "code",
   "execution_count": 29,
   "metadata": {},
   "outputs": [],
   "source": [
    "actual_video = np.load(os.path.join(BASEDIR, \"mytempfiles\", \"actualvideo.npy\"))\n",
    "actual_train_video = np.load(os.path.join(BASEDIR, \"mytempfiles\", \"actual_train_video.npy\"))\n",
    "actual_test_video = np.load(os.path.join(BASEDIR, \"mytempfiles\", \"actual_test_video.npy\"))"
   ]
  },
  {
   "cell_type": "code",
   "execution_count": 30,
   "metadata": {},
   "outputs": [
    {
     "name": "stdout",
     "output_type": "stream",
     "text": [
      "3655\n",
      "3247\n",
      "408\n"
     ]
    }
   ],
   "source": [
    "print(len(actual_video))\n",
    "print(len(actual_train_video))\n",
    "print(len(actual_test_video))"
   ]
  },
  {
   "attachments": {},
   "cell_type": "markdown",
   "metadata": {},
   "source": [
    "### Ottenimento Training e Test sets "
   ]
  },
  {
   "attachments": {},
   "cell_type": "markdown",
   "metadata": {},
   "source": [
    "Ora devo filtrare il file precedente con i video di Train e di Test appena ottenuti, in modo da ottenere un **dataframe** con le corrette label associate ad ogni video"
   ]
  },
  {
   "attachments": {},
   "cell_type": "markdown",
   "metadata": {},
   "source": [
    "- questo è il df su cui devo lavorare come training set"
   ]
  },
  {
   "cell_type": "code",
   "execution_count": 31,
   "metadata": {},
   "outputs": [],
   "source": [
    "my_train_file2 = my_train_file.query('key in @actual_train_video') #contiene indice e label dell'azione associata a quel video\n",
    "my_train_file2.sort_values([\"key\"], axis=0, ascending=[True], inplace=True) #ordino gli elem in modo crescente in base al valore dell'idx del video "
   ]
  },
  {
   "attachments": {},
   "cell_type": "markdown",
   "metadata": {},
   "source": [
    "- questo è il df su cui devo lavorare come test set"
   ]
  },
  {
   "cell_type": "code",
   "execution_count": 32,
   "metadata": {},
   "outputs": [],
   "source": [
    "my_test_file2 = my_test_file.query('key in @actual_test_video') #contiene indice e label dell'azione associata a quel video\n",
    "my_test_file2.sort_values([\"key\"], axis=0, ascending=[True], inplace=True) #ordino gli elem in modo crescente in base al valore dell'idx del video "
   ]
  },
  {
   "attachments": {},
   "cell_type": "markdown",
   "metadata": {},
   "source": [
    "Infatti, come visto prima, nella *sezione 6*, ho a disposizione **3655** video totali per il momento:\n",
    "- **3247** di Train\n",
    "- **408** di Test"
   ]
  },
  {
   "attachments": {},
   "cell_type": "markdown",
   "metadata": {},
   "source": [
    "# 8. Preprocess Data and Create Labels and Features"
   ]
  },
  {
   "attachments": {},
   "cell_type": "markdown",
   "metadata": {},
   "source": [
    "Poichè stiamo trattando un **apprendimento supervisionato**, a ciascuno dei nostri video è associata una label, sia per l'insieme di Training che di Test.\n",
    "\n",
    "Le label associate ai video dell'insieme di Test saranno trattate come un *ground truth*, per verificare, dopo l'apprendimento e la classificazione, se la predizione della label di ciascun video, ottenuta in output, è corretta o meno."
   ]
  },
  {
   "cell_type": "code",
   "execution_count": 33,
   "metadata": {},
   "outputs": [],
   "source": [
    "from keras.utils import to_categorical\n",
    "from sklearn.preprocessing import LabelEncoder"
   ]
  },
  {
   "attachments": {},
   "cell_type": "markdown",
   "metadata": {},
   "source": [
    "Strutturiamo i dati fin qui raccolti, inserendoli in un unico array"
   ]
  },
  {
   "attachments": {},
   "cell_type": "markdown",
   "metadata": {},
   "source": [
    "## 8.1. EgoGesture"
   ]
  },
  {
   "cell_type": "markdown",
   "metadata": {},
   "source": [
    "\n",
    "qui cicliamo separatamente per i video di training e test, avendoli già divisi:"
   ]
  },
  {
   "cell_type": "code",
   "execution_count": 110,
   "metadata": {},
   "outputs": [],
   "source": [
    "GESTDIR = r'D:\\TMS\\dataset\\egogesture\\gestures'"
   ]
  },
  {
   "cell_type": "code",
   "execution_count": 111,
   "metadata": {},
   "outputs": [],
   "source": [
    "def insert_all_in_array():\n",
    "\n",
    "    train_videos_array = [] # X (feature input)\n",
    "    test_videos_array = []\n",
    "    valid_videos_array = [] \n",
    "\n",
    "    for label in labels_num:\n",
    "        label_path = os.path.join(GESTDIR, str(label))\n",
    "\n",
    "        for set_fold in os.listdir(label_path):\n",
    "            sets_path = os.path.join(label_path, set_fold)\n",
    "            \n",
    "            for subj in os.listdir(sets_path):\n",
    "                subj_path = os.path.join(sets_path, subj)\n",
    "\n",
    "                for vid in os.listdir(subj_path):\n",
    "                    vid_path = os.path.join(subj_path, vid)\n",
    "\n",
    "                    if subj in train_subjects_string:\n",
    "                        train_window = []\n",
    "                    elif subj in test_subjects_string:\n",
    "                        test_window = []\n",
    "                    elif subj in valid_subjects_string:\n",
    "                        valid_window = []\n",
    "\n",
    "                    kp_path = os.path.join(vid_path, \"keypoints\")\n",
    "                    kp_fold = os.listdir(kp_path)\n",
    "\n",
    "                    for kp in kp_fold:\n",
    "                        npy_path = os.path.join(kp_path, kp)\n",
    "                        res = np.load(npy_path)\n",
    "                        #print(\"\\n\", npy_path, \"\\n\", res)\n",
    "\n",
    "                        if subj in train_subjects_string:   \n",
    "                            train_window.append(res)                       \n",
    "                        elif subj in test_subjects_string:        \n",
    "                            test_window.append(res)                    \n",
    "                        elif subj in valid_subjects_string:                            \n",
    "                            valid_window.append(res)\n",
    "\n",
    "                    if subj in train_subjects_string:   \n",
    "                        #print(\"\\ntrain:\", vid_path)\n",
    "                        train_videos_array.append(train_window)                       \n",
    "                    elif subj in test_subjects_string:        \n",
    "                        test_videos_array.append(test_window)                          \n",
    "                    elif subj in valid_subjects_string:                            \n",
    "                        valid_videos_array.append(valid_window)       \n",
    "\n",
    "    return train_videos_array, test_videos_array, valid_videos_array"
   ]
  },
  {
   "attachments": {},
   "cell_type": "markdown",
   "metadata": {},
   "source": [
    "avremo così array di array di array: \n",
    "- per primo un grande array per ogni tipologia di video (train, test e validation) che contiene altri array\n",
    "- tali array rappresentano i relativi video, che a loro volta contengono altri array\n",
    "- questi array contengono i keypoints estratti da ogni frame di ogni video"
   ]
  },
  {
   "cell_type": "code",
   "execution_count": 112,
   "metadata": {},
   "outputs": [],
   "source": [
    "train_videos_array, test_videos_array, valid_videos_array = insert_all_in_array()"
   ]
  },
  {
   "cell_type": "code",
   "execution_count": 125,
   "metadata": {},
   "outputs": [
    {
     "name": "stdout",
     "output_type": "stream",
     "text": [
      "(1392, 30, 126)\n",
      "(478, 30, 126)\n",
      "(462, 30, 126)\n"
     ]
    }
   ],
   "source": [
    "print(np.array(train_videos_array).shape)\n",
    "print(np.array(test_videos_array).shape)\n",
    "print(np.array(valid_videos_array).shape)"
   ]
  },
  {
   "cell_type": "code",
   "execution_count": 114,
   "metadata": {},
   "outputs": [],
   "source": [
    "BASEDIR = r\"C:\\Users\\follo\\OneDrive\\Documenti\\GitHub\\HGR-4-Social-Robotics\"\n",
    "ego_dir = os.path.join(BASEDIR, \"mytempfiles\", \"egogesture_files\")"
   ]
  },
  {
   "cell_type": "code",
   "execution_count": 115,
   "metadata": {},
   "outputs": [],
   "source": [
    "np.save(os.path.join(ego_dir, \"test_videos_array\"), test_videos_array)\n",
    "np.save(os.path.join(ego_dir, \"train_videos_array\"), train_videos_array)\n",
    "np.save(os.path.join(ego_dir, \"valid_videos_array\"), valid_videos_array)"
   ]
  },
  {
   "cell_type": "code",
   "execution_count": 124,
   "metadata": {},
   "outputs": [],
   "source": [
    "train_videos_ego = np.load(os.path.join(ego_dir,\"train_videos_array.npy\"))\n",
    "test_videos_ego = np.load(os.path.join(ego_dir,\"test_videos_array.npy\"))\n",
    "valid_videos_ego = np.load(os.path.join(ego_dir,\"valid_videos_array.npy\"))"
   ]
  },
  {
   "attachments": {},
   "cell_type": "markdown",
   "metadata": {},
   "source": [
    "#### creo dataframe che associ ogni video alla sua label, per quelli di test, train e validation"
   ]
  },
  {
   "cell_type": "code",
   "execution_count": 45,
   "metadata": {},
   "outputs": [],
   "source": [
    "def apply_label(vid, label, videos_labels):\n",
    "\n",
    "    #print(\"label:\", label, \"dict:\", label_dict[label])\n",
    "    videos_labels[label_dict[label]].append(vid)\n",
    "       \n",
    "    return videos_labels"
   ]
  },
  {
   "cell_type": "code",
   "execution_count": null,
   "metadata": {},
   "outputs": [],
   "source": [
    "GESTDIR = r\"D:\\TMS\\dataset\\egogesture\\gestures\"\n",
    "\n",
    "#TODO: soluzione artigianale ma cambiare non si può vedere\n",
    "\n",
    "train_videos_23 = []\n",
    "train_videos_38 = []\n",
    "train_videos_52 = []\n",
    "train_videos_53 = []\n",
    "\n",
    "test_videos_23 = []\n",
    "test_videos_38 = []\n",
    "test_videos_52 = []\n",
    "test_videos_53 = []\n",
    "\n",
    "valid_videos_23 = []\n",
    "valid_videos_38 = []\n",
    "valid_videos_52 = []\n",
    "valid_videos_53 = []\n",
    "\n",
    "# mi serve a contare il numero dei video per ogni label\n",
    "videos_labels_train = [train_videos_23, train_videos_38, train_videos_52, train_videos_53]\n",
    "videos_labels_test = [test_videos_23, test_videos_38, test_videos_52, test_videos_53]\n",
    "videos_labels_validation = [valid_videos_23, valid_videos_38, valid_videos_52, valid_videos_53]\n",
    "\n",
    "for label in labels_num:\n",
    "    label_path = os.path.join(GESTDIR, str(label))\n",
    "\n",
    "    for set_fold in os.listdir(label_path):\n",
    "        sets_path = os.path.join(label_path, set_fold)\n",
    "        \n",
    "        for subj in os.listdir(sets_path):\n",
    "            subj_path = os.path.join(sets_path, subj)\n",
    "\n",
    "            for vid in os.listdir(subj_path):         \n",
    "                \n",
    "                if subj in train_subjects_string:\n",
    "                    apply_label(vid, int(label), videos_labels_train)\n",
    "                elif subj in test_subjects_string:\n",
    "                    apply_label(vid, int(label), videos_labels_test)\n",
    "                elif subj in valid_subjects_string:\n",
    "                    apply_label(vid, int(label), videos_labels_validation)\n",
    "\n",
    "#in videos_labels_x[i] ci sono tutti i video per ogni label i-esima\n",
    "sum_train = 0\n",
    "for i in range(0, 4):\n",
    "    #print(\"\\ntrain:\", labels_num[i], sorted(videos_labels_train[i], key = int))\n",
    "    print(labels_num[i], len(videos_labels_train[i]))\n",
    "    sum_train += len(videos_labels_train[i])\n",
    "print(\"sum train:\", sum_train, \"\\n\")\n",
    "\n",
    "sum_test = 0\n",
    "for i in range(0, 4):\n",
    "    #print(\"\\ntest:\", labels_num[i], sorted(videos_labels_test[i], key = int))\n",
    "    print(labels_num[i], len(videos_labels_test[i]))\n",
    "    sum_test += len(videos_labels_test[i])\n",
    "print(\"sum test:\", sum_test, \"\\n\")\n",
    "\n",
    "sum_valid = 0\n",
    "for i in range(0, 4):\n",
    "    #print(\"\\ntest:\", labels_num[i], sorted(videos_labels_valid[i], key = int))\n",
    "    print(labels_num[i], len(videos_labels_validation[i]))\n",
    "    sum_valid += len(videos_labels_validation[i])\n",
    "print(\"sum valid:\", sum_valid, \"\\n\")"
   ]
  },
  {
   "attachments": {},
   "cell_type": "markdown",
   "metadata": {},
   "source": [
    "##### quante occorrenze per ogni gesto?"
   ]
  },
  {
   "attachments": {},
   "cell_type": "markdown",
   "metadata": {},
   "source": [
    "- **23**: 584\n",
    "    - *training*: 350\n",
    "    - *test*: 120\n",
    "    - *validation*: 114\n",
    "- **38**: 580\n",
    "    - *training*: 346\n",
    "    - *test*: 118\n",
    "    - *validation*: 116\n",
    "- **52**: 582\n",
    "    - *training*: 346\n",
    "    - *test*: 120\n",
    "    - *validation*: 116\n",
    "- **53**: 586\n",
    "    - *training*: 350\n",
    "    - *test*: 120\n",
    "    - *validation*: 116"
   ]
  },
  {
   "attachments": {},
   "cell_type": "markdown",
   "metadata": {},
   "source": [
    "##### creo le label da associare ad ogni video e da dare in input alla rete neurale LSTM:\n",
    "- poichè i video sono ordinati per label, mi basta creare un dataframe dove concateno il nome di tutte le label per x volte\n",
    "    - ovvero per tutti i video che ho per quella classe (scritto sopra)"
   ]
  },
  {
   "cell_type": "code",
   "execution_count": null,
   "metadata": {},
   "outputs": [],
   "source": [
    "# uso le label categoriche al posto di quelle numeriche (TODO SUPERFLUO, ma c'è codice già scritto sotto...)\n",
    "train_label_23 = [ego_labels[0]] * 350\n",
    "train_label_38 = [ego_labels[1]] * 346\n",
    "train_label_52 = [ego_labels[2]] * 346\n",
    "train_label_53 = [ego_labels[3]] * 350\n",
    "\n",
    "# creata lista che contiene tutte le occorrenze di ogni label, già ordinate (come scritto sopra)\n",
    "train_labels_list = train_label_23+train_label_38+train_label_52+train_label_53\n",
    "\n",
    "# creo dataframe\n",
    "train_label_df = pd.DataFrame(train_labels_list, columns=[\"label\"])\n",
    "print(train_label_df)"
   ]
  },
  {
   "cell_type": "code",
   "execution_count": null,
   "metadata": {},
   "outputs": [],
   "source": [
    "# uso le label categoriche al posto di quelle numeriche (TODO SUPERFLUO, ma c'è codice già scritto sotto...)\n",
    "test_label_23 = [ego_labels[0]] * 120\n",
    "test_label_38 = [ego_labels[1]] * 118\n",
    "test_label_52 = [ego_labels[2]] * 120\n",
    "test_label_53 = [ego_labels[3]] * 120\n",
    "\n",
    "# creata lista che contiene tutte le occorrenze di ogni label, già ordinate (come scritto sopra)\n",
    "test_labels_list = test_label_23+test_label_38+test_label_52+test_label_53\n",
    "\n",
    "# creo dataframe\n",
    "test_label_df = pd.DataFrame(test_labels_list, columns=[\"label\"])\n",
    "print(test_label_df)"
   ]
  },
  {
   "attachments": {},
   "cell_type": "markdown",
   "metadata": {},
   "source": [
    "## 8.2. Jester"
   ]
  },
  {
   "cell_type": "code",
   "execution_count": 238,
   "metadata": {},
   "outputs": [],
   "source": [
    "def insert_all_in_array(actual_video_type):\n",
    "\n",
    "    videos_type = []\n",
    "\n",
    "    for vid in actual_video_type: \n",
    "\n",
    "        window_type = [] #rappresenta un unico video: insieme di X frame\n",
    "\n",
    "        #num_frames = len(os.listdir(os.path.join(DATADIR, str(vid))))\n",
    "        #print(num_frames)\n",
    "\n",
    "        for frame_num in range(1, 31): #range(1, num_frames): #itero per tutti i frame estratti per quel video        \n",
    "            #faccio if perchè gli array dei keypoint sono salvati come '000xx.npy' e non come 'x.npy'-> #TODO rinominarli\n",
    "            if frame_num < 10:\n",
    "                res = np.load(os.path.join(DATADIR, str(vid), \"keypoints\", \"0000{}.npy\".format(frame_num)))\n",
    "                window_type.append(res)\n",
    "            else:\n",
    "                res = np.load(os.path.join(DATADIR, str(vid), \"keypoints\", \"000{}.npy\".format(frame_num)))\n",
    "                window_type.append(res)\n",
    "\n",
    "        videos_type.append(window_type)    \n",
    "        #labels.append(label_map[action]) #TODO come associare la label a ogni video??\n",
    "        # array monodimensionale (ci dice per ogni video quale azione è presente al suo interno: la prima, ... -> definizione di LABEL)\n",
    "\n",
    "    return videos_type, window_type"
   ]
  },
  {
   "cell_type": "code",
   "execution_count": 239,
   "metadata": {},
   "outputs": [],
   "source": [
    "train_videos_jester, train_window = insert_all_in_array(actual_train_video)\n",
    "test_videos_jester, test_window = insert_all_in_array(actual_test_video)"
   ]
  },
  {
   "cell_type": "code",
   "execution_count": 60,
   "metadata": {},
   "outputs": [],
   "source": [
    "np.save(os.path.join(BASEDIR, \"mytempfiles\", \"test_videos_jester\"), test_videos_jester)\n",
    "np.save(os.path.join(BASEDIR, \"mytempfiles\", \"train_videos_jester\"), train_videos_jester)"
   ]
  },
  {
   "cell_type": "code",
   "execution_count": 34,
   "metadata": {},
   "outputs": [],
   "source": [
    "train_videos_jester = np.load(os.path.join(BASEDIR, \"mytempfiles\", \"train_videos.npy\"))\n",
    "test_videos_jester = np.load(os.path.join(BASEDIR, \"mytempfiles\", \"test_videos.npy\"))"
   ]
  },
  {
   "cell_type": "code",
   "execution_count": 35,
   "metadata": {},
   "outputs": [
    {
     "name": "stdout",
     "output_type": "stream",
     "text": [
      "(3247, 30, 126)\n",
      "(408, 30, 126)\n"
     ]
    }
   ],
   "source": [
    "print(np.array(train_videos_jester).shape)\n",
    "print(np.array(test_videos_jester).shape)"
   ]
  },
  {
   "attachments": {},
   "cell_type": "markdown",
   "metadata": {},
   "source": [
    "##### quante occorrenze per ogni gesto?"
   ]
  },
  {
   "cell_type": "code",
   "execution_count": 36,
   "metadata": {},
   "outputs": [
    {
     "name": "stdout",
     "output_type": "stream",
     "text": [
      "Training:\n",
      "Thumb Up      1108\n",
      "Thumb Down    1092\n",
      "Stop Sign     1047\n",
      "Name: value, dtype: int64\n",
      "\n",
      "Test:\n",
      "Stop Sign     139\n",
      "Thumb Up      136\n",
      "Thumb Down    133\n",
      "Name: value, dtype: int64\n"
     ]
    }
   ],
   "source": [
    "print(\"Training:\")\n",
    "print(my_train_file2[\"value\"].value_counts())\n",
    "print(\"\\nTest:\")\n",
    "print(my_test_file2[\"value\"].value_counts())"
   ]
  },
  {
   "attachments": {},
   "cell_type": "markdown",
   "metadata": {},
   "source": [
    "per l'insieme di **Training**:\n",
    "- *Thumb Up*: 1108\n",
    "- *Thumb Down*: 1092\n",
    "- *Stop Sign*: 1047\n",
    "\n",
    "per l'insieme di **Test**:\n",
    "- *Thumb Up*: 139\n",
    "- *Thumb Down*: 136\n",
    "- *Stop Sign*: 133"
   ]
  },
  {
   "attachments": {},
   "cell_type": "markdown",
   "metadata": {},
   "source": [
    "## **TEMP SECTION**"
   ]
  },
  {
   "cell_type": "code",
   "execution_count": 38,
   "metadata": {},
   "outputs": [],
   "source": [
    "X_train = np.array(train_videos_jester)\n",
    "X_test = np.array(test_videos_jester)"
   ]
  },
  {
   "cell_type": "code",
   "execution_count": 39,
   "metadata": {},
   "outputs": [],
   "source": [
    "from sklearn.preprocessing import LabelEncoder\n",
    " \n",
    "# Creating a instance of label Encoder.\n",
    "le = LabelEncoder()\n",
    " \n",
    "# Using .fit_transform function to fit label\n",
    "# encoder and return encoded label\n",
    "label_train = le.fit_transform(my_train_file2['value']) \n",
    "label_test = le.fit_transform(my_test_file2['value'])"
   ]
  },
  {
   "cell_type": "code",
   "execution_count": 40,
   "metadata": {},
   "outputs": [],
   "source": [
    "y_train = to_categorical(label_train).astype(int)\n",
    "y_test = to_categorical(label_test).astype(int)"
   ]
  },
  {
   "cell_type": "code",
   "execution_count": 41,
   "metadata": {},
   "outputs": [],
   "source": [
    "from keras.models import Sequential\n",
    "from keras.layers import LSTM, Dense, SimpleRNN\n",
    "from keras.callbacks import TensorBoard\n",
    "from keras.layers import Dropout"
   ]
  },
  {
   "cell_type": "code",
   "execution_count": 42,
   "metadata": {},
   "outputs": [],
   "source": [
    "log_dir = os.path.join(r\"C:\\Users\\follo\\OneDrive\\Documenti\\GitHub\\HGR-4-Social-Robotics\\Logs\", \"RNN\")\n",
    "tb_callback = TensorBoard(log_dir=log_dir)"
   ]
  },
  {
   "cell_type": "code",
   "execution_count": 43,
   "metadata": {},
   "outputs": [],
   "source": [
    "#definiamo l'architettura del modello\n",
    "model_Rnn= Sequential()\n",
    "\n",
    "model_Rnn.add(SimpleRNN(64, return_sequences=True, activation='relu', input_shape=(30,126)))\n",
    "model_Rnn.add(SimpleRNN(128, return_sequences=True, activation='relu'))\n",
    "model_Rnn.add(SimpleRNN(64, return_sequences=False, activation='relu'))\n",
    "model_Rnn.add(Dense(64, activation='relu'))\n",
    "model_Rnn.add(Dense(32, activation='relu'))\n",
    "model_Rnn.add(Dense(jester_gestures.shape[0], activation='softmax'))"
   ]
  },
  {
   "cell_type": "code",
   "execution_count": 44,
   "metadata": {},
   "outputs": [],
   "source": [
    "model_Rnn.compile(optimizer ='Adam', \n",
    "              loss='categorical_crossentropy',\n",
    "              metrics=['categorical_accuracy']) "
   ]
  },
  {
   "cell_type": "code",
   "execution_count": 45,
   "metadata": {},
   "outputs": [
    {
     "name": "stdout",
     "output_type": "stream",
     "text": [
      "Epoch 1/100\n",
      "102/102 [==============================] - 6s 21ms/step - loss: 0.4786 - categorical_accuracy: 0.8072\n",
      "Epoch 2/100\n",
      "102/102 [==============================] - 2s 21ms/step - loss: 0.2494 - categorical_accuracy: 0.8971\n",
      "Epoch 3/100\n",
      "102/102 [==============================] - 2s 19ms/step - loss: 0.3159 - categorical_accuracy: 0.8817\n",
      "Epoch 4/100\n",
      "102/102 [==============================] - 2s 20ms/step - loss: 0.2135 - categorical_accuracy: 0.9088\n",
      "Epoch 5/100\n",
      "102/102 [==============================] - 2s 19ms/step - loss: 0.2034 - categorical_accuracy: 0.9144\n",
      "Epoch 6/100\n",
      "102/102 [==============================] - 2s 20ms/step - loss: 0.2568 - categorical_accuracy: 0.9018\n",
      "Epoch 7/100\n",
      "102/102 [==============================] - 2s 20ms/step - loss: 0.1925 - categorical_accuracy: 0.9122\n",
      "Epoch 8/100\n",
      "102/102 [==============================] - 2s 19ms/step - loss: 0.1852 - categorical_accuracy: 0.9181\n",
      "Epoch 9/100\n",
      "102/102 [==============================] - 2s 19ms/step - loss: 0.1863 - categorical_accuracy: 0.9141\n",
      "Epoch 10/100\n",
      "102/102 [==============================] - 2s 22ms/step - loss: 0.1960 - categorical_accuracy: 0.9156\n",
      "Epoch 11/100\n",
      "102/102 [==============================] - 2s 19ms/step - loss: 0.2048 - categorical_accuracy: 0.9178\n",
      "Epoch 12/100\n",
      "102/102 [==============================] - 2s 20ms/step - loss: 0.2742 - categorical_accuracy: 0.8894\n",
      "Epoch 13/100\n",
      "102/102 [==============================] - 2s 20ms/step - loss: 0.2279 - categorical_accuracy: 0.8937\n",
      "Epoch 14/100\n",
      "102/102 [==============================] - 2s 20ms/step - loss: 0.1898 - categorical_accuracy: 0.9202\n",
      "Epoch 15/100\n",
      "102/102 [==============================] - 2s 20ms/step - loss: 0.1736 - categorical_accuracy: 0.9172\n",
      "Epoch 16/100\n",
      "102/102 [==============================] - 2s 20ms/step - loss: 0.1689 - categorical_accuracy: 0.9205\n",
      "Epoch 17/100\n",
      "102/102 [==============================] - 2s 19ms/step - loss: 0.8869 - categorical_accuracy: 0.7213\n",
      "Epoch 18/100\n",
      "102/102 [==============================] - 2s 21ms/step - loss: 0.3437 - categorical_accuracy: 0.8642\n",
      "Epoch 19/100\n",
      "102/102 [==============================] - 2s 20ms/step - loss: 0.3365 - categorical_accuracy: 0.8716\n",
      "Epoch 20/100\n",
      "102/102 [==============================] - 2s 22ms/step - loss: 0.2472 - categorical_accuracy: 0.8993\n",
      "Epoch 21/100\n",
      "102/102 [==============================] - 2s 20ms/step - loss: 0.2026 - categorical_accuracy: 0.9172\n",
      "Epoch 22/100\n",
      "102/102 [==============================] - 2s 19ms/step - loss: 0.1945 - categorical_accuracy: 0.9184\n",
      "Epoch 23/100\n",
      "102/102 [==============================] - 2s 20ms/step - loss: 0.2148 - categorical_accuracy: 0.9079\n",
      "Epoch 24/100\n",
      "102/102 [==============================] - 2s 20ms/step - loss: 0.2553 - categorical_accuracy: 0.8910\n",
      "Epoch 25/100\n",
      "102/102 [==============================] - 2s 21ms/step - loss: 0.2157 - categorical_accuracy: 0.9064\n",
      "Epoch 26/100\n",
      "102/102 [==============================] - 2s 20ms/step - loss: 0.2529 - categorical_accuracy: 0.8851\n",
      "Epoch 27/100\n",
      "102/102 [==============================] - 2s 19ms/step - loss: 0.1797 - categorical_accuracy: 0.9187\n",
      "Epoch 28/100\n",
      "102/102 [==============================] - 2s 20ms/step - loss: 0.1670 - categorical_accuracy: 0.9209\n",
      "Epoch 29/100\n",
      "102/102 [==============================] - 2s 20ms/step - loss: 0.1564 - categorical_accuracy: 0.9239\n",
      "Epoch 30/100\n",
      "102/102 [==============================] - 2s 20ms/step - loss: 0.1868 - categorical_accuracy: 0.9165\n",
      "Epoch 31/100\n",
      "102/102 [==============================] - 2s 20ms/step - loss: 0.1648 - categorical_accuracy: 0.9215\n",
      "Epoch 32/100\n",
      "102/102 [==============================] - 2s 19ms/step - loss: 0.1715 - categorical_accuracy: 0.9205\n",
      "Epoch 33/100\n",
      "102/102 [==============================] - 2s 21ms/step - loss: 0.2970 - categorical_accuracy: 0.8851\n",
      "Epoch 34/100\n",
      "102/102 [==============================] - 2s 19ms/step - loss: 0.2386 - categorical_accuracy: 0.8882\n",
      "Epoch 35/100\n",
      "102/102 [==============================] - 2s 19ms/step - loss: 0.2891 - categorical_accuracy: 0.8682\n",
      "Epoch 36/100\n",
      "102/102 [==============================] - 2s 21ms/step - loss: 0.2578 - categorical_accuracy: 0.8922\n",
      "Epoch 37/100\n",
      "102/102 [==============================] - 2s 20ms/step - loss: 0.2025 - categorical_accuracy: 0.9061\n",
      "Epoch 38/100\n",
      "102/102 [==============================] - 2s 20ms/step - loss: 0.1976 - categorical_accuracy: 0.9122\n",
      "Epoch 39/100\n",
      "102/102 [==============================] - 2s 20ms/step - loss: 0.1872 - categorical_accuracy: 0.9128\n",
      "Epoch 40/100\n",
      "102/102 [==============================] - 2s 20ms/step - loss: 0.1797 - categorical_accuracy: 0.9181\n",
      "Epoch 41/100\n",
      "102/102 [==============================] - 2s 20ms/step - loss: 0.1634 - categorical_accuracy: 0.9199\n",
      "Epoch 42/100\n",
      "102/102 [==============================] - 2s 20ms/step - loss: 0.1569 - categorical_accuracy: 0.9270\n",
      "Epoch 43/100\n",
      "102/102 [==============================] - 2s 19ms/step - loss: 0.1608 - categorical_accuracy: 0.9295\n",
      "Epoch 44/100\n",
      "102/102 [==============================] - 2s 21ms/step - loss: 0.1518 - categorical_accuracy: 0.9304\n",
      "Epoch 45/100\n",
      "102/102 [==============================] - 2s 20ms/step - loss: 0.1786 - categorical_accuracy: 0.9187\n",
      "Epoch 46/100\n",
      "102/102 [==============================] - 2s 20ms/step - loss: 0.2152 - categorical_accuracy: 0.9055\n",
      "Epoch 47/100\n",
      "102/102 [==============================] - 2s 20ms/step - loss: 0.4025 - categorical_accuracy: 0.8559\n",
      "Epoch 48/100\n",
      "102/102 [==============================] - 2s 20ms/step - loss: 0.2406 - categorical_accuracy: 0.9067\n",
      "Epoch 49/100\n",
      "102/102 [==============================] - 2s 21ms/step - loss: 0.2031 - categorical_accuracy: 0.9128\n",
      "Epoch 50/100\n",
      "102/102 [==============================] - 2s 20ms/step - loss: 0.2068 - categorical_accuracy: 0.9107\n",
      "Epoch 51/100\n",
      "102/102 [==============================] - 2s 21ms/step - loss: 0.2124 - categorical_accuracy: 0.9150\n",
      "Epoch 52/100\n",
      "102/102 [==============================] - 2s 20ms/step - loss: 0.2158 - categorical_accuracy: 0.9101\n",
      "Epoch 53/100\n",
      "102/102 [==============================] - 2s 20ms/step - loss: 0.1754 - categorical_accuracy: 0.9187\n",
      "Epoch 54/100\n",
      "102/102 [==============================] - 2s 20ms/step - loss: 0.1807 - categorical_accuracy: 0.9193\n",
      "Epoch 55/100\n",
      "102/102 [==============================] - 2s 20ms/step - loss: 0.1687 - categorical_accuracy: 0.9227\n",
      "Epoch 56/100\n",
      "102/102 [==============================] - 2s 20ms/step - loss: 0.1731 - categorical_accuracy: 0.9230\n",
      "Epoch 57/100\n",
      "102/102 [==============================] - 2s 21ms/step - loss: 0.1573 - categorical_accuracy: 0.9276\n",
      "Epoch 58/100\n",
      "102/102 [==============================] - 2s 20ms/step - loss: 0.1584 - categorical_accuracy: 0.9289\n",
      "Epoch 59/100\n",
      "102/102 [==============================] - 2s 22ms/step - loss: 0.1534 - categorical_accuracy: 0.9273\n",
      "Epoch 60/100\n",
      "102/102 [==============================] - 2s 20ms/step - loss: 0.2922 - categorical_accuracy: 0.8993\n",
      "Epoch 61/100\n",
      "102/102 [==============================] - 2s 21ms/step - loss: 0.2057 - categorical_accuracy: 0.9132\n",
      "Epoch 62/100\n",
      "102/102 [==============================] - 2s 22ms/step - loss: 0.1845 - categorical_accuracy: 0.9227\n",
      "Epoch 63/100\n",
      "102/102 [==============================] - 2s 21ms/step - loss: 0.1761 - categorical_accuracy: 0.9212\n",
      "Epoch 64/100\n",
      "102/102 [==============================] - 2s 22ms/step - loss: 0.2023 - categorical_accuracy: 0.9138\n",
      "Epoch 65/100\n",
      "102/102 [==============================] - 2s 21ms/step - loss: 0.1642 - categorical_accuracy: 0.9159\n",
      "Epoch 66/100\n",
      "102/102 [==============================] - 2s 22ms/step - loss: 0.1607 - categorical_accuracy: 0.9224\n",
      "Epoch 67/100\n",
      "102/102 [==============================] - 2s 23ms/step - loss: 0.2176 - categorical_accuracy: 0.9008\n",
      "Epoch 68/100\n",
      "102/102 [==============================] - 2s 23ms/step - loss: 0.1864 - categorical_accuracy: 0.9190\n",
      "Epoch 69/100\n",
      "102/102 [==============================] - 2s 22ms/step - loss: 0.1707 - categorical_accuracy: 0.9230\n",
      "Epoch 70/100\n",
      "102/102 [==============================] - 2s 21ms/step - loss: 0.1581 - categorical_accuracy: 0.9304\n",
      "Epoch 71/100\n",
      "102/102 [==============================] - 2s 24ms/step - loss: 0.3005 - categorical_accuracy: 0.8845\n",
      "Epoch 72/100\n",
      "102/102 [==============================] - 2s 22ms/step - loss: 0.3542 - categorical_accuracy: 0.8306\n",
      "Epoch 73/100\n",
      "102/102 [==============================] - 2s 21ms/step - loss: 0.2527 - categorical_accuracy: 0.8925\n",
      "Epoch 74/100\n",
      "102/102 [==============================] - 2s 24ms/step - loss: 0.2037 - categorical_accuracy: 0.9036\n",
      "Epoch 75/100\n",
      "102/102 [==============================] - 2s 21ms/step - loss: 0.1896 - categorical_accuracy: 0.9162\n",
      "Epoch 76/100\n",
      "102/102 [==============================] - 2s 22ms/step - loss: 0.1841 - categorical_accuracy: 0.9221\n",
      "Epoch 77/100\n",
      "102/102 [==============================] - 2s 24ms/step - loss: 0.2060 - categorical_accuracy: 0.9168\n",
      "Epoch 78/100\n",
      "102/102 [==============================] - 2s 25ms/step - loss: 0.1926 - categorical_accuracy: 0.9193\n",
      "Epoch 79/100\n",
      "102/102 [==============================] - 2s 23ms/step - loss: 0.1779 - categorical_accuracy: 0.9221\n",
      "Epoch 80/100\n",
      "102/102 [==============================] - 2s 23ms/step - loss: 0.1984 - categorical_accuracy: 0.9095\n",
      "Epoch 81/100\n",
      "102/102 [==============================] - 2s 24ms/step - loss: 0.1796 - categorical_accuracy: 0.9165\n",
      "Epoch 82/100\n",
      " 69/102 [===================>..........] - ETA: 0s - loss: 0.1736 - categorical_accuracy: 0.9194"
     ]
    },
    {
     "ename": "KeyboardInterrupt",
     "evalue": "",
     "output_type": "error",
     "traceback": [
      "\u001b[1;31m---------------------------------------------------------------------------\u001b[0m",
      "\u001b[1;31mKeyboardInterrupt\u001b[0m                         Traceback (most recent call last)",
      "\u001b[1;32mc:\\Users\\follo\\OneDrive\\Documenti\\GitHub\\HGR-4-Social-Robotics\\mymodels\\HGR.ipynb Cell 218\u001b[0m in \u001b[0;36m1\n\u001b[1;32m----> <a href='vscode-notebook-cell:/c%3A/Users/follo/OneDrive/Documenti/GitHub/HGR-4-Social-Robotics/mymodels/HGR.ipynb#Y530sZmlsZQ%3D%3D?line=0'>1</a>\u001b[0m rnn_h \u001b[39m=\u001b[39m model_Rnn\u001b[39m.\u001b[39;49mfit(X_train, y_train, epochs\u001b[39m=\u001b[39;49m\u001b[39m100\u001b[39;49m, callbacks \u001b[39m=\u001b[39;49m[tb_callback])\n",
      "File \u001b[1;32m~\\AppData\\Local\\Packages\\PythonSoftwareFoundation.Python.3.10_qbz5n2kfra8p0\\LocalCache\\local-packages\\Python310\\site-packages\\keras\\utils\\traceback_utils.py:64\u001b[0m, in \u001b[0;36mfilter_traceback.<locals>.error_handler\u001b[1;34m(*args, **kwargs)\u001b[0m\n\u001b[0;32m     62\u001b[0m filtered_tb \u001b[39m=\u001b[39m \u001b[39mNone\u001b[39;00m\n\u001b[0;32m     63\u001b[0m \u001b[39mtry\u001b[39;00m:\n\u001b[1;32m---> 64\u001b[0m   \u001b[39mreturn\u001b[39;00m fn(\u001b[39m*\u001b[39margs, \u001b[39m*\u001b[39m\u001b[39m*\u001b[39mkwargs)\n\u001b[0;32m     65\u001b[0m \u001b[39mexcept\u001b[39;00m \u001b[39mException\u001b[39;00m \u001b[39mas\u001b[39;00m e:  \u001b[39m# pylint: disable=broad-except\u001b[39;00m\n\u001b[0;32m     66\u001b[0m   filtered_tb \u001b[39m=\u001b[39m _process_traceback_frames(e\u001b[39m.\u001b[39m__traceback__)\n",
      "File \u001b[1;32m~\\AppData\\Local\\Packages\\PythonSoftwareFoundation.Python.3.10_qbz5n2kfra8p0\\LocalCache\\local-packages\\Python310\\site-packages\\keras\\engine\\training.py:1409\u001b[0m, in \u001b[0;36mModel.fit\u001b[1;34m(self, x, y, batch_size, epochs, verbose, callbacks, validation_split, validation_data, shuffle, class_weight, sample_weight, initial_epoch, steps_per_epoch, validation_steps, validation_batch_size, validation_freq, max_queue_size, workers, use_multiprocessing)\u001b[0m\n\u001b[0;32m   1402\u001b[0m \u001b[39mwith\u001b[39;00m tf\u001b[39m.\u001b[39mprofiler\u001b[39m.\u001b[39mexperimental\u001b[39m.\u001b[39mTrace(\n\u001b[0;32m   1403\u001b[0m     \u001b[39m'\u001b[39m\u001b[39mtrain\u001b[39m\u001b[39m'\u001b[39m,\n\u001b[0;32m   1404\u001b[0m     epoch_num\u001b[39m=\u001b[39mepoch,\n\u001b[0;32m   1405\u001b[0m     step_num\u001b[39m=\u001b[39mstep,\n\u001b[0;32m   1406\u001b[0m     batch_size\u001b[39m=\u001b[39mbatch_size,\n\u001b[0;32m   1407\u001b[0m     _r\u001b[39m=\u001b[39m\u001b[39m1\u001b[39m):\n\u001b[0;32m   1408\u001b[0m   callbacks\u001b[39m.\u001b[39mon_train_batch_begin(step)\n\u001b[1;32m-> 1409\u001b[0m   tmp_logs \u001b[39m=\u001b[39m \u001b[39mself\u001b[39;49m\u001b[39m.\u001b[39;49mtrain_function(iterator)\n\u001b[0;32m   1410\u001b[0m   \u001b[39mif\u001b[39;00m data_handler\u001b[39m.\u001b[39mshould_sync:\n\u001b[0;32m   1411\u001b[0m     context\u001b[39m.\u001b[39masync_wait()\n",
      "File \u001b[1;32m~\\AppData\\Local\\Packages\\PythonSoftwareFoundation.Python.3.10_qbz5n2kfra8p0\\LocalCache\\local-packages\\Python310\\site-packages\\tensorflow\\python\\util\\traceback_utils.py:150\u001b[0m, in \u001b[0;36mfilter_traceback.<locals>.error_handler\u001b[1;34m(*args, **kwargs)\u001b[0m\n\u001b[0;32m    148\u001b[0m filtered_tb \u001b[39m=\u001b[39m \u001b[39mNone\u001b[39;00m\n\u001b[0;32m    149\u001b[0m \u001b[39mtry\u001b[39;00m:\n\u001b[1;32m--> 150\u001b[0m   \u001b[39mreturn\u001b[39;00m fn(\u001b[39m*\u001b[39margs, \u001b[39m*\u001b[39m\u001b[39m*\u001b[39mkwargs)\n\u001b[0;32m    151\u001b[0m \u001b[39mexcept\u001b[39;00m \u001b[39mException\u001b[39;00m \u001b[39mas\u001b[39;00m e:\n\u001b[0;32m    152\u001b[0m   filtered_tb \u001b[39m=\u001b[39m _process_traceback_frames(e\u001b[39m.\u001b[39m__traceback__)\n",
      "File \u001b[1;32m~\\AppData\\Local\\Packages\\PythonSoftwareFoundation.Python.3.10_qbz5n2kfra8p0\\LocalCache\\local-packages\\Python310\\site-packages\\tensorflow\\python\\eager\\def_function.py:915\u001b[0m, in \u001b[0;36mFunction.__call__\u001b[1;34m(self, *args, **kwds)\u001b[0m\n\u001b[0;32m    912\u001b[0m compiler \u001b[39m=\u001b[39m \u001b[39m\"\u001b[39m\u001b[39mxla\u001b[39m\u001b[39m\"\u001b[39m \u001b[39mif\u001b[39;00m \u001b[39mself\u001b[39m\u001b[39m.\u001b[39m_jit_compile \u001b[39melse\u001b[39;00m \u001b[39m\"\u001b[39m\u001b[39mnonXla\u001b[39m\u001b[39m\"\u001b[39m\n\u001b[0;32m    914\u001b[0m \u001b[39mwith\u001b[39;00m OptionalXlaContext(\u001b[39mself\u001b[39m\u001b[39m.\u001b[39m_jit_compile):\n\u001b[1;32m--> 915\u001b[0m   result \u001b[39m=\u001b[39m \u001b[39mself\u001b[39m\u001b[39m.\u001b[39m_call(\u001b[39m*\u001b[39margs, \u001b[39m*\u001b[39m\u001b[39m*\u001b[39mkwds)\n\u001b[0;32m    917\u001b[0m new_tracing_count \u001b[39m=\u001b[39m \u001b[39mself\u001b[39m\u001b[39m.\u001b[39mexperimental_get_tracing_count()\n\u001b[0;32m    918\u001b[0m without_tracing \u001b[39m=\u001b[39m (tracing_count \u001b[39m==\u001b[39m new_tracing_count)\n",
      "File \u001b[1;32m~\\AppData\\Local\\Packages\\PythonSoftwareFoundation.Python.3.10_qbz5n2kfra8p0\\LocalCache\\local-packages\\Python310\\site-packages\\tensorflow\\python\\eager\\def_function.py:947\u001b[0m, in \u001b[0;36mFunction._call\u001b[1;34m(self, *args, **kwds)\u001b[0m\n\u001b[0;32m    944\u001b[0m   \u001b[39mself\u001b[39m\u001b[39m.\u001b[39m_lock\u001b[39m.\u001b[39mrelease()\n\u001b[0;32m    945\u001b[0m   \u001b[39m# In this case we have created variables on the first call, so we run the\u001b[39;00m\n\u001b[0;32m    946\u001b[0m   \u001b[39m# defunned version which is guaranteed to never create variables.\u001b[39;00m\n\u001b[1;32m--> 947\u001b[0m   \u001b[39mreturn\u001b[39;00m \u001b[39mself\u001b[39m\u001b[39m.\u001b[39m_stateless_fn(\u001b[39m*\u001b[39margs, \u001b[39m*\u001b[39m\u001b[39m*\u001b[39mkwds)  \u001b[39m# pylint: disable=not-callable\u001b[39;00m\n\u001b[0;32m    948\u001b[0m \u001b[39melif\u001b[39;00m \u001b[39mself\u001b[39m\u001b[39m.\u001b[39m_stateful_fn \u001b[39mis\u001b[39;00m \u001b[39mnot\u001b[39;00m \u001b[39mNone\u001b[39;00m:\n\u001b[0;32m    949\u001b[0m   \u001b[39m# Release the lock early so that multiple threads can perform the call\u001b[39;00m\n\u001b[0;32m    950\u001b[0m   \u001b[39m# in parallel.\u001b[39;00m\n\u001b[0;32m    951\u001b[0m   \u001b[39mself\u001b[39m\u001b[39m.\u001b[39m_lock\u001b[39m.\u001b[39mrelease()\n",
      "File \u001b[1;32m~\\AppData\\Local\\Packages\\PythonSoftwareFoundation.Python.3.10_qbz5n2kfra8p0\\LocalCache\\local-packages\\Python310\\site-packages\\tensorflow\\python\\eager\\function.py:2453\u001b[0m, in \u001b[0;36mFunction.__call__\u001b[1;34m(self, *args, **kwargs)\u001b[0m\n\u001b[0;32m   2450\u001b[0m \u001b[39mwith\u001b[39;00m \u001b[39mself\u001b[39m\u001b[39m.\u001b[39m_lock:\n\u001b[0;32m   2451\u001b[0m   (graph_function,\n\u001b[0;32m   2452\u001b[0m    filtered_flat_args) \u001b[39m=\u001b[39m \u001b[39mself\u001b[39m\u001b[39m.\u001b[39m_maybe_define_function(args, kwargs)\n\u001b[1;32m-> 2453\u001b[0m \u001b[39mreturn\u001b[39;00m graph_function\u001b[39m.\u001b[39;49m_call_flat(\n\u001b[0;32m   2454\u001b[0m     filtered_flat_args, captured_inputs\u001b[39m=\u001b[39;49mgraph_function\u001b[39m.\u001b[39;49mcaptured_inputs)\n",
      "File \u001b[1;32m~\\AppData\\Local\\Packages\\PythonSoftwareFoundation.Python.3.10_qbz5n2kfra8p0\\LocalCache\\local-packages\\Python310\\site-packages\\tensorflow\\python\\eager\\function.py:1860\u001b[0m, in \u001b[0;36mConcreteFunction._call_flat\u001b[1;34m(self, args, captured_inputs, cancellation_manager)\u001b[0m\n\u001b[0;32m   1856\u001b[0m possible_gradient_type \u001b[39m=\u001b[39m gradients_util\u001b[39m.\u001b[39mPossibleTapeGradientTypes(args)\n\u001b[0;32m   1857\u001b[0m \u001b[39mif\u001b[39;00m (possible_gradient_type \u001b[39m==\u001b[39m gradients_util\u001b[39m.\u001b[39mPOSSIBLE_GRADIENT_TYPES_NONE\n\u001b[0;32m   1858\u001b[0m     \u001b[39mand\u001b[39;00m executing_eagerly):\n\u001b[0;32m   1859\u001b[0m   \u001b[39m# No tape is watching; skip to running the function.\u001b[39;00m\n\u001b[1;32m-> 1860\u001b[0m   \u001b[39mreturn\u001b[39;00m \u001b[39mself\u001b[39m\u001b[39m.\u001b[39m_build_call_outputs(\u001b[39mself\u001b[39;49m\u001b[39m.\u001b[39;49m_inference_function\u001b[39m.\u001b[39;49mcall(\n\u001b[0;32m   1861\u001b[0m       ctx, args, cancellation_manager\u001b[39m=\u001b[39;49mcancellation_manager))\n\u001b[0;32m   1862\u001b[0m forward_backward \u001b[39m=\u001b[39m \u001b[39mself\u001b[39m\u001b[39m.\u001b[39m_select_forward_and_backward_functions(\n\u001b[0;32m   1863\u001b[0m     args,\n\u001b[0;32m   1864\u001b[0m     possible_gradient_type,\n\u001b[0;32m   1865\u001b[0m     executing_eagerly)\n\u001b[0;32m   1866\u001b[0m forward_function, args_with_tangents \u001b[39m=\u001b[39m forward_backward\u001b[39m.\u001b[39mforward()\n",
      "File \u001b[1;32m~\\AppData\\Local\\Packages\\PythonSoftwareFoundation.Python.3.10_qbz5n2kfra8p0\\LocalCache\\local-packages\\Python310\\site-packages\\tensorflow\\python\\eager\\function.py:497\u001b[0m, in \u001b[0;36m_EagerDefinedFunction.call\u001b[1;34m(self, ctx, args, cancellation_manager)\u001b[0m\n\u001b[0;32m    495\u001b[0m \u001b[39mwith\u001b[39;00m _InterpolateFunctionError(\u001b[39mself\u001b[39m):\n\u001b[0;32m    496\u001b[0m   \u001b[39mif\u001b[39;00m cancellation_manager \u001b[39mis\u001b[39;00m \u001b[39mNone\u001b[39;00m:\n\u001b[1;32m--> 497\u001b[0m     outputs \u001b[39m=\u001b[39m execute\u001b[39m.\u001b[39;49mexecute(\n\u001b[0;32m    498\u001b[0m         \u001b[39mstr\u001b[39;49m(\u001b[39mself\u001b[39;49m\u001b[39m.\u001b[39;49msignature\u001b[39m.\u001b[39;49mname),\n\u001b[0;32m    499\u001b[0m         num_outputs\u001b[39m=\u001b[39;49m\u001b[39mself\u001b[39;49m\u001b[39m.\u001b[39;49m_num_outputs,\n\u001b[0;32m    500\u001b[0m         inputs\u001b[39m=\u001b[39;49margs,\n\u001b[0;32m    501\u001b[0m         attrs\u001b[39m=\u001b[39;49mattrs,\n\u001b[0;32m    502\u001b[0m         ctx\u001b[39m=\u001b[39;49mctx)\n\u001b[0;32m    503\u001b[0m   \u001b[39melse\u001b[39;00m:\n\u001b[0;32m    504\u001b[0m     outputs \u001b[39m=\u001b[39m execute\u001b[39m.\u001b[39mexecute_with_cancellation(\n\u001b[0;32m    505\u001b[0m         \u001b[39mstr\u001b[39m(\u001b[39mself\u001b[39m\u001b[39m.\u001b[39msignature\u001b[39m.\u001b[39mname),\n\u001b[0;32m    506\u001b[0m         num_outputs\u001b[39m=\u001b[39m\u001b[39mself\u001b[39m\u001b[39m.\u001b[39m_num_outputs,\n\u001b[1;32m   (...)\u001b[0m\n\u001b[0;32m    509\u001b[0m         ctx\u001b[39m=\u001b[39mctx,\n\u001b[0;32m    510\u001b[0m         cancellation_manager\u001b[39m=\u001b[39mcancellation_manager)\n",
      "File \u001b[1;32m~\\AppData\\Local\\Packages\\PythonSoftwareFoundation.Python.3.10_qbz5n2kfra8p0\\LocalCache\\local-packages\\Python310\\site-packages\\tensorflow\\python\\eager\\execute.py:54\u001b[0m, in \u001b[0;36mquick_execute\u001b[1;34m(op_name, num_outputs, inputs, attrs, ctx, name)\u001b[0m\n\u001b[0;32m     52\u001b[0m \u001b[39mtry\u001b[39;00m:\n\u001b[0;32m     53\u001b[0m   ctx\u001b[39m.\u001b[39mensure_initialized()\n\u001b[1;32m---> 54\u001b[0m   tensors \u001b[39m=\u001b[39m pywrap_tfe\u001b[39m.\u001b[39;49mTFE_Py_Execute(ctx\u001b[39m.\u001b[39;49m_handle, device_name, op_name,\n\u001b[0;32m     55\u001b[0m                                       inputs, attrs, num_outputs)\n\u001b[0;32m     56\u001b[0m \u001b[39mexcept\u001b[39;00m core\u001b[39m.\u001b[39m_NotOkStatusException \u001b[39mas\u001b[39;00m e:\n\u001b[0;32m     57\u001b[0m   \u001b[39mif\u001b[39;00m name \u001b[39mis\u001b[39;00m \u001b[39mnot\u001b[39;00m \u001b[39mNone\u001b[39;00m:\n",
      "\u001b[1;31mKeyboardInterrupt\u001b[0m: "
     ]
    }
   ],
   "source": [
    "rnn_h = model_Rnn.fit(X_train, y_train, epochs=100, callbacks =[tb_callback])"
   ]
  },
  {
   "cell_type": "code",
   "execution_count": 46,
   "metadata": {},
   "outputs": [
    {
     "name": "stdout",
     "output_type": "stream",
     "text": [
      "13/13 [==============================] - 1s 10ms/step\n"
     ]
    }
   ],
   "source": [
    "y_test_predict = model_Rnn.predict(X_test)"
   ]
  },
  {
   "cell_type": "code",
   "execution_count": 48,
   "metadata": {},
   "outputs": [
    {
     "data": {
      "text/plain": [
       "<sklearn.metrics._plot.confusion_matrix.ConfusionMatrixDisplay at 0x1c47d6cef20>"
      ]
     },
     "execution_count": 48,
     "metadata": {},
     "output_type": "execute_result"
    },
    {
     "data": {
      "image/png": "[encoded data removed]",
      "text/plain": [
       "<Figure size 640x480 with 2 Axes>"
      ]
     },
     "metadata": {},
     "output_type": "display_data"
    }
   ],
   "source": [
    "ConfusionMatrixDisplay.from_predictions(jester_gestures[np.argmax(y_test,axis =1).tolist()], \n",
    "                                        jester_gestures[np.argmax(y_test_predict, axis=1).tolist()], \n",
    "                                        cmap=plt.cm.Blues)"
   ]
  },
  {
   "cell_type": "code",
   "execution_count": 49,
   "metadata": {},
   "outputs": [
    {
     "name": "stdout",
     "output_type": "stream",
     "text": [
      "13/13 [==============================] - 0s 11ms/step\n"
     ]
    }
   ],
   "source": [
    "res = model_Rnn.predict(X_test)"
   ]
  },
  {
   "attachments": {},
   "cell_type": "markdown",
   "metadata": {},
   "source": [
    "## Create Input for our LSTM model"
   ]
  },
  {
   "attachments": {},
   "cell_type": "markdown",
   "metadata": {},
   "source": [
    "Dovremo concatenare le strutture dati ottenute per ogni dataset, al fine di ottenere:\n",
    "- per la variabile indipendente **X**, un array dove sono contenuti tutti i keypoints di tutti i video di ciascun dataset\n",
    "- per la variabile dipendente **Y**, una lista di label correttamente associate ai video di X"
   ]
  },
  {
   "attachments": {},
   "cell_type": "markdown",
   "metadata": {},
   "source": [
    "Infatti, considerando i due dataset, i video in totale diverranno:\n",
    "\n",
    "- **4639** video di Training\n",
    "    - 1392 di EgoGesture\n",
    "    - 3247 di Jester\n",
    "- **886** video di Test\n",
    "    - 478 di EgoGesture\n",
    "    - 408 di Jester\n",
    "\n",
    "Le diverse classi/label saranno infine **7**:\n",
    "- Thumb Up\n",
    "- Thumb Down\n",
    "- Stop Sign\n",
    "- Photo Frame\n",
    "- Heart\n",
    "- Mano del Gaucho\n",
    "- Applaud"
   ]
  },
  {
   "cell_type": "code",
   "execution_count": 241,
   "metadata": {},
   "outputs": [
    {
     "data": {
      "text/plain": [
       "array(['Photo Frame', 'Mano del Gaucho', 'Applaud', 'Heart', 'Thumb Down',\n",
       "       'Thumb Up'], dtype='<U15')"
      ]
     },
     "execution_count": 241,
     "metadata": {},
     "output_type": "execute_result"
    }
   ],
   "source": [
    "labels = np.concatenate((ego_labels, jester_gestures))\n",
    "labels"
   ]
  },
  {
   "attachments": {},
   "cell_type": "markdown",
   "metadata": {},
   "source": [
    "### Variabile indipendente, X"
   ]
  },
  {
   "cell_type": "code",
   "execution_count": 242,
   "metadata": {},
   "outputs": [],
   "source": [
    "X_train = np.concatenate((train_videos_ego, train_videos_jester))\n",
    "X_test = np.concatenate((test_videos_ego, test_videos_jester))"
   ]
  },
  {
   "cell_type": "code",
   "execution_count": 243,
   "metadata": {},
   "outputs": [
    {
     "name": "stdout",
     "output_type": "stream",
     "text": [
      "(3592, 30, 126)\n",
      "(747, 30, 126)\n"
     ]
    }
   ],
   "source": [
    "print(X_train.shape)\n",
    "print(X_test.shape)"
   ]
  },
  {
   "attachments": {},
   "cell_type": "markdown",
   "metadata": {},
   "source": [
    "Dopo aver concatenato i due array, avremo per l'**X di input**, la **shape** seguente:\n",
    "- **4639 / 886** video di Training / Test\n",
    "- **30** frame per video\n",
    "- **126** keypoints per ogni frame"
   ]
  },
  {
   "attachments": {},
   "cell_type": "markdown",
   "metadata": {},
   "source": [
    "### Variabile dipendente, Y"
   ]
  },
  {
   "attachments": {},
   "cell_type": "markdown",
   "metadata": {},
   "source": [
    "Concateno i due dataframe ottenuti precedentemente:"
   ]
  },
  {
   "cell_type": "code",
   "execution_count": 244,
   "metadata": {},
   "outputs": [],
   "source": [
    "final_train_df = pd.concat([train_label_df[\"label\"], my_train_file2[\"value\"]])\n",
    "final_test_df = pd.concat([test_label_df[\"label\"], my_test_file2[\"value\"]])"
   ]
  },
  {
   "cell_type": "code",
   "execution_count": 245,
   "metadata": {},
   "outputs": [],
   "source": [
    "# Creating a instance of label Encoder.\n",
    "le = LabelEncoder()\n",
    " \n",
    "# Using .fit_transform function to fit label\n",
    "# encoder and return encoded label\n",
    "label_train = le.fit_transform(final_train_df) \n",
    "label_test = le.fit_transform(final_test_df)"
   ]
  },
  {
   "attachments": {},
   "cell_type": "markdown",
   "metadata": {},
   "source": [
    "trasformo feature categoriche in feature numeriche (One Hot Encoding)"
   ]
  },
  {
   "cell_type": "code",
   "execution_count": 246,
   "metadata": {},
   "outputs": [],
   "source": [
    "y_train = to_categorical(label_train).astype(int)\n",
    "y_test = to_categorical(label_test).astype(int)"
   ]
  },
  {
   "cell_type": "code",
   "execution_count": 247,
   "metadata": {},
   "outputs": [
    {
     "data": {
      "text/plain": [
       "array([[0, 0, 0, 1, 0, 0],\n",
       "       [0, 0, 0, 1, 0, 0],\n",
       "       [0, 0, 0, 1, 0, 0],\n",
       "       ...,\n",
       "       [0, 0, 0, 0, 0, 1],\n",
       "       [0, 0, 0, 0, 0, 1],\n",
       "       [0, 0, 0, 0, 1, 0]])"
      ]
     },
     "execution_count": 247,
     "metadata": {},
     "output_type": "execute_result"
    }
   ],
   "source": [
    "y_train"
   ]
  },
  {
   "cell_type": "code",
   "execution_count": 248,
   "metadata": {},
   "outputs": [
    {
     "name": "stdout",
     "output_type": "stream",
     "text": [
      "(3592, 6)\n",
      "(747, 6)\n"
     ]
    }
   ],
   "source": [
    "print(y_train.shape)\n",
    "print(y_test.shape)"
   ]
  },
  {
   "attachments": {},
   "cell_type": "markdown",
   "metadata": {},
   "source": [
    "# 9. Build and Train LSTM Neural Network"
   ]
  },
  {
   "attachments": {},
   "cell_type": "markdown",
   "metadata": {},
   "source": [
    "Addestriamo la rete neurale (ricorrente) **LSTM**: \n",
    "\n",
    "- perchè usare MediaPipe Holistic + una rete neurale LSTM?\n",
    "    - occorrono *meno dati*\n",
    "    - più *veloce* nell'addestramento\n",
    "    - riconoscimento più *veloce* <- RN più *semplice*"
   ]
  },
  {
   "cell_type": "code",
   "execution_count": 249,
   "metadata": {},
   "outputs": [],
   "source": [
    "from keras.models import Sequential\n",
    "from keras.layers import LSTM, Dense\n",
    "from keras.callbacks import TensorBoard\n",
    "from keras.layers import Dropout"
   ]
  },
  {
   "attachments": {},
   "cell_type": "markdown",
   "metadata": {},
   "source": [
    "**TensorBoard** ci offre una web app per monitorare il nostro modello: addestramento, accuratezza, ... "
   ]
  },
  {
   "cell_type": "code",
   "execution_count": 189,
   "metadata": {},
   "outputs": [],
   "source": [
    "BASEDIR = r\"C:\\Users\\follo\\OneDrive\\Documenti\\GitHub\\HGR-4-Social-Robotics\""
   ]
  },
  {
   "cell_type": "code",
   "execution_count": 190,
   "metadata": {},
   "outputs": [],
   "source": [
    "log_dir = os.path.join(BASEDIR, \"Logs\")\n",
    "tb_callback = TensorBoard(log_dir=log_dir)"
   ]
  },
  {
   "cell_type": "code",
   "execution_count": 250,
   "metadata": {},
   "outputs": [],
   "source": [
    "# il modello Sequential ci permette di aggiungere layer in maniera organizzata e facile\n",
    "model = Sequential()\n",
    "\n",
    "#tre layer LSTM\n",
    "model.add(LSTM(64, return_sequences=True, activation='relu', input_shape = (30, 126))) #64 unità\n",
    "model.add(LSTM(128, return_sequences=True, activation='relu')) #return_sequences è necessario per il passaggio di dati al layer successivo\n",
    "model.add(LSTM(64, return_sequences=False, activation='relu'))\n",
    "\n",
    "#droppiamo casualmente dei nodi\n",
    "#model.add(Dropout(0.5))\n",
    "\n",
    "#tre layer Dense\n",
    "model.add(Dense(64, activation='relu'))\n",
    "model.add(Dense(32, activation='relu'))\n",
    "model.add(Dense(labels.shape[0], activation='softmax')) #distribuzione di probabilità che assegna ad ogni azione una certa prob."
   ]
  },
  {
   "attachments": {},
   "cell_type": "markdown",
   "metadata": {},
   "source": [
    "Compiliamo il modello, usando:\n",
    "\n",
    "- loss function: \"categorical cross entropy\"\n",
    "    - è obbligatoria per classificazione multi-classe"
   ]
  },
  {
   "cell_type": "code",
   "execution_count": 251,
   "metadata": {},
   "outputs": [],
   "source": [
    "model.compile(optimizer='Adam', loss='categorical_crossentropy', metrics=['categorical_accuracy'])"
   ]
  },
  {
   "cell_type": "code",
   "execution_count": 252,
   "metadata": {
    "scrolled": true
   },
   "outputs": [
    {
     "name": "stdout",
     "output_type": "stream",
     "text": [
      "Epoch 1/150\n",
      "113/113 [==============================] - 12s 60ms/step - loss: 1.4210 - categorical_accuracy: 0.5025\n",
      "Epoch 2/150\n",
      "113/113 [==============================] - 7s 58ms/step - loss: 0.9969 - categorical_accuracy: 0.6345\n",
      "Epoch 3/150\n",
      "113/113 [==============================] - 7s 60ms/step - loss: 0.7986 - categorical_accuracy: 0.7135\n",
      "Epoch 4/150\n",
      "113/113 [==============================] - 7s 59ms/step - loss: 0.7068 - categorical_accuracy: 0.7467\n",
      "Epoch 5/150\n",
      "113/113 [==============================] - 7s 60ms/step - loss: 0.8579 - categorical_accuracy: 0.7018\n",
      "Epoch 6/150\n",
      "113/113 [==============================] - 7s 60ms/step - loss: 0.7371 - categorical_accuracy: 0.7238\n",
      "Epoch 7/150\n",
      "113/113 [==============================] - 7s 59ms/step - loss: 0.6234 - categorical_accuracy: 0.7703\n",
      "Epoch 8/150\n",
      "113/113 [==============================] - 7s 59ms/step - loss: 0.6090 - categorical_accuracy: 0.7803\n",
      "Epoch 9/150\n",
      "113/113 [==============================] - 7s 59ms/step - loss: 0.5798 - categorical_accuracy: 0.7865\n",
      "Epoch 10/150\n",
      "113/113 [==============================] - 7s 60ms/step - loss: 0.5402 - categorical_accuracy: 0.8076\n",
      "Epoch 11/150\n",
      "113/113 [==============================] - 7s 59ms/step - loss: 0.5167 - categorical_accuracy: 0.8165\n",
      "Epoch 12/150\n",
      "113/113 [==============================] - 7s 60ms/step - loss: 0.4945 - categorical_accuracy: 0.8160\n",
      "Epoch 13/150\n",
      "113/113 [==============================] - 7s 66ms/step - loss: 0.5656 - categorical_accuracy: 0.7973\n",
      "Epoch 14/150\n",
      "113/113 [==============================] - 7s 60ms/step - loss: 0.4761 - categorical_accuracy: 0.8260\n",
      "Epoch 15/150\n",
      "113/113 [==============================] - 7s 60ms/step - loss: 0.4570 - categorical_accuracy: 0.8288\n",
      "Epoch 16/150\n",
      "113/113 [==============================] - 7s 60ms/step - loss: 0.4342 - categorical_accuracy: 0.8405\n",
      "Epoch 17/150\n",
      "113/113 [==============================] - 7s 60ms/step - loss: 0.4456 - categorical_accuracy: 0.8377\n",
      "Epoch 18/150\n",
      "113/113 [==============================] - 7s 60ms/step - loss: 0.4226 - categorical_accuracy: 0.8374\n",
      "Epoch 19/150\n",
      "113/113 [==============================] - 7s 60ms/step - loss: 0.4051 - categorical_accuracy: 0.8505\n",
      "Epoch 20/150\n",
      "113/113 [==============================] - 7s 60ms/step - loss: 0.4303 - categorical_accuracy: 0.8385\n",
      "Epoch 21/150\n",
      "113/113 [==============================] - 7s 60ms/step - loss: 0.4751 - categorical_accuracy: 0.8271\n",
      "Epoch 22/150\n",
      "113/113 [==============================] - 7s 60ms/step - loss: 0.4201 - categorical_accuracy: 0.8460\n",
      "Epoch 23/150\n",
      "113/113 [==============================] - 7s 60ms/step - loss: 0.4007 - categorical_accuracy: 0.8511\n",
      "Epoch 24/150\n",
      "113/113 [==============================] - 7s 59ms/step - loss: 0.4148 - categorical_accuracy: 0.8477\n",
      "Epoch 25/150\n",
      "113/113 [==============================] - 7s 60ms/step - loss: 0.3832 - categorical_accuracy: 0.8583\n",
      "Epoch 26/150\n",
      "113/113 [==============================] - 7s 59ms/step - loss: 0.3715 - categorical_accuracy: 0.8628\n",
      "Epoch 27/150\n",
      "113/113 [==============================] - 7s 61ms/step - loss: 0.3914 - categorical_accuracy: 0.8577\n",
      "Epoch 28/150\n",
      "113/113 [==============================] - 7s 60ms/step - loss: 0.3779 - categorical_accuracy: 0.8575\n",
      "Epoch 29/150\n",
      "113/113 [==============================] - 7s 60ms/step - loss: 0.5089 - categorical_accuracy: 0.8268\n",
      "Epoch 30/150\n",
      "113/113 [==============================] - 7s 60ms/step - loss: 0.5168 - categorical_accuracy: 0.8154\n",
      "Epoch 31/150\n",
      "113/113 [==============================] - 7s 59ms/step - loss: 0.3985 - categorical_accuracy: 0.8494\n",
      "Epoch 32/150\n",
      "113/113 [==============================] - 7s 60ms/step - loss: 0.4036 - categorical_accuracy: 0.8522\n",
      "Epoch 33/150\n",
      "113/113 [==============================] - 7s 60ms/step - loss: 0.3617 - categorical_accuracy: 0.8622\n",
      "Epoch 34/150\n",
      "113/113 [==============================] - 7s 60ms/step - loss: 0.3433 - categorical_accuracy: 0.8694\n",
      "Epoch 35/150\n",
      "113/113 [==============================] - 7s 61ms/step - loss: 0.3651 - categorical_accuracy: 0.8628\n",
      "Epoch 36/150\n",
      "113/113 [==============================] - 7s 59ms/step - loss: 0.3682 - categorical_accuracy: 0.8619\n",
      "Epoch 37/150\n",
      "113/113 [==============================] - 7s 60ms/step - loss: 0.4049 - categorical_accuracy: 0.8572\n",
      "Epoch 38/150\n",
      "113/113 [==============================] - 7s 60ms/step - loss: 0.3926 - categorical_accuracy: 0.8541\n",
      "Epoch 39/150\n",
      "113/113 [==============================] - 7s 59ms/step - loss: 0.3777 - categorical_accuracy: 0.8597\n",
      "Epoch 40/150\n",
      "113/113 [==============================] - 7s 60ms/step - loss: 0.4747 - categorical_accuracy: 0.8271\n",
      "Epoch 41/150\n",
      "113/113 [==============================] - 7s 59ms/step - loss: 0.4005 - categorical_accuracy: 0.8536\n",
      "Epoch 42/150\n",
      "113/113 [==============================] - 7s 61ms/step - loss: 0.3724 - categorical_accuracy: 0.8591\n",
      "Epoch 43/150\n",
      "113/113 [==============================] - 7s 61ms/step - loss: 0.3569 - categorical_accuracy: 0.8636\n",
      "Epoch 44/150\n",
      "113/113 [==============================] - 7s 60ms/step - loss: 0.3438 - categorical_accuracy: 0.8708\n",
      "Epoch 45/150\n",
      "113/113 [==============================] - 7s 60ms/step - loss: 0.3463 - categorical_accuracy: 0.8689\n",
      "Epoch 46/150\n",
      "113/113 [==============================] - 7s 60ms/step - loss: 0.3469 - categorical_accuracy: 0.8672\n",
      "Epoch 47/150\n",
      "113/113 [==============================] - 7s 60ms/step - loss: 0.3919 - categorical_accuracy: 0.8583\n",
      "Epoch 48/150\n",
      "113/113 [==============================] - 7s 60ms/step - loss: 0.3396 - categorical_accuracy: 0.8717\n",
      "Epoch 49/150\n",
      "113/113 [==============================] - 7s 60ms/step - loss: 0.3369 - categorical_accuracy: 0.8761\n",
      "Epoch 50/150\n",
      "113/113 [==============================] - 7s 60ms/step - loss: 0.3458 - categorical_accuracy: 0.8700\n",
      "Epoch 51/150\n",
      "113/113 [==============================] - 7s 61ms/step - loss: 0.3223 - categorical_accuracy: 0.8758\n",
      "Epoch 52/150\n",
      "113/113 [==============================] - 7s 63ms/step - loss: 0.3323 - categorical_accuracy: 0.8722\n",
      "Epoch 53/150\n",
      "113/113 [==============================] - 7s 60ms/step - loss: 1.2199 - categorical_accuracy: 0.8093\n",
      "Epoch 54/150\n",
      "113/113 [==============================] - 7s 62ms/step - loss: 0.4802 - categorical_accuracy: 0.8224\n",
      "Epoch 55/150\n",
      "113/113 [==============================] - 7s 60ms/step - loss: 0.5701 - categorical_accuracy: 0.8179\n",
      "Epoch 56/150\n",
      "113/113 [==============================] - 7s 62ms/step - loss: 0.5028 - categorical_accuracy: 0.8110\n",
      "Epoch 57/150\n",
      "113/113 [==============================] - 7s 61ms/step - loss: 0.4139 - categorical_accuracy: 0.8458\n",
      "Epoch 58/150\n",
      "113/113 [==============================] - 7s 61ms/step - loss: 0.3779 - categorical_accuracy: 0.8591\n",
      "Epoch 59/150\n",
      "113/113 [==============================] - 7s 62ms/step - loss: 0.3578 - categorical_accuracy: 0.8636\n",
      "Epoch 60/150\n",
      "113/113 [==============================] - 7s 63ms/step - loss: 0.5238 - categorical_accuracy: 0.8575\n",
      "Epoch 61/150\n",
      "113/113 [==============================] - 8s 68ms/step - loss: 0.3818 - categorical_accuracy: 0.8569\n",
      "Epoch 62/150\n",
      "113/113 [==============================] - 9s 82ms/step - loss: 0.3410 - categorical_accuracy: 0.8692\n",
      "Epoch 63/150\n",
      "113/113 [==============================] - 9s 81ms/step - loss: 0.3435 - categorical_accuracy: 0.8686\n",
      "Epoch 64/150\n",
      "113/113 [==============================] - 7s 61ms/step - loss: 0.3258 - categorical_accuracy: 0.8756\n",
      "Epoch 65/150\n",
      "113/113 [==============================] - 7s 61ms/step - loss: 0.3099 - categorical_accuracy: 0.8769\n",
      "Epoch 66/150\n",
      "113/113 [==============================] - 7s 60ms/step - loss: 0.3462 - categorical_accuracy: 0.8678\n",
      "Epoch 67/150\n",
      "113/113 [==============================] - 7s 61ms/step - loss: 0.3078 - categorical_accuracy: 0.8808\n",
      "Epoch 68/150\n",
      "113/113 [==============================] - 7s 65ms/step - loss: 0.3159 - categorical_accuracy: 0.8781\n",
      "Epoch 69/150\n",
      "113/113 [==============================] - 7s 60ms/step - loss: 0.3245 - categorical_accuracy: 0.8747\n",
      "Epoch 70/150\n",
      "113/113 [==============================] - 7s 64ms/step - loss: 0.3487 - categorical_accuracy: 0.8714\n",
      "Epoch 71/150\n",
      "113/113 [==============================] - 7s 63ms/step - loss: 0.3069 - categorical_accuracy: 0.8803\n",
      "Epoch 72/150\n",
      "113/113 [==============================] - 7s 60ms/step - loss: 0.3142 - categorical_accuracy: 0.8811\n",
      "Epoch 73/150\n",
      "113/113 [==============================] - 7s 61ms/step - loss: 0.8043 - categorical_accuracy: 0.7322\n",
      "Epoch 74/150\n",
      "113/113 [==============================] - 8s 69ms/step - loss: 0.6180 - categorical_accuracy: 0.7945\n",
      "Epoch 75/150\n",
      "113/113 [==============================] - 7s 61ms/step - loss: 6.0358 - categorical_accuracy: 0.7194\n",
      "Epoch 76/150\n",
      "113/113 [==============================] - 7s 65ms/step - loss: 0.5612 - categorical_accuracy: 0.8057\n",
      "Epoch 77/150\n",
      "113/113 [==============================] - 8s 67ms/step - loss: 0.4783 - categorical_accuracy: 0.8274\n",
      "Epoch 78/150\n",
      "113/113 [==============================] - 7s 65ms/step - loss: 0.4412 - categorical_accuracy: 0.8410\n",
      "Epoch 79/150\n",
      "113/113 [==============================] - 7s 66ms/step - loss: 0.4257 - categorical_accuracy: 0.8508\n",
      "Epoch 80/150\n",
      "113/113 [==============================] - 7s 65ms/step - loss: 1.3666 - categorical_accuracy: 0.8149\n",
      "Epoch 81/150\n",
      "113/113 [==============================] - 8s 68ms/step - loss: 0.7797 - categorical_accuracy: 0.7258\n",
      "Epoch 82/150\n",
      "113/113 [==============================] - 8s 67ms/step - loss: 0.5934 - categorical_accuracy: 0.7837\n",
      "Epoch 83/150\n",
      "113/113 [==============================] - 7s 65ms/step - loss: 0.5225 - categorical_accuracy: 0.8087\n",
      "Epoch 84/150\n",
      "113/113 [==============================] - 8s 67ms/step - loss: 0.4776 - categorical_accuracy: 0.8257\n",
      "Epoch 85/150\n",
      "113/113 [==============================] - 7s 66ms/step - loss: 0.4456 - categorical_accuracy: 0.8355\n",
      "Epoch 86/150\n",
      "113/113 [==============================] - 7s 63ms/step - loss: 0.4201 - categorical_accuracy: 0.8424\n",
      "Epoch 87/150\n",
      "113/113 [==============================] - 7s 63ms/step - loss: 0.4112 - categorical_accuracy: 0.8483\n",
      "Epoch 88/150\n",
      "113/113 [==============================] - 7s 65ms/step - loss: 0.3998 - categorical_accuracy: 0.8486\n",
      "Epoch 89/150\n",
      "113/113 [==============================] - 7s 65ms/step - loss: 0.3883 - categorical_accuracy: 0.8547\n",
      "Epoch 90/150\n",
      "113/113 [==============================] - 7s 66ms/step - loss: 0.3843 - categorical_accuracy: 0.8550\n",
      "Epoch 91/150\n",
      "113/113 [==============================] - 7s 65ms/step - loss: 0.3634 - categorical_accuracy: 0.8614\n",
      "Epoch 92/150\n",
      "113/113 [==============================] - 7s 64ms/step - loss: 0.3708 - categorical_accuracy: 0.8614\n",
      "Epoch 93/150\n",
      "113/113 [==============================] - 7s 65ms/step - loss: 0.3574 - categorical_accuracy: 0.8653\n",
      "Epoch 94/150\n",
      "113/113 [==============================] - 7s 64ms/step - loss: 0.3605 - categorical_accuracy: 0.8622\n",
      "Epoch 95/150\n",
      "113/113 [==============================] - 7s 64ms/step - loss: 0.3451 - categorical_accuracy: 0.8686\n",
      "Epoch 96/150\n",
      "113/113 [==============================] - 7s 62ms/step - loss: 0.3480 - categorical_accuracy: 0.8653\n",
      "Epoch 97/150\n",
      "113/113 [==============================] - 8s 71ms/step - loss: 0.3425 - categorical_accuracy: 0.8680\n",
      "Epoch 98/150\n",
      "113/113 [==============================] - 8s 67ms/step - loss: 0.3345 - categorical_accuracy: 0.8675\n",
      "Epoch 99/150\n",
      "113/113 [==============================] - 7s 61ms/step - loss: 0.3253 - categorical_accuracy: 0.8756\n",
      "Epoch 100/150\n",
      "113/113 [==============================] - 7s 64ms/step - loss: 0.3337 - categorical_accuracy: 0.8705\n",
      "Epoch 101/150\n",
      "113/113 [==============================] - 7s 63ms/step - loss: 0.3306 - categorical_accuracy: 0.8731\n",
      "Epoch 102/150\n",
      "113/113 [==============================] - 7s 60ms/step - loss: 0.3194 - categorical_accuracy: 0.8756\n",
      "Epoch 103/150\n",
      "113/113 [==============================] - 7s 62ms/step - loss: 0.3586 - categorical_accuracy: 0.8672\n",
      "Epoch 104/150\n",
      "113/113 [==============================] - 7s 62ms/step - loss: 0.5015 - categorical_accuracy: 0.8260\n",
      "Epoch 105/150\n",
      "113/113 [==============================] - 7s 61ms/step - loss: 0.3424 - categorical_accuracy: 0.8655\n",
      "Epoch 106/150\n",
      "113/113 [==============================] - 8s 67ms/step - loss: 0.3298 - categorical_accuracy: 0.8756\n",
      "Epoch 107/150\n",
      "113/113 [==============================] - 8s 71ms/step - loss: 0.3199 - categorical_accuracy: 0.8744\n",
      "Epoch 108/150\n",
      "113/113 [==============================] - 7s 65ms/step - loss: 0.3219 - categorical_accuracy: 0.8747\n",
      "Epoch 109/150\n",
      "113/113 [==============================] - 7s 64ms/step - loss: 0.3106 - categorical_accuracy: 0.8806\n",
      "Epoch 110/150\n",
      "113/113 [==============================] - 8s 67ms/step - loss: 0.2973 - categorical_accuracy: 0.8834\n",
      "Epoch 111/150\n",
      "113/113 [==============================] - 8s 67ms/step - loss: 0.3083 - categorical_accuracy: 0.8822\n",
      "Epoch 112/150\n",
      "113/113 [==============================] - 7s 65ms/step - loss: 0.2915 - categorical_accuracy: 0.8834\n",
      "Epoch 113/150\n",
      "113/113 [==============================] - 7s 63ms/step - loss: 0.2974 - categorical_accuracy: 0.8847\n",
      "Epoch 114/150\n",
      "113/113 [==============================] - 7s 64ms/step - loss: 0.3030 - categorical_accuracy: 0.8856\n",
      "Epoch 115/150\n",
      "113/113 [==============================] - 7s 63ms/step - loss: 0.2981 - categorical_accuracy: 0.8853\n",
      "Epoch 116/150\n",
      "113/113 [==============================] - 7s 63ms/step - loss: 0.2918 - categorical_accuracy: 0.8831\n",
      "Epoch 117/150\n",
      "113/113 [==============================] - 7s 64ms/step - loss: 0.2936 - categorical_accuracy: 0.8836\n",
      "Epoch 118/150\n",
      "113/113 [==============================] - 7s 62ms/step - loss: 0.2990 - categorical_accuracy: 0.8872\n",
      "Epoch 119/150\n",
      "113/113 [==============================] - 7s 64ms/step - loss: 0.2775 - categorical_accuracy: 0.8884\n",
      "Epoch 120/150\n",
      "113/113 [==============================] - 7s 65ms/step - loss: 0.2771 - categorical_accuracy: 0.8898\n",
      "Epoch 121/150\n",
      "113/113 [==============================] - 7s 63ms/step - loss: 0.2903 - categorical_accuracy: 0.8898\n",
      "Epoch 122/150\n",
      "113/113 [==============================] - 7s 63ms/step - loss: 0.2981 - categorical_accuracy: 0.8875\n",
      "Epoch 123/150\n",
      "113/113 [==============================] - 7s 63ms/step - loss: 0.2808 - categorical_accuracy: 0.8906\n",
      "Epoch 124/150\n",
      "113/113 [==============================] - 7s 65ms/step - loss: 0.2900 - categorical_accuracy: 0.8878\n",
      "Epoch 125/150\n",
      "113/113 [==============================] - 7s 65ms/step - loss: 0.2915 - categorical_accuracy: 0.8878\n",
      "Epoch 126/150\n",
      "113/113 [==============================] - 8s 69ms/step - loss: 0.2926 - categorical_accuracy: 0.8900\n",
      "Epoch 127/150\n",
      "113/113 [==============================] - 7s 62ms/step - loss: 0.2813 - categorical_accuracy: 0.8900\n",
      "Epoch 128/150\n",
      "113/113 [==============================] - 7s 61ms/step - loss: 0.3271 - categorical_accuracy: 0.8747\n",
      "Epoch 129/150\n",
      "113/113 [==============================] - 7s 61ms/step - loss: 0.2722 - categorical_accuracy: 0.8953\n",
      "Epoch 130/150\n",
      "113/113 [==============================] - 7s 62ms/step - loss: 0.2679 - categorical_accuracy: 0.8945\n",
      "Epoch 131/150\n",
      "113/113 [==============================] - 7s 61ms/step - loss: 0.2692 - categorical_accuracy: 0.8953\n",
      "Epoch 132/150\n",
      "113/113 [==============================] - 7s 62ms/step - loss: 0.2761 - categorical_accuracy: 0.8923\n",
      "Epoch 133/150\n",
      "113/113 [==============================] - 7s 61ms/step - loss: 0.3025 - categorical_accuracy: 0.8828\n",
      "Epoch 134/150\n",
      "113/113 [==============================] - 7s 62ms/step - loss: 0.2711 - categorical_accuracy: 0.8950\n",
      "Epoch 135/150\n",
      "113/113 [==============================] - 7s 61ms/step - loss: 0.2670 - categorical_accuracy: 0.8945\n",
      "Epoch 136/150\n",
      "113/113 [==============================] - 7s 62ms/step - loss: 0.2594 - categorical_accuracy: 0.8978\n",
      "Epoch 137/150\n",
      "113/113 [==============================] - 7s 61ms/step - loss: 0.3049 - categorical_accuracy: 0.8842\n",
      "Epoch 138/150\n",
      "113/113 [==============================] - 7s 61ms/step - loss: 0.2522 - categorical_accuracy: 0.9006\n",
      "Epoch 139/150\n",
      "113/113 [==============================] - 7s 61ms/step - loss: 0.2481 - categorical_accuracy: 0.9012\n",
      "Epoch 140/150\n",
      "113/113 [==============================] - 7s 62ms/step - loss: 0.2723 - categorical_accuracy: 0.8911\n",
      "Epoch 141/150\n",
      "113/113 [==============================] - 7s 61ms/step - loss: 0.2764 - categorical_accuracy: 0.8942\n",
      "Epoch 142/150\n",
      "113/113 [==============================] - 7s 62ms/step - loss: 0.2615 - categorical_accuracy: 0.8987\n",
      "Epoch 143/150\n",
      "113/113 [==============================] - 7s 62ms/step - loss: 0.2822 - categorical_accuracy: 0.8917\n",
      "Epoch 144/150\n",
      "113/113 [==============================] - 7s 62ms/step - loss: 0.2792 - categorical_accuracy: 0.8884\n",
      "Epoch 145/150\n",
      "113/113 [==============================] - 7s 62ms/step - loss: 0.2548 - categorical_accuracy: 0.9009\n",
      "Epoch 146/150\n",
      "113/113 [==============================] - 7s 62ms/step - loss: 0.2564 - categorical_accuracy: 0.8978\n",
      "Epoch 147/150\n",
      "113/113 [==============================] - 7s 64ms/step - loss: 0.2469 - categorical_accuracy: 0.9031\n",
      "Epoch 148/150\n",
      "113/113 [==============================] - 7s 61ms/step - loss: 0.2491 - categorical_accuracy: 0.9023\n",
      "Epoch 149/150\n",
      "113/113 [==============================] - 7s 62ms/step - loss: 0.3480 - categorical_accuracy: 0.8742\n",
      "Epoch 150/150\n",
      "113/113 [==============================] - 7s 62ms/step - loss: 0.2804 - categorical_accuracy: 0.8909\n"
     ]
    }
   ],
   "source": [
    "model_temp = model.fit(X_train, y_train, epochs = 150, callbacks=[tb_callback])"
   ]
  },
  {
   "cell_type": "code",
   "execution_count": 204,
   "metadata": {},
   "outputs": [
    {
     "name": "stdout",
     "output_type": "stream",
     "text": [
      "Model: \"sequential_2\"\n",
      "_________________________________________________________________\n",
      " Layer (type)                Output Shape              Param #   \n",
      "=================================================================\n",
      " lstm_6 (LSTM)               (None, 30, 64)            48896     \n",
      "                                                                 \n",
      " lstm_7 (LSTM)               (None, 30, 128)           98816     \n",
      "                                                                 \n",
      " lstm_8 (LSTM)               (None, 64)                49408     \n",
      "                                                                 \n",
      " dense_5 (Dense)             (None, 64)                4160      \n",
      "                                                                 \n",
      " dense_6 (Dense)             (None, 32)                2080      \n",
      "                                                                 \n",
      " dense_7 (Dense)             (None, 7)                 231       \n",
      "                                                                 \n",
      "=================================================================\n",
      "Total params: 203,591\n",
      "Trainable params: 203,591\n",
      "Non-trainable params: 0\n",
      "_________________________________________________________________\n"
     ]
    }
   ],
   "source": [
    "model.summary()"
   ]
  },
  {
   "attachments": {},
   "cell_type": "markdown",
   "metadata": {},
   "source": [
    "# 10. Make Predictions"
   ]
  },
  {
   "cell_type": "code",
   "execution_count": 253,
   "metadata": {},
   "outputs": [
    {
     "name": "stdout",
     "output_type": "stream",
     "text": [
      "24/24 [==============================] - 1s 20ms/step\n"
     ]
    }
   ],
   "source": [
    "res = model.predict(X_test) #prendo tutte le predizioni dall'insieme di test\n",
    "# res[0]: significa che prendo la prima prediction (quindi la prediction della prima azione presente in X_test)"
   ]
  },
  {
   "attachments": {},
   "cell_type": "markdown",
   "metadata": {},
   "source": [
    "poichè ad ogni azione è associata una probabilità, la mia predizione sarà quella che avrà probabilità **maggiore** fra esse"
   ]
  },
  {
   "cell_type": "code",
   "execution_count": 254,
   "metadata": {},
   "outputs": [
    {
     "data": {
      "text/plain": [
       "'Heart'"
      ]
     },
     "execution_count": 254,
     "metadata": {},
     "output_type": "execute_result"
    }
   ],
   "source": [
    "labels[np.argmax(res[2])] #qual'è l'azione con il più altro valore di probabilità associato?"
   ]
  },
  {
   "attachments": {},
   "cell_type": "markdown",
   "metadata": {},
   "source": [
    "prendo la label della 4a azione: vedo quindi il *ground truth*"
   ]
  },
  {
   "cell_type": "code",
   "execution_count": 255,
   "metadata": {},
   "outputs": [
    {
     "data": {
      "text/plain": [
       "'Heart'"
      ]
     },
     "execution_count": 255,
     "metadata": {},
     "output_type": "execute_result"
    }
   ],
   "source": [
    "labels[np.argmax(y_test[2])]"
   ]
  },
  {
   "attachments": {},
   "cell_type": "markdown",
   "metadata": {},
   "source": [
    "ovviamente, se le due azioni **coincidono** significa che il modello ha una **buona accuracy**"
   ]
  },
  {
   "attachments": {},
   "cell_type": "markdown",
   "metadata": {},
   "source": [
    "# 11. Save Weights"
   ]
  },
  {
   "cell_type": "code",
   "execution_count": 208,
   "metadata": {},
   "outputs": [],
   "source": [
    "model.save(os.path.join(BASEDIR, \"models_action\", 'final_nodrop.h5'))"
   ]
  },
  {
   "cell_type": "code",
   "execution_count": null,
   "metadata": {},
   "outputs": [],
   "source": [
    "del model"
   ]
  },
  {
   "cell_type": "code",
   "execution_count": 21,
   "metadata": {},
   "outputs": [],
   "source": [
    "model.load_weights(os.path.join(BASEDIR, \"models_action\", 'egoactions2.h5'))"
   ]
  },
  {
   "attachments": {},
   "cell_type": "markdown",
   "metadata": {},
   "source": [
    "# 12. Evaluation using Confusion Matrix and Accuracy"
   ]
  },
  {
   "cell_type": "code",
   "execution_count": 47,
   "metadata": {},
   "outputs": [],
   "source": [
    "from sklearn.metrics import multilabel_confusion_matrix, accuracy_score\n",
    "from sklearn.metrics import ConfusionMatrixDisplay"
   ]
  },
  {
   "cell_type": "code",
   "execution_count": 257,
   "metadata": {},
   "outputs": [
    {
     "name": "stdout",
     "output_type": "stream",
     "text": [
      "24/24 [==============================] - 1s 23ms/step\n"
     ]
    }
   ],
   "source": [
    "yhat = model.predict(X_test)"
   ]
  },
  {
   "cell_type": "code",
   "execution_count": 258,
   "metadata": {},
   "outputs": [],
   "source": [
    "ytrue = np.argmax(y_test, axis=1).tolist()\n",
    "yhat = np.argmax(yhat, axis=1).tolist()"
   ]
  },
  {
   "cell_type": "code",
   "execution_count": 259,
   "metadata": {},
   "outputs": [
    {
     "data": {
      "text/plain": [
       "0.8366800535475234"
      ]
     },
     "execution_count": 259,
     "metadata": {},
     "output_type": "execute_result"
    }
   ],
   "source": [
    "accuracy_score(ytrue, yhat)"
   ]
  },
  {
   "cell_type": "code",
   "execution_count": 260,
   "metadata": {},
   "outputs": [
    {
     "data": {
      "text/plain": [
       "array([[[626,   1],\n",
       "        [ 26,  94]],\n",
       "\n",
       "       [[625,   2],\n",
       "        [ 27,  93]],\n",
       "\n",
       "       [[627,   2],\n",
       "        [ 20,  98]],\n",
       "\n",
       "       [[626,   1],\n",
       "        [ 25,  95]],\n",
       "\n",
       "       [[606,   8],\n",
       "        [ 24, 109]],\n",
       "\n",
       "       [[503, 108],\n",
       "        [  0, 136]]], dtype=int64)"
      ]
     },
     "execution_count": 260,
     "metadata": {},
     "output_type": "execute_result"
    }
   ],
   "source": [
    "multilabel_confusion_matrix(ytrue, yhat)"
   ]
  },
  {
   "cell_type": "code",
   "execution_count": 261,
   "metadata": {},
   "outputs": [
    {
     "data": {
      "text/plain": [
       "<sklearn.metrics._plot.confusion_matrix.ConfusionMatrixDisplay at 0x14ad8afbaf0>"
      ]
     },
     "execution_count": 261,
     "metadata": {},
     "output_type": "execute_result"
    },
    {
     "data": {
      "image/png": "[encoded data removed]",
      "text/plain": [
       "<Figure size 640x480 with 2 Axes>"
      ]
     },
     "metadata": {},
     "output_type": "display_data"
    }
   ],
   "source": [
    "ConfusionMatrixDisplay.from_predictions(labels[ytrue], labels[yhat])"
   ]
  },
  {
   "attachments": {},
   "cell_type": "markdown",
   "metadata": {},
   "source": [
    "# 13. Test in Real Time"
   ]
  },
  {
   "cell_type": "code",
   "execution_count": 50,
   "metadata": {},
   "outputs": [],
   "source": [
    "#colors = [(245,117,16), (117,245,16), (16,117,245), (71, 91, 45), (121, 81, 44), (70, 120, 47)]\n",
    "colors = [(245,117,16), (117,245,16), (16,117,245)]\n",
    "def prob_viz(res, jester_gestures, input_frame, colors):\n",
    "    output_frame = input_frame.copy()\n",
    "    for num, prob in enumerate(res):\n",
    "        cv2.rectangle(output_frame, (0, 90+num*40), (int(prob*100), 60+num*40), colors[num], -1)\n",
    "        cv2.putText(output_frame, jester_gestures[num], (0, 85+num*40), cv2.FONT_HERSHEY_SIMPLEX, 1, (255,255,255), 2, cv2.LINE_AA)\n",
    "        \n",
    "    return output_frame"
   ]
  },
  {
   "cell_type": "code",
   "execution_count": 51,
   "metadata": {},
   "outputs": [
    {
     "data": {
      "text/plain": [
       "(408, 3)"
      ]
     },
     "execution_count": 51,
     "metadata": {},
     "output_type": "execute_result"
    }
   ],
   "source": [
    "res.shape"
   ]
  },
  {
   "cell_type": "code",
   "execution_count": 52,
   "metadata": {},
   "outputs": [
    {
     "name": "stdout",
     "output_type": "stream",
     "text": [
      "<class 'mediapipe.python.solution_base.SolutionOutputs'>\n",
      "which hand? None\n",
      "no detect\n",
      "<class 'mediapipe.python.solution_base.SolutionOutputs'>\n",
      "which hand? [classification {\n",
      "  index: 0\n",
      "  score: 0.9928184151649475\n",
      "  label: \"Left\"\n",
      "}\n",
      "]\n",
      "<class 'mediapipe.python.solution_base.SolutionOutputs'>\n",
      "which hand? [classification {\n",
      "  index: 1\n",
      "  score: 0.9487180709838867\n",
      "  label: \"Right\"\n",
      "}\n",
      ", classification {\n",
      "  index: 0\n",
      "  score: 0.7972113490104675\n",
      "  label: \"Left\"\n",
      "}\n",
      "]\n",
      "<class 'mediapipe.python.solution_base.SolutionOutputs'>\n",
      "which hand? [classification {\n",
      "  index: 0\n",
      "  score: 0.9303954243659973\n",
      "  label: \"Left\"\n",
      "}\n",
      "]\n",
      "<class 'mediapipe.python.solution_base.SolutionOutputs'>\n",
      "which hand? [classification {\n",
      "  index: 0\n",
      "  score: 0.9285765290260315\n",
      "  label: \"Left\"\n",
      "}\n",
      "]\n",
      "<class 'mediapipe.python.solution_base.SolutionOutputs'>\n",
      "which hand? None\n",
      "no detect\n",
      "<class 'mediapipe.python.solution_base.SolutionOutputs'>\n",
      "which hand? None\n",
      "no detect\n",
      "<class 'mediapipe.python.solution_base.SolutionOutputs'>\n",
      "which hand? None\n",
      "no detect\n",
      "<class 'mediapipe.python.solution_base.SolutionOutputs'>\n",
      "which hand? None\n",
      "no detect\n",
      "<class 'mediapipe.python.solution_base.SolutionOutputs'>\n",
      "which hand? None\n",
      "no detect\n",
      "<class 'mediapipe.python.solution_base.SolutionOutputs'>\n",
      "which hand? None\n",
      "no detect\n",
      "<class 'mediapipe.python.solution_base.SolutionOutputs'>\n",
      "which hand? None\n",
      "no detect\n",
      "<class 'mediapipe.python.solution_base.SolutionOutputs'>\n",
      "which hand? None\n",
      "no detect\n",
      "<class 'mediapipe.python.solution_base.SolutionOutputs'>\n",
      "which hand? None\n",
      "no detect\n",
      "<class 'mediapipe.python.solution_base.SolutionOutputs'>\n",
      "which hand? None\n",
      "no detect\n",
      "<class 'mediapipe.python.solution_base.SolutionOutputs'>\n",
      "which hand? None\n",
      "no detect\n",
      "<class 'mediapipe.python.solution_base.SolutionOutputs'>\n",
      "which hand? None\n",
      "no detect\n",
      "<class 'mediapipe.python.solution_base.SolutionOutputs'>\n",
      "which hand? None\n",
      "no detect\n",
      "<class 'mediapipe.python.solution_base.SolutionOutputs'>\n",
      "which hand? None\n",
      "no detect\n",
      "<class 'mediapipe.python.solution_base.SolutionOutputs'>\n",
      "which hand? None\n",
      "no detect\n",
      "<class 'mediapipe.python.solution_base.SolutionOutputs'>\n",
      "which hand? None\n",
      "no detect\n",
      "<class 'mediapipe.python.solution_base.SolutionOutputs'>\n",
      "which hand? None\n",
      "no detect\n",
      "<class 'mediapipe.python.solution_base.SolutionOutputs'>\n",
      "which hand? None\n",
      "no detect\n",
      "<class 'mediapipe.python.solution_base.SolutionOutputs'>\n",
      "which hand? None\n",
      "no detect\n",
      "<class 'mediapipe.python.solution_base.SolutionOutputs'>\n",
      "which hand? None\n",
      "no detect\n",
      "<class 'mediapipe.python.solution_base.SolutionOutputs'>\n",
      "which hand? None\n",
      "no detect\n",
      "<class 'mediapipe.python.solution_base.SolutionOutputs'>\n",
      "which hand? None\n",
      "no detect\n",
      "<class 'mediapipe.python.solution_base.SolutionOutputs'>\n",
      "which hand? None\n",
      "no detect\n",
      "<class 'mediapipe.python.solution_base.SolutionOutputs'>\n",
      "which hand? None\n",
      "no detect\n",
      "<class 'mediapipe.python.solution_base.SolutionOutputs'>\n",
      "which hand? None\n",
      "no detect\n",
      "1/1 [==============================] - 0s 37ms/step\n",
      "Thumb Up\n",
      "<class 'mediapipe.python.solution_base.SolutionOutputs'>\n",
      "which hand? None\n",
      "no detect\n",
      "1/1 [==============================] - 0s 30ms/step\n",
      "Thumb Up\n",
      "<class 'mediapipe.python.solution_base.SolutionOutputs'>\n",
      "which hand? None\n",
      "no detect\n",
      "1/1 [==============================] - 0s 27ms/step\n",
      "Thumb Up\n",
      "<class 'mediapipe.python.solution_base.SolutionOutputs'>\n",
      "which hand? None\n",
      "no detect\n",
      "1/1 [==============================] - 0s 34ms/step\n",
      "Thumb Up\n",
      "<class 'mediapipe.python.solution_base.SolutionOutputs'>\n",
      "which hand? None\n",
      "no detect\n",
      "1/1 [==============================] - 0s 29ms/step\n",
      "Thumb Up\n",
      "<class 'mediapipe.python.solution_base.SolutionOutputs'>\n",
      "which hand? None\n",
      "no detect\n",
      "1/1 [==============================] - 0s 29ms/step\n",
      "Thumb Up\n",
      "<class 'mediapipe.python.solution_base.SolutionOutputs'>\n",
      "which hand? None\n",
      "no detect\n",
      "1/1 [==============================] - 0s 30ms/step\n",
      "Thumb Up\n",
      "<class 'mediapipe.python.solution_base.SolutionOutputs'>\n",
      "which hand? None\n",
      "no detect\n",
      "1/1 [==============================] - 0s 27ms/step\n",
      "Thumb Up\n",
      "<class 'mediapipe.python.solution_base.SolutionOutputs'>\n",
      "which hand? None\n",
      "no detect\n",
      "1/1 [==============================] - 0s 27ms/step\n",
      "Thumb Up\n",
      "<class 'mediapipe.python.solution_base.SolutionOutputs'>\n",
      "which hand? None\n",
      "no detect\n",
      "1/1 [==============================] - 0s 27ms/step\n",
      "Thumb Up\n",
      "<class 'mediapipe.python.solution_base.SolutionOutputs'>\n",
      "which hand? None\n",
      "no detect\n",
      "1/1 [==============================] - 0s 29ms/step\n",
      "Thumb Up\n",
      "<class 'mediapipe.python.solution_base.SolutionOutputs'>\n",
      "which hand? None\n",
      "no detect\n",
      "1/1 [==============================] - 0s 28ms/step\n",
      "Thumb Up\n",
      "<class 'mediapipe.python.solution_base.SolutionOutputs'>\n",
      "which hand? None\n",
      "no detect\n",
      "1/1 [==============================] - 0s 33ms/step\n",
      "Thumb Up\n",
      "<class 'mediapipe.python.solution_base.SolutionOutputs'>\n",
      "which hand? [classification {\n",
      "  index: 1\n",
      "  score: 0.7406860589981079\n",
      "  label: \"Right\"\n",
      "}\n",
      "]\n",
      "1/1 [==============================] - 0s 27ms/step\n",
      "Thumb Down\n",
      "<class 'mediapipe.python.solution_base.SolutionOutputs'>\n",
      "which hand? [classification {\n",
      "  index: 1\n",
      "  score: 0.9632318615913391\n",
      "  label: \"Right\"\n",
      "}\n",
      "]\n",
      "1/1 [==============================] - 0s 28ms/step\n",
      "Thumb Up\n",
      "<class 'mediapipe.python.solution_base.SolutionOutputs'>\n",
      "which hand? [classification {\n",
      "  index: 1\n",
      "  score: 0.9689780473709106\n",
      "  label: \"Right\"\n",
      "}\n",
      "]\n",
      "1/1 [==============================] - 0s 27ms/step\n",
      "Thumb Up\n",
      "<class 'mediapipe.python.solution_base.SolutionOutputs'>\n",
      "which hand? [classification {\n",
      "  index: 1\n",
      "  score: 0.9828174114227295\n",
      "  label: \"Right\"\n",
      "}\n",
      "]\n",
      "1/1 [==============================] - 0s 33ms/step\n",
      "Thumb Up\n",
      "<class 'mediapipe.python.solution_base.SolutionOutputs'>\n",
      "which hand? [classification {\n",
      "  index: 1\n",
      "  score: 0.9758884906768799\n",
      "  label: \"Right\"\n",
      "}\n",
      "]\n",
      "1/1 [==============================] - 0s 29ms/step\n",
      "Stop Sign\n",
      "<class 'mediapipe.python.solution_base.SolutionOutputs'>\n",
      "which hand? [classification {\n",
      "  index: 1\n",
      "  score: 0.9798751473426819\n",
      "  label: \"Right\"\n",
      "}\n",
      "]\n",
      "1/1 [==============================] - 0s 27ms/step\n",
      "Stop Sign\n",
      "<class 'mediapipe.python.solution_base.SolutionOutputs'>\n",
      "which hand? [classification {\n",
      "  index: 1\n",
      "  score: 0.9769041538238525\n",
      "  label: \"Right\"\n",
      "}\n",
      "]\n",
      "1/1 [==============================] - 0s 27ms/step\n",
      "Stop Sign\n",
      "<class 'mediapipe.python.solution_base.SolutionOutputs'>\n",
      "which hand? [classification {\n",
      "  index: 1\n",
      "  score: 0.9798990488052368\n",
      "  label: \"Right\"\n",
      "}\n",
      "]\n",
      "1/1 [==============================] - 0s 31ms/step\n",
      "Stop Sign\n",
      "<class 'mediapipe.python.solution_base.SolutionOutputs'>\n",
      "which hand? [classification {\n",
      "  index: 1\n",
      "  score: 0.9786989092826843\n",
      "  label: \"Right\"\n",
      "}\n",
      "]\n",
      "1/1 [==============================] - 0s 29ms/step\n",
      "Stop Sign\n",
      "<class 'mediapipe.python.solution_base.SolutionOutputs'>\n",
      "which hand? [classification {\n",
      "  index: 1\n",
      "  score: 0.9837288856506348\n",
      "  label: \"Right\"\n",
      "}\n",
      "]\n",
      "1/1 [==============================] - 0s 32ms/step\n",
      "Stop Sign\n",
      "<class 'mediapipe.python.solution_base.SolutionOutputs'>\n",
      "which hand? [classification {\n",
      "  index: 1\n",
      "  score: 0.9758602976799011\n",
      "  label: \"Right\"\n",
      "}\n",
      "]\n",
      "1/1 [==============================] - 0s 33ms/step\n",
      "Stop Sign\n",
      "<class 'mediapipe.python.solution_base.SolutionOutputs'>\n",
      "which hand? [classification {\n",
      "  index: 1\n",
      "  score: 0.9833459854125977\n",
      "  label: \"Right\"\n",
      "}\n",
      "]\n",
      "1/1 [==============================] - 0s 38ms/step\n",
      "Stop Sign\n",
      "<class 'mediapipe.python.solution_base.SolutionOutputs'>\n",
      "which hand? [classification {\n",
      "  index: 1\n",
      "  score: 0.9813706874847412\n",
      "  label: \"Right\"\n",
      "}\n",
      "]\n",
      "1/1 [==============================] - 0s 34ms/step\n",
      "Stop Sign\n",
      "<class 'mediapipe.python.solution_base.SolutionOutputs'>\n",
      "which hand? [classification {\n",
      "  index: 1\n",
      "  score: 0.9816638827323914\n",
      "  label: \"Right\"\n",
      "}\n",
      "]\n",
      "1/1 [==============================] - 0s 29ms/step\n",
      "Stop Sign\n",
      "<class 'mediapipe.python.solution_base.SolutionOutputs'>\n",
      "which hand? [classification {\n",
      "  index: 1\n",
      "  score: 0.980215847492218\n",
      "  label: \"Right\"\n",
      "}\n",
      "]\n",
      "1/1 [==============================] - 0s 29ms/step\n",
      "Stop Sign\n",
      "<class 'mediapipe.python.solution_base.SolutionOutputs'>\n",
      "which hand? [classification {\n",
      "  index: 1\n",
      "  score: 0.9821382164955139\n",
      "  label: \"Right\"\n",
      "}\n",
      "]\n",
      "1/1 [==============================] - 0s 26ms/step\n",
      "Stop Sign\n",
      "<class 'mediapipe.python.solution_base.SolutionOutputs'>\n",
      "which hand? [classification {\n",
      "  index: 1\n",
      "  score: 0.9827920198440552\n",
      "  label: \"Right\"\n",
      "}\n",
      "]\n",
      "1/1 [==============================] - 0s 36ms/step\n",
      "Stop Sign\n",
      "<class 'mediapipe.python.solution_base.SolutionOutputs'>\n",
      "which hand? [classification {\n",
      "  index: 1\n",
      "  score: 0.981979250907898\n",
      "  label: \"Right\"\n",
      "}\n",
      "]\n",
      "1/1 [==============================] - 0s 25ms/step\n",
      "Stop Sign\n",
      "<class 'mediapipe.python.solution_base.SolutionOutputs'>\n",
      "which hand? [classification {\n",
      "  index: 1\n",
      "  score: 0.9834576845169067\n",
      "  label: \"Right\"\n",
      "}\n",
      "]\n",
      "1/1 [==============================] - 0s 28ms/step\n",
      "Stop Sign\n",
      "<class 'mediapipe.python.solution_base.SolutionOutputs'>\n",
      "which hand? [classification {\n",
      "  index: 1\n",
      "  score: 0.9806167483329773\n",
      "  label: \"Right\"\n",
      "}\n",
      "]\n",
      "1/1 [==============================] - 0s 25ms/step\n",
      "Stop Sign\n",
      "<class 'mediapipe.python.solution_base.SolutionOutputs'>\n",
      "which hand? [classification {\n",
      "  index: 1\n",
      "  score: 0.9817354083061218\n",
      "  label: \"Right\"\n",
      "}\n",
      "]\n",
      "1/1 [==============================] - 0s 27ms/step\n",
      "Stop Sign\n",
      "<class 'mediapipe.python.solution_base.SolutionOutputs'>\n",
      "which hand? [classification {\n",
      "  index: 1\n",
      "  score: 0.9810273051261902\n",
      "  label: \"Right\"\n",
      "}\n",
      "]\n",
      "1/1 [==============================] - 0s 34ms/step\n",
      "Stop Sign\n",
      "<class 'mediapipe.python.solution_base.SolutionOutputs'>\n",
      "which hand? [classification {\n",
      "  index: 1\n",
      "  score: 0.9820910096168518\n",
      "  label: \"Right\"\n",
      "}\n",
      "]\n",
      "1/1 [==============================] - 0s 26ms/step\n",
      "Stop Sign\n",
      "<class 'mediapipe.python.solution_base.SolutionOutputs'>\n",
      "which hand? [classification {\n",
      "  index: 1\n",
      "  score: 0.9822696447372437\n",
      "  label: \"Right\"\n",
      "}\n",
      "]\n",
      "1/1 [==============================] - 0s 30ms/step\n",
      "Stop Sign\n",
      "<class 'mediapipe.python.solution_base.SolutionOutputs'>\n",
      "which hand? [classification {\n",
      "  index: 1\n",
      "  score: 0.9778477549552917\n",
      "  label: \"Right\"\n",
      "}\n",
      "]\n",
      "1/1 [==============================] - 0s 31ms/step\n",
      "Stop Sign\n",
      "<class 'mediapipe.python.solution_base.SolutionOutputs'>\n",
      "which hand? [classification {\n",
      "  index: 1\n",
      "  score: 0.9744768142700195\n",
      "  label: \"Right\"\n",
      "}\n",
      "]\n",
      "1/1 [==============================] - 0s 29ms/step\n",
      "Stop Sign\n",
      "<class 'mediapipe.python.solution_base.SolutionOutputs'>\n",
      "which hand? [classification {\n",
      "  index: 1\n",
      "  score: 0.9747925400733948\n",
      "  label: \"Right\"\n",
      "}\n",
      "]\n",
      "1/1 [==============================] - 0s 31ms/step\n",
      "Stop Sign\n",
      "<class 'mediapipe.python.solution_base.SolutionOutputs'>\n",
      "which hand? [classification {\n",
      "  index: 1\n",
      "  score: 0.981908917427063\n",
      "  label: \"Right\"\n",
      "}\n",
      "]\n",
      "1/1 [==============================] - 0s 28ms/step\n",
      "Stop Sign\n",
      "<class 'mediapipe.python.solution_base.SolutionOutputs'>\n",
      "which hand? None\n",
      "no detect\n",
      "1/1 [==============================] - 0s 25ms/step\n",
      "Stop Sign\n",
      "<class 'mediapipe.python.solution_base.SolutionOutputs'>\n",
      "which hand? None\n",
      "no detect\n",
      "1/1 [==============================] - 0s 29ms/step\n",
      "Stop Sign\n",
      "<class 'mediapipe.python.solution_base.SolutionOutputs'>\n",
      "which hand? None\n",
      "no detect\n",
      "1/1 [==============================] - 0s 28ms/step\n",
      "Stop Sign\n",
      "<class 'mediapipe.python.solution_base.SolutionOutputs'>\n",
      "which hand? None\n",
      "no detect\n",
      "1/1 [==============================] - 0s 26ms/step\n",
      "Stop Sign\n",
      "<class 'mediapipe.python.solution_base.SolutionOutputs'>\n",
      "which hand? None\n",
      "no detect\n",
      "1/1 [==============================] - 0s 29ms/step\n",
      "Stop Sign\n",
      "<class 'mediapipe.python.solution_base.SolutionOutputs'>\n",
      "which hand? [classification {\n",
      "  index: 0\n",
      "  score: 0.9678739905357361\n",
      "  label: \"Left\"\n",
      "}\n",
      "]\n",
      "1/1 [==============================] - 0s 26ms/step\n",
      "Stop Sign\n",
      "<class 'mediapipe.python.solution_base.SolutionOutputs'>\n",
      "which hand? [classification {\n",
      "  index: 0\n",
      "  score: 0.9869211912155151\n",
      "  label: \"Left\"\n",
      "}\n",
      "]\n",
      "1/1 [==============================] - 0s 30ms/step\n",
      "Stop Sign\n",
      "<class 'mediapipe.python.solution_base.SolutionOutputs'>\n",
      "which hand? [classification {\n",
      "  index: 0\n",
      "  score: 0.9913139939308167\n",
      "  label: \"Left\"\n",
      "}\n",
      "]\n",
      "1/1 [==============================] - 0s 28ms/step\n",
      "Stop Sign\n",
      "<class 'mediapipe.python.solution_base.SolutionOutputs'>\n",
      "which hand? [classification {\n",
      "  index: 0\n",
      "  score: 0.9906713962554932\n",
      "  label: \"Left\"\n",
      "}\n",
      "]\n",
      "1/1 [==============================] - 0s 27ms/step\n",
      "Stop Sign\n",
      "<class 'mediapipe.python.solution_base.SolutionOutputs'>\n",
      "which hand? [classification {\n",
      "  index: 0\n",
      "  score: 0.9913904666900635\n",
      "  label: \"Left\"\n",
      "}\n",
      "]\n",
      "1/1 [==============================] - 0s 28ms/step\n",
      "Stop Sign\n",
      "<class 'mediapipe.python.solution_base.SolutionOutputs'>\n",
      "which hand? [classification {\n",
      "  index: 0\n",
      "  score: 0.9889814853668213\n",
      "  label: \"Left\"\n",
      "}\n",
      "]\n",
      "1/1 [==============================] - 0s 28ms/step\n",
      "Stop Sign\n",
      "<class 'mediapipe.python.solution_base.SolutionOutputs'>\n",
      "which hand? [classification {\n",
      "  index: 0\n",
      "  score: 0.9889121651649475\n",
      "  label: \"Left\"\n",
      "}\n",
      "]\n",
      "1/1 [==============================] - 0s 28ms/step\n",
      "Stop Sign\n",
      "<class 'mediapipe.python.solution_base.SolutionOutputs'>\n",
      "which hand? [classification {\n",
      "  index: 0\n",
      "  score: 0.9869546294212341\n",
      "  label: \"Left\"\n",
      "}\n",
      "]\n",
      "1/1 [==============================] - 0s 26ms/step\n",
      "Stop Sign\n",
      "<class 'mediapipe.python.solution_base.SolutionOutputs'>\n",
      "which hand? [classification {\n",
      "  index: 0\n",
      "  score: 0.99115389585495\n",
      "  label: \"Left\"\n",
      "}\n",
      "]\n",
      "1/1 [==============================] - 0s 29ms/step\n",
      "Stop Sign\n",
      "<class 'mediapipe.python.solution_base.SolutionOutputs'>\n",
      "which hand? [classification {\n",
      "  index: 0\n",
      "  score: 0.9869239330291748\n",
      "  label: \"Left\"\n",
      "}\n",
      "]\n",
      "1/1 [==============================] - 0s 29ms/step\n",
      "Stop Sign\n",
      "<class 'mediapipe.python.solution_base.SolutionOutputs'>\n",
      "which hand? [classification {\n",
      "  index: 0\n",
      "  score: 0.9881181120872498\n",
      "  label: \"Left\"\n",
      "}\n",
      "]\n",
      "1/1 [==============================] - 0s 29ms/step\n",
      "Stop Sign\n",
      "<class 'mediapipe.python.solution_base.SolutionOutputs'>\n",
      "which hand? [classification {\n",
      "  index: 0\n",
      "  score: 0.9891026616096497\n",
      "  label: \"Left\"\n",
      "}\n",
      "]\n",
      "1/1 [==============================] - 0s 27ms/step\n",
      "Stop Sign\n",
      "<class 'mediapipe.python.solution_base.SolutionOutputs'>\n",
      "which hand? [classification {\n",
      "  index: 0\n",
      "  score: 0.9893434643745422\n",
      "  label: \"Left\"\n",
      "}\n",
      "]\n",
      "1/1 [==============================] - 0s 27ms/step\n",
      "Thumb Up\n",
      "<class 'mediapipe.python.solution_base.SolutionOutputs'>\n",
      "which hand? [classification {\n",
      "  index: 0\n",
      "  score: 0.9898514747619629\n",
      "  label: \"Left\"\n",
      "}\n",
      "]\n",
      "1/1 [==============================] - 0s 29ms/step\n",
      "Thumb Up\n",
      "<class 'mediapipe.python.solution_base.SolutionOutputs'>\n",
      "which hand? [classification {\n",
      "  index: 0\n",
      "  score: 0.987669825553894\n",
      "  label: \"Left\"\n",
      "}\n",
      "]\n",
      "1/1 [==============================] - 0s 29ms/step\n",
      "Thumb Up\n",
      "<class 'mediapipe.python.solution_base.SolutionOutputs'>\n",
      "which hand? [classification {\n",
      "  index: 0\n",
      "  score: 0.991487979888916\n",
      "  label: \"Left\"\n",
      "}\n",
      "]\n",
      "1/1 [==============================] - 0s 28ms/step\n",
      "Thumb Up\n",
      "<class 'mediapipe.python.solution_base.SolutionOutputs'>\n",
      "which hand? [classification {\n",
      "  index: 0\n",
      "  score: 0.9919968247413635\n",
      "  label: \"Left\"\n",
      "}\n",
      "]\n",
      "1/1 [==============================] - 0s 28ms/step\n",
      "Thumb Up\n",
      "<class 'mediapipe.python.solution_base.SolutionOutputs'>\n",
      "which hand? [classification {\n",
      "  index: 0\n",
      "  score: 0.9905186295509338\n",
      "  label: \"Left\"\n",
      "}\n",
      "]\n",
      "1/1 [==============================] - 0s 29ms/step\n",
      "Thumb Up\n",
      "<class 'mediapipe.python.solution_base.SolutionOutputs'>\n",
      "which hand? [classification {\n",
      "  index: 0\n",
      "  score: 0.9914554357528687\n",
      "  label: \"Left\"\n",
      "}\n",
      "]\n",
      "1/1 [==============================] - 0s 29ms/step\n",
      "Thumb Up\n",
      "<class 'mediapipe.python.solution_base.SolutionOutputs'>\n",
      "which hand? [classification {\n",
      "  index: 0\n",
      "  score: 0.9933223724365234\n",
      "  label: \"Left\"\n",
      "}\n",
      "]\n",
      "1/1 [==============================] - 0s 29ms/step\n",
      "Thumb Up\n",
      "<class 'mediapipe.python.solution_base.SolutionOutputs'>\n",
      "which hand? [classification {\n",
      "  index: 0\n",
      "  score: 0.9821311831474304\n",
      "  label: \"Left\"\n",
      "}\n",
      "]\n",
      "1/1 [==============================] - 0s 27ms/step\n",
      "Thumb Up\n",
      "<class 'mediapipe.python.solution_base.SolutionOutputs'>\n",
      "which hand? [classification {\n",
      "  index: 0\n",
      "  score: 0.9645744562149048\n",
      "  label: \"Left\"\n",
      "}\n",
      "]\n",
      "1/1 [==============================] - 0s 28ms/step\n",
      "Thumb Up\n",
      "<class 'mediapipe.python.solution_base.SolutionOutputs'>\n",
      "which hand? [classification {\n",
      "  index: 1\n",
      "  score: 0.9155015349388123\n",
      "  label: \"Right\"\n",
      "}\n",
      "]\n",
      "1/1 [==============================] - 0s 34ms/step\n",
      "Thumb Up\n",
      "<class 'mediapipe.python.solution_base.SolutionOutputs'>\n",
      "which hand? [classification {\n",
      "  index: 0\n",
      "  score: 0.9825365543365479\n",
      "  label: \"Left\"\n",
      "}\n",
      "]\n",
      "1/1 [==============================] - 0s 30ms/step\n",
      "Thumb Up\n",
      "<class 'mediapipe.python.solution_base.SolutionOutputs'>\n",
      "which hand? [classification {\n",
      "  index: 0\n",
      "  score: 0.9797143936157227\n",
      "  label: \"Left\"\n",
      "}\n",
      "]\n",
      "1/1 [==============================] - 0s 27ms/step\n",
      "Thumb Up\n",
      "<class 'mediapipe.python.solution_base.SolutionOutputs'>\n",
      "which hand? [classification {\n",
      "  index: 0\n",
      "  score: 0.9884235858917236\n",
      "  label: \"Left\"\n",
      "}\n",
      "]\n",
      "1/1 [==============================] - 0s 31ms/step\n",
      "Thumb Up\n",
      "<class 'mediapipe.python.solution_base.SolutionOutputs'>\n",
      "which hand? [classification {\n",
      "  index: 0\n",
      "  score: 0.9917912483215332\n",
      "  label: \"Left\"\n",
      "}\n",
      "]\n",
      "1/1 [==============================] - 0s 31ms/step\n",
      "Thumb Up\n",
      "<class 'mediapipe.python.solution_base.SolutionOutputs'>\n",
      "which hand? [classification {\n",
      "  index: 0\n",
      "  score: 0.9907428622245789\n",
      "  label: \"Left\"\n",
      "}\n",
      "]\n",
      "1/1 [==============================] - 0s 27ms/step\n",
      "Thumb Up\n",
      "<class 'mediapipe.python.solution_base.SolutionOutputs'>\n",
      "which hand? [classification {\n",
      "  index: 0\n",
      "  score: 0.9922124743461609\n",
      "  label: \"Left\"\n",
      "}\n",
      "]\n",
      "1/1 [==============================] - 0s 26ms/step\n",
      "Thumb Up\n",
      "<class 'mediapipe.python.solution_base.SolutionOutputs'>\n",
      "which hand? [classification {\n",
      "  index: 0\n",
      "  score: 0.9917588829994202\n",
      "  label: \"Left\"\n",
      "}\n",
      "]\n",
      "1/1 [==============================] - 0s 29ms/step\n",
      "Thumb Down\n",
      "<class 'mediapipe.python.solution_base.SolutionOutputs'>\n",
      "which hand? [classification {\n",
      "  index: 0\n",
      "  score: 0.9936294555664062\n",
      "  label: \"Left\"\n",
      "}\n",
      "]\n",
      "1/1 [==============================] - 0s 34ms/step\n",
      "Thumb Down\n",
      "<class 'mediapipe.python.solution_base.SolutionOutputs'>\n",
      "which hand? [classification {\n",
      "  index: 1\n",
      "  score: 0.9953494668006897\n",
      "  label: \"Right\"\n",
      "}\n",
      ", classification {\n",
      "  index: 0\n",
      "  score: 0.9918490648269653\n",
      "  label: \"Left\"\n",
      "}\n",
      "]\n",
      "1/1 [==============================] - 0s 26ms/step\n",
      "Thumb Down\n",
      "<class 'mediapipe.python.solution_base.SolutionOutputs'>\n",
      "which hand? [classification {\n",
      "  index: 1\n",
      "  score: 0.9930256009101868\n",
      "  label: \"Right\"\n",
      "}\n",
      ", classification {\n",
      "  index: 0\n",
      "  score: 0.9913337826728821\n",
      "  label: \"Left\"\n",
      "}\n",
      "]\n",
      "1/1 [==============================] - 0s 27ms/step\n",
      "Thumb Down\n",
      "<class 'mediapipe.python.solution_base.SolutionOutputs'>\n",
      "which hand? [classification {\n",
      "  index: 1\n",
      "  score: 0.9950830936431885\n",
      "  label: \"Right\"\n",
      "}\n",
      ", classification {\n",
      "  index: 0\n",
      "  score: 0.9904466867446899\n",
      "  label: \"Left\"\n",
      "}\n",
      "]\n",
      "1/1 [==============================] - 0s 32ms/step\n",
      "Thumb Down\n",
      "<class 'mediapipe.python.solution_base.SolutionOutputs'>\n",
      "which hand? [classification {\n",
      "  index: 1\n",
      "  score: 0.996399998664856\n",
      "  label: \"Right\"\n",
      "}\n",
      ", classification {\n",
      "  index: 0\n",
      "  score: 0.9843783974647522\n",
      "  label: \"Left\"\n",
      "}\n",
      "]\n",
      "1/1 [==============================] - 0s 28ms/step\n",
      "Thumb Down\n",
      "<class 'mediapipe.python.solution_base.SolutionOutputs'>\n",
      "which hand? [classification {\n",
      "  index: 1\n",
      "  score: 0.9954464435577393\n",
      "  label: \"Right\"\n",
      "}\n",
      ", classification {\n",
      "  index: 0\n",
      "  score: 0.9768851399421692\n",
      "  label: \"Left\"\n",
      "}\n",
      "]\n",
      "1/1 [==============================] - 0s 26ms/step\n",
      "Thumb Down\n",
      "<class 'mediapipe.python.solution_base.SolutionOutputs'>\n",
      "which hand? [classification {\n",
      "  index: 1\n",
      "  score: 0.9928961396217346\n",
      "  label: \"Right\"\n",
      "}\n",
      "]\n",
      "1/1 [==============================] - 0s 31ms/step\n",
      "Thumb Down\n",
      "<class 'mediapipe.python.solution_base.SolutionOutputs'>\n",
      "which hand? [classification {\n",
      "  index: 1\n",
      "  score: 0.9936861395835876\n",
      "  label: \"Right\"\n",
      "}\n",
      "]\n",
      "1/1 [==============================] - 0s 29ms/step\n",
      "Thumb Down\n",
      "<class 'mediapipe.python.solution_base.SolutionOutputs'>\n",
      "which hand? [classification {\n",
      "  index: 1\n",
      "  score: 0.9926576018333435\n",
      "  label: \"Right\"\n",
      "}\n",
      "]\n",
      "1/1 [==============================] - 0s 27ms/step\n",
      "Thumb Down\n",
      "<class 'mediapipe.python.solution_base.SolutionOutputs'>\n",
      "which hand? [classification {\n",
      "  index: 1\n",
      "  score: 0.9792498350143433\n",
      "  label: \"Right\"\n",
      "}\n",
      "]\n",
      "1/1 [==============================] - 0s 27ms/step\n",
      "Thumb Down\n",
      "<class 'mediapipe.python.solution_base.SolutionOutputs'>\n",
      "which hand? None\n",
      "no detect\n",
      "1/1 [==============================] - 0s 27ms/step\n",
      "Thumb Down\n",
      "<class 'mediapipe.python.solution_base.SolutionOutputs'>\n",
      "which hand? [classification {\n",
      "  index: 1\n",
      "  score: 0.9497843384742737\n",
      "  label: \"Right\"\n",
      "}\n",
      "]\n",
      "1/1 [==============================] - 0s 27ms/step\n",
      "Thumb Down\n",
      "<class 'mediapipe.python.solution_base.SolutionOutputs'>\n",
      "which hand? [classification {\n",
      "  index: 1\n",
      "  score: 0.9448961615562439\n",
      "  label: \"Right\"\n",
      "}\n",
      "]\n",
      "1/1 [==============================] - 0s 28ms/step\n",
      "Stop Sign\n",
      "<class 'mediapipe.python.solution_base.SolutionOutputs'>\n",
      "which hand? [classification {\n",
      "  index: 1\n",
      "  score: 0.9443539977073669\n",
      "  label: \"Right\"\n",
      "}\n",
      "]\n",
      "1/1 [==============================] - 0s 27ms/step\n",
      "Stop Sign\n",
      "<class 'mediapipe.python.solution_base.SolutionOutputs'>\n",
      "which hand? [classification {\n",
      "  index: 1\n",
      "  score: 0.9425818920135498\n",
      "  label: \"Right\"\n",
      "}\n",
      "]\n",
      "1/1 [==============================] - 0s 33ms/step\n",
      "Stop Sign\n",
      "<class 'mediapipe.python.solution_base.SolutionOutputs'>\n",
      "which hand? [classification {\n",
      "  index: 1\n",
      "  score: 0.9303189516067505\n",
      "  label: \"Right\"\n",
      "}\n",
      "]\n",
      "1/1 [==============================] - 0s 27ms/step\n",
      "Stop Sign\n",
      "<class 'mediapipe.python.solution_base.SolutionOutputs'>\n",
      "which hand? [classification {\n",
      "  index: 1\n",
      "  score: 0.9220801591873169\n",
      "  label: \"Right\"\n",
      "}\n",
      "]\n",
      "1/1 [==============================] - 0s 26ms/step\n",
      "Stop Sign\n",
      "<class 'mediapipe.python.solution_base.SolutionOutputs'>\n",
      "which hand? [classification {\n",
      "  index: 1\n",
      "  score: 0.9112604260444641\n",
      "  label: \"Right\"\n",
      "}\n",
      "]\n",
      "1/1 [==============================] - 0s 25ms/step\n",
      "Stop Sign\n",
      "<class 'mediapipe.python.solution_base.SolutionOutputs'>\n",
      "which hand? [classification {\n",
      "  index: 1\n",
      "  score: 0.9399627447128296\n",
      "  label: \"Right\"\n",
      "}\n",
      "]\n",
      "1/1 [==============================] - 0s 25ms/step\n",
      "Stop Sign\n",
      "<class 'mediapipe.python.solution_base.SolutionOutputs'>\n",
      "which hand? [classification {\n",
      "  index: 1\n",
      "  score: 0.936759352684021\n",
      "  label: \"Right\"\n",
      "}\n",
      "]\n",
      "1/1 [==============================] - 0s 28ms/step\n",
      "Stop Sign\n",
      "<class 'mediapipe.python.solution_base.SolutionOutputs'>\n",
      "which hand? [classification {\n",
      "  index: 1\n",
      "  score: 0.8610736131668091\n",
      "  label: \"Right\"\n",
      "}\n",
      "]\n",
      "1/1 [==============================] - 0s 27ms/step\n",
      "Stop Sign\n",
      "<class 'mediapipe.python.solution_base.SolutionOutputs'>\n",
      "which hand? [classification {\n",
      "  index: 1\n",
      "  score: 0.8950969576835632\n",
      "  label: \"Right\"\n",
      "}\n",
      "]\n",
      "1/1 [==============================] - 0s 29ms/step\n",
      "Stop Sign\n",
      "<class 'mediapipe.python.solution_base.SolutionOutputs'>\n",
      "which hand? [classification {\n",
      "  index: 1\n",
      "  score: 0.8254210948944092\n",
      "  label: \"Right\"\n",
      "}\n",
      "]\n",
      "1/1 [==============================] - 0s 29ms/step\n",
      "Stop Sign\n",
      "<class 'mediapipe.python.solution_base.SolutionOutputs'>\n",
      "which hand? [classification {\n",
      "  index: 0\n",
      "  score: 0.6897129416465759\n",
      "  label: \"Left\"\n",
      "}\n",
      ", classification {\n",
      "  index: 1\n",
      "  score: 0.5507279634475708\n",
      "  label: \"Right\"\n",
      "}\n",
      "]\n",
      "1/1 [==============================] - 0s 28ms/step\n",
      "Stop Sign\n",
      "<class 'mediapipe.python.solution_base.SolutionOutputs'>\n",
      "which hand? [classification {\n",
      "  index: 0\n",
      "  score: 0.6654874086380005\n",
      "  label: \"Left\"\n",
      "}\n",
      ", classification {\n",
      "  index: 0\n",
      "  score: 0.5621654987335205\n",
      "  label: \"Left\"\n",
      "}\n",
      "]\n",
      "1/1 [==============================] - 0s 26ms/step\n",
      "Stop Sign\n",
      "<class 'mediapipe.python.solution_base.SolutionOutputs'>\n",
      "which hand? [classification {\n",
      "  index: 1\n",
      "  score: 0.5716233253479004\n",
      "  label: \"Right\"\n",
      "}\n",
      "]\n",
      "1/1 [==============================] - 0s 27ms/step\n",
      "Stop Sign\n",
      "<class 'mediapipe.python.solution_base.SolutionOutputs'>\n",
      "which hand? [classification {\n",
      "  index: 1\n",
      "  score: 0.6387654542922974\n",
      "  label: \"Right\"\n",
      "}\n",
      "]\n",
      "1/1 [==============================] - 0s 29ms/step\n",
      "Stop Sign\n",
      "<class 'mediapipe.python.solution_base.SolutionOutputs'>\n",
      "which hand? [classification {\n",
      "  index: 1\n",
      "  score: 0.890971839427948\n",
      "  label: \"Right\"\n",
      "}\n",
      "]\n",
      "1/1 [==============================] - 0s 25ms/step\n",
      "Stop Sign\n",
      "<class 'mediapipe.python.solution_base.SolutionOutputs'>\n",
      "which hand? [classification {\n",
      "  index: 1\n",
      "  score: 0.945264458656311\n",
      "  label: \"Right\"\n",
      "}\n",
      "]\n",
      "1/1 [==============================] - 0s 29ms/step\n",
      "Stop Sign\n",
      "<class 'mediapipe.python.solution_base.SolutionOutputs'>\n",
      "which hand? [classification {\n",
      "  index: 1\n",
      "  score: 0.9530292749404907\n",
      "  label: \"Right\"\n",
      "}\n",
      "]\n",
      "1/1 [==============================] - 0s 29ms/step\n",
      "Stop Sign\n",
      "<class 'mediapipe.python.solution_base.SolutionOutputs'>\n",
      "which hand? [classification {\n",
      "  index: 1\n",
      "  score: 0.9611257314682007\n",
      "  label: \"Right\"\n",
      "}\n",
      "]\n",
      "1/1 [==============================] - 0s 25ms/step\n",
      "Stop Sign\n",
      "<class 'mediapipe.python.solution_base.SolutionOutputs'>\n",
      "which hand? [classification {\n",
      "  index: 1\n",
      "  score: 0.9497180581092834\n",
      "  label: \"Right\"\n",
      "}\n",
      "]\n",
      "1/1 [==============================] - 0s 25ms/step\n",
      "Stop Sign\n",
      "<class 'mediapipe.python.solution_base.SolutionOutputs'>\n",
      "which hand? [classification {\n",
      "  index: 1\n",
      "  score: 0.948156476020813\n",
      "  label: \"Right\"\n",
      "}\n",
      "]\n",
      "1/1 [==============================] - 0s 26ms/step\n",
      "Stop Sign\n",
      "<class 'mediapipe.python.solution_base.SolutionOutputs'>\n",
      "which hand? [classification {\n",
      "  index: 1\n",
      "  score: 0.9547570943832397\n",
      "  label: \"Right\"\n",
      "}\n",
      "]\n",
      "1/1 [==============================] - 0s 26ms/step\n",
      "Stop Sign\n",
      "<class 'mediapipe.python.solution_base.SolutionOutputs'>\n",
      "which hand? [classification {\n",
      "  index: 1\n",
      "  score: 0.9477096796035767\n",
      "  label: \"Right\"\n",
      "}\n",
      "]\n",
      "1/1 [==============================] - 0s 31ms/step\n",
      "Stop Sign\n",
      "<class 'mediapipe.python.solution_base.SolutionOutputs'>\n",
      "which hand? [classification {\n",
      "  index: 1\n",
      "  score: 0.9638587236404419\n",
      "  label: \"Right\"\n",
      "}\n",
      "]\n",
      "1/1 [==============================] - 0s 27ms/step\n",
      "Stop Sign\n",
      "<class 'mediapipe.python.solution_base.SolutionOutputs'>\n",
      "which hand? [classification {\n",
      "  index: 1\n",
      "  score: 0.960308849811554\n",
      "  label: \"Right\"\n",
      "}\n",
      "]\n",
      "1/1 [==============================] - 0s 30ms/step\n",
      "Stop Sign\n",
      "<class 'mediapipe.python.solution_base.SolutionOutputs'>\n",
      "which hand? [classification {\n",
      "  index: 1\n",
      "  score: 0.9510173201560974\n",
      "  label: \"Right\"\n",
      "}\n",
      "]\n",
      "1/1 [==============================] - 0s 27ms/step\n",
      "Stop Sign\n",
      "<class 'mediapipe.python.solution_base.SolutionOutputs'>\n",
      "which hand? [classification {\n",
      "  index: 1\n",
      "  score: 0.9593971371650696\n",
      "  label: \"Right\"\n",
      "}\n",
      "]\n",
      "1/1 [==============================] - 0s 26ms/step\n",
      "Stop Sign\n",
      "<class 'mediapipe.python.solution_base.SolutionOutputs'>\n",
      "which hand? [classification {\n",
      "  index: 1\n",
      "  score: 0.9599769711494446\n",
      "  label: \"Right\"\n",
      "}\n",
      "]\n",
      "1/1 [==============================] - 0s 29ms/step\n",
      "Stop Sign\n",
      "<class 'mediapipe.python.solution_base.SolutionOutputs'>\n",
      "which hand? [classification {\n",
      "  index: 1\n",
      "  score: 0.9449192881584167\n",
      "  label: \"Right\"\n",
      "}\n",
      "]\n",
      "1/1 [==============================] - 0s 29ms/step\n",
      "Stop Sign\n",
      "<class 'mediapipe.python.solution_base.SolutionOutputs'>\n",
      "which hand? [classification {\n",
      "  index: 1\n",
      "  score: 0.9404385685920715\n",
      "  label: \"Right\"\n",
      "}\n",
      "]\n",
      "1/1 [==============================] - 0s 26ms/step\n",
      "Stop Sign\n",
      "<class 'mediapipe.python.solution_base.SolutionOutputs'>\n",
      "which hand? [classification {\n",
      "  index: 1\n",
      "  score: 0.9537705183029175\n",
      "  label: \"Right\"\n",
      "}\n",
      "]\n",
      "1/1 [==============================] - 0s 28ms/step\n",
      "Stop Sign\n",
      "<class 'mediapipe.python.solution_base.SolutionOutputs'>\n",
      "which hand? [classification {\n",
      "  index: 1\n",
      "  score: 0.9035874605178833\n",
      "  label: \"Right\"\n",
      "}\n",
      "]\n",
      "1/1 [==============================] - 0s 27ms/step\n",
      "Stop Sign\n",
      "<class 'mediapipe.python.solution_base.SolutionOutputs'>\n",
      "which hand? [classification {\n",
      "  index: 1\n",
      "  score: 0.8902640342712402\n",
      "  label: \"Right\"\n",
      "}\n",
      "]\n",
      "1/1 [==============================] - 0s 27ms/step\n",
      "Stop Sign\n",
      "<class 'mediapipe.python.solution_base.SolutionOutputs'>\n",
      "which hand? [classification {\n",
      "  index: 1\n",
      "  score: 0.8981018662452698\n",
      "  label: \"Right\"\n",
      "}\n",
      "]\n",
      "1/1 [==============================] - 0s 25ms/step\n",
      "Stop Sign\n",
      "<class 'mediapipe.python.solution_base.SolutionOutputs'>\n",
      "which hand? [classification {\n",
      "  index: 1\n",
      "  score: 0.8695993423461914\n",
      "  label: \"Right\"\n",
      "}\n",
      "]\n",
      "1/1 [==============================] - 0s 26ms/step\n",
      "Stop Sign\n",
      "<class 'mediapipe.python.solution_base.SolutionOutputs'>\n",
      "which hand? [classification {\n",
      "  index: 1\n",
      "  score: 0.9549037218093872\n",
      "  label: \"Right\"\n",
      "}\n",
      "]\n",
      "1/1 [==============================] - 0s 36ms/step\n",
      "Stop Sign\n",
      "<class 'mediapipe.python.solution_base.SolutionOutputs'>\n",
      "which hand? [classification {\n",
      "  index: 1\n",
      "  score: 0.9626085162162781\n",
      "  label: \"Right\"\n",
      "}\n",
      "]\n",
      "1/1 [==============================] - 0s 30ms/step\n",
      "Stop Sign\n",
      "<class 'mediapipe.python.solution_base.SolutionOutputs'>\n",
      "which hand? [classification {\n",
      "  index: 0\n",
      "  score: 0.9949866533279419\n",
      "  label: \"Left\"\n",
      "}\n",
      ", classification {\n",
      "  index: 1\n",
      "  score: 0.9609295725822449\n",
      "  label: \"Right\"\n",
      "}\n",
      "]\n",
      "1/1 [==============================] - 0s 26ms/step\n",
      "Stop Sign\n",
      "<class 'mediapipe.python.solution_base.SolutionOutputs'>\n",
      "which hand? [classification {\n",
      "  index: 0\n",
      "  score: 0.9813098311424255\n",
      "  label: \"Left\"\n",
      "}\n",
      ", classification {\n",
      "  index: 1\n",
      "  score: 0.9598404765129089\n",
      "  label: \"Right\"\n",
      "}\n",
      "]\n",
      "1/1 [==============================] - 0s 27ms/step\n",
      "Stop Sign\n",
      "<class 'mediapipe.python.solution_base.SolutionOutputs'>\n",
      "which hand? [classification {\n",
      "  index: 0\n",
      "  score: 0.9861079454421997\n",
      "  label: \"Left\"\n",
      "}\n",
      ", classification {\n",
      "  index: 1\n",
      "  score: 0.9587137699127197\n",
      "  label: \"Right\"\n",
      "}\n",
      "]\n",
      "1/1 [==============================] - 0s 28ms/step\n",
      "Stop Sign\n",
      "<class 'mediapipe.python.solution_base.SolutionOutputs'>\n",
      "which hand? [classification {\n",
      "  index: 0\n",
      "  score: 0.9908180236816406\n",
      "  label: \"Left\"\n",
      "}\n",
      ", classification {\n",
      "  index: 1\n",
      "  score: 0.9514065384864807\n",
      "  label: \"Right\"\n",
      "}\n",
      "]\n",
      "1/1 [==============================] - 0s 27ms/step\n",
      "Stop Sign\n",
      "<class 'mediapipe.python.solution_base.SolutionOutputs'>\n",
      "which hand? [classification {\n",
      "  index: 0\n",
      "  score: 0.9924564957618713\n",
      "  label: \"Left\"\n",
      "}\n",
      ", classification {\n",
      "  index: 1\n",
      "  score: 0.9425287842750549\n",
      "  label: \"Right\"\n",
      "}\n",
      "]\n",
      "1/1 [==============================] - 0s 27ms/step\n",
      "Stop Sign\n",
      "<class 'mediapipe.python.solution_base.SolutionOutputs'>\n",
      "which hand? [classification {\n",
      "  index: 0\n",
      "  score: 0.9928311705589294\n",
      "  label: \"Left\"\n",
      "}\n",
      ", classification {\n",
      "  index: 1\n",
      "  score: 0.9403936862945557\n",
      "  label: \"Right\"\n",
      "}\n",
      "]\n",
      "1/1 [==============================] - 0s 27ms/step\n",
      "Stop Sign\n",
      "<class 'mediapipe.python.solution_base.SolutionOutputs'>\n",
      "which hand? [classification {\n",
      "  index: 0\n",
      "  score: 0.9889703989028931\n",
      "  label: \"Left\"\n",
      "}\n",
      ", classification {\n",
      "  index: 1\n",
      "  score: 0.9451109170913696\n",
      "  label: \"Right\"\n",
      "}\n",
      "]\n",
      "1/1 [==============================] - 0s 26ms/step\n",
      "Stop Sign\n",
      "<class 'mediapipe.python.solution_base.SolutionOutputs'>\n",
      "which hand? [classification {\n",
      "  index: 0\n",
      "  score: 0.9885498285293579\n",
      "  label: \"Left\"\n",
      "}\n",
      ", classification {\n",
      "  index: 1\n",
      "  score: 0.9554442167282104\n",
      "  label: \"Right\"\n",
      "}\n",
      "]\n",
      "1/1 [==============================] - 0s 29ms/step\n",
      "Stop Sign\n",
      "<class 'mediapipe.python.solution_base.SolutionOutputs'>\n",
      "which hand? [classification {\n",
      "  index: 0\n",
      "  score: 0.9886260032653809\n",
      "  label: \"Left\"\n",
      "}\n",
      ", classification {\n",
      "  index: 1\n",
      "  score: 0.9489293098449707\n",
      "  label: \"Right\"\n",
      "}\n",
      "]\n",
      "1/1 [==============================] - 0s 29ms/step\n",
      "Stop Sign\n",
      "<class 'mediapipe.python.solution_base.SolutionOutputs'>\n",
      "which hand? [classification {\n",
      "  index: 0\n",
      "  score: 0.9883946776390076\n",
      "  label: \"Left\"\n",
      "}\n",
      ", classification {\n",
      "  index: 1\n",
      "  score: 0.9431360363960266\n",
      "  label: \"Right\"\n",
      "}\n",
      "]\n",
      "1/1 [==============================] - 0s 27ms/step\n",
      "Stop Sign\n",
      "<class 'mediapipe.python.solution_base.SolutionOutputs'>\n",
      "which hand? [classification {\n",
      "  index: 0\n",
      "  score: 0.9882302284240723\n",
      "  label: \"Left\"\n",
      "}\n",
      ", classification {\n",
      "  index: 1\n",
      "  score: 0.9486116170883179\n",
      "  label: \"Right\"\n",
      "}\n",
      "]\n",
      "1/1 [==============================] - 0s 30ms/step\n",
      "Stop Sign\n",
      "<class 'mediapipe.python.solution_base.SolutionOutputs'>\n",
      "which hand? [classification {\n",
      "  index: 0\n",
      "  score: 0.9866067171096802\n",
      "  label: \"Left\"\n",
      "}\n",
      ", classification {\n",
      "  index: 1\n",
      "  score: 0.9407615065574646\n",
      "  label: \"Right\"\n",
      "}\n",
      "]\n",
      "1/1 [==============================] - 0s 33ms/step\n",
      "Stop Sign\n",
      "<class 'mediapipe.python.solution_base.SolutionOutputs'>\n",
      "which hand? [classification {\n",
      "  index: 0\n",
      "  score: 0.9889156222343445\n",
      "  label: \"Left\"\n",
      "}\n",
      ", classification {\n",
      "  index: 1\n",
      "  score: 0.9463635683059692\n",
      "  label: \"Right\"\n",
      "}\n",
      "]\n",
      "1/1 [==============================] - 0s 29ms/step\n",
      "Stop Sign\n",
      "<class 'mediapipe.python.solution_base.SolutionOutputs'>\n",
      "which hand? [classification {\n",
      "  index: 0\n",
      "  score: 0.9883487224578857\n",
      "  label: \"Left\"\n",
      "}\n",
      ", classification {\n",
      "  index: 1\n",
      "  score: 0.9543257355690002\n",
      "  label: \"Right\"\n",
      "}\n",
      "]\n",
      "1/1 [==============================] - 0s 30ms/step\n",
      "Stop Sign\n",
      "<class 'mediapipe.python.solution_base.SolutionOutputs'>\n",
      "which hand? [classification {\n",
      "  index: 0\n",
      "  score: 0.9880782961845398\n",
      "  label: \"Left\"\n",
      "}\n",
      ", classification {\n",
      "  index: 1\n",
      "  score: 0.9515538215637207\n",
      "  label: \"Right\"\n",
      "}\n",
      "]\n",
      "1/1 [==============================] - 0s 29ms/step\n",
      "Stop Sign\n",
      "<class 'mediapipe.python.solution_base.SolutionOutputs'>\n",
      "which hand? [classification {\n",
      "  index: 0\n",
      "  score: 0.9853990077972412\n",
      "  label: \"Left\"\n",
      "}\n",
      ", classification {\n",
      "  index: 1\n",
      "  score: 0.9443049430847168\n",
      "  label: \"Right\"\n",
      "}\n",
      "]\n",
      "1/1 [==============================] - 0s 28ms/step\n",
      "Stop Sign\n",
      "<class 'mediapipe.python.solution_base.SolutionOutputs'>\n",
      "which hand? [classification {\n",
      "  index: 0\n",
      "  score: 0.9911586046218872\n",
      "  label: \"Left\"\n",
      "}\n",
      ", classification {\n",
      "  index: 1\n",
      "  score: 0.9456415772438049\n",
      "  label: \"Right\"\n",
      "}\n",
      "]\n",
      "1/1 [==============================] - 0s 27ms/step\n",
      "Stop Sign\n",
      "<class 'mediapipe.python.solution_base.SolutionOutputs'>\n",
      "which hand? [classification {\n",
      "  index: 0\n",
      "  score: 0.9893976449966431\n",
      "  label: \"Left\"\n",
      "}\n",
      ", classification {\n",
      "  index: 1\n",
      "  score: 0.9584424495697021\n",
      "  label: \"Right\"\n",
      "}\n",
      "]\n",
      "1/1 [==============================] - 0s 31ms/step\n",
      "Stop Sign\n",
      "<class 'mediapipe.python.solution_base.SolutionOutputs'>\n",
      "which hand? [classification {\n",
      "  index: 0\n",
      "  score: 0.9862901568412781\n",
      "  label: \"Left\"\n",
      "}\n",
      ", classification {\n",
      "  index: 1\n",
      "  score: 0.9597206115722656\n",
      "  label: \"Right\"\n",
      "}\n",
      "]\n",
      "1/1 [==============================] - 0s 29ms/step\n",
      "Stop Sign\n",
      "<class 'mediapipe.python.solution_base.SolutionOutputs'>\n",
      "which hand? [classification {\n",
      "  index: 0\n",
      "  score: 0.9901928901672363\n",
      "  label: \"Left\"\n",
      "}\n",
      ", classification {\n",
      "  index: 1\n",
      "  score: 0.9635941386222839\n",
      "  label: \"Right\"\n",
      "}\n",
      "]\n",
      "1/1 [==============================] - 0s 26ms/step\n",
      "Thumb Down\n",
      "<class 'mediapipe.python.solution_base.SolutionOutputs'>\n",
      "which hand? [classification {\n",
      "  index: 0\n",
      "  score: 0.9884480237960815\n",
      "  label: \"Left\"\n",
      "}\n",
      ", classification {\n",
      "  index: 1\n",
      "  score: 0.9525347352027893\n",
      "  label: \"Right\"\n",
      "}\n",
      "]\n",
      "1/1 [==============================] - 0s 29ms/step\n",
      "Thumb Up\n",
      "<class 'mediapipe.python.solution_base.SolutionOutputs'>\n",
      "which hand? [classification {\n",
      "  index: 0\n",
      "  score: 0.9926440715789795\n",
      "  label: \"Left\"\n",
      "}\n",
      ", classification {\n",
      "  index: 1\n",
      "  score: 0.9541198015213013\n",
      "  label: \"Right\"\n",
      "}\n",
      "]\n",
      "1/1 [==============================] - 0s 32ms/step\n",
      "Thumb Up\n",
      "<class 'mediapipe.python.solution_base.SolutionOutputs'>\n",
      "which hand? [classification {\n",
      "  index: 0\n",
      "  score: 0.9904597997665405\n",
      "  label: \"Left\"\n",
      "}\n",
      ", classification {\n",
      "  index: 1\n",
      "  score: 0.9551813006401062\n",
      "  label: \"Right\"\n",
      "}\n",
      "]\n",
      "1/1 [==============================] - 0s 29ms/step\n",
      "Thumb Up\n",
      "<class 'mediapipe.python.solution_base.SolutionOutputs'>\n",
      "which hand? [classification {\n",
      "  index: 0\n",
      "  score: 0.9933366775512695\n",
      "  label: \"Left\"\n",
      "}\n",
      ", classification {\n",
      "  index: 1\n",
      "  score: 0.9564921855926514\n",
      "  label: \"Right\"\n",
      "}\n",
      "]\n",
      "1/1 [==============================] - 0s 29ms/step\n",
      "Thumb Up\n",
      "<class 'mediapipe.python.solution_base.SolutionOutputs'>\n",
      "which hand? [classification {\n",
      "  index: 0\n",
      "  score: 0.9920254945755005\n",
      "  label: \"Left\"\n",
      "}\n",
      ", classification {\n",
      "  index: 1\n",
      "  score: 0.9530742764472961\n",
      "  label: \"Right\"\n",
      "}\n",
      "]\n",
      "1/1 [==============================] - 0s 26ms/step\n",
      "Thumb Up\n",
      "<class 'mediapipe.python.solution_base.SolutionOutputs'>\n",
      "which hand? [classification {\n",
      "  index: 0\n",
      "  score: 0.9913452863693237\n",
      "  label: \"Left\"\n",
      "}\n",
      ", classification {\n",
      "  index: 1\n",
      "  score: 0.9567067623138428\n",
      "  label: \"Right\"\n",
      "}\n",
      "]\n",
      "1/1 [==============================] - 0s 30ms/step\n",
      "Thumb Up\n",
      "<class 'mediapipe.python.solution_base.SolutionOutputs'>\n",
      "which hand? [classification {\n",
      "  index: 0\n",
      "  score: 0.9932080507278442\n",
      "  label: \"Left\"\n",
      "}\n",
      ", classification {\n",
      "  index: 1\n",
      "  score: 0.9520082473754883\n",
      "  label: \"Right\"\n",
      "}\n",
      "]\n",
      "1/1 [==============================] - 0s 28ms/step\n",
      "Thumb Up\n",
      "<class 'mediapipe.python.solution_base.SolutionOutputs'>\n",
      "which hand? [classification {\n",
      "  index: 0\n",
      "  score: 0.9902501106262207\n",
      "  label: \"Left\"\n",
      "}\n",
      ", classification {\n",
      "  index: 1\n",
      "  score: 0.9390532374382019\n",
      "  label: \"Right\"\n",
      "}\n",
      "]\n",
      "1/1 [==============================] - 0s 27ms/step\n",
      "Thumb Up\n",
      "<class 'mediapipe.python.solution_base.SolutionOutputs'>\n",
      "which hand? [classification {\n",
      "  index: 0\n",
      "  score: 0.9938546419143677\n",
      "  label: \"Left\"\n",
      "}\n",
      ", classification {\n",
      "  index: 1\n",
      "  score: 0.9564096331596375\n",
      "  label: \"Right\"\n",
      "}\n",
      "]\n",
      "1/1 [==============================] - 0s 32ms/step\n",
      "Thumb Up\n",
      "<class 'mediapipe.python.solution_base.SolutionOutputs'>\n",
      "which hand? [classification {\n",
      "  index: 0\n",
      "  score: 0.9931727647781372\n",
      "  label: \"Left\"\n",
      "}\n",
      ", classification {\n",
      "  index: 1\n",
      "  score: 0.9533313512802124\n",
      "  label: \"Right\"\n",
      "}\n",
      "]\n",
      "1/1 [==============================] - 0s 29ms/step\n",
      "Thumb Up\n",
      "<class 'mediapipe.python.solution_base.SolutionOutputs'>\n",
      "which hand? [classification {\n",
      "  index: 0\n",
      "  score: 0.9928097128868103\n",
      "  label: \"Left\"\n",
      "}\n",
      ", classification {\n",
      "  index: 1\n",
      "  score: 0.9524988532066345\n",
      "  label: \"Right\"\n",
      "}\n",
      "]\n",
      "1/1 [==============================] - 0s 30ms/step\n",
      "Thumb Up\n",
      "<class 'mediapipe.python.solution_base.SolutionOutputs'>\n",
      "which hand? [classification {\n",
      "  index: 0\n",
      "  score: 0.9932418465614319\n",
      "  label: \"Left\"\n",
      "}\n",
      ", classification {\n",
      "  index: 1\n",
      "  score: 0.9445882439613342\n",
      "  label: \"Right\"\n",
      "}\n",
      "]\n",
      "1/1 [==============================] - 0s 27ms/step\n",
      "Thumb Up\n",
      "<class 'mediapipe.python.solution_base.SolutionOutputs'>\n",
      "which hand? [classification {\n",
      "  index: 0\n",
      "  score: 0.9921849370002747\n",
      "  label: \"Left\"\n",
      "}\n",
      ", classification {\n",
      "  index: 1\n",
      "  score: 0.9804660677909851\n",
      "  label: \"Right\"\n",
      "}\n",
      "]\n",
      "1/1 [==============================] - 0s 26ms/step\n",
      "Thumb Up\n",
      "<class 'mediapipe.python.solution_base.SolutionOutputs'>\n",
      "which hand? [classification {\n",
      "  index: 0\n",
      "  score: 0.9925286769866943\n",
      "  label: \"Left\"\n",
      "}\n",
      ", classification {\n",
      "  index: 1\n",
      "  score: 0.9828807711601257\n",
      "  label: \"Right\"\n",
      "}\n",
      "]\n",
      "1/1 [==============================] - 0s 30ms/step\n",
      "Thumb Up\n",
      "<class 'mediapipe.python.solution_base.SolutionOutputs'>\n",
      "which hand? [classification {\n",
      "  index: 0\n",
      "  score: 0.9926646947860718\n",
      "  label: \"Left\"\n",
      "}\n",
      ", classification {\n",
      "  index: 1\n",
      "  score: 0.9924207329750061\n",
      "  label: \"Right\"\n",
      "}\n",
      "]\n",
      "1/1 [==============================] - 0s 28ms/step\n",
      "Thumb Up\n",
      "<class 'mediapipe.python.solution_base.SolutionOutputs'>\n",
      "which hand? [classification {\n",
      "  index: 0\n",
      "  score: 0.9939534664154053\n",
      "  label: \"Left\"\n",
      "}\n",
      ", classification {\n",
      "  index: 1\n",
      "  score: 0.9973679184913635\n",
      "  label: \"Right\"\n",
      "}\n",
      "]\n",
      "1/1 [==============================] - 0s 32ms/step\n",
      "Thumb Up\n",
      "<class 'mediapipe.python.solution_base.SolutionOutputs'>\n",
      "which hand? [classification {\n",
      "  index: 0\n",
      "  score: 0.9934250712394714\n",
      "  label: \"Left\"\n",
      "}\n",
      ", classification {\n",
      "  index: 1\n",
      "  score: 0.998054027557373\n",
      "  label: \"Right\"\n",
      "}\n",
      "]\n",
      "1/1 [==============================] - 0s 26ms/step\n",
      "Thumb Up\n",
      "<class 'mediapipe.python.solution_base.SolutionOutputs'>\n",
      "which hand? [classification {\n",
      "  index: 0\n",
      "  score: 0.9932053685188293\n",
      "  label: \"Left\"\n",
      "}\n",
      ", classification {\n",
      "  index: 1\n",
      "  score: 0.9985261559486389\n",
      "  label: \"Right\"\n",
      "}\n",
      "]\n",
      "1/1 [==============================] - 0s 31ms/step\n",
      "Thumb Up\n",
      "<class 'mediapipe.python.solution_base.SolutionOutputs'>\n",
      "which hand? [classification {\n",
      "  index: 0\n",
      "  score: 0.9933815002441406\n",
      "  label: \"Left\"\n",
      "}\n",
      ", classification {\n",
      "  index: 1\n",
      "  score: 0.9993233680725098\n",
      "  label: \"Right\"\n",
      "}\n",
      "]\n",
      "1/1 [==============================] - 0s 27ms/step\n",
      "Thumb Up\n",
      "<class 'mediapipe.python.solution_base.SolutionOutputs'>\n",
      "which hand? [classification {\n",
      "  index: 0\n",
      "  score: 0.9936597347259521\n",
      "  label: \"Left\"\n",
      "}\n",
      ", classification {\n",
      "  index: 1\n",
      "  score: 0.9925230741500854\n",
      "  label: \"Right\"\n",
      "}\n",
      "]\n",
      "1/1 [==============================] - 0s 29ms/step\n",
      "Thumb Up\n",
      "<class 'mediapipe.python.solution_base.SolutionOutputs'>\n",
      "which hand? [classification {\n",
      "  index: 0\n",
      "  score: 0.9905988574028015\n",
      "  label: \"Left\"\n",
      "}\n",
      "]\n",
      "1/1 [==============================] - 0s 42ms/step\n",
      "Thumb Up\n",
      "<class 'mediapipe.python.solution_base.SolutionOutputs'>\n",
      "which hand? [classification {\n",
      "  index: 0\n",
      "  score: 0.9896516799926758\n",
      "  label: \"Left\"\n",
      "}\n",
      "]\n",
      "1/1 [==============================] - 0s 30ms/step\n",
      "Thumb Up\n",
      "<class 'mediapipe.python.solution_base.SolutionOutputs'>\n",
      "which hand? [classification {\n",
      "  index: 0\n",
      "  score: 0.9897587299346924\n",
      "  label: \"Left\"\n",
      "}\n",
      "]\n",
      "1/1 [==============================] - 0s 29ms/step\n",
      "Thumb Up\n",
      "<class 'mediapipe.python.solution_base.SolutionOutputs'>\n",
      "which hand? [classification {\n",
      "  index: 0\n",
      "  score: 0.9911484718322754\n",
      "  label: \"Left\"\n",
      "}\n",
      "]\n",
      "1/1 [==============================] - 0s 33ms/step\n",
      "Thumb Up\n",
      "<class 'mediapipe.python.solution_base.SolutionOutputs'>\n",
      "which hand? [classification {\n",
      "  index: 0\n",
      "  score: 0.9892933368682861\n",
      "  label: \"Left\"\n",
      "}\n",
      "]\n",
      "1/1 [==============================] - 0s 27ms/step\n",
      "Thumb Up\n",
      "<class 'mediapipe.python.solution_base.SolutionOutputs'>\n",
      "which hand? [classification {\n",
      "  index: 0\n",
      "  score: 0.9950162768363953\n",
      "  label: \"Left\"\n",
      "}\n",
      "]\n",
      "1/1 [==============================] - 0s 30ms/step\n",
      "Thumb Up\n",
      "<class 'mediapipe.python.solution_base.SolutionOutputs'>\n",
      "which hand? [classification {\n",
      "  index: 0\n",
      "  score: 0.9895519018173218\n",
      "  label: \"Left\"\n",
      "}\n",
      "]\n",
      "1/1 [==============================] - 0s 27ms/step\n",
      "Thumb Up\n",
      "<class 'mediapipe.python.solution_base.SolutionOutputs'>\n",
      "which hand? [classification {\n",
      "  index: 0\n",
      "  score: 0.9588445425033569\n",
      "  label: \"Left\"\n",
      "}\n",
      "]\n",
      "1/1 [==============================] - 0s 25ms/step\n",
      "Thumb Up\n",
      "<class 'mediapipe.python.solution_base.SolutionOutputs'>\n",
      "which hand? [classification {\n",
      "  index: 0\n",
      "  score: 0.9877374172210693\n",
      "  label: \"Left\"\n",
      "}\n",
      "]\n",
      "1/1 [==============================] - 0s 26ms/step\n",
      "Thumb Up\n",
      "<class 'mediapipe.python.solution_base.SolutionOutputs'>\n",
      "which hand? [classification {\n",
      "  index: 0\n",
      "  score: 0.9765444993972778\n",
      "  label: \"Left\"\n",
      "}\n",
      "]\n",
      "1/1 [==============================] - 0s 28ms/step\n",
      "Thumb Up\n",
      "<class 'mediapipe.python.solution_base.SolutionOutputs'>\n",
      "which hand? [classification {\n",
      "  index: 0\n",
      "  score: 0.9746168851852417\n",
      "  label: \"Left\"\n",
      "}\n",
      "]\n",
      "1/1 [==============================] - 0s 28ms/step\n",
      "Thumb Up\n",
      "<class 'mediapipe.python.solution_base.SolutionOutputs'>\n",
      "which hand? [classification {\n",
      "  index: 0\n",
      "  score: 0.9760823249816895\n",
      "  label: \"Left\"\n",
      "}\n",
      "]\n",
      "1/1 [==============================] - 0s 28ms/step\n",
      "Thumb Up\n",
      "<class 'mediapipe.python.solution_base.SolutionOutputs'>\n",
      "which hand? [classification {\n",
      "  index: 0\n",
      "  score: 0.9700025916099548\n",
      "  label: \"Left\"\n",
      "}\n",
      "]\n",
      "1/1 [==============================] - 0s 31ms/step\n",
      "Thumb Up\n",
      "<class 'mediapipe.python.solution_base.SolutionOutputs'>\n",
      "which hand? [classification {\n",
      "  index: 0\n",
      "  score: 0.9732200503349304\n",
      "  label: \"Left\"\n",
      "}\n",
      "]\n",
      "1/1 [==============================] - 0s 29ms/step\n",
      "Thumb Up\n",
      "<class 'mediapipe.python.solution_base.SolutionOutputs'>\n",
      "which hand? [classification {\n",
      "  index: 0\n",
      "  score: 0.9638470411300659\n",
      "  label: \"Left\"\n",
      "}\n",
      "]\n",
      "1/1 [==============================] - 0s 28ms/step\n",
      "Thumb Up\n",
      "<class 'mediapipe.python.solution_base.SolutionOutputs'>\n",
      "which hand? [classification {\n",
      "  index: 0\n",
      "  score: 0.958990216255188\n",
      "  label: \"Left\"\n",
      "}\n",
      "]\n",
      "1/1 [==============================] - 0s 27ms/step\n",
      "Thumb Up\n",
      "<class 'mediapipe.python.solution_base.SolutionOutputs'>\n",
      "which hand? [classification {\n",
      "  index: 0\n",
      "  score: 0.9896500706672668\n",
      "  label: \"Left\"\n",
      "}\n",
      "]\n",
      "1/1 [==============================] - 0s 27ms/step\n",
      "Thumb Up\n",
      "<class 'mediapipe.python.solution_base.SolutionOutputs'>\n",
      "which hand? [classification {\n",
      "  index: 0\n",
      "  score: 0.9875121712684631\n",
      "  label: \"Left\"\n",
      "}\n",
      "]\n",
      "1/1 [==============================] - 0s 27ms/step\n",
      "Thumb Up\n",
      "<class 'mediapipe.python.solution_base.SolutionOutputs'>\n",
      "which hand? [classification {\n",
      "  index: 1\n",
      "  score: 0.507085382938385\n",
      "  label: \"Right\"\n",
      "}\n",
      "]\n",
      "1/1 [==============================] - 0s 28ms/step\n",
      "Stop Sign\n",
      "<class 'mediapipe.python.solution_base.SolutionOutputs'>\n",
      "which hand? [classification {\n",
      "  index: 1\n",
      "  score: 0.9414798021316528\n",
      "  label: \"Right\"\n",
      "}\n",
      "]\n",
      "1/1 [==============================] - 0s 29ms/step\n",
      "Stop Sign\n",
      "<class 'mediapipe.python.solution_base.SolutionOutputs'>\n",
      "which hand? None\n",
      "no detect\n",
      "1/1 [==============================] - 0s 27ms/step\n",
      "Stop Sign\n",
      "<class 'mediapipe.python.solution_base.SolutionOutputs'>\n",
      "which hand? None\n",
      "no detect\n",
      "1/1 [==============================] - 0s 47ms/step\n",
      "Stop Sign\n"
     ]
    }
   ],
   "source": [
    "# 1. New detection variables\n",
    "sequence = []\n",
    "predictions = []\n",
    "gesto = \"\"\n",
    "threshold = 0.5\n",
    "\n",
    "cap = cv2.VideoCapture(0)\n",
    "# Set mediapipe model \n",
    "with mp_hands.Hands(max_num_hands=2, min_detection_confidence=0.5) as hands:\n",
    "    while cap.isOpened():\n",
    "\n",
    "        # Read feed\n",
    "        ret, frame = cap.read()\n",
    "\n",
    "        if not ret:\n",
    "            print(\"Ignoring empty camera frame.\")\n",
    "            # If loading a video, use 'break' instead of 'continue'.\n",
    "            continue\n",
    "        \n",
    "        # Make detections\n",
    "        image, results = mediapipe_detection(frame, hands)\n",
    "        print(results)        \n",
    "        print(\"which hand?\", results.multi_handedness)\n",
    "\n",
    "        first_hand_keypoints = np.zeros(21*3)\n",
    "        second_hand_keypoints = np.zeros(21*3)\n",
    "    \n",
    "        if results.multi_hand_landmarks:\n",
    "            for num, hand_landmarks in enumerate(results.multi_hand_landmarks):        \n",
    "\n",
    "                mp_drawing.draw_landmarks(     \n",
    "                    image,\n",
    "                    hand_landmarks,\n",
    "                    mp_hands.HAND_CONNECTIONS,\n",
    "                    mp_drawing.DrawingSpec(color=(245,117,66), thickness=2, circle_radius=2),\n",
    "                    mp_drawing.DrawingSpec(color=(200,66,230), thickness=2, circle_radius=2)\n",
    "                    )\n",
    "                \n",
    "                if num == 0:   \n",
    "                    first_hand_keypoints = extract_keypoints_hands(results, hand_landmarks)\n",
    "                    #print(\"\\n1st hand kp:\", first_hand_keypoints_test)\n",
    "                if num == 1:\n",
    "                    second_hand_keypoints = extract_keypoints_hands(results, hand_landmarks)\n",
    "                    #print(\"\\n2nd hand kp:\", second_hand_keypoints_test)\n",
    "\n",
    "            keypoints = np.concatenate([first_hand_keypoints, second_hand_keypoints])    \n",
    "\n",
    "        else: \n",
    "            keypoints = np.zeros(21*6)\n",
    "            print(\"no detect\")\n",
    "                        \n",
    "        # 2. Prediction logic\n",
    "        sequence.append(keypoints)\n",
    "        sequence = sequence[-30:]\n",
    "        \n",
    "        if len(sequence) == 30:\n",
    "            res = model_Rnn.predict(np.expand_dims(sequence, axis=0))[0]\n",
    "            print(jester_gestures[np.argmax(res)])\n",
    "            predictions.append(np.argmax(res))\n",
    "            \n",
    "        #3. Viz logic\n",
    "            if np.unique(predictions[-10:])[0]==np.argmax(res): \n",
    "                if res[np.argmax(res)] > threshold:                     \n",
    "                    gesto = jester_gestures[np.argmax(res)]\n",
    "             \n",
    "            # Viz probabilities\n",
    "            image = prob_viz(res, jester_gestures, image, colors)\n",
    "            \n",
    "        cv2.rectangle(image, (0,0), (640, 40), (245, 117, 16), -1)\n",
    "        cv2.putText(image, ' '.join(gesto), (3,30), \n",
    "                       cv2.FONT_HERSHEY_SIMPLEX, 1, (255, 255, 255), 2, cv2.LINE_AA)\n",
    "        \n",
    "        # Show to screen\n",
    "        cv2.imshow('OpenCV Feed', image)\n",
    "\n",
    "        # Break gracefully\n",
    "        if cv2.waitKey(10) & 0xFF == ord('q'):\n",
    "            break\n",
    "\n",
    "    cap.release()\n",
    "    cv2.destroyAllWindows()"
   ]
  }
 ],
 "metadata": {
  "kernelspec": {
   "display_name": "Python 3",
   "language": "python",
   "name": "python3"
  },
  "language_info": {
   "codemirror_mode": {
    "name": "ipython",
    "version": 3
   },
   "file_extension": ".py",
   "mimetype": "text/x-python",
   "name": "python",
   "nbconvert_exporter": "python",
   "pygments_lexer": "ipython3",
   "version": "3.10.10"
  },
  "vscode": {
   "interpreter": {
    "hash": "f8c13ce7f95df9bcedf02da0763094e45a75df7767b545b2a69f7537a5052786"
   }
  }
 },
 "nbformat": 4,
 "nbformat_minor": 2
}
