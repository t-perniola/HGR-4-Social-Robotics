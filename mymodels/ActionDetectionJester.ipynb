{
 "cells": [
  {
   "cell_type": "markdown",
   "metadata": {},
   "source": [
    "# 1. Import and Install Dependencies"
   ]
  },
  {
   "cell_type": "code",
   "execution_count": 1,
   "metadata": {},
   "outputs": [],
   "source": [
    "import cv2\n",
    "import numpy as np\n",
    "import os\n",
    "import mediapipe as mp\n",
    "import pandas as pd\n",
    "\n",
    "from matplotlib import pyplot as plt"
   ]
  },
  {
   "cell_type": "markdown",
   "metadata": {},
   "source": [
    "# 2. Keypoints using MP Holistic"
   ]
  },
  {
   "attachments": {},
   "cell_type": "markdown",
   "metadata": {},
   "source": [
    "importiamo il modello Holistic di MediaPipe"
   ]
  },
  {
   "cell_type": "code",
   "execution_count": 2,
   "metadata": {},
   "outputs": [],
   "source": [
    "mp_holistic = mp.solutions.holistic # Holistic model\n",
    "mp_hands = mp.solutions.hands # Hands model\n",
    "mp_drawing = mp.solutions.drawing_utils # Drawing utilities\n",
    "mp_drawing_styles = mp.solutions.drawing_styles"
   ]
  },
  {
   "attachments": {},
   "cell_type": "markdown",
   "metadata": {},
   "source": [
    "funzione di riconoscimento: convertiamo prima l'immagine dal canale BGR (output di OpenCV feed) a quello RGB, necessario per MediaPipe;\n",
    "alla fine riconvertiamo in BGR"
   ]
  },
  {
   "cell_type": "code",
   "execution_count": 3,
   "metadata": {},
   "outputs": [],
   "source": [
    "def mediapipe_detection(image, model):\n",
    "    image = cv2.cvtColor(image, cv2.COLOR_BGR2RGB) # COLOR CONVERSION BGR 2 RGB\n",
    "    image.flags.writeable = False                  # Image is no longer writeable\n",
    "    results = model.process(image)                 # Make prediction with the Holistic model\n",
    "    image.flags.writeable = True                   # Image is now writeable \n",
    "    image = cv2.cvtColor(image, cv2.COLOR_RGB2BGR) # COLOR COVERSION RGB 2 BGR\n",
    "    return image, results"
   ]
  },
  {
   "attachments": {},
   "cell_type": "markdown",
   "metadata": {},
   "source": [
    "ora visualizziamo i landmark graficamente, in maniera standard; li renderizziamo -> saranno visibili a schermo"
   ]
  },
  {
   "cell_type": "code",
   "execution_count": 4,
   "metadata": {},
   "outputs": [],
   "source": [
    "def draw_landmarks(image, results):\n",
    "    mp_drawing.draw_landmarks(image, results.face_landmarks, mp_holistic.FACEMESH_TESSELATION) # Draw face connections\n",
    "    mp_drawing.draw_landmarks(image, results.pose_landmarks, mp_holistic.POSE_CONNECTIONS) # Draw pose connections\n",
    "    mp_drawing.draw_landmarks(image, results.left_hand_landmarks, mp_holistic.HAND_CONNECTIONS) # Draw left hand connections\n",
    "    mp_drawing.draw_landmarks(image, results.right_hand_landmarks, mp_holistic.HAND_CONNECTIONS) # Draw right hand connections\n",
    "\n",
    "#le X_CONNECTIONS sono mappe che restituiscono i legami fra i vari landmark"
   ]
  },
  {
   "attachments": {},
   "cell_type": "markdown",
   "metadata": {},
   "source": [
    "formattiamo, personalizziamo i landmark in maniera grafica"
   ]
  },
  {
   "cell_type": "code",
   "execution_count": 5,
   "metadata": {},
   "outputs": [],
   "source": [
    "def draw_styled_landmarks(image, results):\n",
    "    # Draw face connections\n",
    "    #mp_drawing.draw_landmarks(image, results.face_landmarks, mp_holistic.FACEMESH_TESSELATION, \n",
    "                             #mp_drawing.DrawingSpec(color=(80,110,10), thickness=1, circle_radius=1), \n",
    "                             #mp_drawing.DrawingSpec(color=(80,256,121), thickness=1, circle_radius=1)\n",
    "                             #) \n",
    "    # Draw pose connections\n",
    "    mp_drawing.draw_landmarks(image, results.pose_landmarks, mp_holistic.POSE_CONNECTIONS,\n",
    "                             mp_drawing.DrawingSpec(color=(80,22,10), thickness=2, circle_radius=2), \n",
    "                             mp_drawing.DrawingSpec(color=(80,44,121), thickness=2, circle_radius=2)\n",
    "                             ) \n",
    "    # Draw left hand connections\n",
    "    mp_drawing.draw_landmarks(image, results.left_hand_landmarks, mp_holistic.HAND_CONNECTIONS, \n",
    "                             mp_drawing.DrawingSpec(color=(121,22,76), thickness=2, circle_radius=2), \n",
    "                             mp_drawing.DrawingSpec(color=(121,44,250), thickness=2, circle_radius=2)\n",
    "                             ) \n",
    "    # Draw right hand connections  \n",
    "    mp_drawing.draw_landmarks(image, results.right_hand_landmarks, mp_holistic.HAND_CONNECTIONS, \n",
    "                             mp_drawing.DrawingSpec(color=(245,117,66), thickness=2, circle_radius=2), \n",
    "                             mp_drawing.DrawingSpec(color=(245,66,230), thickness=2, circle_radius=2)\n",
    "                             ) "
   ]
  },
  {
   "attachments": {},
   "cell_type": "markdown",
   "metadata": {},
   "source": [
    "# 3. Extract Keypoint Function"
   ]
  },
  {
   "attachments": {},
   "cell_type": "markdown",
   "metadata": {},
   "source": [
    "restituisce il numero dei landmark usati per la parte del corpo specificata"
   ]
  },
  {
   "attachments": {},
   "cell_type": "markdown",
   "metadata": {},
   "source": [
    "Lavoriamo su ciascun landkmark: \n",
    "\n",
    "- creiamo degli array dove memorizzare le sue coordinate (dei landmark)\n",
    "\n",
    "- Useremo degli array di zero quando una certa parte del corpo non è riconosciuta/presente, per non fare andare in errore il sistema."
   ]
  },
  {
   "attachments": {},
   "cell_type": "markdown",
   "metadata": {},
   "source": [
    "Facciamo la stessa cosa, ma tutto su una sola linea.\n",
    "\n",
    "**N.B.** usiamo *flatten()* perchè vogliamo un solo array, unidimensionale, perchè ci servirà questo formato per la LSTM; infatti, senza flatten() avremo una matrice, un array bidimensionale (ciascun landmark avrà *x* valori associati)"
   ]
  },
  {
   "attachments": {},
   "cell_type": "markdown",
   "metadata": {},
   "source": [
    "come abbiamo detto prima, creiamo un array vuoto (di zeri), per gestire l'errore nel caso in cui una parte del corpo non è riconosciuta."
   ]
  },
  {
   "attachments": {},
   "cell_type": "markdown",
   "metadata": {},
   "source": [
    "qui facciamo quello fatto sopra, ma in maniera pù organizzata, in una funzione apposita:"
   ]
  },
  {
   "cell_type": "code",
   "execution_count": 6,
   "metadata": {},
   "outputs": [],
   "source": [
    "def extract_keypoints(results):\n",
    "    pose = np.array([[res.x, res.y, res.z, res.visibility] for res in results.pose_landmarks.landmark]).flatten() if results.pose_landmarks else np.zeros(33*4)\n",
    "    #face = np.array([[res.x, res.y, res.z] for res in results.face_landmarks.landmark]).flatten() if results.face_landmarks else np.zeros(468*3)\n",
    "    lh = np.array([[res.x, res.y, res.z] for res in results.left_hand_landmarks.landmark]).flatten() if results.left_hand_landmarks else np.zeros(21*3)\n",
    "    rh = np.array([[res.x, res.y, res.z] for res in results.right_hand_landmarks.landmark]).flatten() if results.right_hand_landmarks else np.zeros(21*3)\n",
    "    return np.concatenate([pose, lh, rh])"
   ]
  },
  {
   "attachments": {},
   "cell_type": "markdown",
   "metadata": {},
   "source": [
    "nello specifico:\n",
    "\n",
    "res.x, res.y, res.z sono i singoli valori delle coord. per ciascun landmark, che verranno inseriti in un array più grande, ciclando per ogni landmark:\n",
    "\n",
    "- se non esistono coordinate per i landmark, quindi quella parte del corpo non è riconosciuta, viene creato un array vuoto"
   ]
  },
  {
   "attachments": {},
   "cell_type": "markdown",
   "metadata": {},
   "source": [
    "### abbiamo estratto i **keypoints** per il frame di interesse, che saranno utili per il riconoscimento dei gesti/segni"
   ]
  },
  {
   "attachments": {},
   "cell_type": "markdown",
   "metadata": {},
   "source": [
    "# 4. Setup Folders"
   ]
  },
  {
   "attachments": {},
   "cell_type": "markdown",
   "metadata": {},
   "source": [
    "quali sono i gesti contenuti nel dataset?"
   ]
  },
  {
   "cell_type": "code",
   "execution_count": 9,
   "metadata": {},
   "outputs": [],
   "source": [
    "labels_file = pd.read_csv(r'D:\\TMS\\dataset\\jester\\labels\\labels.csv') #TODO rel path\n",
    "\n",
    "gestures = labels_file['labels'].tolist() #metto in una lista tutte le labels del dataset\n",
    "gestures_array = np.array(gestures)"
   ]
  },
  {
   "attachments": {},
   "cell_type": "markdown",
   "metadata": {},
   "source": [
    "memorizzo la lista di tutti i video disponibili sulla macchina"
   ]
  },
  {
   "cell_type": "code",
   "execution_count": null,
   "metadata": {},
   "outputs": [],
   "source": [
    "DATADIR = r'D:\\TMS\\dataset\\jester\\20bn-jester-v1'\n",
    "\n",
    "list_video = sorted(os.listdir(DATADIR), key=len) #li voglio ordinati così come compaiono nell'explorer dei file"
   ]
  },
  {
   "cell_type": "code",
   "execution_count": 8,
   "metadata": {},
   "outputs": [
    {
     "data": {
      "text/plain": [
       "37793"
      ]
     },
     "execution_count": 8,
     "metadata": {},
     "output_type": "execute_result"
    }
   ],
   "source": [
    "list_video_int = list(map(int, list_video)) #converto tutto in int da string\n",
    "len(list_video_int)"
   ]
  },
  {
   "attachments": {},
   "cell_type": "markdown",
   "metadata": {},
   "source": [
    "#### abbiamo **37793** video sulla macchina, perchè non ancora estratti tutti (148k)"
   ]
  },
  {
   "attachments": {},
   "cell_type": "markdown",
   "metadata": {},
   "source": [
    "elimino tutti i keypoints estratti con Holistic"
   ]
  },
  {
   "cell_type": "code",
   "execution_count": 108,
   "metadata": {},
   "outputs": [],
   "source": [
    "import glob\n",
    "\n",
    "DATADIR = r\"D:\\TMS\\dataset\\jester\\20bn-jester-v1\"\n",
    "os.chdir(DATADIR)\n",
    "\n",
    "pattern = \"*.npy\"\n",
    "\n",
    "for vid in list_video: #per ogni video\n",
    "    path = os.path.join(DATADIR, str(vid), \"keypoints\")\n",
    "    os.chdir(path)\n",
    "    arrays = glob.glob(pattern)\n",
    "\n",
    "    for file in arrays:\n",
    "        os.remove(file)          "
   ]
  },
  {
   "attachments": {},
   "cell_type": "markdown",
   "metadata": {},
   "source": [
    "creo fold in cui salvare keypoints, per ogni video"
   ]
  },
  {
   "cell_type": "code",
   "execution_count": 15,
   "metadata": {},
   "outputs": [],
   "source": [
    "for vid in list_video: #per ogni video\n",
    "        try: \n",
    "            os.makedirs(os.path.join(DATADIR, str(vid), \"keypoints\"))\n",
    "        except:\n",
    "            pass #se esistono già, skippa la creazione"
   ]
  },
  {
   "attachments": {},
   "cell_type": "markdown",
   "metadata": {},
   "source": [
    "creo ora folds dei gesti, dove salvaremo ogni video in cui la stessa è performata"
   ]
  },
  {
   "cell_type": "markdown",
   "metadata": {},
   "source": []
  },
  {
   "cell_type": "code",
   "execution_count": 10,
   "metadata": {},
   "outputs": [],
   "source": [
    "jester_gestures = np.array([\"Stop Sign\", \"Thumb Down\", \"Thumb Up\"]) #sono le azioni che mi interessano in questo dataset"
   ]
  },
  {
   "cell_type": "code",
   "execution_count": null,
   "metadata": {},
   "outputs": [],
   "source": [
    "for label in jester_gestures: #per ogni label (per ogni gesto)\n",
    "    try:\n",
    "        os.makedirs(os.path.join(DATADIR, label))\n",
    "    except:\n",
    "        pass #se esistono già, skippa la creazione"
   ]
  },
  {
   "attachments": {},
   "cell_type": "markdown",
   "metadata": {},
   "source": [
    "# 5. Collect Keypoint Values from the dataset for Training and Testing"
   ]
  },
  {
   "attachments": {},
   "cell_type": "markdown",
   "metadata": {},
   "source": [
    "❗❗ Estrarremo i keypoints dai frame di ciascun video presente nel **dataset** *Jester*"
   ]
  },
  {
   "attachments": {},
   "cell_type": "markdown",
   "metadata": {},
   "source": [
    "Struttura del dataset Jester:\n",
    "\n",
    "- **VIDEO:** 148092\n",
    "    - **FRAME x video:** circa 30\n",
    "        - *FPS:* 12, un frame ogni 12 s\n",
    "        - *altezza:* 100px\n",
    "        - *larghezza:* variabile\n",
    "\n",
    "Il dataset, contenente **148092** video, è inoltre già splittato negli insiemi di **Training, Test e Validation:**\n",
    "\n",
    "- **TRAINING** videos: 118562 \n",
    "- **TEST** videos: 14743 \n",
    "- **VALIDATION** videos: 14787 \n",
    "\n",
    "Il dataset conterrà **27** labels (classi) di gesti diversi, ma noi siamo interessati solamente alle seguenti **3**:\n",
    "- **Thumb Up**\n",
    "- **Thumb down**\n",
    "- **Stop Sign**"
   ]
  },
  {
   "attachments": {},
   "cell_type": "markdown",
   "metadata": {},
   "source": [
    "otteniamo i video per il **training** del modello:"
   ]
  },
  {
   "cell_type": "code",
   "execution_count": 11,
   "metadata": {},
   "outputs": [
    {
     "data": {
      "text/html": [
       "<div>\n",
       "<style scoped>\n",
       "    .dataframe tbody tr th:only-of-type {\n",
       "        vertical-align: middle;\n",
       "    }\n",
       "\n",
       "    .dataframe tbody tr th {\n",
       "        vertical-align: top;\n",
       "    }\n",
       "\n",
       "    .dataframe thead th {\n",
       "        text-align: right;\n",
       "    }\n",
       "</style>\n",
       "<table border=\"1\" class=\"dataframe\">\n",
       "  <thead>\n",
       "    <tr style=\"text-align: right;\">\n",
       "      <th></th>\n",
       "      <th>key</th>\n",
       "      <th>value</th>\n",
       "    </tr>\n",
       "  </thead>\n",
       "  <tbody>\n",
       "    <tr>\n",
       "      <th>0</th>\n",
       "      <td>34870</td>\n",
       "      <td>Drumming Fingers</td>\n",
       "    </tr>\n",
       "    <tr>\n",
       "      <th>1</th>\n",
       "      <td>56557</td>\n",
       "      <td>Sliding Two Fingers Right</td>\n",
       "    </tr>\n",
       "    <tr>\n",
       "      <th>2</th>\n",
       "      <td>129112</td>\n",
       "      <td>Sliding Two Fingers Down</td>\n",
       "    </tr>\n",
       "    <tr>\n",
       "      <th>3</th>\n",
       "      <td>63861</td>\n",
       "      <td>Pulling Two Fingers In</td>\n",
       "    </tr>\n",
       "    <tr>\n",
       "      <th>4</th>\n",
       "      <td>131717</td>\n",
       "      <td>Sliding Two Fingers Up</td>\n",
       "    </tr>\n",
       "    <tr>\n",
       "      <th>...</th>\n",
       "      <td>...</td>\n",
       "      <td>...</td>\n",
       "    </tr>\n",
       "    <tr>\n",
       "      <th>118557</th>\n",
       "      <td>75507</td>\n",
       "      <td>Swiping Down</td>\n",
       "    </tr>\n",
       "    <tr>\n",
       "      <th>118558</th>\n",
       "      <td>48433</td>\n",
       "      <td>Sliding Two Fingers Left</td>\n",
       "    </tr>\n",
       "    <tr>\n",
       "      <th>118559</th>\n",
       "      <td>146421</td>\n",
       "      <td>Sliding Two Fingers Right</td>\n",
       "    </tr>\n",
       "    <tr>\n",
       "      <th>118560</th>\n",
       "      <td>49514</td>\n",
       "      <td>Thumb Up</td>\n",
       "    </tr>\n",
       "    <tr>\n",
       "      <th>118561</th>\n",
       "      <td>4502</td>\n",
       "      <td>Sliding Two Fingers Up</td>\n",
       "    </tr>\n",
       "  </tbody>\n",
       "</table>\n",
       "<p>118562 rows × 2 columns</p>\n",
       "</div>"
      ],
      "text/plain": [
       "           key                      value\n",
       "0        34870           Drumming Fingers\n",
       "1        56557  Sliding Two Fingers Right\n",
       "2       129112   Sliding Two Fingers Down\n",
       "3        63861     Pulling Two Fingers In\n",
       "4       131717     Sliding Two Fingers Up\n",
       "...        ...                        ...\n",
       "118557   75507               Swiping Down\n",
       "118558   48433   Sliding Two Fingers Left\n",
       "118559  146421  Sliding Two Fingers Right\n",
       "118560   49514                   Thumb Up\n",
       "118561    4502     Sliding Two Fingers Up\n",
       "\n",
       "[118562 rows x 2 columns]"
      ]
     },
     "execution_count": 11,
     "metadata": {},
     "output_type": "execute_result"
    }
   ],
   "source": [
    "train_file = pd.read_csv(r'D:\\TMS\\dataset\\jester\\labels\\train.csv', delimiter=\";\") #TODO path relativo\n",
    "train_list = train_file['key'].tolist() #lista degli indici dei video attualmente estratti\n",
    "train_file"
   ]
  },
  {
   "attachments": {},
   "cell_type": "markdown",
   "metadata": {},
   "source": [
    "i video di training, come visto sopra, per l'intero dataset sono **118'562** su **148'092**."
   ]
  },
  {
   "attachments": {},
   "cell_type": "markdown",
   "metadata": {},
   "source": [
    "otteniamo ora i video per il **testing** del modello:"
   ]
  },
  {
   "cell_type": "code",
   "execution_count": 12,
   "metadata": {},
   "outputs": [
    {
     "data": {
      "text/html": [
       "<div>\n",
       "<style scoped>\n",
       "    .dataframe tbody tr th:only-of-type {\n",
       "        vertical-align: middle;\n",
       "    }\n",
       "\n",
       "    .dataframe tbody tr th {\n",
       "        vertical-align: top;\n",
       "    }\n",
       "\n",
       "    .dataframe thead th {\n",
       "        text-align: right;\n",
       "    }\n",
       "</style>\n",
       "<table border=\"1\" class=\"dataframe\">\n",
       "  <thead>\n",
       "    <tr style=\"text-align: right;\">\n",
       "      <th></th>\n",
       "      <th>key</th>\n",
       "      <th>value</th>\n",
       "    </tr>\n",
       "  </thead>\n",
       "  <tbody>\n",
       "    <tr>\n",
       "      <th>0</th>\n",
       "      <td>115190</td>\n",
       "      <td>Turning Hand Counterclockwise</td>\n",
       "    </tr>\n",
       "    <tr>\n",
       "      <th>1</th>\n",
       "      <td>49340</td>\n",
       "      <td>Turning Hand Clockwise</td>\n",
       "    </tr>\n",
       "    <tr>\n",
       "      <th>2</th>\n",
       "      <td>118693</td>\n",
       "      <td>Shaking Hand</td>\n",
       "    </tr>\n",
       "    <tr>\n",
       "      <th>3</th>\n",
       "      <td>141855</td>\n",
       "      <td>Pulling Hand In</td>\n",
       "    </tr>\n",
       "    <tr>\n",
       "      <th>4</th>\n",
       "      <td>138995</td>\n",
       "      <td>Thumb Down</td>\n",
       "    </tr>\n",
       "    <tr>\n",
       "      <th>...</th>\n",
       "      <td>...</td>\n",
       "      <td>...</td>\n",
       "    </tr>\n",
       "    <tr>\n",
       "      <th>14738</th>\n",
       "      <td>82713</td>\n",
       "      <td>Swiping Up</td>\n",
       "    </tr>\n",
       "    <tr>\n",
       "      <th>14739</th>\n",
       "      <td>129898</td>\n",
       "      <td>Zooming Out With Two Fingers</td>\n",
       "    </tr>\n",
       "    <tr>\n",
       "      <th>14740</th>\n",
       "      <td>86265</td>\n",
       "      <td>Swiping Right</td>\n",
       "    </tr>\n",
       "    <tr>\n",
       "      <th>14741</th>\n",
       "      <td>140844</td>\n",
       "      <td>Zooming Out With Full Hand</td>\n",
       "    </tr>\n",
       "    <tr>\n",
       "      <th>14742</th>\n",
       "      <td>58593</td>\n",
       "      <td>Shaking Hand</td>\n",
       "    </tr>\n",
       "  </tbody>\n",
       "</table>\n",
       "<p>14743 rows × 2 columns</p>\n",
       "</div>"
      ],
      "text/plain": [
       "          key                          value\n",
       "0      115190  Turning Hand Counterclockwise\n",
       "1       49340         Turning Hand Clockwise\n",
       "2      118693                   Shaking Hand\n",
       "3      141855                Pulling Hand In\n",
       "4      138995                     Thumb Down\n",
       "...       ...                            ...\n",
       "14738   82713                     Swiping Up\n",
       "14739  129898   Zooming Out With Two Fingers\n",
       "14740   86265                  Swiping Right\n",
       "14741  140844     Zooming Out With Full Hand\n",
       "14742   58593                   Shaking Hand\n",
       "\n",
       "[14743 rows x 2 columns]"
      ]
     },
     "execution_count": 12,
     "metadata": {},
     "output_type": "execute_result"
    }
   ],
   "source": [
    "test_file = pd.read_csv(r'D:\\TMS\\dataset\\jester\\labels\\test-answers.csv', delimiter=\";\") #TODO path relativo\n",
    "test_list = test_file['key'].tolist() #lista degli indici dei video attualmente estratti\n",
    "test_file = test_file.loc[:, ~test_file.columns.str.contains('^Unnamed')]  #cancello colonne non necessarie\n",
    "test_file"
   ]
  },
  {
   "attachments": {},
   "cell_type": "markdown",
   "metadata": {},
   "source": [
    "come ancora visto sopra, per l'intero dataset abbiamo **14743** video di test"
   ]
  },
  {
   "attachments": {},
   "cell_type": "markdown",
   "metadata": {},
   "source": [
    "------------------------------------------------------------------------------------"
   ]
  },
  {
   "attachments": {},
   "cell_type": "markdown",
   "metadata": {},
   "source": [
    "### MA, come detto prima, del dataset **JESTER** mi interessano esclusivamente *TRE* azioni, definite prima:\n",
    "\n",
    "- **Thumb Up**\n",
    "- **Thumb Down**\n",
    "- **Stop Sign**"
   ]
  },
  {
   "attachments": {},
   "cell_type": "markdown",
   "metadata": {},
   "source": [
    "#### **FILTRIAMO** ora da tutti i video del dataset, ottenendo un dataframe contenente solamente i video di interesse "
   ]
  },
  {
   "cell_type": "code",
   "execution_count": 13,
   "metadata": {},
   "outputs": [],
   "source": [
    "train_file = train_file.query(\"value in @jester_gestures\") #13100 video\n",
    "test_file = test_file.query(\"value in @jester_gestures\") #1619 video"
   ]
  },
  {
   "cell_type": "code",
   "execution_count": 11,
   "metadata": {},
   "outputs": [
    {
     "data": {
      "text/html": [
       "<div>\n",
       "<style scoped>\n",
       "    .dataframe tbody tr th:only-of-type {\n",
       "        vertical-align: middle;\n",
       "    }\n",
       "\n",
       "    .dataframe tbody tr th {\n",
       "        vertical-align: top;\n",
       "    }\n",
       "\n",
       "    .dataframe thead th {\n",
       "        text-align: right;\n",
       "    }\n",
       "</style>\n",
       "<table border=\"1\" class=\"dataframe\">\n",
       "  <thead>\n",
       "    <tr style=\"text-align: right;\">\n",
       "      <th></th>\n",
       "      <th>key</th>\n",
       "      <th>value</th>\n",
       "    </tr>\n",
       "  </thead>\n",
       "  <tbody>\n",
       "    <tr>\n",
       "      <th>7</th>\n",
       "      <td>136859</td>\n",
       "      <td>Thumb Up</td>\n",
       "    </tr>\n",
       "    <tr>\n",
       "      <th>10</th>\n",
       "      <td>60572</td>\n",
       "      <td>Stop Sign</td>\n",
       "    </tr>\n",
       "    <tr>\n",
       "      <th>14</th>\n",
       "      <td>42237</td>\n",
       "      <td>Thumb Down</td>\n",
       "    </tr>\n",
       "    <tr>\n",
       "      <th>22</th>\n",
       "      <td>94060</td>\n",
       "      <td>Thumb Down</td>\n",
       "    </tr>\n",
       "    <tr>\n",
       "      <th>34</th>\n",
       "      <td>14506</td>\n",
       "      <td>Stop Sign</td>\n",
       "    </tr>\n",
       "    <tr>\n",
       "      <th>...</th>\n",
       "      <td>...</td>\n",
       "      <td>...</td>\n",
       "    </tr>\n",
       "    <tr>\n",
       "      <th>118525</th>\n",
       "      <td>78845</td>\n",
       "      <td>Thumb Up</td>\n",
       "    </tr>\n",
       "    <tr>\n",
       "      <th>118528</th>\n",
       "      <td>99153</td>\n",
       "      <td>Thumb Up</td>\n",
       "    </tr>\n",
       "    <tr>\n",
       "      <th>118544</th>\n",
       "      <td>43396</td>\n",
       "      <td>Thumb Down</td>\n",
       "    </tr>\n",
       "    <tr>\n",
       "      <th>118556</th>\n",
       "      <td>99358</td>\n",
       "      <td>Stop Sign</td>\n",
       "    </tr>\n",
       "    <tr>\n",
       "      <th>118560</th>\n",
       "      <td>49514</td>\n",
       "      <td>Thumb Up</td>\n",
       "    </tr>\n",
       "  </tbody>\n",
       "</table>\n",
       "<p>13100 rows × 2 columns</p>\n",
       "</div>"
      ],
      "text/plain": [
       "           key       value\n",
       "7       136859    Thumb Up\n",
       "10       60572   Stop Sign\n",
       "14       42237  Thumb Down\n",
       "22       94060  Thumb Down\n",
       "34       14506   Stop Sign\n",
       "...        ...         ...\n",
       "118525   78845    Thumb Up\n",
       "118528   99153    Thumb Up\n",
       "118544   43396  Thumb Down\n",
       "118556   99358   Stop Sign\n",
       "118560   49514    Thumb Up\n",
       "\n",
       "[13100 rows x 2 columns]"
      ]
     },
     "execution_count": 11,
     "metadata": {},
     "output_type": "execute_result"
    }
   ],
   "source": [
    "train_file"
   ]
  },
  {
   "cell_type": "code",
   "execution_count": 12,
   "metadata": {},
   "outputs": [
    {
     "data": {
      "text/html": [
       "<div>\n",
       "<style scoped>\n",
       "    .dataframe tbody tr th:only-of-type {\n",
       "        vertical-align: middle;\n",
       "    }\n",
       "\n",
       "    .dataframe tbody tr th {\n",
       "        vertical-align: top;\n",
       "    }\n",
       "\n",
       "    .dataframe thead th {\n",
       "        text-align: right;\n",
       "    }\n",
       "</style>\n",
       "<table border=\"1\" class=\"dataframe\">\n",
       "  <thead>\n",
       "    <tr style=\"text-align: right;\">\n",
       "      <th></th>\n",
       "      <th>key</th>\n",
       "      <th>value</th>\n",
       "    </tr>\n",
       "  </thead>\n",
       "  <tbody>\n",
       "    <tr>\n",
       "      <th>4</th>\n",
       "      <td>138995</td>\n",
       "      <td>Thumb Down</td>\n",
       "    </tr>\n",
       "    <tr>\n",
       "      <th>24</th>\n",
       "      <td>39311</td>\n",
       "      <td>Thumb Down</td>\n",
       "    </tr>\n",
       "    <tr>\n",
       "      <th>31</th>\n",
       "      <td>20922</td>\n",
       "      <td>Stop Sign</td>\n",
       "    </tr>\n",
       "    <tr>\n",
       "      <th>36</th>\n",
       "      <td>70814</td>\n",
       "      <td>Thumb Up</td>\n",
       "    </tr>\n",
       "    <tr>\n",
       "      <th>40</th>\n",
       "      <td>109447</td>\n",
       "      <td>Stop Sign</td>\n",
       "    </tr>\n",
       "    <tr>\n",
       "      <th>...</th>\n",
       "      <td>...</td>\n",
       "      <td>...</td>\n",
       "    </tr>\n",
       "    <tr>\n",
       "      <th>14687</th>\n",
       "      <td>126742</td>\n",
       "      <td>Stop Sign</td>\n",
       "    </tr>\n",
       "    <tr>\n",
       "      <th>14702</th>\n",
       "      <td>45706</td>\n",
       "      <td>Thumb Up</td>\n",
       "    </tr>\n",
       "    <tr>\n",
       "      <th>14726</th>\n",
       "      <td>9936</td>\n",
       "      <td>Thumb Up</td>\n",
       "    </tr>\n",
       "    <tr>\n",
       "      <th>14731</th>\n",
       "      <td>131876</td>\n",
       "      <td>Thumb Down</td>\n",
       "    </tr>\n",
       "    <tr>\n",
       "      <th>14732</th>\n",
       "      <td>119724</td>\n",
       "      <td>Thumb Down</td>\n",
       "    </tr>\n",
       "  </tbody>\n",
       "</table>\n",
       "<p>1619 rows × 2 columns</p>\n",
       "</div>"
      ],
      "text/plain": [
       "          key       value\n",
       "4      138995  Thumb Down\n",
       "24      39311  Thumb Down\n",
       "31      20922   Stop Sign\n",
       "36      70814    Thumb Up\n",
       "40     109447   Stop Sign\n",
       "...       ...         ...\n",
       "14687  126742   Stop Sign\n",
       "14702   45706    Thumb Up\n",
       "14726    9936    Thumb Up\n",
       "14731  131876  Thumb Down\n",
       "14732  119724  Thumb Down\n",
       "\n",
       "[1619 rows x 2 columns]"
      ]
     },
     "execution_count": 12,
     "metadata": {},
     "output_type": "execute_result"
    }
   ],
   "source": [
    "test_file"
   ]
  },
  {
   "attachments": {},
   "cell_type": "markdown",
   "metadata": {},
   "source": [
    "#### abbiamo quindi **13100** video di **training** e **1619** di **test**, che contengono i gesti da noi scelti, sull'intero dataset "
   ]
  },
  {
   "cell_type": "code",
   "execution_count": 14,
   "metadata": {},
   "outputs": [
    {
     "data": {
      "text/plain": [
       "14719"
      ]
     },
     "execution_count": 14,
     "metadata": {},
     "output_type": "execute_result"
    }
   ],
   "source": [
    "my_total_videos = train_file[\"key\"].tolist() + test_file[\"key\"].tolist()\n",
    "len(my_total_videos)"
   ]
  },
  {
   "attachments": {},
   "cell_type": "markdown",
   "metadata": {},
   "source": [
    "#### in totale abbiamo dunque **14719** video che contengono i gesti di nostro interesse, sui 148'092 del dataset (*10%*)"
   ]
  },
  {
   "attachments": {},
   "cell_type": "markdown",
   "metadata": {},
   "source": [
    "------------------------------------------------------------------------------------"
   ]
  },
  {
   "attachments": {},
   "cell_type": "markdown",
   "metadata": {},
   "source": [
    "### **N.B.** Vediamo ora come selezionare i frame dal dataset scelto, già estratti dai video"
   ]
  },
  {
   "attachments": {},
   "cell_type": "markdown",
   "metadata": {},
   "source": [
    "------------------------------------------------------------------------------------"
   ]
  },
  {
   "attachments": {},
   "cell_type": "markdown",
   "metadata": {},
   "source": [
    "#### *prima però bisogna considerare che non ho estratto dall'archivio .**tar** tutti i video ...*\n",
    "- ##### a questo proposito, **filtro** ancora, selezionando solo i video attualmente disponibili sulla macchina"
   ]
  },
  {
   "attachments": {},
   "cell_type": "markdown",
   "metadata": {},
   "source": [
    "- vediamo prima il **training set**"
   ]
  },
  {
   "cell_type": "code",
   "execution_count": null,
   "metadata": {},
   "outputs": [],
   "source": [
    "my_train_list = [] #lista che contiene i miei video di training, attualmente disponibili\n",
    "\n",
    "for vid in list_video_int:\n",
    "    for train_vid in train_list:\n",
    "        if vid == train_vid:                \n",
    "            my_train_list.append(vid)"
   ]
  },
  {
   "cell_type": "code",
   "execution_count": 15,
   "metadata": {},
   "outputs": [],
   "source": [
    "BASEDIR = r\"C:\\Users\\follo\\OneDrive\\Documenti\\GitHub\\HGR-4-Social-Robotics\""
   ]
  },
  {
   "cell_type": "code",
   "execution_count": null,
   "metadata": {},
   "outputs": [],
   "source": [
    "np.save(os.path.join(BASEDIR, \"mytempfiles\", \"mytrainlist\"), my_train_list)"
   ]
  },
  {
   "cell_type": "code",
   "execution_count": 16,
   "metadata": {},
   "outputs": [
    {
     "data": {
      "text/plain": [
       "30228"
      ]
     },
     "execution_count": 16,
     "metadata": {},
     "output_type": "execute_result"
    }
   ],
   "source": [
    "my_train_list = np.load(os.path.join(BASEDIR, \"mytempfiles\", \"mytrainlist.npy\")).tolist() #30000 video di training totali su 37k\n",
    "len(my_train_list)"
   ]
  },
  {
   "attachments": {},
   "cell_type": "markdown",
   "metadata": {},
   "source": [
    "attualmente, considerando solamente le *tre label* citate sopra, abbiamo **3247** video di training sui **30228** disponibili, sui **37793** totali"
   ]
  },
  {
   "cell_type": "code",
   "execution_count": 17,
   "metadata": {},
   "outputs": [
    {
     "data": {
      "text/plain": [
       "3247"
      ]
     },
     "execution_count": 17,
     "metadata": {},
     "output_type": "execute_result"
    }
   ],
   "source": [
    "my_train_file = train_file.query('key in @my_train_list') #sottoinsieme di train_file, che contiene solo i video di training attualm. disponibili\n",
    "my_train_list2 = sorted(my_train_file['key'].tolist())  #lista degli indici dei video di training attualmente disponibili\n",
    "\n",
    "len(my_train_list2)"
   ]
  },
  {
   "attachments": {},
   "cell_type": "markdown",
   "metadata": {},
   "source": [
    "- facciamo lo stesso per il **test set**"
   ]
  },
  {
   "cell_type": "code",
   "execution_count": 18,
   "metadata": {},
   "outputs": [
    {
     "ename": "NameError",
     "evalue": "name 'list_video' is not defined",
     "output_type": "error",
     "traceback": [
      "\u001b[1;31m---------------------------------------------------------------------------\u001b[0m",
      "\u001b[1;31mNameError\u001b[0m                                 Traceback (most recent call last)",
      "Cell \u001b[1;32mIn [18], line 4\u001b[0m\n\u001b[0;32m      1\u001b[0m my_test_list \u001b[39m=\u001b[39m [] \u001b[39m#lista che contiene i miei video di test, attualmente disponibili\u001b[39;00m\n\u001b[0;32m      3\u001b[0m \u001b[39m#mostra tutti gli indici dei video attualmente estratti dall'archivio tar, convertiti in integers\u001b[39;00m\n\u001b[1;32m----> 4\u001b[0m list_video_int \u001b[39m=\u001b[39m \u001b[39mlist\u001b[39m(\u001b[39mmap\u001b[39m(\u001b[39mint\u001b[39m, list_video))\n\u001b[0;32m      6\u001b[0m \u001b[39mfor\u001b[39;00m vid \u001b[39min\u001b[39;00m list_video_int:\n\u001b[0;32m      7\u001b[0m     \u001b[39mfor\u001b[39;00m test_vid \u001b[39min\u001b[39;00m test_list:\n",
      "\u001b[1;31mNameError\u001b[0m: name 'list_video' is not defined"
     ]
    }
   ],
   "source": [
    "my_test_list = [] #lista che contiene i miei video di test, attualmente disponibili\n",
    "\n",
    "#mostra tutti gli indici dei video attualmente estratti dall'archivio tar, convertiti in integers\n",
    "list_video_int = list(map(int, list_video))\n",
    "\n",
    "for vid in list_video_int:\n",
    "    for test_vid in test_list:\n",
    "        if vid == test_vid:               \n",
    "            my_test_list.append(vid)"
   ]
  },
  {
   "cell_type": "code",
   "execution_count": 40,
   "metadata": {},
   "outputs": [],
   "source": [
    "np.save(os.path.join(BASEDIR, \"mytempfiles\", \"mytestlist\"), my_test_list)"
   ]
  },
  {
   "cell_type": "code",
   "execution_count": 19,
   "metadata": {},
   "outputs": [],
   "source": [
    "my_test_list = np.load(os.path.join(BASEDIR, \"mytempfiles\", \"mytestlist.npy\")).tolist() #3767 video di test totali su 37k"
   ]
  },
  {
   "cell_type": "code",
   "execution_count": 20,
   "metadata": {},
   "outputs": [
    {
     "data": {
      "text/html": [
       "<div>\n",
       "<style scoped>\n",
       "    .dataframe tbody tr th:only-of-type {\n",
       "        vertical-align: middle;\n",
       "    }\n",
       "\n",
       "    .dataframe tbody tr th {\n",
       "        vertical-align: top;\n",
       "    }\n",
       "\n",
       "    .dataframe thead th {\n",
       "        text-align: right;\n",
       "    }\n",
       "</style>\n",
       "<table border=\"1\" class=\"dataframe\">\n",
       "  <thead>\n",
       "    <tr style=\"text-align: right;\">\n",
       "      <th></th>\n",
       "      <th>key</th>\n",
       "      <th>value</th>\n",
       "    </tr>\n",
       "  </thead>\n",
       "  <tbody>\n",
       "    <tr>\n",
       "      <th>4</th>\n",
       "      <td>138995</td>\n",
       "      <td>Thumb Down</td>\n",
       "    </tr>\n",
       "    <tr>\n",
       "      <th>61</th>\n",
       "      <td>24811</td>\n",
       "      <td>Thumb Up</td>\n",
       "    </tr>\n",
       "    <tr>\n",
       "      <th>67</th>\n",
       "      <td>11203</td>\n",
       "      <td>Thumb Down</td>\n",
       "    </tr>\n",
       "    <tr>\n",
       "      <th>112</th>\n",
       "      <td>65131</td>\n",
       "      <td>Thumb Up</td>\n",
       "    </tr>\n",
       "    <tr>\n",
       "      <th>168</th>\n",
       "      <td>18313</td>\n",
       "      <td>Thumb Down</td>\n",
       "    </tr>\n",
       "    <tr>\n",
       "      <th>...</th>\n",
       "      <td>...</td>\n",
       "      <td>...</td>\n",
       "    </tr>\n",
       "    <tr>\n",
       "      <th>14553</th>\n",
       "      <td>132907</td>\n",
       "      <td>Thumb Up</td>\n",
       "    </tr>\n",
       "    <tr>\n",
       "      <th>14590</th>\n",
       "      <td>113560</td>\n",
       "      <td>Thumb Down</td>\n",
       "    </tr>\n",
       "    <tr>\n",
       "      <th>14610</th>\n",
       "      <td>19857</td>\n",
       "      <td>Thumb Down</td>\n",
       "    </tr>\n",
       "    <tr>\n",
       "      <th>14702</th>\n",
       "      <td>45706</td>\n",
       "      <td>Thumb Up</td>\n",
       "    </tr>\n",
       "    <tr>\n",
       "      <th>14731</th>\n",
       "      <td>131876</td>\n",
       "      <td>Thumb Down</td>\n",
       "    </tr>\n",
       "  </tbody>\n",
       "</table>\n",
       "<p>408 rows × 2 columns</p>\n",
       "</div>"
      ],
      "text/plain": [
       "          key       value\n",
       "4      138995  Thumb Down\n",
       "61      24811    Thumb Up\n",
       "67      11203  Thumb Down\n",
       "112     65131    Thumb Up\n",
       "168     18313  Thumb Down\n",
       "...       ...         ...\n",
       "14553  132907    Thumb Up\n",
       "14590  113560  Thumb Down\n",
       "14610   19857  Thumb Down\n",
       "14702   45706    Thumb Up\n",
       "14731  131876  Thumb Down\n",
       "\n",
       "[408 rows x 2 columns]"
      ]
     },
     "execution_count": 20,
     "metadata": {},
     "output_type": "execute_result"
    }
   ],
   "source": [
    "my_test_file = test_file.query('key in @my_test_list') #sottoinsieme di test_file, che contiene solo i video di testing attualm. disponibili\n",
    "my_test_list2 = sorted(my_test_file['key'].tolist())  #lista degli indici dei video di testing attualmente disponibili\n",
    "\n",
    "my_test_file"
   ]
  },
  {
   "attachments": {},
   "cell_type": "markdown",
   "metadata": {},
   "source": [
    "attualmente abbiamo **408** video di test su **37793** totali, considerando il filtraggio per le tre label"
   ]
  },
  {
   "cell_type": "code",
   "execution_count": 20,
   "metadata": {},
   "outputs": [
    {
     "data": {
      "text/plain": [
       "3655"
      ]
     },
     "execution_count": 20,
     "metadata": {},
     "output_type": "execute_result"
    }
   ],
   "source": [
    "my_actual_videos = my_train_file[\"key\"].tolist() + my_test_file[\"key\"].tolist()\n",
    "len(my_actual_videos)"
   ]
  },
  {
   "attachments": {},
   "cell_type": "markdown",
   "metadata": {},
   "source": [
    "in totale abbiamo quindi **3655** video disponibili, divisi fra train e test"
   ]
  },
  {
   "attachments": {},
   "cell_type": "markdown",
   "metadata": {},
   "source": [
    "----------------------------------------------------------------------------------------------------------------------------------------------------"
   ]
  },
  {
   "attachments": {},
   "cell_type": "markdown",
   "metadata": {},
   "source": [
    "### Genero nuovi frame per ogni video se esso non raggiunge i 30 frame, copiandone l'ultimo, ripetutamente"
   ]
  },
  {
   "cell_type": "code",
   "execution_count": 23,
   "metadata": {},
   "outputs": [],
   "source": [
    "def get_num_frames(path):   \n",
    "\n",
    "    # restituisce tutti gli elementi nel path indicato, nel nostro caso tutti i frame per il video specificato con il suo path\n",
    "    frames_4_video = os.listdir(path)        \n",
    "    num_frames = len(frames_4_video) - 1 #togliamo 1 perchè non consideriamo la fold dei keypoints\n",
    "    print(\"Numero frame per questo video:\", num_frames)\n",
    "\n",
    "    return num_frames"
   ]
  },
  {
   "cell_type": "code",
   "execution_count": 24,
   "metadata": {},
   "outputs": [],
   "source": [
    "def get_last_frame(path):\n",
    "\n",
    "    frames_4_video = os.listdir(path)\n",
    "    last_frame = frames_4_video[-2] #prendiamo l'ultimo frame\n",
    "    print(\"\\nnome ultimo frame:\", last_frame)\n",
    "    img_path = os.path.join(path, last_frame)\n",
    "    img_array = cv2.imread(img_path) \n",
    "\n",
    "    return last_frame, img_array"
   ]
  },
  {
   "cell_type": "code",
   "execution_count": 25,
   "metadata": {},
   "outputs": [],
   "source": [
    "def create_name_frame(last_frame):\n",
    "    num_frame = last_frame[3:5] #prendo solamente i char 3, 4 perchè mi interessa il numero del frame\n",
    "    num_frame = int(num_frame) + 1\n",
    "    last_frame = \"000\" + str(num_frame) + \".jpg\"\n",
    "    return last_frame"
   ]
  },
  {
   "cell_type": "markdown",
   "metadata": {},
   "source": [
    "#### **TODO**: aggiungere non solo ripetutamente l'ultimo frame, ma gli ultimi/primi 3, 4, 5 ..."
   ]
  },
  {
   "cell_type": "code",
   "execution_count": null,
   "metadata": {},
   "outputs": [],
   "source": [
    "DATADIR = r'D:\\TMS\\dataset\\jester\\20bn-jester-v1'\n",
    "TRESHOLD = 30\n",
    "\n",
    "for vid in list_video_int:\n",
    "\n",
    "    path = os.path.join(DATADIR, str(vid))  \n",
    "    os.chdir(path)  \n",
    "\n",
    "    num_frames = get_num_frames(path)    \n",
    "\n",
    "    if num_frames < TRESHOLD:\n",
    "        \n",
    "        print(\"Percorso video:\", path)\n",
    "        print(\"\\nNumero frame per questo video:\", num_frames)\n",
    "        \n",
    "        while num_frames < TRESHOLD:\n",
    "\n",
    "            last_frame, img_array = get_last_frame(path)\n",
    "            last_frame = create_name_frame(last_frame)                    \n",
    "            cv2.imwrite(last_frame, img_array) #salvo nella fold il \"nuovo\" frame, ovvero una copia dell'ultimo frame\n",
    "\n",
    "            num_frames += 1\n",
    "            print(\"numero frame aggiornato:\", num_frames) \n",
    "    else:\n",
    "        print(\"il video ha già almeno 30 frame\")       \n",
    "    "
   ]
  },
  {
   "attachments": {},
   "cell_type": "markdown",
   "metadata": {},
   "source": [
    "- ### accedo ai frame di ogni video e ne estraggo i keypoints"
   ]
  },
  {
   "attachments": {},
   "cell_type": "markdown",
   "metadata": {},
   "source": [
    "estraggo e memorizzo i keypoints"
   ]
  },
  {
   "cell_type": "code",
   "execution_count": 26,
   "metadata": {},
   "outputs": [],
   "source": [
    "def detect_and_extract(img_array, model):    \n",
    "    \n",
    "    image, results = mediapipe_detection(img_array, model)                   \n",
    "    keypoints = extract_keypoints(results)\n",
    "    return keypoints"
   ]
  },
  {
   "attachments": {},
   "cell_type": "markdown",
   "metadata": {},
   "source": [
    "inizializzazione liste"
   ]
  },
  {
   "cell_type": "code",
   "execution_count": 107,
   "metadata": {},
   "outputs": [],
   "source": [
    "DATADIR = r'D:\\TMS\\dataset\\jester\\20bn-jester-v1'\n",
    "os.chdir(DATADIR)\n",
    "\n",
    "actual_train_video = []\n",
    "actual_test_video = []\n",
    "actual_video = []"
   ]
  },
  {
   "cell_type": "code",
   "execution_count": 28,
   "metadata": {},
   "outputs": [],
   "source": [
    "def get_num_keypoints(path):\n",
    "    keypoints_path = os.path.join(path, 'keypoints')\n",
    "    num_keypoints = len(os.listdir(keypoints_path)) #indica quanti keypoints sono stati estratti \n",
    "    \n",
    "    return num_keypoints "
   ]
  },
  {
   "cell_type": "code",
   "execution_count": 29,
   "metadata": {},
   "outputs": [],
   "source": [
    "def get_and_append_img(path, img, all_frames):\n",
    "\n",
    "    img_num = img[0:5] #prendo i primi N char, per non avere l'estensione nel nome quando salvo dopo\n",
    "    img_path = os.path.join(path, img)\n",
    "    img_array = cv2.imread(img_path)  # convert to array\n",
    "    print(img_path)                    \n",
    "    all_frames.append(img)\n",
    "\n",
    "    return img_array, img_num"
   ]
  },
  {
   "cell_type": "code",
   "execution_count": 23,
   "metadata": {},
   "outputs": [
    {
     "data": {
      "text/plain": [
       "3247"
      ]
     },
     "execution_count": 23,
     "metadata": {},
     "output_type": "execute_result"
    }
   ],
   "source": [
    "len(my_train_list2)"
   ]
  },
  {
   "cell_type": "code",
   "execution_count": 31,
   "metadata": {},
   "outputs": [],
   "source": [
    "def access_frames(list, actual_video_type):\n",
    "\n",
    "    with mp_holistic.Holistic(min_detection_confidence = 0.5, min_tracking_confidence = 0.5) as holistic:\n",
    "\n",
    "        for vid in list:  # itero su tutti i video (i primi 1500)...\n",
    "\n",
    "            all_frames = []\n",
    "\n",
    "            # create path (...\\20bn-jester-v1\\000xx)\n",
    "            path = os.path.join(DATADIR, str(vid))\n",
    "            print(\"\\nPercorso video:\", path)\n",
    "\n",
    "            frames_4_video = os.listdir(path)\n",
    "          \n",
    "            num_frames = get_num_frames(path)        \n",
    "            num_keypoints = get_num_keypoints(path) #indica quanti keypoints sono stati estratti   \n",
    "            \n",
    "            # esegui se non tutti i keypoints sono stati ancora estratti da ciascun frame \n",
    "            if num_keypoints != num_frames:            \n",
    "                \n",
    "                # iterate over each image (00001, 00002, ...)\n",
    "                for img in frames_4_video:            \n",
    "                            \n",
    "                    if not img == 'keypoints': #non considero la cartella dove salvo i keypoints (TODO potrei farlo prima, escludendo la cartella)\n",
    "                                        \n",
    "                        img_array, img_num = get_and_append_img(path, img, all_frames)\n",
    "\n",
    "                        keypoints = detect_and_extract(img_array, holistic)\n",
    "\n",
    "                        # salvo i keypoints su disco\n",
    "                        npy_path = os.path.join(DATADIR, str(vid), \"keypoints\", img_num)\n",
    "                        np.save(npy_path, keypoints)\n",
    "                \n",
    "            else:\n",
    "                print(\"N.B. keypoints già estratti per questo video\")\n",
    "                actual_video_type.append(vid)\n",
    "                actual_video.append(vid)"
   ]
  },
  {
   "cell_type": "code",
   "execution_count": null,
   "metadata": {},
   "outputs": [],
   "source": [
    "access_frames(my_train_list2, actual_train_video) #accedo ai frame dei video di train..\n",
    "access_frames(my_test_list2, actual_test_video) #.. e per quelli di test"
   ]
  },
  {
   "cell_type": "code",
   "execution_count": 113,
   "metadata": {},
   "outputs": [],
   "source": [
    "np.save(\"actualvideo\", actual_video)\n",
    "np.save(\"actual_test_video\", actual_test_video)\n",
    "np.save(\"actual_train_video\", actual_train_video)"
   ]
  },
  {
   "cell_type": "code",
   "execution_count": 21,
   "metadata": {},
   "outputs": [],
   "source": [
    "actual_video = np.load(os.path.join(BASEDIR, \"mytempfiles\", \"actualvideo.npy\"))\n",
    "actual_train_video = np.load(os.path.join(BASEDIR, \"mytempfiles\", \"actual_train_video.npy\"))\n",
    "actual_test_video = np.load(os.path.join(BASEDIR, \"mytempfiles\", \"actual_test_video.npy\"))"
   ]
  },
  {
   "cell_type": "code",
   "execution_count": 19,
   "metadata": {},
   "outputs": [
    {
     "name": "stdout",
     "output_type": "stream",
     "text": [
      "3655\n",
      "3247\n",
      "408\n"
     ]
    }
   ],
   "source": [
    "print(len(actual_video))\n",
    "print(len(actual_train_video))\n",
    "print(len(actual_test_video))"
   ]
  },
  {
   "attachments": {},
   "cell_type": "markdown",
   "metadata": {},
   "source": [
    "ho quindi a disposizione **3655** video totali per il momento"
   ]
  },
  {
   "attachments": {},
   "cell_type": "markdown",
   "metadata": {},
   "source": [
    "- opero altra suddivisione per **TRAINING SET** ottenendo il file su cui **addestrare il modello**"
   ]
  },
  {
   "cell_type": "code",
   "execution_count": 22,
   "metadata": {},
   "outputs": [],
   "source": [
    "my_train_file2 = my_train_file.query('key in @actual_train_video') #contiene indice e label dell'azione associata a quel video\n",
    "my_train_file2.sort_values([\"key\"], axis=0, ascending=[True], inplace=True) #ordino gli elem in modo crescente in base al valore dell'idx del video \n",
    "\n",
    "#my_train_file2 #questo è il file su cui devo lavorare come training set"
   ]
  },
  {
   "attachments": {},
   "cell_type": "markdown",
   "metadata": {},
   "source": [
    "abbiamo dunque **3247** video di training su cui addestrare il modello\n",
    "\n",
    "- facciamo lo stesso per i video di **TEST**:"
   ]
  },
  {
   "cell_type": "code",
   "execution_count": 23,
   "metadata": {},
   "outputs": [],
   "source": [
    "my_test_file2 = my_test_file.query('key in @actual_test_video') #contiene indice e label dell'azione associata a quel video\n",
    "my_test_file2.sort_values([\"key\"], axis=0, ascending=[True], inplace=True) #ordino gli elem in modo crescente in base al valore dell'idx del video \n",
    "\n",
    "#my_test_file2 #questo è il file su cui devo lavorare come training set"
   ]
  },
  {
   "attachments": {},
   "cell_type": "markdown",
   "metadata": {},
   "source": [
    "ho **408** video di test al momento su cui testare il modello"
   ]
  },
  {
   "attachments": {},
   "cell_type": "markdown",
   "metadata": {},
   "source": [
    "----------------------------------------------------------------------------------------------------"
   ]
  },
  {
   "attachments": {},
   "cell_type": "markdown",
   "metadata": {},
   "source": [
    "vedo quali sono le azioni presenti nei video disponibili, per l'insieme di **train** e **test**:"
   ]
  },
  {
   "attachments": {},
   "cell_type": "markdown",
   "metadata": {},
   "source": [
    "- conto le occorrenze di ogni gesto in questi insiemi (*quanti ce ne sono per ...*)"
   ]
  },
  {
   "cell_type": "code",
   "execution_count": 22,
   "metadata": {},
   "outputs": [
    {
     "name": "stdout",
     "output_type": "stream",
     "text": [
      "Thumb Up      1108\n",
      "Thumb Down    1092\n",
      "Stop Sign     1047\n",
      "Name: value, dtype: int64\n",
      "Stop Sign     139\n",
      "Thumb Up      136\n",
      "Thumb Down    133\n",
      "Name: value, dtype: int64\n"
     ]
    }
   ],
   "source": [
    "print(my_train_file2[\"value\"].value_counts())\n",
    "print(my_test_file2[\"value\"].value_counts())"
   ]
  },
  {
   "attachments": {},
   "cell_type": "markdown",
   "metadata": {},
   "source": [
    "----------------------------------------------------------------------------------------------------------------------------"
   ]
  },
  {
   "attachments": {},
   "cell_type": "markdown",
   "metadata": {},
   "source": [
    "#### **TEST 2:** prendo una precisa immagine dal dataset"
   ]
  },
  {
   "cell_type": "code",
   "execution_count": 8,
   "metadata": {},
   "outputs": [
    {
     "data": {
      "text/plain": [
       "<matplotlib.image.AxesImage at 0x23eb8ab42e0>"
      ]
     },
     "execution_count": 8,
     "metadata": {},
     "output_type": "execute_result"
    },
    {
     "data": {
      "image/png": "[encoded data removed]",
      "text/plain": [
       "<Figure size 640x480 with 1 Axes>"
      ]
     },
     "metadata": {},
     "output_type": "display_data"
    }
   ],
   "source": [
    "DATADIR2 = r'D:\\TMS\\dataset\\jester\\20bn-jester-v1\\51413'\n",
    "\n",
    "# OTTENGO I FRAME    \n",
    "path = os.path.join(DATADIR2, '00024.jpg')  # create path (...\\Color\\rgb1)\n",
    "frame = cv2.imread(path)  # convert to array\n",
    "plt.imshow(cv2.cvtColor(frame, cv2.COLOR_BGR2RGB))      "
   ]
  },
  {
   "attachments": {},
   "cell_type": "markdown",
   "metadata": {},
   "source": [
    "- provo con modello *Holistic*"
   ]
  },
  {
   "cell_type": "code",
   "execution_count": 10,
   "metadata": {},
   "outputs": [
    {
     "name": "stdout",
     "output_type": "stream",
     "text": [
      "<class 'mediapipe.python.solution_base.SolutionOutputs'>\n",
      "[ 5.60796142e-01  4.14329886e-01 -1.28200638e+00  9.99946356e-01\n",
      "  5.99057496e-01  3.43617439e-01 -1.18875778e+00  9.99914289e-01\n",
      "  6.19484961e-01  3.42422843e-01 -1.18915045e+00  9.99893665e-01\n",
      "  6.36109352e-01  3.44029307e-01 -1.18905234e+00  9.99872565e-01\n",
      "  5.31443357e-01  3.46562266e-01 -1.18514776e+00  9.99917507e-01\n",
      "  5.09395063e-01  3.47949982e-01 -1.18473148e+00  9.99928832e-01\n",
      "  4.88524467e-01  3.51379037e-01 -1.18505776e+00  9.99930024e-01\n",
      "  6.73818529e-01  3.75451803e-01 -5.84402561e-01  9.99888062e-01\n",
      "  4.76699859e-01  3.83767635e-01 -5.44300556e-01  9.99927640e-01\n",
      "  6.04315102e-01  4.88298416e-01 -1.06224823e+00  9.99946237e-01\n",
      "  5.21191716e-01  4.96409059e-01 -1.05244672e+00  9.99927044e-01\n",
      "  8.39295030e-01  8.02396595e-01 -2.83169419e-01  9.92431045e-01\n",
      "  3.44488651e-01  7.55486131e-01 -4.28559035e-01  9.97290492e-01\n",
      "  9.79300737e-01  1.27809167e+00 -5.32055140e-01  1.12281121e-01\n",
      "  2.93049932e-01  1.23004460e+00 -1.32699311e+00  6.09211802e-01\n",
      "  9.20076966e-01  1.58205760e+00 -1.08345115e+00  1.42515540e-01\n",
      "  3.36930871e-01  8.52354765e-01 -2.77212906e+00  9.47471678e-01\n",
      "  9.25922155e-01  1.69627774e+00 -1.22131586e+00  2.16941282e-01\n",
      "  2.96708703e-01  7.08402395e-01 -3.04826331e+00  9.40326631e-01\n",
      "  8.78015518e-01  1.64888871e+00 -1.23903263e+00  3.07709336e-01\n",
      "  3.13408494e-01  6.69417500e-01 -3.03042603e+00  9.56778467e-01\n",
      "  8.57543945e-01  1.60986364e+00 -1.11743295e+00  3.01119655e-01\n",
      "  3.46278548e-01  7.31164336e-01 -2.80862164e+00  9.49429214e-01\n",
      "  7.70501971e-01  1.69874883e+00 -9.44227576e-02  6.96712232e-04\n",
      "  4.17967260e-01  1.70658457e+00  9.86839235e-02  8.94534693e-04\n",
      "  7.67392933e-01  2.45935369e+00  2.17078701e-02  1.97894056e-03\n",
      "  4.66705263e-01  2.46869040e+00  2.59415656e-01  8.23752198e-04\n",
      "  7.89251149e-01  3.12427235e+00  8.57611299e-01  5.15389722e-04\n",
      "  5.06109118e-01  3.13275242e+00  1.00311565e+00  3.09465868e-05\n",
      "  7.99045503e-01  3.22157001e+00  8.90104115e-01  1.94919790e-04\n",
      "  5.06560087e-01  3.22368288e+00  1.05775762e+00  6.20436331e-05\n",
      "  7.54340649e-01  3.32510304e+00  9.66316909e-02  1.44796650e-04\n",
      "  5.41688621e-01  3.34092093e+00  1.97933093e-01  1.64719851e-04\n",
      "  0.00000000e+00  0.00000000e+00  0.00000000e+00  0.00000000e+00\n",
      "  0.00000000e+00  0.00000000e+00  0.00000000e+00  0.00000000e+00\n",
      "  0.00000000e+00  0.00000000e+00  0.00000000e+00  0.00000000e+00\n",
      "  0.00000000e+00  0.00000000e+00  0.00000000e+00  0.00000000e+00\n",
      "  0.00000000e+00  0.00000000e+00  0.00000000e+00  0.00000000e+00\n",
      "  0.00000000e+00  0.00000000e+00  0.00000000e+00  0.00000000e+00\n",
      "  0.00000000e+00  0.00000000e+00  0.00000000e+00  0.00000000e+00\n",
      "  0.00000000e+00  0.00000000e+00  0.00000000e+00  0.00000000e+00\n",
      "  0.00000000e+00  0.00000000e+00  0.00000000e+00  0.00000000e+00\n",
      "  0.00000000e+00  0.00000000e+00  0.00000000e+00  0.00000000e+00\n",
      "  0.00000000e+00  0.00000000e+00  0.00000000e+00  0.00000000e+00\n",
      "  0.00000000e+00  0.00000000e+00  0.00000000e+00  0.00000000e+00\n",
      "  0.00000000e+00  0.00000000e+00  0.00000000e+00  0.00000000e+00\n",
      "  0.00000000e+00  0.00000000e+00  0.00000000e+00  0.00000000e+00\n",
      "  0.00000000e+00  0.00000000e+00  0.00000000e+00  0.00000000e+00\n",
      "  0.00000000e+00  0.00000000e+00  0.00000000e+00  4.26838994e-01\n",
      "  8.90952170e-01  4.63923016e-07  4.53209937e-01  7.92187810e-01\n",
      " -1.99914761e-02  4.46948528e-01  6.83346093e-01 -3.26119065e-02\n",
      "  4.15576577e-01  6.37288630e-01 -4.93510850e-02  3.84636253e-01\n",
      "  6.87249064e-01 -6.71342239e-02  3.14113498e-01  6.25751853e-01\n",
      " -2.41494775e-02  2.45062351e-01  5.35749376e-01 -4.93899956e-02\n",
      "  2.07019895e-01  4.81913596e-01 -6.97075054e-02  1.70985729e-01\n",
      "  4.33982819e-01 -8.54940787e-02  2.85075277e-01  6.73004150e-01\n",
      " -4.28530872e-02  2.08960727e-01  5.70280671e-01 -7.28995204e-02\n",
      "  1.70781225e-01  4.92143750e-01 -9.76242721e-02  1.31569728e-01\n",
      "  4.26395357e-01 -1.13614962e-01  2.75127769e-01  7.42251933e-01\n",
      " -6.34781644e-02  2.52317876e-01  6.71695650e-01 -1.09464608e-01\n",
      "  3.17892134e-01  6.80770814e-01 -1.24230161e-01  3.65087032e-01\n",
      "  7.02266872e-01 -1.22749716e-01  2.81477690e-01  8.22198510e-01\n",
      " -8.58814493e-02  2.62272120e-01  7.52733767e-01 -1.21565744e-01\n",
      "  3.10310543e-01  7.39275157e-01 -1.24988660e-01  3.56655866e-01\n",
      "  7.48336554e-01 -1.21326394e-01]\n"
     ]
    },
    {
     "data": {
      "image/png": "[encoded data removed]",
      "text/plain": [
       "<Figure size 640x480 with 1 Axes>"
      ]
     },
     "metadata": {},
     "output_type": "display_data"
    }
   ],
   "source": [
    "# ESTRAGGO I KEYPOINTS DA UN FRAME\n",
    "with mp_holistic.Holistic(min_detection_confidence = 0.5, min_tracking_confidence = 0.5) as holistic:\n",
    "    image, results = mediapipe_detection(frame, holistic)\n",
    "    draw_styled_landmarks(image, results)\n",
    "    print(results)\n",
    "    plt.imshow(cv2.cvtColor(image, cv2.COLOR_BGR2RGB))  \n",
    "\n",
    "    keypoints = extract_keypoints(results) #memorizzo i keypoints estratti\n",
    "    print(keypoints)    "
   ]
  },
  {
   "cell_type": "code",
   "execution_count": null,
   "metadata": {},
   "outputs": [],
   "source": [
    "keypoints"
   ]
  },
  {
   "cell_type": "code",
   "execution_count": 123,
   "metadata": {},
   "outputs": [
    {
     "data": {
      "text/plain": [
       "(258,)"
      ]
     },
     "execution_count": 123,
     "metadata": {},
     "output_type": "execute_result"
    }
   ],
   "source": [
    "keypoints.shape    "
   ]
  },
  {
   "attachments": {},
   "cell_type": "markdown",
   "metadata": {},
   "source": [
    "abbiamo **258** keypoints per ogni frame"
   ]
  },
  {
   "attachments": {},
   "cell_type": "markdown",
   "metadata": {},
   "source": [
    "- provo solamente con modello *Hands*"
   ]
  },
  {
   "cell_type": "code",
   "execution_count": 18,
   "metadata": {},
   "outputs": [
    {
     "data": {
      "image/png": "[encoded data removed]",
      "text/plain": [
       "<Figure size 640x480 with 1 Axes>"
      ]
     },
     "metadata": {},
     "output_type": "display_data"
    }
   ],
   "source": [
    "# ESTRAGGO I KEYPOINTS DA CIASCUN FRAME\n",
    "with mp_hands.Hands(max_num_hands=2, min_detection_confidence=0.5) as hands:\n",
    "    image_h, results = mediapipe_detection(frame, hands)\n",
    "    \n",
    "    annotated_image = image_h.copy()\n",
    "    \n",
    "    for hand_landmarks in results.multi_hand_landmarks:        \n",
    "\n",
    "        mp_drawing.draw_landmarks(     \n",
    "            annotated_image,\n",
    "            hand_landmarks,\n",
    "            mp_hands.HAND_CONNECTIONS,\n",
    "            mp_drawing.DrawingSpec(color=(245,117,66), thickness=1, circle_radius=1),\n",
    "            mp_drawing.DrawingSpec(color=(245,66,230), thickness=1, circle_radius=1)\n",
    "            )\n",
    "               \n",
    "    plt.imshow(cv2.cvtColor(annotated_image, cv2.COLOR_BGR2RGB))   "
   ]
  },
  {
   "cell_type": "markdown",
   "metadata": {},
   "source": [
    "# 6. Preprocess Data and Create Labels and Features"
   ]
  },
  {
   "cell_type": "code",
   "execution_count": 24,
   "metadata": {},
   "outputs": [],
   "source": [
    "#from sklearn.model_selection import train_test_split\n",
    "from keras.utils import to_categorical"
   ]
  },
  {
   "attachments": {},
   "cell_type": "markdown",
   "metadata": {},
   "source": [
    "strutturiamo i dati fin ora raccolti, inserendoli in un unico array\n",
    "\n",
    "qui cicliamo separatamente per i video di training e test, avendoli già divisi:"
   ]
  },
  {
   "cell_type": "code",
   "execution_count": 129,
   "metadata": {},
   "outputs": [],
   "source": [
    "def insert_all_in_array(actual_video_type):\n",
    "\n",
    "    videos_type = []\n",
    "\n",
    "    for vid in actual_video_type: \n",
    "\n",
    "        window_type = [] #rappresenta un unico video: insieme di X frame\n",
    "\n",
    "        #num_frames = len(os.listdir(os.path.join(DATADIR, str(vid))))\n",
    "        #print(num_frames)\n",
    "\n",
    "        for frame_num in range(1, 31): #range(1, num_frames): #itero per tutti i frame estratti per quel video        \n",
    "            #faccio if perchè gli array dei keypoint sono salvati come '000xx.npy' e non come 'x.npy'-> #TODO rinominarli\n",
    "            if frame_num < 10:\n",
    "                res = np.load(os.path.join(DATADIR, str(vid), \"keypoints\", \"0000{}.npy\".format(frame_num)))\n",
    "                window_type.append(res)\n",
    "            else:\n",
    "                res = np.load(os.path.join(DATADIR, str(vid), \"keypoints\", \"000{}.npy\".format(frame_num)))\n",
    "                window_type.append(res)\n",
    "\n",
    "        videos_type.append(window_type)    \n",
    "        #labels.append(label_map[action]) #TODO come associare la label a ogni video??\n",
    "        # array monodimensionale (ci dice per ogni video quale azione è presente al suo interno: la prima, ... -> definizione di LABEL)\n",
    "\n",
    "    return videos_type, window_type"
   ]
  },
  {
   "cell_type": "code",
   "execution_count": 131,
   "metadata": {},
   "outputs": [],
   "source": [
    "train_videos, train_window = insert_all_in_array(actual_train_video)\n",
    "test_videos, test_window = insert_all_in_array(actual_test_video)"
   ]
  },
  {
   "cell_type": "code",
   "execution_count": 132,
   "metadata": {},
   "outputs": [],
   "source": [
    "np.save(os.path.join(BASEDIR, \"mytempfiles\", \"test_videos\"), test_videos)\n",
    "np.save(os.path.join(BASEDIR, \"mytempfiles\", \"train_videos\"), train_videos)"
   ]
  },
  {
   "cell_type": "code",
   "execution_count": 25,
   "metadata": {},
   "outputs": [],
   "source": [
    "train_videos = np.load(os.path.join(BASEDIR, \"mytempfiles\", \"train_videos.npy\"))\n",
    "test_videos = np.load(os.path.join(BASEDIR, \"mytempfiles\",\"test_videos.npy\"))"
   ]
  },
  {
   "cell_type": "code",
   "execution_count": 26,
   "metadata": {},
   "outputs": [
    {
     "name": "stdout",
     "output_type": "stream",
     "text": [
      "(3247, 30, 258)\n",
      "(408, 30, 258)\n"
     ]
    }
   ],
   "source": [
    "print(np.array(train_videos).shape)\n",
    "print(np.array(test_videos).shape)\n",
    "#print(np.array(train_window).shape)\n",
    "#print(np.array(test_window).shape)"
   ]
  },
  {
   "cell_type": "code",
   "execution_count": 27,
   "metadata": {},
   "outputs": [],
   "source": [
    "X_train = np.array(train_videos)\n",
    "X_test = np.array(test_videos)"
   ]
  },
  {
   "cell_type": "code",
   "execution_count": null,
   "metadata": {},
   "outputs": [],
   "source": [
    "X_train"
   ]
  },
  {
   "cell_type": "code",
   "execution_count": 26,
   "metadata": {},
   "outputs": [
    {
     "data": {
      "text/plain": [
       "(3247, 30, 258)"
      ]
     },
     "execution_count": 26,
     "metadata": {},
     "output_type": "execute_result"
    }
   ],
   "source": [
    "X_train.shape"
   ]
  },
  {
   "cell_type": "code",
   "execution_count": 28,
   "metadata": {},
   "outputs": [],
   "source": [
    "from sklearn.preprocessing import LabelEncoder\n",
    " \n",
    "# Creating a instance of label Encoder.\n",
    "le = LabelEncoder()\n",
    " \n",
    "# Using .fit_transform function to fit label\n",
    "# encoder and return encoded label\n",
    "label_train = le.fit_transform(my_train_file2['value']) \n",
    "label_test = le.fit_transform(my_test_file2['value'])"
   ]
  },
  {
   "cell_type": "code",
   "execution_count": null,
   "metadata": {},
   "outputs": [],
   "source": [
    "label_train"
   ]
  },
  {
   "attachments": {},
   "cell_type": "markdown",
   "metadata": {},
   "source": [
    "vedo come si sono trasformati i valori categorici in numerici per ongi video"
   ]
  },
  {
   "cell_type": "code",
   "execution_count": 29,
   "metadata": {},
   "outputs": [
    {
     "data": {
      "text/html": [
       "<div>\n",
       "<style scoped>\n",
       "    .dataframe tbody tr th:only-of-type {\n",
       "        vertical-align: middle;\n",
       "    }\n",
       "\n",
       "    .dataframe tbody tr th {\n",
       "        vertical-align: top;\n",
       "    }\n",
       "\n",
       "    .dataframe thead th {\n",
       "        text-align: right;\n",
       "    }\n",
       "</style>\n",
       "<table border=\"1\" class=\"dataframe\">\n",
       "  <thead>\n",
       "    <tr style=\"text-align: right;\">\n",
       "      <th></th>\n",
       "      <th>key</th>\n",
       "      <th>value</th>\n",
       "    </tr>\n",
       "  </thead>\n",
       "  <tbody>\n",
       "    <tr>\n",
       "      <th>106437</th>\n",
       "      <td>10</td>\n",
       "      <td>1</td>\n",
       "    </tr>\n",
       "    <tr>\n",
       "      <th>81135</th>\n",
       "      <td>48</td>\n",
       "      <td>1</td>\n",
       "    </tr>\n",
       "    <tr>\n",
       "      <th>18377</th>\n",
       "      <td>59</td>\n",
       "      <td>0</td>\n",
       "    </tr>\n",
       "    <tr>\n",
       "      <th>76680</th>\n",
       "      <td>105</td>\n",
       "      <td>0</td>\n",
       "    </tr>\n",
       "    <tr>\n",
       "      <th>114606</th>\n",
       "      <td>145</td>\n",
       "      <td>0</td>\n",
       "    </tr>\n",
       "    <tr>\n",
       "      <th>...</th>\n",
       "      <td>...</td>\n",
       "      <td>...</td>\n",
       "    </tr>\n",
       "    <tr>\n",
       "      <th>104078</th>\n",
       "      <td>147835</td>\n",
       "      <td>0</td>\n",
       "    </tr>\n",
       "    <tr>\n",
       "      <th>24536</th>\n",
       "      <td>147882</td>\n",
       "      <td>1</td>\n",
       "    </tr>\n",
       "    <tr>\n",
       "      <th>52677</th>\n",
       "      <td>147921</td>\n",
       "      <td>0</td>\n",
       "    </tr>\n",
       "    <tr>\n",
       "      <th>112351</th>\n",
       "      <td>148029</td>\n",
       "      <td>0</td>\n",
       "    </tr>\n",
       "    <tr>\n",
       "      <th>47040</th>\n",
       "      <td>148044</td>\n",
       "      <td>0</td>\n",
       "    </tr>\n",
       "  </tbody>\n",
       "</table>\n",
       "<p>3247 rows × 2 columns</p>\n",
       "</div>"
      ],
      "text/plain": [
       "           key  value\n",
       "106437      10      1\n",
       "81135       48      1\n",
       "18377       59      0\n",
       "76680      105      0\n",
       "114606     145      0\n",
       "...        ...    ...\n",
       "104078  147835      0\n",
       "24536   147882      1\n",
       "52677   147921      0\n",
       "112351  148029      0\n",
       "47040   148044      0\n",
       "\n",
       "[3247 rows x 2 columns]"
      ]
     },
     "execution_count": 29,
     "metadata": {},
     "output_type": "execute_result"
    }
   ],
   "source": [
    "my_train_file3 = my_train_file2.copy()\n",
    "my_train_file3.drop(\"value\", axis=1, inplace=True)\n",
    "\n",
    "my_train_file3[\"value\"] = label_train\n",
    " \n",
    "# printing Dataframe\n",
    "my_train_file3"
   ]
  },
  {
   "cell_type": "code",
   "execution_count": 30,
   "metadata": {},
   "outputs": [
    {
     "data": {
      "text/html": [
       "<div>\n",
       "<style scoped>\n",
       "    .dataframe tbody tr th:only-of-type {\n",
       "        vertical-align: middle;\n",
       "    }\n",
       "\n",
       "    .dataframe tbody tr th {\n",
       "        vertical-align: top;\n",
       "    }\n",
       "\n",
       "    .dataframe thead th {\n",
       "        text-align: right;\n",
       "    }\n",
       "</style>\n",
       "<table border=\"1\" class=\"dataframe\">\n",
       "  <thead>\n",
       "    <tr style=\"text-align: right;\">\n",
       "      <th></th>\n",
       "      <th>key</th>\n",
       "      <th>value</th>\n",
       "    </tr>\n",
       "  </thead>\n",
       "  <tbody>\n",
       "    <tr>\n",
       "      <th>12493</th>\n",
       "      <td>390</td>\n",
       "      <td>1</td>\n",
       "    </tr>\n",
       "    <tr>\n",
       "      <th>10315</th>\n",
       "      <td>832</td>\n",
       "      <td>2</td>\n",
       "    </tr>\n",
       "    <tr>\n",
       "      <th>8823</th>\n",
       "      <td>870</td>\n",
       "      <td>0</td>\n",
       "    </tr>\n",
       "    <tr>\n",
       "      <th>11242</th>\n",
       "      <td>1305</td>\n",
       "      <td>0</td>\n",
       "    </tr>\n",
       "    <tr>\n",
       "      <th>4020</th>\n",
       "      <td>1911</td>\n",
       "      <td>2</td>\n",
       "    </tr>\n",
       "    <tr>\n",
       "      <th>...</th>\n",
       "      <td>...</td>\n",
       "      <td>...</td>\n",
       "    </tr>\n",
       "    <tr>\n",
       "      <th>11136</th>\n",
       "      <td>145410</td>\n",
       "      <td>1</td>\n",
       "    </tr>\n",
       "    <tr>\n",
       "      <th>9178</th>\n",
       "      <td>145440</td>\n",
       "      <td>0</td>\n",
       "    </tr>\n",
       "    <tr>\n",
       "      <th>395</th>\n",
       "      <td>146024</td>\n",
       "      <td>2</td>\n",
       "    </tr>\n",
       "    <tr>\n",
       "      <th>6052</th>\n",
       "      <td>146961</td>\n",
       "      <td>0</td>\n",
       "    </tr>\n",
       "    <tr>\n",
       "      <th>8638</th>\n",
       "      <td>147897</td>\n",
       "      <td>1</td>\n",
       "    </tr>\n",
       "  </tbody>\n",
       "</table>\n",
       "<p>408 rows × 2 columns</p>\n",
       "</div>"
      ],
      "text/plain": [
       "          key  value\n",
       "12493     390      1\n",
       "10315     832      2\n",
       "8823      870      0\n",
       "11242    1305      0\n",
       "4020     1911      2\n",
       "...       ...    ...\n",
       "11136  145410      1\n",
       "9178   145440      0\n",
       "395    146024      2\n",
       "6052   146961      0\n",
       "8638   147897      1\n",
       "\n",
       "[408 rows x 2 columns]"
      ]
     },
     "execution_count": 30,
     "metadata": {},
     "output_type": "execute_result"
    }
   ],
   "source": [
    "my_test_file3 = my_test_file2.copy()\n",
    "my_test_file3.drop(\"value\", axis=1, inplace=True)\n",
    "\n",
    "my_test_file3[\"value\"] = label_test\n",
    " \n",
    "# printing Dataframe\n",
    "my_test_file3"
   ]
  },
  {
   "cell_type": "code",
   "execution_count": 31,
   "metadata": {},
   "outputs": [],
   "source": [
    "label_train = np.array(my_train_file3[\"value\"]).tolist()\n",
    "#label_train"
   ]
  },
  {
   "cell_type": "code",
   "execution_count": 32,
   "metadata": {},
   "outputs": [],
   "source": [
    "label_test = np.array(my_test_file3[\"value\"]).tolist()\n",
    "#label_test"
   ]
  },
  {
   "attachments": {},
   "cell_type": "markdown",
   "metadata": {},
   "source": [
    "trasformo feature categoriche in feature numeriche (One Hot Encoding)"
   ]
  },
  {
   "cell_type": "code",
   "execution_count": 33,
   "metadata": {},
   "outputs": [],
   "source": [
    "y_train = to_categorical(label_train).astype(int)\n",
    "y_test = to_categorical(label_test).astype(int)"
   ]
  },
  {
   "cell_type": "code",
   "execution_count": 33,
   "metadata": {},
   "outputs": [
    {
     "name": "stdout",
     "output_type": "stream",
     "text": [
      "(3247, 3)\n",
      "(408, 3)\n"
     ]
    }
   ],
   "source": [
    "print(y_train.shape)\n",
    "print(y_test.shape) # 3 sono le classi"
   ]
  },
  {
   "cell_type": "markdown",
   "metadata": {},
   "source": [
    "# 7. Build and Train LSTM Neural Network"
   ]
  },
  {
   "attachments": {},
   "cell_type": "markdown",
   "metadata": {},
   "source": [
    "Addestriamo la rete neurale (ricorrente) **LSTM**: \n",
    "\n",
    "- perchè usare MediaPipe Holistic + una rete neurale LSTM?\n",
    "    - occorrono *meno dati*\n",
    "    - più *veloce* nell'addestramento\n",
    "    - riconoscimento più *veloce* <- RN più *semplice*"
   ]
  },
  {
   "cell_type": "code",
   "execution_count": 34,
   "metadata": {},
   "outputs": [],
   "source": [
    "from keras.models import Sequential\n",
    "from keras.layers import LSTM, Dense\n",
    "from keras.callbacks import TensorBoard\n",
    "from keras.layers import Dropout"
   ]
  },
  {
   "attachments": {},
   "cell_type": "markdown",
   "metadata": {},
   "source": [
    "**TensorBoard** ci offre una web app per monitorare il nostro modello: addestramento, accuratezza, ... "
   ]
  },
  {
   "cell_type": "code",
   "execution_count": 148,
   "metadata": {},
   "outputs": [],
   "source": [
    "log_dir = os.path.join('Logs')\n",
    "tb_callback = TensorBoard(log_dir=log_dir)"
   ]
  },
  {
   "cell_type": "code",
   "execution_count": 35,
   "metadata": {},
   "outputs": [
    {
     "data": {
      "text/plain": [
       "3"
      ]
     },
     "execution_count": 35,
     "metadata": {},
     "output_type": "execute_result"
    }
   ],
   "source": [
    "jester_gestures = np.array([\"Stop Sign\", \"Thumb Down\", \"Thumb up\"])\n",
    "jester_gestures.shape[0]"
   ]
  },
  {
   "cell_type": "code",
   "execution_count": 35,
   "metadata": {},
   "outputs": [],
   "source": [
    "# il modello Sequential ci permette di aggiungere layer in mainera organizzata e facile\n",
    "model = Sequential()\n",
    "\n",
    "#tre layer LSTM\n",
    "model.add(LSTM(64, return_sequences=True, activation='relu', input_shape = (30, 258))) #64 unità\n",
    "model.add(LSTM(128, return_sequences=True, activation='relu')) #return_sequences è necessario per il passaggio di dati al layer successivo\n",
    "model.add(LSTM(64, return_sequences=False, activation='relu'))\n",
    "\n",
    "#droppiamo casualmente dei nodi\n",
    "model.add(Dropout(0.5))\n",
    "\n",
    "#tre layer Dense\n",
    "model.add(Dense(64, activation='relu'))\n",
    "model.add(Dense(32, activation='relu'))\n",
    "model.add(Dense(jester_gestures.shape[0], activation='softmax')) #distribuzione di probabilità che assegna ad ogni azione una certa prob."
   ]
  },
  {
   "attachments": {},
   "cell_type": "markdown",
   "metadata": {},
   "source": [
    "Compiliamo il modello, usando:\n",
    "\n",
    "- loss function: \"categorical cross entropy\"\n",
    "    - è obbligatoria per classificazione multi-classe"
   ]
  },
  {
   "cell_type": "code",
   "execution_count": 39,
   "metadata": {},
   "outputs": [],
   "source": [
    "model.compile(optimizer='Adam', loss='categorical_crossentropy', metrics=['categorical_accuracy'])"
   ]
  },
  {
   "cell_type": "code",
   "execution_count": 155,
   "metadata": {
    "scrolled": true
   },
   "outputs": [
    {
     "name": "stdout",
     "output_type": "stream",
     "text": [
      "Epoch 1/100\n",
      "102/102 [==============================] - 27s 116ms/step - loss: 1.0440 - categorical_accuracy: 0.4731\n",
      "Epoch 2/100\n",
      "102/102 [==============================] - 12s 115ms/step - loss: 0.9696 - categorical_accuracy: 0.4823\n",
      "Epoch 3/100\n",
      "102/102 [==============================] - 11s 110ms/step - loss: 1.0339 - categorical_accuracy: 0.4909\n",
      "Epoch 4/100\n",
      "102/102 [==============================] - 11s 111ms/step - loss: 0.8375 - categorical_accuracy: 0.6384\n",
      "Epoch 5/100\n",
      "102/102 [==============================] - 12s 113ms/step - loss: 7.3279 - categorical_accuracy: 0.5645\n",
      "Epoch 6/100\n",
      "102/102 [==============================] - 12s 113ms/step - loss: 0.8108 - categorical_accuracy: 0.6298\n",
      "Epoch 7/100\n",
      "102/102 [==============================] - 11s 111ms/step - loss: 0.5483 - categorical_accuracy: 0.7856\n",
      "Epoch 8/100\n",
      "102/102 [==============================] - 11s 112ms/step - loss: 0.3964 - categorical_accuracy: 0.8500\n",
      "Epoch 9/100\n",
      "102/102 [==============================] - 12s 113ms/step - loss: 0.4116 - categorical_accuracy: 0.8620\n",
      "Epoch 10/100\n",
      "102/102 [==============================] - 12s 114ms/step - loss: 0.3713 - categorical_accuracy: 0.8685\n",
      "Epoch 11/100\n",
      "102/102 [==============================] - 11s 111ms/step - loss: 0.2872 - categorical_accuracy: 0.8944\n",
      "Epoch 12/100\n",
      "102/102 [==============================] - 11s 112ms/step - loss: 0.2686 - categorical_accuracy: 0.9021\n",
      "Epoch 13/100\n",
      "102/102 [==============================] - 11s 113ms/step - loss: 0.2427 - categorical_accuracy: 0.9110\n",
      "Epoch 14/100\n",
      "102/102 [==============================] - 12s 113ms/step - loss: 0.2170 - categorical_accuracy: 0.9209\n",
      "Epoch 15/100\n",
      "102/102 [==============================] - 11s 112ms/step - loss: 0.1908 - categorical_accuracy: 0.9341\n",
      "Epoch 16/100\n",
      "102/102 [==============================] - 11s 110ms/step - loss: 0.2516 - categorical_accuracy: 0.9125\n",
      "Epoch 17/100\n",
      "102/102 [==============================] - 11s 111ms/step - loss: 0.1926 - categorical_accuracy: 0.9338\n",
      "Epoch 18/100\n",
      "102/102 [==============================] - 11s 112ms/step - loss: 0.1890 - categorical_accuracy: 0.9341\n",
      "Epoch 19/100\n",
      "102/102 [==============================] - 12s 114ms/step - loss: 0.1697 - categorical_accuracy: 0.9390\n",
      "Epoch 20/100\n",
      "102/102 [==============================] - 12s 120ms/step - loss: 0.1544 - categorical_accuracy: 0.9446\n",
      "Epoch 21/100\n",
      "102/102 [==============================] - 12s 122ms/step - loss: 0.1452 - categorical_accuracy: 0.9486\n",
      "Epoch 22/100\n",
      "102/102 [==============================] - 12s 114ms/step - loss: 0.1248 - categorical_accuracy: 0.9538\n",
      "Epoch 23/100\n",
      "102/102 [==============================] - 12s 120ms/step - loss: 0.1906 - categorical_accuracy: 0.9332\n",
      "Epoch 24/100\n",
      "102/102 [==============================] - 12s 121ms/step - loss: 0.1589 - categorical_accuracy: 0.9436\n",
      "Epoch 25/100\n",
      "102/102 [==============================] - 12s 120ms/step - loss: 0.1361 - categorical_accuracy: 0.9504\n",
      "Epoch 26/100\n",
      "102/102 [==============================] - 12s 116ms/step - loss: 0.2862 - categorical_accuracy: 0.9042\n",
      "Epoch 27/100\n",
      "102/102 [==============================] - 12s 114ms/step - loss: 0.1504 - categorical_accuracy: 0.9495\n",
      "Epoch 28/100\n",
      "102/102 [==============================] - 12s 119ms/step - loss: 0.1095 - categorical_accuracy: 0.9584\n",
      "Epoch 29/100\n",
      "102/102 [==============================] - 12s 121ms/step - loss: 0.0933 - categorical_accuracy: 0.9674\n",
      "Epoch 30/100\n",
      "102/102 [==============================] - 12s 120ms/step - loss: 0.0977 - categorical_accuracy: 0.9624\n",
      "Epoch 31/100\n",
      "102/102 [==============================] - 11s 112ms/step - loss: 0.1034 - categorical_accuracy: 0.9618\n",
      "Epoch 32/100\n",
      "102/102 [==============================] - 12s 119ms/step - loss: 0.2411 - categorical_accuracy: 0.9199\n",
      "Epoch 33/100\n",
      "102/102 [==============================] - 12s 121ms/step - loss: 0.6460 - categorical_accuracy: 0.7549\n",
      "Epoch 34/100\n",
      "102/102 [==============================] - 12s 122ms/step - loss: 0.3802 - categorical_accuracy: 0.8602\n",
      "Epoch 35/100\n",
      "102/102 [==============================] - 12s 118ms/step - loss: 0.2201 - categorical_accuracy: 0.9252\n",
      "Epoch 36/100\n",
      "102/102 [==============================] - 11s 113ms/step - loss: 0.1607 - categorical_accuracy: 0.9470\n",
      "Epoch 37/100\n",
      "102/102 [==============================] - 12s 121ms/step - loss: 3.9392 - categorical_accuracy: 0.6067\n",
      "Epoch 38/100\n",
      "102/102 [==============================] - 12s 122ms/step - loss: 0.9864 - categorical_accuracy: 0.4755\n",
      "Epoch 39/100\n",
      "102/102 [==============================] - 12s 121ms/step - loss: 0.7510 - categorical_accuracy: 0.6258\n",
      "Epoch 40/100\n",
      "102/102 [==============================] - 12s 116ms/step - loss: 0.6217 - categorical_accuracy: 0.7056\n",
      "Epoch 41/100\n",
      "102/102 [==============================] - 13s 123ms/step - loss: 10.8148 - categorical_accuracy: 0.6255\n",
      "Epoch 42/100\n",
      "102/102 [==============================] - 13s 123ms/step - loss: 0.7627 - categorical_accuracy: 0.6369\n",
      "Epoch 43/100\n",
      "102/102 [==============================] - 12s 121ms/step - loss: 1.1075 - categorical_accuracy: 0.5319\n",
      "Epoch 44/100\n",
      "102/102 [==============================] - 12s 119ms/step - loss: 0.9433 - categorical_accuracy: 0.5411\n",
      "Epoch 45/100\n",
      "102/102 [==============================] - 12s 113ms/step - loss: 0.8699 - categorical_accuracy: 0.6132\n",
      "Epoch 46/100\n",
      "102/102 [==============================] - 12s 120ms/step - loss: 0.8572 - categorical_accuracy: 0.5793\n",
      "Epoch 47/100\n",
      "102/102 [==============================] - 12s 121ms/step - loss: 0.7233 - categorical_accuracy: 0.6504\n",
      "Epoch 48/100\n",
      "102/102 [==============================] - 12s 120ms/step - loss: 0.7801 - categorical_accuracy: 0.6261\n",
      "Epoch 49/100\n",
      "102/102 [==============================] - 11s 112ms/step - loss: 0.6036 - categorical_accuracy: 0.7401\n",
      "Epoch 50/100\n",
      "102/102 [==============================] - 12s 120ms/step - loss: 0.6507 - categorical_accuracy: 0.7410\n",
      "Epoch 51/100\n",
      "102/102 [==============================] - 12s 122ms/step - loss: 0.9748 - categorical_accuracy: 0.5885\n",
      "Epoch 52/100\n",
      "102/102 [==============================] - 12s 122ms/step - loss: 0.7987 - categorical_accuracy: 0.7724\n",
      "Epoch 53/100\n",
      "102/102 [==============================] - 12s 117ms/step - loss: 0.7482 - categorical_accuracy: 0.6575\n",
      "Epoch 54/100\n",
      "102/102 [==============================] - 13s 123ms/step - loss: 0.5843 - categorical_accuracy: 0.7647\n",
      "Epoch 55/100\n",
      "102/102 [==============================] - 13s 124ms/step - loss: 0.5196 - categorical_accuracy: 0.8047\n",
      "Epoch 56/100\n",
      "102/102 [==============================] - 12s 120ms/step - loss: 0.3315 - categorical_accuracy: 0.8787\n",
      "Epoch 57/100\n",
      "102/102 [==============================] - 12s 113ms/step - loss: 0.2685 - categorical_accuracy: 0.9005\n",
      "Epoch 58/100\n",
      "102/102 [==============================] - 12s 116ms/step - loss: 0.2337 - categorical_accuracy: 0.9159\n",
      "Epoch 59/100\n",
      "102/102 [==============================] - 12s 120ms/step - loss: 0.2080 - categorical_accuracy: 0.9205\n",
      "Epoch 60/100\n",
      "102/102 [==============================] - 12s 123ms/step - loss: 0.1975 - categorical_accuracy: 0.9255\n",
      "Epoch 61/100\n",
      "102/102 [==============================] - 12s 117ms/step - loss: 0.1881 - categorical_accuracy: 0.9338\n",
      "Epoch 62/100\n",
      "102/102 [==============================] - 11s 111ms/step - loss: 0.1646 - categorical_accuracy: 0.9421\n",
      "Epoch 63/100\n",
      "102/102 [==============================] - 12s 120ms/step - loss: 0.2843 - categorical_accuracy: 0.8839\n",
      "Epoch 64/100\n",
      "102/102 [==============================] - 12s 121ms/step - loss: 1.0854 - categorical_accuracy: 0.6526\n",
      "Epoch 65/100\n",
      "102/102 [==============================] - 12s 120ms/step - loss: 0.3716 - categorical_accuracy: 0.8743\n",
      "Epoch 66/100\n",
      "102/102 [==============================] - 11s 112ms/step - loss: 0.2643 - categorical_accuracy: 0.9064\n",
      "Epoch 67/100\n",
      "102/102 [==============================] - 12s 115ms/step - loss: 0.2129 - categorical_accuracy: 0.9193\n",
      "Epoch 68/100\n",
      "102/102 [==============================] - 12s 120ms/step - loss: 0.1907 - categorical_accuracy: 0.9313\n",
      "Epoch 69/100\n",
      "102/102 [==============================] - 12s 119ms/step - loss: 0.1667 - categorical_accuracy: 0.9421\n",
      "Epoch 70/100\n",
      "102/102 [==============================] - 12s 120ms/step - loss: 0.6400 - categorical_accuracy: 0.7379\n",
      "Epoch 71/100\n",
      "102/102 [==============================] - 12s 114ms/step - loss: 0.3784 - categorical_accuracy: 0.8614\n",
      "Epoch 72/100\n",
      "102/102 [==============================] - 12s 115ms/step - loss: 0.2725 - categorical_accuracy: 0.9045\n",
      "Epoch 73/100\n",
      "102/102 [==============================] - 12s 121ms/step - loss: 0.2491 - categorical_accuracy: 0.9141\n",
      "Epoch 74/100\n",
      "102/102 [==============================] - 12s 122ms/step - loss: 0.2302 - categorical_accuracy: 0.9215\n",
      "Epoch 75/100\n",
      "102/102 [==============================] - 12s 119ms/step - loss: 0.1992 - categorical_accuracy: 0.9304\n",
      "Epoch 76/100\n",
      "102/102 [==============================] - 11s 112ms/step - loss: 0.1816 - categorical_accuracy: 0.9375\n",
      "Epoch 77/100\n",
      "102/102 [==============================] - 12s 116ms/step - loss: 0.1832 - categorical_accuracy: 0.9409\n",
      "Epoch 78/100\n",
      "102/102 [==============================] - 12s 119ms/step - loss: 0.1736 - categorical_accuracy: 0.9427\n",
      "Epoch 79/100\n",
      "102/102 [==============================] - 13s 123ms/step - loss: 0.1556 - categorical_accuracy: 0.9446\n",
      "Epoch 80/100\n",
      "102/102 [==============================] - 12s 120ms/step - loss: 0.1609 - categorical_accuracy: 0.9446\n",
      "Epoch 81/100\n",
      "102/102 [==============================] - 13s 124ms/step - loss: 0.1319 - categorical_accuracy: 0.9516\n",
      "Epoch 82/100\n",
      "102/102 [==============================] - 13s 127ms/step - loss: 0.1175 - categorical_accuracy: 0.9597\n",
      "Epoch 83/100\n",
      "102/102 [==============================] - 13s 125ms/step - loss: 0.2500 - categorical_accuracy: 0.9332\n",
      "Epoch 84/100\n",
      "102/102 [==============================] - 12s 119ms/step - loss: 0.1890 - categorical_accuracy: 0.9375\n",
      "Epoch 85/100\n",
      "102/102 [==============================] - 12s 114ms/step - loss: 0.1733 - categorical_accuracy: 0.9476\n",
      "Epoch 86/100\n",
      "102/102 [==============================] - 12s 120ms/step - loss: 0.1165 - categorical_accuracy: 0.9612\n",
      "Epoch 87/100\n",
      "102/102 [==============================] - 12s 120ms/step - loss: 0.1296 - categorical_accuracy: 0.9520\n",
      "Epoch 88/100\n",
      "102/102 [==============================] - 12s 120ms/step - loss: 0.1119 - categorical_accuracy: 0.9603\n",
      "Epoch 89/100\n",
      "102/102 [==============================] - 12s 115ms/step - loss: 0.1109 - categorical_accuracy: 0.9618\n",
      "Epoch 90/100\n",
      "102/102 [==============================] - 12s 118ms/step - loss: 0.1053 - categorical_accuracy: 0.9637\n",
      "Epoch 91/100\n",
      "102/102 [==============================] - 12s 122ms/step - loss: 0.0965 - categorical_accuracy: 0.9695\n",
      "Epoch 92/100\n",
      "102/102 [==============================] - 12s 120ms/step - loss: 0.0978 - categorical_accuracy: 0.9643\n",
      "Epoch 93/100\n",
      "102/102 [==============================] - 12s 118ms/step - loss: 0.1055 - categorical_accuracy: 0.9661\n",
      "Epoch 94/100\n",
      "102/102 [==============================] - 11s 110ms/step - loss: 0.0982 - categorical_accuracy: 0.9661\n",
      "Epoch 95/100\n",
      "102/102 [==============================] - 12s 119ms/step - loss: 0.0924 - categorical_accuracy: 0.9670\n",
      "Epoch 96/100\n",
      "102/102 [==============================] - 12s 119ms/step - loss: 0.1244 - categorical_accuracy: 0.9593\n",
      "Epoch 97/100\n",
      "102/102 [==============================] - 12s 119ms/step - loss: 0.0908 - categorical_accuracy: 0.9707\n",
      "Epoch 98/100\n",
      "102/102 [==============================] - 12s 113ms/step - loss: 0.1201 - categorical_accuracy: 0.9612\n",
      "Epoch 99/100\n",
      "102/102 [==============================] - 12s 117ms/step - loss: 0.1110 - categorical_accuracy: 0.9584\n",
      "Epoch 100/100\n",
      "102/102 [==============================] - 12s 120ms/step - loss: 0.0947 - categorical_accuracy: 0.9683\n"
     ]
    }
   ],
   "source": [
    "model_temp = model.fit(X_train, y_train, epochs = 100, callbacks=[tb_callback])"
   ]
  },
  {
   "cell_type": "code",
   "execution_count": 156,
   "metadata": {},
   "outputs": [
    {
     "name": "stdout",
     "output_type": "stream",
     "text": [
      "Model: \"sequential_1\"\n",
      "_________________________________________________________________\n",
      " Layer (type)                Output Shape              Param #   \n",
      "=================================================================\n",
      " lstm_3 (LSTM)               (None, 30, 64)            82688     \n",
      "                                                                 \n",
      " lstm_4 (LSTM)               (None, 30, 128)           98816     \n",
      "                                                                 \n",
      " lstm_5 (LSTM)               (None, 64)                49408     \n",
      "                                                                 \n",
      " dropout (Dropout)           (None, 64)                0         \n",
      "                                                                 \n",
      " dense_3 (Dense)             (None, 64)                4160      \n",
      "                                                                 \n",
      " dense_4 (Dense)             (None, 32)                2080      \n",
      "                                                                 \n",
      " dense_5 (Dense)             (None, 3)                 99        \n",
      "                                                                 \n",
      "=================================================================\n",
      "Total params: 237,251\n",
      "Trainable params: 237,251\n",
      "Non-trainable params: 0\n",
      "_________________________________________________________________\n"
     ]
    }
   ],
   "source": [
    "model.summary()"
   ]
  },
  {
   "cell_type": "markdown",
   "metadata": {},
   "source": [
    "# 8. Make Predictions"
   ]
  },
  {
   "cell_type": "code",
   "execution_count": 37,
   "metadata": {},
   "outputs": [
    {
     "name": "stdout",
     "output_type": "stream",
     "text": [
      "13/13 [==============================] - 2s 42ms/step\n"
     ]
    }
   ],
   "source": [
    "res = model.predict(X_test) #prendo tutte le predizioni dall'insieme di test\n",
    "# res[0]: significa che prendo la prima prediction (quindi la prediction della prima azione presente in X_test)"
   ]
  },
  {
   "attachments": {},
   "cell_type": "markdown",
   "metadata": {},
   "source": [
    "poichè ad ogni azione è associata una probabilità, la mia predizione sarà quella che avrà probabilità **maggiore** fra esse"
   ]
  },
  {
   "cell_type": "code",
   "execution_count": 41,
   "metadata": {},
   "outputs": [
    {
     "data": {
      "text/plain": [
       "'Stop Sign'"
      ]
     },
     "execution_count": 41,
     "metadata": {},
     "output_type": "execute_result"
    }
   ],
   "source": [
    "jester_gestures[np.argmax(res[2])] #qual'è l'azione con il più altro valore di probabilità associato?"
   ]
  },
  {
   "attachments": {},
   "cell_type": "markdown",
   "metadata": {},
   "source": [
    "prendo la label della 4a azione: vedo quindi il *ground truth*"
   ]
  },
  {
   "cell_type": "code",
   "execution_count": 42,
   "metadata": {},
   "outputs": [
    {
     "data": {
      "text/plain": [
       "'Stop Sign'"
      ]
     },
     "execution_count": 42,
     "metadata": {},
     "output_type": "execute_result"
    }
   ],
   "source": [
    "jester_gestures[np.argmax(y_test[2])]"
   ]
  },
  {
   "attachments": {},
   "cell_type": "markdown",
   "metadata": {},
   "source": [
    "ovviamente, se le due azioni **coincidono** significa che il modello ha una **buona accuracy**"
   ]
  },
  {
   "cell_type": "markdown",
   "metadata": {},
   "source": [
    "# 9. Save Weights"
   ]
  },
  {
   "cell_type": "code",
   "execution_count": 265,
   "metadata": {},
   "outputs": [],
   "source": [
    "model.save('action2.h5')"
   ]
  },
  {
   "cell_type": "code",
   "execution_count": null,
   "metadata": {},
   "outputs": [],
   "source": [
    "del model"
   ]
  },
  {
   "cell_type": "code",
   "execution_count": 36,
   "metadata": {},
   "outputs": [],
   "source": [
    "model.load_weights(os.path.join(BASEDIR, \"models_action\", \"action2.h5\"))"
   ]
  },
  {
   "cell_type": "markdown",
   "metadata": {},
   "source": [
    "# 10. Evaluation using Confusion Matrix and Accuracy"
   ]
  },
  {
   "cell_type": "code",
   "execution_count": 38,
   "metadata": {},
   "outputs": [],
   "source": [
    "from sklearn.metrics import multilabel_confusion_matrix, accuracy_score"
   ]
  },
  {
   "cell_type": "code",
   "execution_count": 39,
   "metadata": {},
   "outputs": [
    {
     "name": "stdout",
     "output_type": "stream",
     "text": [
      "13/13 [==============================] - 1s 37ms/step\n"
     ]
    }
   ],
   "source": [
    "yhat = model.predict(X_test)"
   ]
  },
  {
   "cell_type": "code",
   "execution_count": 40,
   "metadata": {},
   "outputs": [],
   "source": [
    "ytrue = np.argmax(y_test, axis=1).tolist()\n",
    "yhat = np.argmax(yhat, axis=1).tolist()"
   ]
  },
  {
   "cell_type": "code",
   "execution_count": 62,
   "metadata": {},
   "outputs": [
    {
     "data": {
      "text/plain": [
       "array([[[269,   0],\n",
       "        [  8, 131]],\n",
       "\n",
       "       [[275,   0],\n",
       "        [ 10, 123]],\n",
       "\n",
       "       [[254,  18],\n",
       "        [  0, 136]]], dtype=int64)"
      ]
     },
     "execution_count": 62,
     "metadata": {},
     "output_type": "execute_result"
    }
   ],
   "source": [
    "multilabel_confusion_matrix(ytrue, yhat)"
   ]
  },
  {
   "cell_type": "code",
   "execution_count": 41,
   "metadata": {},
   "outputs": [
    {
     "data": {
      "text/plain": [
       "0.9558823529411765"
      ]
     },
     "execution_count": 41,
     "metadata": {},
     "output_type": "execute_result"
    }
   ],
   "source": [
    "accuracy_score(ytrue, yhat)"
   ]
  },
  {
   "cell_type": "code",
   "execution_count": 42,
   "metadata": {},
   "outputs": [],
   "source": [
    "from sklearn.metrics import ConfusionMatrixDisplay"
   ]
  },
  {
   "cell_type": "code",
   "execution_count": 43,
   "metadata": {},
   "outputs": [
    {
     "data": {
      "text/plain": [
       "<sklearn.metrics._plot.confusion_matrix.ConfusionMatrixDisplay at 0x259a5901630>"
      ]
     },
     "execution_count": 43,
     "metadata": {},
     "output_type": "execute_result"
    },
    {
     "data": {
      "image/png": "[encoded data removed]",
      "text/plain": [
       "<Figure size 640x480 with 2 Axes>"
      ]
     },
     "metadata": {},
     "output_type": "display_data"
    }
   ],
   "source": [
    "ConfusionMatrixDisplay.from_predictions(jester_gestures[ytrue], jester_gestures[yhat])"
   ]
  },
  {
   "cell_type": "markdown",
   "metadata": {},
   "source": [
    "# 11. Test in Real Time"
   ]
  },
  {
   "cell_type": "code",
   "execution_count": 41,
   "metadata": {},
   "outputs": [],
   "source": [
    "colors = [(245,117,16), (117,245,16), (16,117,245)]\n",
    "def prob_viz(res, jester_gestures, input_frame, colors):\n",
    "    output_frame = input_frame.copy()\n",
    "    for num, prob in enumerate(res):\n",
    "        cv2.rectangle(output_frame, (0, 60+num*40), (int(prob*100), 90+num*40), colors[num], -1)\n",
    "        cv2.putText(output_frame, jester_gestures[num], (0, 85+num*40), cv2.FONT_HERSHEY_SIMPLEX, 1, (255,255,255), 2, cv2.LINE_AA)\n",
    "        \n",
    "    return output_frame"
   ]
  },
  {
   "cell_type": "code",
   "execution_count": 42,
   "metadata": {},
   "outputs": [
    {
     "data": {
      "text/plain": [
       "(408, 3)"
      ]
     },
     "execution_count": 42,
     "metadata": {},
     "output_type": "execute_result"
    }
   ],
   "source": [
    "res.shape"
   ]
  },
  {
   "cell_type": "code",
   "execution_count": 44,
   "metadata": {},
   "outputs": [
    {
     "name": "stdout",
     "output_type": "stream",
     "text": [
      "<class 'mediapipe.python.solution_base.SolutionOutputs'>\n",
      "<class 'mediapipe.python.solution_base.SolutionOutputs'>\n",
      "<class 'mediapipe.python.solution_base.SolutionOutputs'>\n",
      "<class 'mediapipe.python.solution_base.SolutionOutputs'>\n",
      "<class 'mediapipe.python.solution_base.SolutionOutputs'>\n",
      "<class 'mediapipe.python.solution_base.SolutionOutputs'>\n",
      "<class 'mediapipe.python.solution_base.SolutionOutputs'>\n",
      "<class 'mediapipe.python.solution_base.SolutionOutputs'>\n",
      "<class 'mediapipe.python.solution_base.SolutionOutputs'>\n",
      "<class 'mediapipe.python.solution_base.SolutionOutputs'>\n",
      "<class 'mediapipe.python.solution_base.SolutionOutputs'>\n",
      "<class 'mediapipe.python.solution_base.SolutionOutputs'>\n",
      "<class 'mediapipe.python.solution_base.SolutionOutputs'>\n",
      "<class 'mediapipe.python.solution_base.SolutionOutputs'>\n",
      "<class 'mediapipe.python.solution_base.SolutionOutputs'>\n",
      "<class 'mediapipe.python.solution_base.SolutionOutputs'>\n",
      "<class 'mediapipe.python.solution_base.SolutionOutputs'>\n",
      "<class 'mediapipe.python.solution_base.SolutionOutputs'>\n",
      "<class 'mediapipe.python.solution_base.SolutionOutputs'>\n",
      "<class 'mediapipe.python.solution_base.SolutionOutputs'>\n",
      "<class 'mediapipe.python.solution_base.SolutionOutputs'>\n",
      "<class 'mediapipe.python.solution_base.SolutionOutputs'>\n",
      "<class 'mediapipe.python.solution_base.SolutionOutputs'>\n",
      "<class 'mediapipe.python.solution_base.SolutionOutputs'>\n",
      "<class 'mediapipe.python.solution_base.SolutionOutputs'>\n",
      "<class 'mediapipe.python.solution_base.SolutionOutputs'>\n",
      "<class 'mediapipe.python.solution_base.SolutionOutputs'>\n",
      "<class 'mediapipe.python.solution_base.SolutionOutputs'>\n",
      "<class 'mediapipe.python.solution_base.SolutionOutputs'>\n",
      "<class 'mediapipe.python.solution_base.SolutionOutputs'>\n",
      "1/1 [==============================] - 0s 51ms/step\n",
      "Thumb up\n",
      "<class 'mediapipe.python.solution_base.SolutionOutputs'>\n",
      "1/1 [==============================] - 0s 49ms/step\n",
      "Thumb up\n",
      "<class 'mediapipe.python.solution_base.SolutionOutputs'>\n",
      "1/1 [==============================] - 0s 50ms/step\n",
      "Thumb up\n",
      "<class 'mediapipe.python.solution_base.SolutionOutputs'>\n",
      "1/1 [==============================] - 0s 48ms/step\n",
      "Thumb up\n",
      "<class 'mediapipe.python.solution_base.SolutionOutputs'>\n",
      "1/1 [==============================] - 0s 48ms/step\n",
      "Thumb up\n",
      "<class 'mediapipe.python.solution_base.SolutionOutputs'>\n",
      "1/1 [==============================] - 0s 56ms/step\n",
      "Thumb up\n",
      "<class 'mediapipe.python.solution_base.SolutionOutputs'>\n",
      "1/1 [==============================] - 0s 60ms/step\n",
      "Thumb up\n",
      "<class 'mediapipe.python.solution_base.SolutionOutputs'>\n",
      "1/1 [==============================] - 0s 64ms/step\n",
      "Thumb up\n",
      "<class 'mediapipe.python.solution_base.SolutionOutputs'>\n",
      "1/1 [==============================] - 0s 56ms/step\n",
      "Thumb up\n",
      "<class 'mediapipe.python.solution_base.SolutionOutputs'>\n",
      "1/1 [==============================] - 0s 57ms/step\n",
      "Thumb up\n",
      "<class 'mediapipe.python.solution_base.SolutionOutputs'>\n",
      "1/1 [==============================] - 0s 56ms/step\n",
      "Thumb up\n",
      "<class 'mediapipe.python.solution_base.SolutionOutputs'>\n",
      "1/1 [==============================] - 0s 48ms/step\n",
      "Thumb up\n",
      "<class 'mediapipe.python.solution_base.SolutionOutputs'>\n",
      "1/1 [==============================] - 0s 60ms/step\n",
      "Thumb up\n",
      "<class 'mediapipe.python.solution_base.SolutionOutputs'>\n",
      "1/1 [==============================] - 0s 58ms/step\n",
      "Thumb up\n",
      "<class 'mediapipe.python.solution_base.SolutionOutputs'>\n",
      "1/1 [==============================] - 0s 64ms/step\n",
      "Thumb up\n",
      "<class 'mediapipe.python.solution_base.SolutionOutputs'>\n",
      "1/1 [==============================] - 0s 67ms/step\n",
      "Thumb up\n",
      "<class 'mediapipe.python.solution_base.SolutionOutputs'>\n",
      "1/1 [==============================] - 0s 57ms/step\n",
      "Thumb up\n",
      "<class 'mediapipe.python.solution_base.SolutionOutputs'>\n",
      "1/1 [==============================] - 0s 51ms/step\n",
      "Thumb up\n",
      "<class 'mediapipe.python.solution_base.SolutionOutputs'>\n",
      "1/1 [==============================] - 0s 60ms/step\n",
      "Thumb up\n",
      "<class 'mediapipe.python.solution_base.SolutionOutputs'>\n",
      "1/1 [==============================] - 0s 85ms/step\n",
      "Thumb up\n",
      "<class 'mediapipe.python.solution_base.SolutionOutputs'>\n",
      "1/1 [==============================] - 0s 59ms/step\n",
      "Thumb up\n",
      "<class 'mediapipe.python.solution_base.SolutionOutputs'>\n",
      "1/1 [==============================] - 0s 56ms/step\n",
      "Thumb up\n",
      "<class 'mediapipe.python.solution_base.SolutionOutputs'>\n",
      "1/1 [==============================] - 0s 51ms/step\n",
      "Thumb up\n",
      "<class 'mediapipe.python.solution_base.SolutionOutputs'>\n",
      "1/1 [==============================] - 0s 43ms/step\n",
      "Thumb up\n",
      "<class 'mediapipe.python.solution_base.SolutionOutputs'>\n",
      "1/1 [==============================] - 0s 50ms/step\n",
      "Thumb up\n",
      "<class 'mediapipe.python.solution_base.SolutionOutputs'>\n",
      "1/1 [==============================] - 0s 49ms/step\n",
      "Thumb up\n",
      "<class 'mediapipe.python.solution_base.SolutionOutputs'>\n",
      "1/1 [==============================] - 0s 61ms/step\n",
      "Thumb up\n",
      "<class 'mediapipe.python.solution_base.SolutionOutputs'>\n",
      "1/1 [==============================] - 0s 53ms/step\n",
      "Thumb up\n",
      "<class 'mediapipe.python.solution_base.SolutionOutputs'>\n",
      "1/1 [==============================] - 0s 48ms/step\n",
      "Thumb up\n",
      "<class 'mediapipe.python.solution_base.SolutionOutputs'>\n",
      "1/1 [==============================] - 0s 50ms/step\n",
      "Thumb up\n",
      "<class 'mediapipe.python.solution_base.SolutionOutputs'>\n",
      "1/1 [==============================] - 0s 57ms/step\n",
      "Thumb up\n",
      "<class 'mediapipe.python.solution_base.SolutionOutputs'>\n",
      "1/1 [==============================] - 0s 50ms/step\n",
      "Thumb up\n",
      "<class 'mediapipe.python.solution_base.SolutionOutputs'>\n",
      "1/1 [==============================] - 0s 48ms/step\n",
      "Thumb up\n",
      "<class 'mediapipe.python.solution_base.SolutionOutputs'>\n",
      "1/1 [==============================] - 0s 56ms/step\n",
      "Thumb up\n",
      "<class 'mediapipe.python.solution_base.SolutionOutputs'>\n",
      "1/1 [==============================] - 0s 43ms/step\n",
      "Thumb up\n",
      "<class 'mediapipe.python.solution_base.SolutionOutputs'>\n",
      "1/1 [==============================] - 0s 52ms/step\n",
      "Thumb up\n",
      "<class 'mediapipe.python.solution_base.SolutionOutputs'>\n",
      "1/1 [==============================] - 0s 58ms/step\n",
      "Thumb up\n",
      "<class 'mediapipe.python.solution_base.SolutionOutputs'>\n",
      "1/1 [==============================] - 0s 51ms/step\n",
      "Thumb up\n",
      "<class 'mediapipe.python.solution_base.SolutionOutputs'>\n",
      "1/1 [==============================] - 0s 48ms/step\n",
      "Thumb up\n",
      "<class 'mediapipe.python.solution_base.SolutionOutputs'>\n",
      "1/1 [==============================] - 0s 48ms/step\n",
      "Thumb up\n",
      "<class 'mediapipe.python.solution_base.SolutionOutputs'>\n",
      "1/1 [==============================] - 0s 67ms/step\n",
      "Thumb up\n",
      "<class 'mediapipe.python.solution_base.SolutionOutputs'>\n",
      "1/1 [==============================] - 0s 50ms/step\n",
      "Thumb up\n",
      "<class 'mediapipe.python.solution_base.SolutionOutputs'>\n",
      "1/1 [==============================] - 0s 51ms/step\n",
      "Thumb up\n",
      "<class 'mediapipe.python.solution_base.SolutionOutputs'>\n",
      "1/1 [==============================] - 0s 48ms/step\n",
      "Thumb up\n",
      "<class 'mediapipe.python.solution_base.SolutionOutputs'>\n",
      "1/1 [==============================] - 0s 50ms/step\n",
      "Thumb up\n",
      "<class 'mediapipe.python.solution_base.SolutionOutputs'>\n",
      "1/1 [==============================] - 0s 45ms/step\n",
      "Thumb up\n",
      "<class 'mediapipe.python.solution_base.SolutionOutputs'>\n",
      "1/1 [==============================] - 0s 48ms/step\n",
      "Thumb up\n",
      "<class 'mediapipe.python.solution_base.SolutionOutputs'>\n",
      "1/1 [==============================] - 0s 53ms/step\n",
      "Thumb up\n",
      "<class 'mediapipe.python.solution_base.SolutionOutputs'>\n",
      "1/1 [==============================] - 0s 42ms/step\n",
      "Thumb up\n",
      "<class 'mediapipe.python.solution_base.SolutionOutputs'>\n",
      "1/1 [==============================] - 0s 43ms/step\n",
      "Thumb up\n",
      "<class 'mediapipe.python.solution_base.SolutionOutputs'>\n",
      "1/1 [==============================] - 0s 52ms/step\n",
      "Thumb up\n",
      "<class 'mediapipe.python.solution_base.SolutionOutputs'>\n",
      "1/1 [==============================] - 0s 60ms/step\n",
      "Thumb up\n",
      "<class 'mediapipe.python.solution_base.SolutionOutputs'>\n",
      "1/1 [==============================] - 0s 50ms/step\n",
      "Thumb up\n",
      "<class 'mediapipe.python.solution_base.SolutionOutputs'>\n",
      "1/1 [==============================] - 0s 67ms/step\n",
      "Thumb up\n",
      "<class 'mediapipe.python.solution_base.SolutionOutputs'>\n",
      "1/1 [==============================] - 0s 50ms/step\n",
      "Thumb up\n",
      "<class 'mediapipe.python.solution_base.SolutionOutputs'>\n",
      "1/1 [==============================] - 0s 51ms/step\n",
      "Thumb up\n",
      "<class 'mediapipe.python.solution_base.SolutionOutputs'>\n",
      "1/1 [==============================] - 0s 56ms/step\n",
      "Thumb up\n",
      "<class 'mediapipe.python.solution_base.SolutionOutputs'>\n",
      "1/1 [==============================] - 0s 59ms/step\n",
      "Thumb up\n",
      "<class 'mediapipe.python.solution_base.SolutionOutputs'>\n",
      "1/1 [==============================] - 0s 40ms/step\n",
      "Thumb up\n",
      "<class 'mediapipe.python.solution_base.SolutionOutputs'>\n",
      "1/1 [==============================] - 0s 49ms/step\n",
      "Thumb up\n",
      "<class 'mediapipe.python.solution_base.SolutionOutputs'>\n",
      "1/1 [==============================] - 0s 48ms/step\n",
      "Thumb up\n",
      "<class 'mediapipe.python.solution_base.SolutionOutputs'>\n",
      "1/1 [==============================] - 0s 49ms/step\n",
      "Thumb up\n",
      "<class 'mediapipe.python.solution_base.SolutionOutputs'>\n",
      "1/1 [==============================] - 0s 57ms/step\n",
      "Thumb up\n",
      "<class 'mediapipe.python.solution_base.SolutionOutputs'>\n",
      "1/1 [==============================] - 0s 50ms/step\n",
      "Thumb Down\n",
      "<class 'mediapipe.python.solution_base.SolutionOutputs'>\n",
      "1/1 [==============================] - 0s 48ms/step\n",
      "Thumb Down\n",
      "<class 'mediapipe.python.solution_base.SolutionOutputs'>\n",
      "1/1 [==============================] - 0s 48ms/step\n",
      "Thumb Down\n",
      "<class 'mediapipe.python.solution_base.SolutionOutputs'>\n",
      "1/1 [==============================] - 0s 48ms/step\n",
      "Thumb Down\n",
      "<class 'mediapipe.python.solution_base.SolutionOutputs'>\n",
      "1/1 [==============================] - 0s 48ms/step\n",
      "Thumb Down\n",
      "<class 'mediapipe.python.solution_base.SolutionOutputs'>\n",
      "1/1 [==============================] - 0s 48ms/step\n",
      "Thumb Down\n",
      "<class 'mediapipe.python.solution_base.SolutionOutputs'>\n",
      "1/1 [==============================] - 0s 56ms/step\n",
      "Thumb Down\n",
      "<class 'mediapipe.python.solution_base.SolutionOutputs'>\n",
      "1/1 [==============================] - 0s 48ms/step\n",
      "Thumb Down\n",
      "<class 'mediapipe.python.solution_base.SolutionOutputs'>\n",
      "1/1 [==============================] - 0s 46ms/step\n",
      "Thumb Down\n",
      "<class 'mediapipe.python.solution_base.SolutionOutputs'>\n",
      "1/1 [==============================] - 0s 56ms/step\n",
      "Thumb Down\n",
      "<class 'mediapipe.python.solution_base.SolutionOutputs'>\n",
      "1/1 [==============================] - 0s 48ms/step\n",
      "Thumb Down\n",
      "<class 'mediapipe.python.solution_base.SolutionOutputs'>\n",
      "1/1 [==============================] - 0s 48ms/step\n",
      "Thumb Down\n",
      "<class 'mediapipe.python.solution_base.SolutionOutputs'>\n",
      "1/1 [==============================] - 0s 48ms/step\n",
      "Thumb Down\n",
      "<class 'mediapipe.python.solution_base.SolutionOutputs'>\n",
      "1/1 [==============================] - 0s 40ms/step\n",
      "Thumb Down\n",
      "<class 'mediapipe.python.solution_base.SolutionOutputs'>\n",
      "1/1 [==============================] - 0s 40ms/step\n",
      "Thumb Down\n",
      "<class 'mediapipe.python.solution_base.SolutionOutputs'>\n",
      "1/1 [==============================] - 0s 48ms/step\n",
      "Thumb Down\n",
      "<class 'mediapipe.python.solution_base.SolutionOutputs'>\n",
      "1/1 [==============================] - 0s 48ms/step\n",
      "Thumb Down\n",
      "<class 'mediapipe.python.solution_base.SolutionOutputs'>\n",
      "1/1 [==============================] - 0s 48ms/step\n",
      "Thumb Down\n",
      "<class 'mediapipe.python.solution_base.SolutionOutputs'>\n",
      "1/1 [==============================] - 0s 48ms/step\n",
      "Thumb Down\n",
      "<class 'mediapipe.python.solution_base.SolutionOutputs'>\n",
      "1/1 [==============================] - 0s 57ms/step\n",
      "Thumb Down\n",
      "<class 'mediapipe.python.solution_base.SolutionOutputs'>\n",
      "1/1 [==============================] - 0s 63ms/step\n",
      "Thumb Down\n",
      "<class 'mediapipe.python.solution_base.SolutionOutputs'>\n",
      "1/1 [==============================] - 0s 64ms/step\n",
      "Thumb Down\n",
      "<class 'mediapipe.python.solution_base.SolutionOutputs'>\n",
      "1/1 [==============================] - 0s 56ms/step\n",
      "Thumb Down\n",
      "<class 'mediapipe.python.solution_base.SolutionOutputs'>\n",
      "1/1 [==============================] - 0s 48ms/step\n",
      "Thumb Down\n",
      "<class 'mediapipe.python.solution_base.SolutionOutputs'>\n",
      "1/1 [==============================] - 0s 49ms/step\n",
      "Thumb Down\n",
      "<class 'mediapipe.python.solution_base.SolutionOutputs'>\n",
      "1/1 [==============================] - 0s 48ms/step\n",
      "Thumb Down\n",
      "<class 'mediapipe.python.solution_base.SolutionOutputs'>\n",
      "1/1 [==============================] - 0s 48ms/step\n",
      "Thumb Down\n",
      "<class 'mediapipe.python.solution_base.SolutionOutputs'>\n",
      "1/1 [==============================] - 0s 56ms/step\n",
      "Thumb Down\n",
      "<class 'mediapipe.python.solution_base.SolutionOutputs'>\n",
      "1/1 [==============================] - 0s 40ms/step\n",
      "Thumb Down\n",
      "<class 'mediapipe.python.solution_base.SolutionOutputs'>\n",
      "1/1 [==============================] - 0s 48ms/step\n",
      "Thumb Down\n",
      "<class 'mediapipe.python.solution_base.SolutionOutputs'>\n",
      "1/1 [==============================] - 0s 48ms/step\n",
      "Thumb Down\n",
      "<class 'mediapipe.python.solution_base.SolutionOutputs'>\n",
      "1/1 [==============================] - 0s 48ms/step\n",
      "Thumb Down\n",
      "<class 'mediapipe.python.solution_base.SolutionOutputs'>\n",
      "1/1 [==============================] - 0s 48ms/step\n",
      "Stop Sign\n",
      "<class 'mediapipe.python.solution_base.SolutionOutputs'>\n",
      "1/1 [==============================] - 0s 56ms/step\n",
      "Stop Sign\n",
      "<class 'mediapipe.python.solution_base.SolutionOutputs'>\n",
      "1/1 [==============================] - 0s 40ms/step\n",
      "Stop Sign\n",
      "<class 'mediapipe.python.solution_base.SolutionOutputs'>\n",
      "1/1 [==============================] - 0s 48ms/step\n",
      "Stop Sign\n",
      "<class 'mediapipe.python.solution_base.SolutionOutputs'>\n",
      "1/1 [==============================] - 0s 48ms/step\n",
      "Stop Sign\n",
      "<class 'mediapipe.python.solution_base.SolutionOutputs'>\n",
      "1/1 [==============================] - 0s 48ms/step\n",
      "Stop Sign\n",
      "<class 'mediapipe.python.solution_base.SolutionOutputs'>\n",
      "1/1 [==============================] - 0s 48ms/step\n",
      "Stop Sign\n",
      "<class 'mediapipe.python.solution_base.SolutionOutputs'>\n",
      "1/1 [==============================] - 0s 88ms/step\n",
      "Stop Sign\n",
      "<class 'mediapipe.python.solution_base.SolutionOutputs'>\n",
      "1/1 [==============================] - 0s 48ms/step\n",
      "Stop Sign\n",
      "<class 'mediapipe.python.solution_base.SolutionOutputs'>\n",
      "1/1 [==============================] - 0s 48ms/step\n",
      "Stop Sign\n",
      "<class 'mediapipe.python.solution_base.SolutionOutputs'>\n",
      "1/1 [==============================] - 0s 48ms/step\n",
      "Stop Sign\n",
      "<class 'mediapipe.python.solution_base.SolutionOutputs'>\n",
      "1/1 [==============================] - 0s 48ms/step\n",
      "Stop Sign\n",
      "<class 'mediapipe.python.solution_base.SolutionOutputs'>\n",
      "1/1 [==============================] - 0s 48ms/step\n",
      "Stop Sign\n",
      "<class 'mediapipe.python.solution_base.SolutionOutputs'>\n",
      "1/1 [==============================] - 0s 48ms/step\n",
      "Stop Sign\n",
      "<class 'mediapipe.python.solution_base.SolutionOutputs'>\n",
      "1/1 [==============================] - 0s 48ms/step\n",
      "Thumb Down\n",
      "<class 'mediapipe.python.solution_base.SolutionOutputs'>\n",
      "1/1 [==============================] - 0s 49ms/step\n",
      "Thumb Down\n",
      "<class 'mediapipe.python.solution_base.SolutionOutputs'>\n",
      "1/1 [==============================] - 0s 41ms/step\n",
      "Thumb Down\n",
      "<class 'mediapipe.python.solution_base.SolutionOutputs'>\n",
      "1/1 [==============================] - 0s 48ms/step\n",
      "Thumb Down\n",
      "<class 'mediapipe.python.solution_base.SolutionOutputs'>\n",
      "1/1 [==============================] - 0s 74ms/step\n",
      "Thumb Down\n",
      "<class 'mediapipe.python.solution_base.SolutionOutputs'>\n",
      "1/1 [==============================] - 0s 48ms/step\n",
      "Thumb Down\n",
      "<class 'mediapipe.python.solution_base.SolutionOutputs'>\n",
      "1/1 [==============================] - 0s 48ms/step\n",
      "Thumb Down\n",
      "<class 'mediapipe.python.solution_base.SolutionOutputs'>\n",
      "1/1 [==============================] - 0s 48ms/step\n",
      "Thumb Down\n",
      "<class 'mediapipe.python.solution_base.SolutionOutputs'>\n",
      "1/1 [==============================] - 0s 48ms/step\n",
      "Thumb Down\n",
      "<class 'mediapipe.python.solution_base.SolutionOutputs'>\n",
      "1/1 [==============================] - 0s 48ms/step\n",
      "Thumb Down\n"
     ]
    }
   ],
   "source": [
    "# 1. New detection variables\n",
    "sequence = []\n",
    "predictions = []\n",
    "gesto = \"\"\n",
    "threshold = 0.5\n",
    "\n",
    "cap = cv2.VideoCapture(0)\n",
    "# Set mediapipe model \n",
    "with mp_holistic.Holistic(min_detection_confidence=0.5, min_tracking_confidence=0.5) as holistic:\n",
    "    while cap.isOpened():\n",
    "\n",
    "        # Read feed\n",
    "        ret, frame = cap.read()\n",
    "\n",
    "        # Make detections\n",
    "        image, results = mediapipe_detection(frame, holistic)\n",
    "        print(results)\n",
    "        \n",
    "        # Draw landmarks\n",
    "        draw_styled_landmarks(image, results)\n",
    "        \n",
    "        # 2. Prediction logic\n",
    "        keypoints = extract_keypoints(results)\n",
    "        sequence.append(keypoints)\n",
    "        sequence = sequence[-30:]\n",
    "        \n",
    "        if len(sequence) == 30:\n",
    "            res = model.predict(np.expand_dims(sequence, axis=0))[0]\n",
    "            print(jester_gestures[np.argmax(res)])\n",
    "            predictions.append(np.argmax(res))\n",
    "            \n",
    "            \n",
    "        #3. Viz logic\n",
    "            if np.unique(predictions[-10:])[0]==np.argmax(res): #cambia gesto solo se gli ultimi 10 frame sono diversi\n",
    "                if res[np.argmax(res)] > threshold:                     \n",
    "                    gesto = jester_gestures[np.argmax(res)]\n",
    "             \n",
    "            # Viz probabilities\n",
    "            image = prob_viz(res, jester_gestures, image, colors)\n",
    "            \n",
    "        cv2.rectangle(image, (0,0), (640, 40), (245, 117, 16), -1)\n",
    "        cv2.putText(image, ' '.join(gesto), (3,30), \n",
    "                       cv2.FONT_HERSHEY_SIMPLEX, 1, (255, 255, 255), 2, cv2.LINE_AA)\n",
    "        \n",
    "        # Show to screen\n",
    "        cv2.imshow('OpenCV Feed', image)\n",
    "\n",
    "        # Break gracefully\n",
    "        if cv2.waitKey(10) & 0xFF == ord('q'):\n",
    "            break\n",
    "        \n",
    "    cap.release()\n",
    "    cv2.destroyAllWindows()"
   ]
  }
 ],
 "metadata": {
  "kernelspec": {
   "display_name": "Python 3",
   "language": "python",
   "name": "python3"
  },
  "language_info": {
   "codemirror_mode": {
    "name": "ipython",
    "version": 3
   },
   "file_extension": ".py",
   "mimetype": "text/x-python",
   "name": "python",
   "nbconvert_exporter": "python",
   "pygments_lexer": "ipython3",
   "version": "3.10.10"
  },
  "vscode": {
   "interpreter": {
    "hash": "6976a0d29688b69af430d154ca21ca8f69eff21986dd9c09ddc9cd50d921dcd1"
   }
  }
 },
 "nbformat": 4,
 "nbformat_minor": 2
}
